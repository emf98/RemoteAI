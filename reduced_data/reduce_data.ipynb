{
 "cells": [
  {
   "cell_type": "markdown",
   "id": "3c163498",
   "metadata": {},
   "source": [
    "Code to streamline the indexing process based on EOFs by just ... ya know ... \n",
    "GETTING IT OUT OF THE WAY SO THAT I DO NOT HAVE TO DO IT IN EACH FILE EVERY TIME. "
   ]
  },
  {
   "cell_type": "code",
   "execution_count": 1,
   "id": "ad333984",
   "metadata": {},
   "outputs": [],
   "source": [
    "import math\n",
    "import pickle\n",
    "import numpy as np\n",
    "import pandas as pd\n",
    "import xarray as xr"
   ]
  },
  {
   "cell_type": "code",
   "execution_count": 2,
   "id": "d74983da",
   "metadata": {},
   "outputs": [],
   "source": [
    "from EOF_def import EOF_def"
   ]
  },
  {
   "cell_type": "markdown",
   "id": "8cddf09d",
   "metadata": {},
   "source": [
    "### Inputs first."
   ]
  },
  {
   "cell_type": "code",
   "execution_count": 3,
   "id": "52a8129c",
   "metadata": {},
   "outputs": [
    {
     "name": "stdout",
     "output_type": "stream",
     "text": [
      "Solvers loaded ...\n"
     ]
    }
   ],
   "source": [
    "# load input solvers\n",
    "infile = open(\"../eof_analysis/solvers/Usolver_full.p\",\"rb\",)\n",
    "Usolver = pickle.load(infile)  \n",
    "infile.close()\n",
    "\n",
    "infile = open(\"../eof_analysis/solvers/EHFsolver_full.p\",\"rb\",)\n",
    "EHFsolver = pickle.load(infile)  ##ZMehf vertical cross section along longitudes\n",
    "infile.close()\n",
    "\n",
    "infile = open(\"../eof_analysis/solvers/GPHsolver_full.p\",\"rb\",)\n",
    "GPHsolver = pickle.load(infile)  ##ZMehf vertical cross section along longitudes\n",
    "infile.close()\n",
    "\n",
    "print(\"Solvers loaded ...\")"
   ]
  },
  {
   "cell_type": "code",
   "execution_count": 4,
   "id": "55cd6f41",
   "metadata": {},
   "outputs": [],
   "source": [
    "# load output data\n",
    "infile = open(\"../eof_data/old_temp/eur_anomtemps.p\",\"rb\",)\n",
    "eur = pickle.load(infile) \n",
    "infile.close()\n",
    "\n",
    "infile = open(\"../eof_data/old_temp/nova_anomtemps.p\",\"rb\",)\n",
    "nova = pickle.load(infile) \n",
    "infile.close()\n",
    "\n",
    "infile = open(\"../eof_data/old_temp/seus_anomtemps.p\",\"rb\",)\n",
    "seus = pickle.load(infile) \n",
    "infile.close()"
   ]
  },
  {
   "cell_type": "code",
   "execution_count": 5,
   "id": "0e06d01d",
   "metadata": {},
   "outputs": [],
   "source": [
    "# load climo data\n",
    "infile = open(\"../eof_data/old_temp/eur_climoprob.p\",\"rb\",)\n",
    "eur_climo = pickle.load(infile) \n",
    "infile.close()\n",
    "\n",
    "infile = open(\"../eof_data/old_temp/nova_climoprob.p\",\"rb\",)\n",
    "nova_climo = pickle.load(infile) \n",
    "infile.close()\n",
    "\n",
    "infile = open(\"../eof_data/old_temp/seus_climoprob.p\",\"rb\",)\n",
    "seus_climo = pickle.load(infile) \n",
    "infile.close()"
   ]
  },
  {
   "cell_type": "code",
   "execution_count": 6,
   "id": "cfc5d0b9",
   "metadata": {},
   "outputs": [
    {
     "name": "stdout",
     "output_type": "stream",
     "text": [
      "<class 'numpy.ndarray'> (9238, 10)\n",
      "<class 'numpy.ndarray'> (9238, 45)\n",
      "<class 'numpy.ndarray'> (9238, 10)\n"
     ]
    }
   ],
   "source": [
    "## U\n",
    "U_EOF_nw, U_EOF_nw2d, U_eigenv, U_VarEx, U_PC = EOF_def(Usolver, 10)\n",
    "## EHF\n",
    "EHF_EOF_nw, EHF_EOF_nw2d, EHF_eigenv, EHF_VarEx, EHF_PC = EOF_def(EHFsolver, 45)\n",
    "## GPH\n",
    "GPH_EOF_nw, GPH_EOF_nw2d, GPH_eigenv, GPH_VarEx, GPH_PC = EOF_def(GPHsolver, 10)"
   ]
  },
  {
   "cell_type": "code",
   "execution_count": 13,
   "id": "10f95855",
   "metadata": {},
   "outputs": [],
   "source": [
    "##set array for indexing quickly\n",
    "def reshape_byidx_eof(name,target,end_idx,PCS):\n",
    "    print(str(name),\"Reshape\")\n",
    "    target_reshaped = target.reshape((62,149,PCS))\n",
    "    target_leadtime = target_reshaped[:,:end_idx,:]\n",
    "    finished_target = target_leadtime.reshape((62*end_idx),PCS)\n",
    "    print(finished_target.shape)\n",
    "    print(\"######################\")\n",
    "    return finished_target;\n",
    "\n",
    "def reshape_byidx_temp(region,target,start_idx):\n",
    "    print(str(region),\"Reshape\")\n",
    "    target_reshaped = target.reshape((62,182))\n",
    "    target_leadtime = target_reshaped[:,start_idx:]\n",
    "    total = 182-start_idx\n",
    "    finished_target = target_leadtime.reshape((62*total))\n",
    "    print(finished_target.shape)\n",
    "    print(\"######################\")\n",
    "    return finished_target;\n",
    "\n",
    "\n",
    "def reshape_byidx_climo(region,target,start_idx):\n",
    "    print(str(region),\"Reshape\")\n",
    "    target_reshaped = target.reshape((62,182,2))\n",
    "    target_leadtime = target_reshaped[:,start_idx:,:]\n",
    "    total = 182-start_idx\n",
    "    finished_target = target_leadtime.reshape((62*total,2))\n",
    "    print(finished_target.shape)\n",
    "    print(\"######################\")\n",
    "    return finished_target;"
   ]
  },
  {
   "cell_type": "code",
   "execution_count": 14,
   "id": "512c10f3",
   "metadata": {},
   "outputs": [],
   "source": [
    "##for 14 days, 149 is correct, 33 for PCs \n",
    "##for 20 days, 143 days for PCs and 39 for temp. \n",
    "##for 30 days, 133 days for PCs and 49 for temp. \n",
    "\n",
    "##These will change by 10 due to the window in the LSTM model. "
   ]
  },
  {
   "cell_type": "code",
   "execution_count": 18,
   "id": "62f5381e",
   "metadata": {},
   "outputs": [
    {
     "name": "stdout",
     "output_type": "stream",
     "text": [
      "U Reshape\n",
      "(9238, 10)\n",
      "######################\n",
      "EHF Reshape\n",
      "(9238, 45)\n",
      "######################\n",
      "GPH Reshape\n",
      "(9238, 10)\n",
      "######################\n",
      "Europe Reshape\n",
      "(9238,)\n",
      "######################\n",
      "Nova Scotia Reshape\n",
      "(9238,)\n",
      "######################\n",
      "SE US Reshape\n",
      "(9238,)\n",
      "######################\n",
      "Europe Reshape\n",
      "(9238, 2)\n",
      "######################\n",
      "Nova Scotia Reshape\n",
      "(9238, 2)\n",
      "######################\n",
      "SE US Reshape\n",
      "(9238, 2)\n",
      "######################\n"
     ]
    }
   ],
   "source": [
    "##14 days\n",
    "U_14 = reshape_byidx_eof(\"U\",U_PC,149,10)\n",
    "EHF_14 = reshape_byidx_eof(\"EHF\",EHF_PC,149,45)\n",
    "GPH_14 = reshape_byidx_eof(\"GPH\",GPH_PC,149,10)\n",
    "\n",
    "eur_14 = reshape_byidx_temp(\"Europe\",eur,33)\n",
    "nova_14 = reshape_byidx_temp(\"Nova Scotia\",nova,33)\n",
    "seus_14 = reshape_byidx_temp(\"SE US\",seus,33)\n",
    "\n",
    "eur_climo14 = reshape_byidx_climo(\"Europe\",eur_climo,33)\n",
    "nova_climo14 = reshape_byidx_climo(\"Nova Scotia\",nova_climo,33)\n",
    "seus_climo14 = reshape_byidx_climo(\"SE US\",seus_climo,33)\n",
    "\n",
    "pickle.dump(U_14, open(\"U_14.p\", 'wb'))\n",
    "pickle.dump(EHF_14, open(\"EHF_14.p\", 'wb'))\n",
    "pickle.dump(GPH_14, open(\"GPH_14.p\", 'wb'))\n",
    "pickle.dump(eur_14, open(\"eur_14.p\", 'wb'))\n",
    "pickle.dump(nova_14, open(\"nova_14.p\", 'wb'))\n",
    "pickle.dump(seus_14, open(\"seus_14.p\", 'wb'))\n",
    "pickle.dump(eur_climo14, open(\"eur_climo14.p\", 'wb'))\n",
    "pickle.dump(nova_climo14, open(\"nova_climo14.p\", 'wb'))\n",
    "pickle.dump(seus_climo14, open(\"seus_climo14.p\", 'wb'))"
   ]
  },
  {
   "cell_type": "code",
   "execution_count": 16,
   "id": "11f3e0a6",
   "metadata": {},
   "outputs": [
    {
     "name": "stdout",
     "output_type": "stream",
     "text": [
      "U Reshape\n",
      "(8866, 10)\n",
      "######################\n",
      "EHF Reshape\n",
      "(8866, 45)\n",
      "######################\n",
      "GPH Reshape\n",
      "(8866, 10)\n",
      "######################\n",
      "Europe Reshape\n",
      "(8866,)\n",
      "######################\n",
      "Nova Scotia Reshape\n",
      "(8866,)\n",
      "######################\n",
      "SE US Reshape\n",
      "(8866,)\n",
      "######################\n",
      "Europe Reshape\n",
      "(8866, 2)\n",
      "######################\n",
      "Nova Scotia Reshape\n",
      "(8866, 2)\n",
      "######################\n",
      "SE US Reshape\n",
      "(8866, 2)\n",
      "######################\n"
     ]
    }
   ],
   "source": [
    "##20 days\n",
    "U_20 = reshape_byidx_eof(\"U\",U_PC,143,10)\n",
    "EHF_20 = reshape_byidx_eof(\"EHF\",EHF_PC,143,45)\n",
    "GPH_20 = reshape_byidx_eof(\"GPH\",GPH_PC,143,10)\n",
    "\n",
    "eur_20 = reshape_byidx_temp(\"Europe\",eur,39)\n",
    "nova_20 = reshape_byidx_temp(\"Nova Scotia\",nova,39)\n",
    "seus_20 = reshape_byidx_temp(\"SE US\",seus,39)\n",
    "\n",
    "eur_climo20 = reshape_byidx_climo(\"Europe\",eur_climo,39)\n",
    "nova_climo20 = reshape_byidx_climo(\"Nova Scotia\",nova_climo,39)\n",
    "seus_climo20 = reshape_byidx_climo(\"SE US\",seus_climo,39)\n",
    "\n",
    "pickle.dump(U_20, open(\"U_20.p\", 'wb'))\n",
    "pickle.dump(EHF_20, open(\"EHF_20.p\", 'wb'))\n",
    "pickle.dump(GPH_20, open(\"GPH_20.p\", 'wb'))\n",
    "pickle.dump(eur_20, open(\"eur_20.p\", 'wb'))\n",
    "pickle.dump(nova_20, open(\"nova_20.p\", 'wb'))\n",
    "pickle.dump(seus_20, open(\"seus_20.p\", 'wb'))\n",
    "pickle.dump(eur_climo20, open(\"eur_climo20.p\", 'wb'))\n",
    "pickle.dump(nova_climo20, open(\"nova_climo20.p\", 'wb'))\n",
    "pickle.dump(seus_climo20, open(\"seus_climo20.p\", 'wb'))"
   ]
  },
  {
   "cell_type": "code",
   "execution_count": 17,
   "id": "824e364b",
   "metadata": {},
   "outputs": [
    {
     "name": "stdout",
     "output_type": "stream",
     "text": [
      "U Reshape\n",
      "(8246, 10)\n",
      "######################\n",
      "EHF Reshape\n",
      "(8246, 45)\n",
      "######################\n",
      "GPH Reshape\n",
      "(8246, 10)\n",
      "######################\n",
      "Europe Reshape\n",
      "(8246,)\n",
      "######################\n",
      "Nova Scotia Reshape\n",
      "(8246,)\n",
      "######################\n",
      "SE US Reshape\n",
      "(8246,)\n",
      "######################\n",
      "Europe Reshape\n",
      "(8246, 2)\n",
      "######################\n",
      "Nova Scotia Reshape\n",
      "(8246, 2)\n",
      "######################\n",
      "SE US Reshape\n",
      "(8246, 2)\n",
      "######################\n"
     ]
    }
   ],
   "source": [
    "##30 days\n",
    "U_30 = reshape_byidx_eof(\"U\",U_PC,133,10)\n",
    "EHF_30 = reshape_byidx_eof(\"EHF\",EHF_PC,133,45)\n",
    "GPH_30 = reshape_byidx_eof(\"GPH\",GPH_PC,133,10)\n",
    "\n",
    "eur_30 = reshape_byidx_temp(\"Europe\",eur,49)\n",
    "nova_30 = reshape_byidx_temp(\"Nova Scotia\",nova,49)\n",
    "seus_30 = reshape_byidx_temp(\"SE US\",seus,49)\n",
    "\n",
    "eur_climo30 = reshape_byidx_climo(\"Europe\",eur_climo,49)\n",
    "nova_climo30 = reshape_byidx_climo(\"Nova Scotia\",nova_climo,49)\n",
    "seus_climo30 = reshape_byidx_climo(\"SE US\",seus_climo,49)\n",
    "\n",
    "pickle.dump(U_30, open(\"U_30.p\", 'wb'))\n",
    "pickle.dump(EHF_30, open(\"EHF_30.p\", 'wb'))\n",
    "pickle.dump(GPH_30, open(\"GPH_30.p\", 'wb'))\n",
    "pickle.dump(eur_30, open(\"eur_30.p\", 'wb'))\n",
    "pickle.dump(nova_30, open(\"nova_30.p\", 'wb'))\n",
    "pickle.dump(seus_30, open(\"seus_30.p\", 'wb'))\n",
    "pickle.dump(eur_climo30, open(\"eur_climo30.p\", 'wb'))\n",
    "pickle.dump(nova_climo30, open(\"nova_climo30.p\", 'wb'))\n",
    "pickle.dump(seus_climo30, open(\"seus_climo30.p\", 'wb'))"
   ]
  },
  {
   "cell_type": "code",
   "execution_count": null,
   "id": "fd2c4333",
   "metadata": {},
   "outputs": [],
   "source": []
  }
 ],
 "metadata": {
  "kernelspec": {
   "display_name": "Python 3 (ipykernel)",
   "language": "python",
   "name": "python3"
  },
  "language_info": {
   "codemirror_mode": {
    "name": "ipython",
    "version": 3
   },
   "file_extension": ".py",
   "mimetype": "text/x-python",
   "name": "python",
   "nbconvert_exporter": "python",
   "pygments_lexer": "ipython3",
   "version": "3.10.12"
  }
 },
 "nbformat": 4,
 "nbformat_minor": 5
}
