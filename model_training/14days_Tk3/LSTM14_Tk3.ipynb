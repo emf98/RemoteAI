{
 "cells": [
  {
   "cell_type": "markdown",
   "id": "47cf3a5b",
   "metadata": {},
   "source": [
    "### Starting over with the LSTM model ... \n",
    "\n",
    "This time I wanna be weird with the architecture, hold up lol. \n",
    "File initially created 6/26/2025. \n",
    "\n",
    "I will start with a 14 day model. "
   ]
  },
  {
   "cell_type": "code",
   "execution_count": 1,
   "id": "2a53b1aa",
   "metadata": {
    "jupyter": {
     "source_hidden": true
    }
   },
   "outputs": [
    {
     "name": "stderr",
     "output_type": "stream",
     "text": [
      "2025-06-27 15:26:03.187089: I tensorflow/core/util/port.cc:111] oneDNN custom operations are on. You may see slightly different numerical results due to floating-point round-off errors from different computation orders. To turn them off, set the environment variable `TF_ENABLE_ONEDNN_OPTS=0`.\n",
      "2025-06-27 15:26:03.189103: I tensorflow/tsl/cuda/cudart_stub.cc:28] Could not find cuda drivers on your machine, GPU will not be used.\n",
      "2025-06-27 15:26:03.216204: E tensorflow/compiler/xla/stream_executor/cuda/cuda_dnn.cc:9342] Unable to register cuDNN factory: Attempting to register factory for plugin cuDNN when one has already been registered\n",
      "2025-06-27 15:26:03.216225: E tensorflow/compiler/xla/stream_executor/cuda/cuda_fft.cc:609] Unable to register cuFFT factory: Attempting to register factory for plugin cuFFT when one has already been registered\n",
      "2025-06-27 15:26:03.216244: E tensorflow/compiler/xla/stream_executor/cuda/cuda_blas.cc:1518] Unable to register cuBLAS factory: Attempting to register factory for plugin cuBLAS when one has already been registered\n",
      "2025-06-27 15:26:03.221624: I tensorflow/tsl/cuda/cudart_stub.cc:28] Could not find cuda drivers on your machine, GPU will not be used.\n",
      "2025-06-27 15:26:03.222015: I tensorflow/core/platform/cpu_feature_guard.cc:182] This TensorFlow binary is optimized to use available CPU instructions in performance-critical operations.\n",
      "To enable the following instructions: AVX2 AVX512F AVX512_VNNI AVX512_BF16 AVX_VNNI AMX_TILE AMX_INT8 AMX_BF16 FMA, in other operations, rebuild TensorFlow with the appropriate compiler flags.\n",
      "2025-06-27 15:26:04.363593: W tensorflow/core/common_runtime/gpu/gpu_device.cc:2211] Cannot dlopen some GPU libraries. Please make sure the missing libraries mentioned above are installed properly if you would like to use GPU. Follow the guide at https://www.tensorflow.org/install/gpu for how to download and setup the required libraries for your platform.\n",
      "Skipping registering GPU devices...\n"
     ]
    }
   ],
   "source": [
    "##import cell makes its appearance once again...\n",
    "%matplotlib inline\n",
    "##so-called \"math\" related imports\n",
    "#from netCDF4 import Dataset as ncread\n",
    "import numpy as np\n",
    "import pandas as pd\n",
    "import math\n",
    "from random import seed\n",
    "from random import randint\n",
    "from random import sample\n",
    "from scipy.ndimage import gaussian_filter\n",
    "from sklearn.metrics import brier_score_loss\n",
    "import xarray as xr\n",
    "\n",
    "import pickle\n",
    "\n",
    "##plotting related imports\n",
    "import matplotlib.pyplot as plt\n",
    "\n",
    "#import tensorflow/keras related files\n",
    "import tensorflow as tf    \n",
    "#tf.compat.v1.disable_v2_behavior() # <-- HERE !\n",
    "\n",
    "tf.device('/physical_device:GPU:0')\n",
    "\n",
    "from tensorflow import keras\n",
    "from tensorflow.keras import layers\n",
    "from tensorflow.keras import Input\n",
    "from tensorflow.keras.models import Model\n",
    "from tensorflow.keras.callbacks import ModelCheckpoint\n",
    "from tensorflow.keras import regularizers\n",
    "import tensorflow.keras.backend as K\n",
    "from tensorflow.keras.utils import to_categorical\n",
    "from tensorflow.keras.layers import Dropout, Activation, Reshape, Flatten, LSTM, Dense, Dropout, Embedding, Bidirectional, GRU, Concatenate\n",
    "from tensorflow.keras import Sequential\n",
    "from tensorflow.keras import initializers, regularizers\n",
    "from tensorflow.keras import optimizers\n",
    "from tensorflow.keras import constraints\n",
    "from tensorflow.keras.layers import Layer, InputSpec\n",
    "\n",
    "tf.compat.v1.disable_eager_execution()\n",
    "#import investigate"
   ]
  },
  {
   "cell_type": "code",
   "execution_count": 2,
   "id": "f1e90376",
   "metadata": {},
   "outputs": [
    {
     "name": "stdout",
     "output_type": "stream",
     "text": [
      "2.14.1\n"
     ]
    }
   ],
   "source": [
    "print(tf.__version__)"
   ]
  },
  {
   "cell_type": "code",
   "execution_count": 3,
   "id": "e4e84249",
   "metadata": {},
   "outputs": [],
   "source": [
    "##load in solvers for PC analysis to get the PCs for the model itself. "
   ]
  },
  {
   "cell_type": "code",
   "execution_count": 4,
   "id": "b750a4bd",
   "metadata": {},
   "outputs": [],
   "source": [
    "# load input solvers\n",
    "infile = open(\"../../reduced_data/PCs/U_14.p\",\"rb\",)\n",
    "U_PC = pickle.load(infile)  ##zonal mean wind\n",
    "infile.close()\n",
    "\n",
    "infile = open(\"../../reduced_data/PCs/EHF_14.p\",\"rb\",)\n",
    "EHF_PC = pickle.load(infile)  ##ZMehf vertical cross section along longitudes\n",
    "infile.close()\n",
    "\n",
    "infile = open(\"../../reduced_data/PCs/GPH_14.p\",\"rb\",)\n",
    "GPH_PC = pickle.load(infile)  ##ZMehf vertical cross section along longitudes\n",
    "infile.close()"
   ]
  },
  {
   "cell_type": "code",
   "execution_count": 5,
   "id": "f6df56fc",
   "metadata": {},
   "outputs": [],
   "source": [
    "##remove PC 1\n",
    "U_PC = U_PC[:, 1:]\n",
    "EHF_PC = EHF_PC[:, 1:]\n",
    "GPH_PC = GPH_PC[:, 1:]"
   ]
  },
  {
   "cell_type": "code",
   "execution_count": 6,
   "id": "85cf70ed",
   "metadata": {},
   "outputs": [],
   "source": [
    "u_indices = [1,0,2,6]\n",
    "gph_indices = [2,0,3]\n",
    "ehf_indices = [0,22,17,5,11,2,29,12,9,6,13,3,4]\n",
    "\n",
    "U_PC = np.take(U_PC, u_indices, axis = 1)\n",
    "EHF_PC = np.take(EHF_PC, ehf_indices, axis = 1)\n",
    "GPH_PC = np.take(GPH_PC, gph_indices, axis = 1)"
   ]
  },
  {
   "cell_type": "code",
   "execution_count": 7,
   "id": "66e1fd7e",
   "metadata": {},
   "outputs": [],
   "source": [
    "U_PC = U_PC.reshape((62,149,4))\n",
    "GPH_PC = GPH_PC.reshape((62,149,3))\n",
    "EHF_PC = EHF_PC.reshape((62,149,13))"
   ]
  },
  {
   "cell_type": "code",
   "execution_count": 8,
   "id": "06d9ccbc",
   "metadata": {},
   "outputs": [
    {
     "data": {
      "text/plain": [
       "(62, 149, 4)"
      ]
     },
     "execution_count": 8,
     "metadata": {},
     "output_type": "execute_result"
    }
   ],
   "source": [
    "U_PC.shape"
   ]
  },
  {
   "cell_type": "code",
   "execution_count": 9,
   "id": "103fd2f1",
   "metadata": {
    "scrolled": true
   },
   "outputs": [],
   "source": [
    "# load output data\n",
    "infile = open(\"../../reduced_data/temps/eur_14.p\",\"rb\",)\n",
    "output = pickle.load(infile) \n",
    "infile.close()"
   ]
  },
  {
   "cell_type": "code",
   "execution_count": 10,
   "id": "9668fee6",
   "metadata": {},
   "outputs": [
    {
     "data": {
      "text/plain": [
       "(9238,)"
      ]
     },
     "execution_count": 10,
     "metadata": {},
     "output_type": "execute_result"
    }
   ],
   "source": [
    "output.shape"
   ]
  },
  {
   "cell_type": "code",
   "execution_count": 11,
   "id": "8fbdf561",
   "metadata": {},
   "outputs": [
    {
     "name": "stdout",
     "output_type": "stream",
     "text": [
      "(62, 135)\n"
     ]
    }
   ],
   "source": [
    "##need to change this based on lag \n",
    "## 14-days = [:, 10:] 10 day window rather than 14\n",
    "## 20-days = [:, 16:]\n",
    "## 30-days = [:, 26:]\n",
    "\n",
    "# 139\n",
    "# 133\n",
    "# 123\n",
    "\n",
    "## 14-days = [:, 14:] 14 day window\n",
    "## 20-days = [:, 20:]\n",
    "## 30-days = [:, 30:]\n",
    "\n",
    "# 135\n",
    "# 129\n",
    "# 119\n",
    "\n",
    "lead = 135\n",
    "\n",
    "temp = output.reshape(62, 149)\n",
    "temp = temp[:, 14:]\n",
    "print(temp.shape)\n",
    "\n",
    "temp_flat = temp.flatten()"
   ]
  },
  {
   "cell_type": "code",
   "execution_count": 12,
   "id": "da677461",
   "metadata": {},
   "outputs": [],
   "source": [
    "#create timeseries data arrays for PCs \n",
    "#was 122 and 14 for the 14 day window. \n",
    "\n",
    "new_input1 =  np.empty((62,lead,14,4))\n",
    "new_input2 =  np.empty((62,lead,14,13))\n",
    "new_input3 =  np.empty((62,lead,14,3))\n",
    "\n",
    "new_output = np.empty((62,lead))\n",
    "\n",
    "for i in range(0,62):\n",
    "    for j in range(0,lead):\n",
    "        new_input1[i,j,:,:] = U_PC[i,j:j+14,:]\n",
    "        new_input2[i,j,:,:] = EHF_PC[i,j:j+14,:]\n",
    "        new_input3[i,j,:,:] = GPH_PC[i,j:j+14,:]\n",
    "        \n",
    "        new_output[i,j] = temp[i,j]"
   ]
  },
  {
   "cell_type": "code",
   "execution_count": 13,
   "id": "d36cb135",
   "metadata": {},
   "outputs": [
    {
     "name": "stdout",
     "output_type": "stream",
     "text": [
      "(62, 135, 14, 4)\n",
      "(62, 135)\n"
     ]
    }
   ],
   "source": [
    "new_input1 = np.array(new_input1)\n",
    "new_input2 = np.array(new_input2)\n",
    "new_input3 = np.array(new_input3)\n",
    "\n",
    "new_output = np.array(new_output)\n",
    "print(new_input1.shape)\n",
    "print(new_output.shape)"
   ]
  },
  {
   "cell_type": "code",
   "execution_count": 14,
   "id": "403fe68d",
   "metadata": {},
   "outputs": [
    {
     "data": {
      "text/plain": [
       "7114"
      ]
     },
     "execution_count": 14,
     "metadata": {},
     "output_type": "execute_result"
    }
   ],
   "source": [
    "frac_ind = round((62*lead)*0.15)\n",
    "frac_end = round((62*lead)-frac_ind)\n",
    "frac_end"
   ]
  },
  {
   "cell_type": "code",
   "execution_count": 15,
   "id": "1a9d1a31",
   "metadata": {},
   "outputs": [
    {
     "data": {
      "text/plain": [
       "1256"
      ]
     },
     "execution_count": 15,
     "metadata": {},
     "output_type": "execute_result"
    }
   ],
   "source": [
    "frac_ind"
   ]
  },
  {
   "cell_type": "code",
   "execution_count": 16,
   "id": "c4d87a1a",
   "metadata": {},
   "outputs": [],
   "source": [
    "##Set X_all and Y_all datasets\n",
    "X_all1 = np.copy(new_input1.reshape((62*lead),14,4))\n",
    "X_all2 = np.copy(new_input2.reshape((62*lead),14,13))\n",
    "X_all3 = np.copy(new_input3.reshape((62*lead),14,3))\n",
    "\n",
    "Y_all = np.copy(new_output.flatten())\n",
    "\n",
    "##training data partition out\n",
    "X_tri1 = X_all1[:frac_end,:] ##u\n",
    "X_tri2 = X_all2[:frac_end,:] ##ehf\n",
    "X_tri3 = X_all3[:frac_end,:] ##gph\n",
    "\n",
    "Y_tri = Y_all[:frac_end]\n",
    "\n",
    "#testing data partition out\n",
    "X_tes1 = X_all1[frac_end:,:]\n",
    "X_tes2 = X_all2[frac_end:,:]\n",
    "X_tes3 = X_all3[frac_end:,:]\n",
    "\n",
    "Y_tes = Y_all[frac_end:]\n",
    "\n",
    "#Convert the Y array into a categorical array. This means we will create one-hot vector labels for all of the inputs.\n",
    "# The one-hot vectors have an index for each possible output category (two in our case)\n",
    "# A \"1\" is put in the index corresponding to the category to which the sample belongs\n",
    "Y_all = keras.utils.to_categorical(Y_all)\n",
    "Y_tri = keras.utils.to_categorical(Y_tri)\n",
    "Y_tes= keras.utils.to_categorical(Y_tes)"
   ]
  },
  {
   "cell_type": "code",
   "execution_count": 17,
   "id": "e088bd2a",
   "metadata": {},
   "outputs": [
    {
     "data": {
      "text/plain": [
       "(8370, 2)"
      ]
     },
     "execution_count": 17,
     "metadata": {},
     "output_type": "execute_result"
    }
   ],
   "source": [
    "Y_all.shape"
   ]
  },
  {
   "cell_type": "code",
   "execution_count": 18,
   "id": "12177b27",
   "metadata": {},
   "outputs": [],
   "source": [
    "##checking my data for NaN of Infs because I need to make sure this doesn't cause\n",
    "#the model to throw back no loss\n",
    "\n",
    "if np.any(np.isnan(X_all1)) or np.any(np.isinf(X_all1)):\n",
    "    print(\"NaN or Inf values found in X_all!\")\n",
    "\n",
    "if np.any(np.isnan(Y_all)) or np.any(np.isinf(Y_all)):\n",
    "    print(\"NaN or Inf values found in Y_all!\")"
   ]
  },
  {
   "cell_type": "markdown",
   "id": "dd3d0684",
   "metadata": {},
   "source": [
    "### Begin establishing specifics of model."
   ]
  },
  {
   "cell_type": "code",
   "execution_count": 19,
   "id": "3f0717ee",
   "metadata": {},
   "outputs": [],
   "source": [
    "##class weight creator for the instance where now I have a four dimensional output array \n",
    "def class_weight_creator(Y):\n",
    "    class_dict = {}\n",
    "    Y_reshaped = Y.reshape(-1, Y.shape[-1])\n",
    "    weights = np.max(np.sum(Y_reshaped, axis=0)) / np.sum(Y_reshaped, axis=0)\n",
    "    for i in range(Y.shape[-1] ):\n",
    "        class_dict[i] = weights[i]\n",
    "        \n",
    "    return class_dict"
   ]
  },
  {
   "cell_type": "code",
   "execution_count": 20,
   "id": "09dddc39",
   "metadata": {},
   "outputs": [],
   "source": [
    "##number of input nodes\n",
    "input_shape1=  X_all1.shape[1:] # u\n",
    "input_shape2= X_all2.shape[1:] ## ehf\n",
    "input_shape3= X_all3.shape[1:] ## gph\n",
    "\n",
    "\n",
    "##fraction of training data\n",
    "X_validation1 = X_tri1[0:frac_ind]\n",
    "X_validation2 = X_tri2[0:frac_ind]\n",
    "X_validation3 = X_tri3[0:frac_ind]\n",
    "Y_validation = Y_tri[0:frac_ind]\n",
    "        \n",
    "X_train1 = X_tri1[frac_ind:len(X_tri1)]\n",
    "X_train2 = X_tri2[frac_ind:len(X_tri2)]\n",
    "X_train3 = X_tri3[frac_ind:len(X_tri3)]\n",
    "Y_train = Y_tri[frac_ind:len(Y_tri)]\n",
    "\n",
    "X_test1 = X_tes1\n",
    "X_test2 = X_tes2\n",
    "X_test3 = X_tes3\n",
    "Y_test = Y_tes"
   ]
  },
  {
   "cell_type": "code",
   "execution_count": 21,
   "id": "a41fd44e",
   "metadata": {},
   "outputs": [
    {
     "data": {
      "text/plain": [
       "(5858, 2)"
      ]
     },
     "execution_count": 21,
     "metadata": {},
     "output_type": "execute_result"
    }
   ],
   "source": [
    "Y_train.shape"
   ]
  },
  {
   "cell_type": "code",
   "execution_count": 22,
   "id": "5456e017",
   "metadata": {},
   "outputs": [
    {
     "data": {
      "text/plain": [
       "(14, 4)"
      ]
     },
     "execution_count": 22,
     "metadata": {},
     "output_type": "execute_result"
    }
   ],
   "source": [
    "input_shape1"
   ]
  },
  {
   "cell_type": "markdown",
   "id": "54cf0041",
   "metadata": {},
   "source": [
    "### Model Architecture. "
   ]
  },
  {
   "cell_type": "code",
   "execution_count": 23,
   "id": "828a0060",
   "metadata": {},
   "outputs": [],
   "source": [
    "##dictionaries for training and validation\n",
    "X_train = {'layer1': X_train1, 'layer2': X_train2, 'layer3': X_train3}\n",
    "X_all = {'layer1': X_all1, 'layer2': X_all2, 'layer3': X_all3}\n",
    "X_test = {'layer1': X_test1, 'layer2': X_test2, 'layer3': X_test3}\n",
    "X_val = {'layer1': X_validation1, 'layer2': X_validation2, 'layer3': X_validation3}"
   ]
  },
  {
   "cell_type": "code",
   "execution_count": 24,
   "id": "30dcd268",
   "metadata": {},
   "outputs": [],
   "source": [
    "######\n",
    "batch_size = 64 #The number of samples the network sees before it backpropagates (batch size)\n",
    "epochs = 30 #The number of times the network will loop through the entire dataset (epochs)\n",
    "shuffle = True #Set whether to shuffle the training data so the model doesn't see it sequentially \n",
    "verbose = 2 #Set whether the model will output information when trained (0 = no output; 2 = output accuracy every epoch)"
   ]
  },
  {
   "cell_type": "code",
   "execution_count": 25,
   "id": "468b5b38",
   "metadata": {},
   "outputs": [],
   "source": [
    "stop_early = tf.keras.callbacks.EarlyStopping(monitor='val_loss', patience=5)"
   ]
  },
  {
   "cell_type": "code",
   "execution_count": 26,
   "id": "586eeca8",
   "metadata": {},
   "outputs": [],
   "source": [
    "#model\n",
    "def combined_LSTM(n1, n2, n3, n4, rl1, rl2, rl3, rl4, learn): \n",
    "    #first layer\n",
    "    input_tensor1 = Input(shape=(14,4), name = 'layer1')\n",
    "    \n",
    "    layer1 = layers.RNN(\n",
    "        layers.LSTMCell(n1, activation='tanh', use_bias=True,\n",
    "                          dropout=0.331, \n",
    "                          kernel_initializer='glorot_uniform',\n",
    "                          kernel_regularizer=keras.regularizers.l2(l2= rl1)),\n",
    "        return_sequences=False)(input_tensor1)\n",
    "       \n",
    "    #second layer\n",
    "    input_tensor2 = Input(shape=(14,13), name = 'layer2')\n",
    "    \n",
    "    layer2 = layers.RNN(\n",
    "        layers.LSTMCell(n2, activation='tanh', use_bias=True,\n",
    "                          dropout=0.331, \n",
    "                          kernel_initializer='glorot_uniform',\n",
    "                          kernel_regularizer=keras.regularizers.l2(l2= rl2)),\n",
    "        return_sequences=False)(input_tensor2)\n",
    "    \n",
    "    #third layer\n",
    "    input_tensor3 = Input(shape=(14,3), name = 'layer3')\n",
    "    \n",
    "    layer3 = layers.RNN(\n",
    "        layers.LSTMCell(n3, activation='tanh', use_bias=True,\n",
    "                          dropout=0.331, \n",
    "                          kernel_initializer='glorot_uniform',\n",
    "                          kernel_regularizer=keras.regularizers.l2(l2= rl3)),\n",
    "        return_sequences=False)(input_tensor3)\n",
    "    \n",
    "     ##combine two model inputs\n",
    "    merge_layer = Concatenate()([layer1,layer2,layer3])\n",
    "    \n",
    "    ##more dense layers\n",
    "    merge = layers.Dense(n4, activation='relu', use_bias=True,\n",
    "                          kernel_initializer='he_normal',bias_initializer='he_normal',\n",
    "                          kernel_regularizer=keras.regularizers.l2(l2= rl4))(merge_layer)\n",
    "\n",
    "    #decay_rate = learn / epochs\n",
    "    output_tensor = layers.Dense(2,activation='softmax')(merge)\n",
    "    model = Model([input_tensor1, input_tensor2, input_tensor3], output_tensor)\n",
    "    model.compile(optimizer=keras.optimizers.legacy.Adam(learning_rate=learn),\n",
    "              loss = 'categorical_crossentropy', #Our loss function is based on categorical error\n",
    "              metrics=[keras.metrics.categorical_accuracy], #We will print out the categorical accuracy as the network is trained\n",
    "              )\n",
    "    return model"
   ]
  },
  {
   "cell_type": "code",
   "execution_count": 37,
   "id": "fa67f360",
   "metadata": {},
   "outputs": [],
   "source": [
    "tf.keras.backend.clear_session()"
   ]
  },
  {
   "cell_type": "code",
   "execution_count": 38,
   "id": "26af5cc6",
   "metadata": {},
   "outputs": [],
   "source": [
    "#model = combined_LSTM(16,80,32,64,0.019,0.073,0.004,0.002,0.043)\n",
    "model = combined_LSTM(112,16,64,64,0.0048,0.054,0.0033,0.0062,0.246)"
   ]
  },
  {
   "cell_type": "raw",
   "id": "67715144",
   "metadata": {},
   "source": [
    "{'n1': 16,\n",
    " 'n2': 80,\n",
    " 'n3': 32,\n",
    " 'n4': 64,\n",
    " 'reg1': 0.01936197861176886,\n",
    " 'reg2': 0.07275392151344355,\n",
    " 'reg3': 0.00462495487494886,\n",
    " 'reg4': 0.0022848059714219346,\n",
    " 'learning_rate': 0.04249014816851695}\n",
    "\n",
    "|Best Value So Far |Hyperparameter\n",
    "|112               |n1\n",
    "|16                |n2\n",
    "|64                |n3\n",
    "|64                |n4\n",
    "|0.0047754         |reg1\n",
    "|0.054088          |reg2\n",
    "|0.0033149         |reg3\n",
    "|0.0062043         |reg4\n",
    "|0.24633           |learning_rate"
   ]
  },
  {
   "cell_type": "code",
   "execution_count": 39,
   "id": "88b20ef2",
   "metadata": {},
   "outputs": [
    {
     "data": {
      "text/plain": [
       "{0: 1.0, 1: 1.8068999}"
      ]
     },
     "execution_count": 39,
     "metadata": {},
     "output_type": "execute_result"
    }
   ],
   "source": [
    "##do the class_dict weights\n",
    "class_weight = class_weight_creator(Y_train)\n",
    "class_weight"
   ]
  },
  {
   "cell_type": "code",
   "execution_count": 40,
   "id": "b15bb954",
   "metadata": {
    "scrolled": true
   },
   "outputs": [
    {
     "name": "stdout",
     "output_type": "stream",
     "text": [
      "Train on 5858 samples, validate on 1256 samples\n",
      "Epoch 1/30\n"
     ]
    },
    {
     "name": "stderr",
     "output_type": "stream",
     "text": [
      "2025-06-27 15:27:34.638152: W tensorflow/c/c_api.cc:305] Operation '{name:'training/Adam/rnn_2/lstm_cell_2/recurrent_kernel/v/Assign' id:2145 op device:{requested: '', assigned: ''} def:{{{node training/Adam/rnn_2/lstm_cell_2/recurrent_kernel/v/Assign}} = AssignVariableOp[_has_manual_control_dependencies=true, dtype=DT_FLOAT, validate_shape=false](training/Adam/rnn_2/lstm_cell_2/recurrent_kernel/v, training/Adam/rnn_2/lstm_cell_2/recurrent_kernel/v/Initializer/zeros)}}' was changed by setting attribute after it was run by a session. This mutation will have no effect, and will trigger an error in the future. Either don't modify nodes after running them or create a new session.\n"
     ]
    },
    {
     "name": "stdout",
     "output_type": "stream",
     "text": [
      "5824/5858 [============================>.] - ETA: 0s - loss: 25.6295 - categorical_accuracy: 0.4845"
     ]
    },
    {
     "name": "stderr",
     "output_type": "stream",
     "text": [
      "/usr/local/lib/python3.10/dist-packages/keras/src/engine/training_v1.py:2335: UserWarning: `Model.state_updates` will be removed in a future version. This property should not be used in TensorFlow 2.0, as `updates` are applied automatically.\n",
      "  updates = self.state_updates\n"
     ]
    },
    {
     "name": "stdout",
     "output_type": "stream",
     "text": [
      "5858/5858 [==============================] - 1s 238us/sample - loss: 25.6552 - categorical_accuracy: 0.4853 - val_loss: 27.4951 - val_categorical_accuracy: 0.3288\n",
      "Epoch 2/30\n",
      "5858/5858 [==============================] - 1s 150us/sample - loss: 10.3406 - categorical_accuracy: 0.5051 - val_loss: 2.2815 - val_categorical_accuracy: 0.3201\n",
      "Epoch 3/30\n",
      "5858/5858 [==============================] - 1s 149us/sample - loss: 1.8784 - categorical_accuracy: 0.5113 - val_loss: 1.3361 - val_categorical_accuracy: 0.3201\n",
      "Epoch 4/30\n",
      "5858/5858 [==============================] - 1s 148us/sample - loss: 1.3609 - categorical_accuracy: 0.4891 - val_loss: 1.0213 - val_categorical_accuracy: 0.6799\n",
      "Epoch 5/30\n",
      "5858/5858 [==============================] - 1s 147us/sample - loss: 1.1665 - categorical_accuracy: 0.4997 - val_loss: 0.8632 - val_categorical_accuracy: 0.6799\n",
      "Epoch 6/30\n",
      "5858/5858 [==============================] - 1s 148us/sample - loss: 1.0662 - categorical_accuracy: 0.5024 - val_loss: 0.7864 - val_categorical_accuracy: 0.6799\n",
      "Epoch 7/30\n",
      "5858/5858 [==============================] - 1s 148us/sample - loss: 1.0065 - categorical_accuracy: 0.4976 - val_loss: 0.7549 - val_categorical_accuracy: 0.6799\n",
      "Epoch 8/30\n",
      "5858/5858 [==============================] - 1s 147us/sample - loss: 0.9703 - categorical_accuracy: 0.4822 - val_loss: 0.7591 - val_categorical_accuracy: 0.3201\n",
      "Epoch 9/30\n",
      "5858/5858 [==============================] - 1s 149us/sample - loss: 0.9532 - categorical_accuracy: 0.4877 - val_loss: 0.7060 - val_categorical_accuracy: 0.6799\n",
      "Epoch 10/30\n",
      "5858/5858 [==============================] - 1s 148us/sample - loss: 0.9334 - categorical_accuracy: 0.5072 - val_loss: 0.7283 - val_categorical_accuracy: 0.3201\n",
      "Epoch 11/30\n",
      "5858/5858 [==============================] - 1s 148us/sample - loss: 0.9228 - categorical_accuracy: 0.5055 - val_loss: 0.6968 - val_categorical_accuracy: 0.6799\n",
      "Epoch 12/30\n",
      "5858/5858 [==============================] - 1s 147us/sample - loss: 0.9167 - categorical_accuracy: 0.5259 - val_loss: 0.7262 - val_categorical_accuracy: 0.3201\n",
      "Epoch 13/30\n",
      "5858/5858 [==============================] - 1s 148us/sample - loss: 0.9165 - categorical_accuracy: 0.4822 - val_loss: 0.6544 - val_categorical_accuracy: 0.6799\n",
      "Epoch 14/30\n",
      "5858/5858 [==============================] - 1s 148us/sample - loss: 0.9099 - categorical_accuracy: 0.4918 - val_loss: 0.7502 - val_categorical_accuracy: 0.3201\n",
      "Epoch 15/30\n",
      "5858/5858 [==============================] - 1s 148us/sample - loss: 0.9104 - categorical_accuracy: 0.4816 - val_loss: 0.7142 - val_categorical_accuracy: 0.3201\n",
      "Epoch 16/30\n",
      "5858/5858 [==============================] - 1s 148us/sample - loss: 0.9064 - categorical_accuracy: 0.5140 - val_loss: 0.6462 - val_categorical_accuracy: 0.6799\n",
      "Epoch 17/30\n",
      "5858/5858 [==============================] - 1s 147us/sample - loss: 0.9016 - categorical_accuracy: 0.5020 - val_loss: 0.6719 - val_categorical_accuracy: 0.6799\n",
      "Epoch 18/30\n",
      "5858/5858 [==============================] - 1s 147us/sample - loss: 0.9122 - categorical_accuracy: 0.4980 - val_loss: 0.6677 - val_categorical_accuracy: 0.6799\n",
      "Epoch 19/30\n",
      "5858/5858 [==============================] - 1s 147us/sample - loss: 0.9014 - categorical_accuracy: 0.5075 - val_loss: 0.7221 - val_categorical_accuracy: 0.3201\n",
      "Epoch 20/30\n",
      "5858/5858 [==============================] - 1s 148us/sample - loss: 0.9026 - categorical_accuracy: 0.5208 - val_loss: 0.7006 - val_categorical_accuracy: 0.3201\n",
      "Epoch 21/30\n",
      "5858/5858 [==============================] - 1s 148us/sample - loss: 0.8965 - categorical_accuracy: 0.5075 - val_loss: 0.7275 - val_categorical_accuracy: 0.3201\n",
      "Epoch 22/30\n",
      "5858/5858 [==============================] - 1s 147us/sample - loss: 0.9042 - categorical_accuracy: 0.4932 - val_loss: 0.6585 - val_categorical_accuracy: 0.6799\n",
      "Epoch 23/30\n",
      "5858/5858 [==============================] - 1s 147us/sample - loss: 0.8978 - categorical_accuracy: 0.5010 - val_loss: 0.6531 - val_categorical_accuracy: 0.6799\n",
      "Epoch 24/30\n",
      "5858/5858 [==============================] - 1s 151us/sample - loss: 0.9012 - categorical_accuracy: 0.4918 - val_loss: 0.6913 - val_categorical_accuracy: 0.6799\n",
      "Epoch 25/30\n",
      "5858/5858 [==============================] - 1s 147us/sample - loss: 0.9015 - categorical_accuracy: 0.4918 - val_loss: 0.6716 - val_categorical_accuracy: 0.6799\n",
      "Epoch 26/30\n",
      "5858/5858 [==============================] - 1s 147us/sample - loss: 0.9065 - categorical_accuracy: 0.4754 - val_loss: 0.7336 - val_categorical_accuracy: 0.3201\n",
      "Epoch 27/30\n",
      "5858/5858 [==============================] - 1s 148us/sample - loss: 0.9031 - categorical_accuracy: 0.4874 - val_loss: 0.6804 - val_categorical_accuracy: 0.6799\n",
      "Epoch 28/30\n",
      "5858/5858 [==============================] - 1s 148us/sample - loss: 0.8986 - categorical_accuracy: 0.5338 - val_loss: 0.7106 - val_categorical_accuracy: 0.3201\n",
      "Epoch 29/30\n",
      "5858/5858 [==============================] - 1s 147us/sample - loss: 0.9083 - categorical_accuracy: 0.4812 - val_loss: 0.6864 - val_categorical_accuracy: 0.6799\n",
      "Epoch 30/30\n",
      "5858/5858 [==============================] - 1s 148us/sample - loss: 0.9039 - categorical_accuracy: 0.5171 - val_loss: 0.6675 - val_categorical_accuracy: 0.6799\n"
     ]
    },
    {
     "data": {
      "text/plain": [
       "<keras.src.callbacks.History at 0x1554920ab190>"
      ]
     },
     "execution_count": 40,
     "metadata": {},
     "output_type": "execute_result"
    }
   ],
   "source": [
    "model.fit(X_train, Y_train, validation_data=(X_val, Y_validation),\n",
    "          batch_size=batch_size, epochs=epochs, class_weight=class_weight, shuffle=shuffle)#, callbacks=[stop_early])"
   ]
  },
  {
   "cell_type": "code",
   "execution_count": 41,
   "id": "04c712dd",
   "metadata": {},
   "outputs": [
    {
     "name": "stderr",
     "output_type": "stream",
     "text": [
      "/usr/local/lib/python3.10/dist-packages/keras/src/engine/training_v1.py:2359: UserWarning: `Model.state_updates` will be removed in a future version. This property should not be used in TensorFlow 2.0, as `updates` are applied automatically.\n",
      "  updates=self.state_updates,\n",
      "2025-06-27 15:28:01.384015: W tensorflow/c/c_api.cc:305] Operation '{name:'dense_1/Softmax' id:1350 op device:{requested: '', assigned: ''} def:{{{node dense_1/Softmax}} = Softmax[T=DT_FLOAT, _has_manual_control_dependencies=true](dense_1/BiasAdd)}}' was changed by setting attribute after it was run by a session. This mutation will have no effect, and will trigger an error in the future. Either don't modify nodes after running them or create a new session.\n"
     ]
    },
    {
     "data": {
      "text/plain": [
       "<bound method Axes.legend of <Axes: title={'center': 'Accuracy'}, xlabel='Epoch', ylabel='Acc'>>"
      ]
     },
     "execution_count": 41,
     "metadata": {},
     "output_type": "execute_result"
    },
    {
     "data": {
      "image/png": "[encoded data removed]",
      "text/plain": [
       "<Figure size 1600x400 with 2 Axes>"
      ]
     },
     "metadata": {},
     "output_type": "display_data"
    }
   ],
   "source": [
    "train_loss=model.history.history['loss']\n",
    "val_loss=model.history.history['val_loss']\n",
    "    \n",
    "cat_acc=model.history.history['categorical_accuracy']\n",
    "val_acc=model.history.history['val_categorical_accuracy']\n",
    "        \n",
    "pred = model.predict(X_all)\n",
    "pred_val = model.predict(X_val)\n",
    "pred_train = model.predict(X_train)\n",
    "pred_test = model.predict(X_test)\n",
    "\n",
    "# Look at the optimization history\n",
    "fig, (ax1,ax2) = plt.subplots(1,2, figsize=plt.figaspect(0.25))\n",
    "ax1.plot(train_loss, label='Training loss')\n",
    "ax1.plot(val_loss, label='Validation loss')\n",
    "ax1.set_yscale('log')\n",
    "ax1.set_title('loss')\n",
    "ax1.set_xlabel('Epoch')\n",
    "ax1.set_ylabel('loss')\n",
    "ax1.legend()\n",
    "\n",
    "ax2.plot(cat_acc, label='Training ACC')\n",
    "ax2.plot(val_acc, label='Validation ACC')\n",
    "ax2.set_title('Accuracy')\n",
    "ax2.set_xlabel('Epoch')\n",
    "ax2.set_ylabel('Acc')\n",
    "ax2.legend\n",
    "#plt.savefig(\"SEUS_onearch.png\")"
   ]
  },
  {
   "cell_type": "code",
   "execution_count": 42,
   "id": "c9194fde",
   "metadata": {},
   "outputs": [
    {
     "name": "stdout",
     "output_type": "stream",
     "text": [
      "              precision    recall  f1-score   support\n",
      "\n",
      "           0      0.680     1.000     0.809       854\n",
      "           1      0.000     0.000     0.000       402\n",
      "\n",
      "    accuracy                          0.680      1256\n",
      "   macro avg      0.340     0.500     0.405      1256\n",
      "weighted avg      0.462     0.680     0.550      1256\n",
      "\n"
     ]
    },
    {
     "name": "stderr",
     "output_type": "stream",
     "text": [
      "/usr/local/lib/python3.10/dist-packages/sklearn/metrics/_classification.py:1471: UndefinedMetricWarning: Precision and F-score are ill-defined and being set to 0.0 in labels with no predicted samples. Use `zero_division` parameter to control this behavior.\n",
      "  _warn_prf(average, modifier, msg_start, len(result))\n",
      "/usr/local/lib/python3.10/dist-packages/sklearn/metrics/_classification.py:1471: UndefinedMetricWarning: Precision and F-score are ill-defined and being set to 0.0 in labels with no predicted samples. Use `zero_division` parameter to control this behavior.\n",
      "  _warn_prf(average, modifier, msg_start, len(result))\n",
      "/usr/local/lib/python3.10/dist-packages/sklearn/metrics/_classification.py:1471: UndefinedMetricWarning: Precision and F-score are ill-defined and being set to 0.0 in labels with no predicted samples. Use `zero_division` parameter to control this behavior.\n",
      "  _warn_prf(average, modifier, msg_start, len(result))\n"
     ]
    }
   ],
   "source": [
    "from sklearn.metrics import classification_report\n",
    "import numpy as np\n",
    "\n",
    "y_val_pred = model.predict(X_val)\n",
    "y_val_classes = np.argmax(y_val_pred, axis=1)\n",
    "y_val_true = np.argmax(Y_validation, axis=1)\n",
    "\n",
    "print(classification_report(y_val_true, y_val_classes, digits=3))"
   ]
  },
  {
   "cell_type": "code",
   "execution_count": 43,
   "id": "b64ca1a0",
   "metadata": {},
   "outputs": [
    {
     "name": "stdout",
     "output_type": "stream",
     "text": [
      "Brier Score (Model): 0.2412\n",
      "Brier Score (Climatology): 0.2330\n",
      "Brier Skill Score: -0.0352\n"
     ]
    }
   ],
   "source": [
    "# Convert one-hot labels to 1D integer labels (0 or 1)\n",
    "y_true = np.argmax(Y_test, axis=1)\n",
    "\n",
    "# Extract predicted probability for the positive class (class 1)\n",
    "y_prob = pred_test[:,1]\n",
    "\n",
    "# Create climatology baseline: constant probability = mean positive class rate\n",
    "p_climatology = np.full_like(y_true, y_true.mean(), dtype=float)\n",
    "\n",
    "# Compute Brier Scores\n",
    "bs_model = brier_score_loss(y_true, y_prob)\n",
    "bs_climo = brier_score_loss(y_true, p_climatology)\n",
    "\n",
    "# Compute Brier Skill Score\n",
    "bss = 1 - (bs_model / bs_climo)\n",
    "\n",
    "print(f\"Brier Score (Model): {bs_model:.4f}\")\n",
    "print(f\"Brier Score (Climatology): {bs_climo:.4f}\")\n",
    "print(f\"Brier Skill Score: {bss:.4f}\")"
   ]
  },
  {
   "cell_type": "code",
   "execution_count": 44,
   "id": "cad33b5e",
   "metadata": {},
   "outputs": [
    {
     "name": "stdout",
     "output_type": "stream",
     "text": [
      "Brier Score (Model): 0.2412\n",
      "Brier Score (Climatology): 0.6306\n",
      "Brier Skill Score: 0.6176\n"
     ]
    }
   ],
   "source": [
    "## Labels for negative class\n",
    "y_true_neg = 1 - y_true  # flip 0 <-> 1\n",
    "\n",
    "# Predicted probabilities for negative class\n",
    "y_prob_neg = pred_test[:, 0]\n",
    "\n",
    "# Calculate Brier Score and BSS for negative class\n",
    "bs_model_neg = brier_score_loss(y_true_neg, y_prob_neg)\n",
    "bs_climo_neg = brier_score_loss(y_true_neg, np.full_like(y_true_neg, y_true_neg.mean()))\n",
    "bss_neg = 1 - (bs_model_neg / bs_climo_neg)\n",
    "\n",
    "print(f\"Brier Score (Model): {bs_model_neg:.4f}\")\n",
    "print(f\"Brier Score (Climatology): {bs_climo_neg:.4f}\")\n",
    "print(f\"Brier Skill Score: {bss_neg:.4f}\")"
   ]
  },
  {
   "cell_type": "code",
   "execution_count": 45,
   "id": "8ae1e152",
   "metadata": {},
   "outputs": [
    {
     "data": {
      "image/png": "[encoded data removed]",
      "text/plain": [
       "<Figure size 1000x1000 with 6 Axes>"
      ]
     },
     "metadata": {},
     "output_type": "display_data"
    }
   ],
   "source": [
    "bins = np.linspace(0.1, 0.9, 37)  #10 bins from 0.4 to 1\n",
    "##bin the probabilities\n",
    "counts_neg_test, edges_neg_test = np.histogram(pred_test[:,0], bins=bins)\n",
    "counts_pos_test, edges_pos_test = np.histogram(pred_test[:,1], bins=bins)\n",
    "\n",
    "counts_neg_train, edges_neg_train = np.histogram(pred_train[:,0], bins=bins)\n",
    "counts_pos_train, edges_pos_train = np.histogram(pred_train[:,1], bins=bins)\n",
    "\n",
    "counts_neg_val, edges_neg_val = np.histogram(pred_val[:,0], bins=bins)\n",
    "counts_pos_val, edges_pos_val = np.histogram(pred_val[:,1], bins=bins)\n",
    "\n",
    "fig, axes = plt.subplots(3, 2, figsize=(10,10))\n",
    "ax1, ax2, ax3, ax4, ax5, ax6 = axes.flatten()\n",
    "\n",
    "ax1.bar(edges_neg_train[:-1], counts_neg_train, width=np.diff(edges_neg_train), \n",
    "        edgecolor='black', alpha=0.5, align='edge', color='blue')\n",
    "ax1.set_title('Negative Training Predictions', fontsize=13)\n",
    "ax1.set_xlabel('Probability')\n",
    "ax1.set_ylabel('Count')\n",
    "\n",
    "ax2.bar(edges_pos_train[:-1], counts_pos_train, width=np.diff(edges_pos_train), \n",
    "        edgecolor='black', alpha=0.5, align='edge', color='orange')\n",
    "ax2.set_title('Positive Training Predictions', fontsize=13)\n",
    "ax2.set_xlabel('Probability')\n",
    "ax2.set_ylabel('Count')\n",
    "\n",
    "ax3.bar(edges_neg_val[:-1], counts_neg_val, width=np.diff(edges_neg_val), \n",
    "        edgecolor='black', alpha=0.5, align='edge', color='blue')\n",
    "ax3.set_title('Negative Validation Predictions', fontsize=13)\n",
    "ax3.set_xlabel('Probability')\n",
    "ax3.set_ylabel('Count')\n",
    "\n",
    "ax4.bar(edges_pos_val[:-1], counts_pos_val, width=np.diff(edges_pos_val), \n",
    "        edgecolor='black', alpha=0.5, align='edge', color='orange')\n",
    "ax4.set_title('Positive Validation Predictions', fontsize=13)\n",
    "ax4.set_xlabel('Probability')\n",
    "ax4.set_ylabel('Count')\n",
    "\n",
    "ax5.bar(edges_neg_test[:-1], counts_neg_test, width=np.diff(edges_neg_test), \n",
    "        edgecolor='black', alpha=0.5, align='edge', color='blue')\n",
    "ax5.set_title('Negative Testing Predictions', fontsize=13)\n",
    "ax5.set_xlabel('Probability')\n",
    "ax5.set_ylabel('Count')\n",
    "\n",
    "ax6.bar(edges_pos_test[:-1], counts_pos_test, width=np.diff(edges_pos_test), \n",
    "        edgecolor='black', alpha=0.5, align='edge', color='orange')\n",
    "ax6.set_title('Positive Testing Predictions', fontsize=13)\n",
    "ax6.set_xlabel('Probability')\n",
    "ax6.set_ylabel('Count')\n",
    "\n",
    "plt.tight_layout()"
   ]
  },
  {
   "cell_type": "raw",
   "id": "8151d69c",
   "metadata": {
    "jupyter": {
     "source_hidden": true
    }
   },
   "source": [
    "#model\n",
    "def combined_LSTM(hp):\n",
    "    n1 = hp.Int('n1', min_value=16, max_value=128, step=16)\n",
    "    n2 = hp.Int('n2', min_value=16, max_value=128, step=16)\n",
    "    n3= hp.Int('n3', min_value=16, max_value=128, step=16)\n",
    "    n4 = hp.Int('n4', min_value=16, max_value=64, step=8)\n",
    "    \n",
    "    reg1 = hp.Float('reg1', min_value=0.001, max_value=0.1)\n",
    "    reg2 = hp.Float('reg2', min_value=0.001, max_value=0.1)\n",
    "    reg3 = hp.Float('reg3', min_value=0.001, max_value=0.1)\n",
    "    reg4 = hp.Float('reg4', min_value=0.001, max_value=0.1)\n",
    "    \n",
    "    lr = hp.Float('learning_rate', min_value=1e-2, max_value=1)\n",
    "    \n",
    "    #first layer\n",
    "    input_tensor1 = Input(shape=(14,4), name = 'layer1')\n",
    "    \n",
    "    layer1 = layers.RNN(\n",
    "        layers.LSTMCell(n1, activation='tanh', use_bias=True,\n",
    "                          dropout=0.331, \n",
    "                          kernel_initializer='glorot_uniform',\n",
    "                          kernel_regularizer=keras.regularizers.l2(l2= reg1)),\n",
    "        return_sequences=False)(input_tensor1)\n",
    "       \n",
    "    #second layer\n",
    "    input_tensor2 = Input(shape=(14,13), name = 'layer2')\n",
    "    \n",
    "    layer2 = layers.RNN(\n",
    "        layers.LSTMCell(n2, activation='tanh', use_bias=True,\n",
    "                          dropout=0.331, \n",
    "                          kernel_initializer='glorot_uniform',\n",
    "                          kernel_regularizer=keras.regularizers.l2(l2= reg2)),\n",
    "        return_sequences=False)(input_tensor2)\n",
    "    \n",
    "    #third layer\n",
    "    input_tensor3 = Input(shape=(14,3), name = 'layer3')\n",
    "    \n",
    "    layer3 = layers.RNN(\n",
    "        layers.LSTMCell(n3, activation='tanh', use_bias=True,\n",
    "                          dropout=0.331, \n",
    "                          kernel_initializer='glorot_uniform',\n",
    "                          kernel_regularizer=keras.regularizers.l2(l2= reg3)),\n",
    "        return_sequences=False)(input_tensor3)\n",
    "    \n",
    "     ##combine two model inputs\n",
    "    merge_layer = Concatenate()([layer1,layer2,layer3])\n",
    "    \n",
    "    ##more dense layers\n",
    "    merge = layers.Dense(n4, activation='relu', use_bias=True,\n",
    "                          kernel_initializer='he_normal',bias_initializer='he_normal',\n",
    "                          kernel_regularizer=keras.regularizers.l2(l2= reg4))(merge_layer)\n",
    "\n",
    "    #decay_rate = learn / epochs\n",
    "    output_tensor = layers.Dense(2,activation='softmax')(merge)\n",
    "    model = Model([input_tensor1, input_tensor2, input_tensor3], output_tensor)\n",
    "    model.compile(optimizer=keras.optimizers.legacy.Adam(learning_rate=lr),\n",
    "              loss = 'categorical_crossentropy', #Our loss function is based on categorical error\n",
    "              metrics=[keras.metrics.categorical_accuracy], #We will print out the categorical accuracy as the network is trained\n",
    "              )\n",
    "    return model"
   ]
  },
  {
   "cell_type": "raw",
   "id": "9c6abb18",
   "metadata": {
    "jupyter": {
     "source_hidden": true
    }
   },
   "source": [
    "##intialize/setup the hyperband tuner\n",
    "import keras_tuner as kt\n",
    "\n",
    "tuner = kt.tuners.RandomSearch(\n",
    "    combined_LSTM, #model\n",
    "    objective = kt.Objective('val_loss', 'min'),\n",
    "                #kt.Objective('val_categorical_accuracy', 'max')], #target\n",
    "    max_trials=1000, #number of iterations of tuning to run\n",
    "    max_consecutive_failed_trials=3, #number of allowed failed trials\n",
    "    directory = 'tuning',\n",
    "    project_name='lstm_joint')"
   ]
  },
  {
   "cell_type": "raw",
   "id": "3d3e08b1",
   "metadata": {
    "jupyter": {
     "source_hidden": true
    }
   },
   "source": [
    "stop_early = tf.keras.callbacks.EarlyStopping(monitor='val_loss', patience=5)"
   ]
  },
  {
   "cell_type": "raw",
   "id": "9cb86b26",
   "metadata": {
    "jupyter": {
     "source_hidden": true
    }
   },
   "source": [
    "##actual tuning process\n",
    "tuner.search(X_train, Y_train, validation_data=(X_val, Y_validation),\n",
    "             batch_size=batch_size, epochs=epochs, shuffle=shuffle,\n",
    "             class_weight = class_weight, callbacks=[stop_early])"
   ]
  },
  {
   "cell_type": "raw",
   "id": "24b4c899",
   "metadata": {
    "jupyter": {
     "source_hidden": true
    }
   },
   "source": [
    "Value             |Best Value So Far |Hyperparameter\n",
    "32                |112               |n1\n",
    "80                |16                |n2\n",
    "16                |96                |n3\n",
    "56                |24                |n4\n",
    "0.045877          |0.090457          |reg1\n",
    "0.066744          |0.0066339         |reg2\n",
    "0.025881          |0.067096          |reg3\n",
    "0.097571          |0.014225          |reg4\n",
    "0.84236           |0.37868           |learning_rate\n",
    "\n",
    "Value             |Best Value So Far |Hyperparameter\n",
    "32                |112               |n1\n",
    "80                |16                |n2\n",
    "128               |64                |n3\n",
    "32                |64                |n4\n",
    "0.024496          |0.0047754         |reg1\n",
    "0.037305          |0.054088          |reg2\n",
    "0.058031          |0.0033149         |reg3\n",
    "0.066654          |0.0062043         |reg4\n",
    "0.65904           |0.24633           |learning_rate"
   ]
  },
  {
   "cell_type": "raw",
   "id": "485aa4bb",
   "metadata": {
    "jupyter": {
     "source_hidden": true
    }
   },
   "source": [
    "# Get the optimal hyperparameters\n",
    "best_hps=tuner.get_best_hyperparameters(num_trials=1)[0]\n",
    "best_hps.values"
   ]
  },
  {
   "cell_type": "raw",
   "id": "3479d1d8",
   "metadata": {
    "jupyter": {
     "outputs_hidden": true,
     "source_hidden": true
    }
   },
   "source": [
    "# Build the model with the optimal hyperparameters and train it on the data for 50 epochs\n",
    "model = tuner.hypermodel.build(best_hps)\n",
    "history = model.fit(X_train,Y_train, validation_data=(X_val, Y_validation),\n",
    "                    batch_size=batch_size, epochs=epochs, shuffle=shuffle,class_weight = class_weight)"
   ]
  },
  {
   "cell_type": "raw",
   "id": "3640d17f",
   "metadata": {
    "jupyter": {
     "source_hidden": true
    }
   },
   "source": [
    "train_loss=model.history.history['loss']\n",
    "val_loss=model.history.history['val_loss']\n",
    "    \n",
    "cat_acc=model.history.history['categorical_accuracy']\n",
    "val_acc=model.history.history['val_categorical_accuracy']\n",
    "        \n",
    "pred = model.predict(X_all)\n",
    "pred_val = model.predict(X_val)\n",
    "pred_train = model.predict(X_train)\n",
    "pred_test = model.predict(X_test)\n",
    "\n",
    "# Look at the optimization history\n",
    "fig, (ax1,ax2) = plt.subplots(1,2, figsize=plt.figaspect(0.25))\n",
    "ax1.plot(train_loss, label='Training loss')\n",
    "ax1.plot(val_loss, label='Validation loss')\n",
    "ax1.set_yscale('log')\n",
    "ax1.set_title('loss')\n",
    "ax1.set_xlabel('Epoch')\n",
    "ax1.set_ylabel('loss')\n",
    "ax1.legend()\n",
    "\n",
    "ax2.plot(cat_acc, label='Training ACC')\n",
    "ax2.plot(val_acc, label='Validation ACC')\n",
    "ax2.set_title('Accuracy')\n",
    "ax2.set_xlabel('Epoch')\n",
    "ax2.set_ylabel('Acc')\n",
    "ax2.legend"
   ]
  },
  {
   "cell_type": "code",
   "execution_count": null,
   "id": "6323d71d",
   "metadata": {},
   "outputs": [],
   "source": []
  }
 ],
 "metadata": {
  "kernelspec": {
   "display_name": "Python 3 (ipykernel)",
   "language": "python",
   "name": "python3"
  },
  "language_info": {
   "codemirror_mode": {
    "name": "ipython",
    "version": 3
   },
   "file_extension": ".py",
   "mimetype": "text/x-python",
   "name": "python",
   "nbconvert_exporter": "python",
   "pygments_lexer": "ipython3",
   "version": "3.10.12"
  }
 },
 "nbformat": 4,
 "nbformat_minor": 5
}
