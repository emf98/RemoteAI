{
 "cells": [
  {
   "cell_type": "markdown",
   "id": "6eddea58",
   "metadata": {},
   "source": [
    "### LSTM Model Loop with Skill Score calculation\n",
    "\n",
    "File recreated on 6/10/2025 for the \"updated\" model. \n",
    "\n",
    "I will start with a 14 day model. "
   ]
  },
  {
   "cell_type": "raw",
   "id": "ae3b6085",
   "metadata": {},
   "source": [
    "!pip install shap"
   ]
  },
  {
   "cell_type": "code",
   "execution_count": 1,
   "id": "ddeef92d",
   "metadata": {
    "jupyter": {
     "source_hidden": true
    }
   },
   "outputs": [
    {
     "name": "stderr",
     "output_type": "stream",
     "text": [
      "2025-07-18 22:39:36.880464: I tensorflow/core/util/port.cc:111] oneDNN custom operations are on. You may see slightly different numerical results due to floating-point round-off errors from different computation orders. To turn them off, set the environment variable `TF_ENABLE_ONEDNN_OPTS=0`.\n",
      "2025-07-18 22:39:36.882533: I tensorflow/tsl/cuda/cudart_stub.cc:28] Could not find cuda drivers on your machine, GPU will not be used.\n",
      "2025-07-18 22:39:36.909758: E tensorflow/compiler/xla/stream_executor/cuda/cuda_dnn.cc:9342] Unable to register cuDNN factory: Attempting to register factory for plugin cuDNN when one has already been registered\n",
      "2025-07-18 22:39:36.909780: E tensorflow/compiler/xla/stream_executor/cuda/cuda_fft.cc:609] Unable to register cuFFT factory: Attempting to register factory for plugin cuFFT when one has already been registered\n",
      "2025-07-18 22:39:36.909799: E tensorflow/compiler/xla/stream_executor/cuda/cuda_blas.cc:1518] Unable to register cuBLAS factory: Attempting to register factory for plugin cuBLAS when one has already been registered\n",
      "2025-07-18 22:39:36.915257: I tensorflow/tsl/cuda/cudart_stub.cc:28] Could not find cuda drivers on your machine, GPU will not be used.\n",
      "2025-07-18 22:39:36.915640: I tensorflow/core/platform/cpu_feature_guard.cc:182] This TensorFlow binary is optimized to use available CPU instructions in performance-critical operations.\n",
      "To enable the following instructions: AVX2 AVX512F AVX512_VNNI AVX512_BF16 AVX_VNNI AMX_TILE AMX_INT8 AMX_BF16 FMA, in other operations, rebuild TensorFlow with the appropriate compiler flags.\n",
      "2025-07-18 22:39:38.501213: W tensorflow/core/common_runtime/gpu/gpu_device.cc:2211] Cannot dlopen some GPU libraries. Please make sure the missing libraries mentioned above are installed properly if you would like to use GPU. Follow the guide at https://www.tensorflow.org/install/gpu for how to download and setup the required libraries for your platform.\n",
      "Skipping registering GPU devices...\n"
     ]
    }
   ],
   "source": [
    "##import cell makes its appearance once again...\n",
    "%matplotlib inline\n",
    "##so-called \"math\" related imports\n",
    "#from netCDF4 import Dataset as ncread\n",
    "import numpy as np\n",
    "import pandas as pd\n",
    "import math\n",
    "import random\n",
    "from random import seed\n",
    "from random import randint\n",
    "from random import sample\n",
    "from scipy.ndimage import gaussian_filter\n",
    "from sklearn.metrics import brier_score_loss\n",
    "from sklearn.model_selection import TimeSeriesSplit\n",
    "import xarray as xr\n",
    "\n",
    "import pickle\n",
    "\n",
    "import warnings\n",
    "warnings.filterwarnings(\"ignore\")\n",
    "\n",
    "##plotting related imports\n",
    "import matplotlib.pyplot as plt\n",
    "\n",
    "#import tensorflow/keras related files\n",
    "import tensorflow as tf    \n",
    "#tf.compat.v1.disable_v2_behavior() # <-- HERE !\n",
    "\n",
    "tf.device('/physical_device:GPU:0')\n",
    "\n",
    "from tensorflow import keras\n",
    "from tensorflow.keras import layers\n",
    "from tensorflow.keras import Input\n",
    "from tensorflow.keras.models import Model\n",
    "from tensorflow.keras.callbacks import ModelCheckpoint\n",
    "from tensorflow.keras import regularizers\n",
    "import tensorflow.keras.backend as K\n",
    "from tensorflow.keras.utils import to_categorical\n",
    "from tensorflow.keras.layers import Dropout, Activation, Reshape, Flatten, LSTM, Dense, Dropout, Embedding, Bidirectional, GRU\n",
    "from tensorflow.keras import Sequential\n",
    "from tensorflow.keras import initializers, regularizers\n",
    "from tensorflow.keras import optimizers\n",
    "from tensorflow.keras import constraints\n",
    "from tensorflow.keras.layers import Layer, InputSpec\n",
    "\n",
    "import shap\n",
    "import pylab\n",
    "#tf.compat.v1.disable_eager_execution()\n",
    "#import investigate"
   ]
  },
  {
   "cell_type": "code",
   "execution_count": 2,
   "id": "dd954e9b",
   "metadata": {},
   "outputs": [],
   "source": [
    "from StatScores import BSS\n",
    "from StatScores import RAS_two\n",
    "from StatScores import PAS_two"
   ]
  },
  {
   "cell_type": "markdown",
   "id": "6b8befec",
   "metadata": {},
   "source": [
    "### Inputs."
   ]
  },
  {
   "cell_type": "code",
   "execution_count": 3,
   "id": "422f5e67",
   "metadata": {},
   "outputs": [],
   "source": [
    "##load in solvers for PC analysis to get the PCs for the model itself. "
   ]
  },
  {
   "cell_type": "code",
   "execution_count": 4,
   "id": "d2aa2b04",
   "metadata": {},
   "outputs": [
    {
     "data": {
      "text/plain": [
       "(9238, 9)"
      ]
     },
     "execution_count": 4,
     "metadata": {},
     "output_type": "execute_result"
    }
   ],
   "source": [
    "# load input solvers\n",
    "infile = open(\"../../reduced_data/PCs/U_14.p\",\"rb\",)\n",
    "U_PC = pickle.load(infile)  ##pv on an isentropic surface, 350\n",
    "infile.close()\n",
    "\n",
    "infile = open(\"../../reduced_data/PCs/EHF_14.p\",\"rb\",)\n",
    "EHF_PC = pickle.load(infile)  ##ZMehf vertical cross section along longitudes\n",
    "infile.close()\n",
    "\n",
    "infile = open(\"../../reduced_data/PCs/GPH_14.p\",\"rb\",)\n",
    "GPH_PC = pickle.load(infile)  ##ZMehf vertical cross section along longitudes\n",
    "infile.close()\n",
    "\n",
    "##remove PC 1\n",
    "U_PC = U_PC[:, 1:]\n",
    "EHF_PC = EHF_PC[:, 1:]\n",
    "GPH_PC = GPH_PC[:, 1:]\n",
    "\n",
    "U_PC.shape"
   ]
  },
  {
   "cell_type": "code",
   "execution_count": 5,
   "id": "bc36fd76",
   "metadata": {},
   "outputs": [],
   "source": [
    "##create one array of PCs\n",
    "inputvar = np.concatenate((U_PC,EHF_PC,GPH_PC),axis=1) \n",
    "\n",
    "##make pandas dataframe for RF\n",
    "input = pd.DataFrame(inputvar)\n",
    "#input"
   ]
  },
  {
   "cell_type": "code",
   "execution_count": 6,
   "id": "f45cb783",
   "metadata": {},
   "outputs": [],
   "source": [
    "#selected indices\n",
    "#EUROPE\n",
    "#input[[1, 56, 0, 54, 9, 57, 2, 31, 26, 14, 20, 6, 11, 38, 21, 18, 15, 22, 12, 13]]\n",
    "\n",
    "##CANADA\n",
    "#input[[56, 1, 0, 55, 2, 53, 22, 57, 9, 25, 11, 4, 54, 38, 17, 30, 36, 3, 14, 26]]\n",
    "\n",
    "##SE US\n",
    "#input[[56, 1, 54, 18, 53, 3, 0, 10, 5, 19, 21, 14, 2, 57, 13, 60, 22, 26,25, 11]]"
   ]
  },
  {
   "cell_type": "code",
   "execution_count": 7,
   "id": "e3cf1b7a",
   "metadata": {
    "scrolled": true
   },
   "outputs": [],
   "source": [
    "#create pd datafram of selected feature columns.\n",
    "sele_ind_df = input[[1, 56, 0, 54, 9, 57, 2, 31, 26, 14, 20, 6, 11, 38, 21, 18, 15, 22, 12, 13]]\n",
    "\n",
    "n_features = 20"
   ]
  },
  {
   "cell_type": "code",
   "execution_count": 8,
   "id": "b9508edc",
   "metadata": {},
   "outputs": [],
   "source": [
    "#turn input array into (# samples, 14 days, 10 features)\n",
    "sele_ind_data = sele_ind_df.values\n",
    "sele_ind_data1 = sele_ind_data.reshape(62,149,n_features)"
   ]
  },
  {
   "cell_type": "markdown",
   "id": "eaf32272",
   "metadata": {},
   "source": [
    "### Outputs. "
   ]
  },
  {
   "cell_type": "code",
   "execution_count": 9,
   "id": "ff17c8cc",
   "metadata": {},
   "outputs": [
    {
     "data": {
      "text/plain": [
       "(9238,)"
      ]
     },
     "execution_count": 9,
     "metadata": {},
     "output_type": "execute_result"
    }
   ],
   "source": [
    "# load output data\n",
    "infile = open(\"../../reduced_data/temps/eur_14.p\",\"rb\",)\n",
    "output = pickle.load(infile) \n",
    "infile.close()\n",
    "\n",
    "output.shape"
   ]
  },
  {
   "cell_type": "code",
   "execution_count": 10,
   "id": "4b8d1669",
   "metadata": {},
   "outputs": [],
   "source": [
    "# load climo data\n",
    "infile = open(\"../../reduced_data/climo/eur_climo14.p\",\"rb\",)\n",
    "climo = pickle.load(infile) \n",
    "infile.close()"
   ]
  },
  {
   "cell_type": "code",
   "execution_count": 11,
   "id": "ac5bd80a",
   "metadata": {},
   "outputs": [
    {
     "name": "stdout",
     "output_type": "stream",
     "text": [
      "input:  (62, 149, 20)\n",
      "climo:  (62, 135, 2)\n",
      "output:  (62, 135)\n"
     ]
    }
   ],
   "source": [
    "##need to change this based on lag \n",
    "## 14-days = [:, 10:] 10 day window rather than 14\n",
    "## 20-days = [:, 16:]\n",
    "## 30-days = [:, 26:]\n",
    "\n",
    "# 139\n",
    "# 133\n",
    "# 123\n",
    "\n",
    "## 14-days = [:, 14:] 14 day window\n",
    "## 20-days = [:, 20:]\n",
    "## 30-days = [:, 30:]\n",
    "\n",
    "# 135\n",
    "# 129\n",
    "# 119\n",
    "\n",
    "lead = 135\n",
    "\n",
    "temp = output.reshape(62, 149)\n",
    "temp = temp[:, 14:]\n",
    "\n",
    "climo = climo.reshape(62, 149,2)\n",
    "climo = climo[:, 14:, :]\n",
    "#climo = climo.reshape(8370,2)\n",
    "\n",
    "print(\"input: \",sele_ind_data1.shape)\n",
    "print(\"climo: \",climo.shape)\n",
    "print(\"output: \",temp.shape)"
   ]
  },
  {
   "cell_type": "code",
   "execution_count": 12,
   "id": "bd4d691b",
   "metadata": {},
   "outputs": [],
   "source": [
    "#create timeseries data arrays for PCs \n",
    "#was 122 and 14 for the 14 day window. \n",
    "\n",
    "new_input =  np.empty((62,lead,14,n_features))\n",
    "new_output = np.empty((62,lead))\n",
    "new_climo = np.empty((62,lead,2))\n",
    "\n",
    "for i in range(0,62):\n",
    "    for j in range(0,lead):\n",
    "        new_input[i,j,:,:] = sele_ind_data1[i,j:j+14,:]\n",
    "        new_output[i,j] = temp[i,j]\n",
    "        new_climo[i,j] = climo[i,j,:]"
   ]
  },
  {
   "cell_type": "code",
   "execution_count": 13,
   "id": "108483d3",
   "metadata": {},
   "outputs": [
    {
     "name": "stdout",
     "output_type": "stream",
     "text": [
      "input:  (62, 135, 14, 20)\n",
      "climo:  (8370, 2)\n",
      "output:  (62, 135)\n"
     ]
    }
   ],
   "source": [
    "new_input = np.array(new_input)\n",
    "new_climo = np.array(new_climo.reshape(62*lead,2))\n",
    "new_output = np.array(new_output)\n",
    "\n",
    "print(\"input: \",new_input.shape)\n",
    "print(\"climo: \",new_climo.shape)\n",
    "print(\"output: \",new_output.shape)"
   ]
  },
  {
   "cell_type": "code",
   "execution_count": 14,
   "id": "87856c5b",
   "metadata": {},
   "outputs": [
    {
     "name": "stdout",
     "output_type": "stream",
     "text": [
      "testing and validation size:  1350\n",
      "training size:  7020\n"
     ]
    }
   ],
   "source": [
    "frac_ind = round((10*lead))\n",
    "frac_end = round((62*lead)-frac_ind)\n",
    "\n",
    "print(\"testing and validation size: \",frac_ind)\n",
    "print(\"training size: \",frac_end)"
   ]
  },
  {
   "cell_type": "code",
   "execution_count": 15,
   "id": "f68a7541",
   "metadata": {},
   "outputs": [
    {
     "name": "stdout",
     "output_type": "stream",
     "text": [
      "(8370, 2)\n"
     ]
    }
   ],
   "source": [
    "##Set X_all and Y_all datasets\n",
    "X_all = np.copy(new_input.reshape((62*lead),14,n_features))\n",
    "Y_all = np.copy(new_output.flatten())\n",
    "\n",
    "##training data partition out\n",
    "X_tri = X_all[:frac_end,:]\n",
    "Y_tri = Y_all[:frac_end]\n",
    "\n",
    "#testing data partition out\n",
    "X_tes = X_all[frac_end:,:]\n",
    "Y_tes = Y_all[frac_end:]\n",
    "\n",
    "#Convert the Y array into a categorical array. This means we will create one-hot vector labels for all of the inputs.\n",
    "# The one-hot vectors have an index for each possible output category (two in our case)\n",
    "# A \"1\" is put in the index corresponding to the category to which the sample belongs\n",
    "Y_all = keras.utils.to_categorical(Y_all)\n",
    "Y_tri = keras.utils.to_categorical(Y_tri)\n",
    "Y_tes= keras.utils.to_categorical(Y_tes)\n",
    "\n",
    "print(Y_all.shape)"
   ]
  },
  {
   "cell_type": "code",
   "execution_count": 16,
   "id": "81333137",
   "metadata": {},
   "outputs": [],
   "source": [
    "##checking my data for NaN of Infs because I need to make sure this doesn't cause\n",
    "#the model to throw back no loss\n",
    "\n",
    "if np.any(np.isnan(X_all)) or np.any(np.isinf(X_all)):\n",
    "    print(\"NaN or Inf values found in X_all!\")\n",
    "\n",
    "if np.any(np.isnan(Y_all)) or np.any(np.isinf(Y_all)):\n",
    "    print(\"NaN or Inf values found in Y_all!\")"
   ]
  },
  {
   "cell_type": "markdown",
   "id": "bad7e8ab",
   "metadata": {},
   "source": [
    "### Begin establishing specifics of model."
   ]
  },
  {
   "cell_type": "code",
   "execution_count": 17,
   "id": "2f7d5d51",
   "metadata": {},
   "outputs": [
    {
     "name": "stdout",
     "output_type": "stream",
     "text": [
      "shape of lstm input:  (14, 20)\n"
     ]
    }
   ],
   "source": [
    "##number of input nodes\n",
    "numb_int = X_all.shape[1:]\n",
    "#this defines the 2-d shape used by the lstm model.\n",
    "print(\"shape of lstm input: \",numb_int)"
   ]
  },
  {
   "cell_type": "code",
   "execution_count": 18,
   "id": "caf043ec",
   "metadata": {},
   "outputs": [],
   "source": [
    "########\n",
    "#CHANGE BASED ON NUMBER OF FOLDS FOR TIMESERIES SPLIT\n",
    "\n",
    "repeat = 2\n",
    "split = 7\n",
    "\n",
    "#n = repeat*split\n",
    "n = 100"
   ]
  },
  {
   "cell_type": "code",
   "execution_count": 19,
   "id": "3fc1600e",
   "metadata": {},
   "outputs": [],
   "source": [
    "##class weight creator for the instance where now I have a four dimensional output array \n",
    "def class_weight_creator(Y):\n",
    "    class_dict = {}\n",
    "    Y_reshaped = Y.reshape(-1, Y.shape[-1])\n",
    "    weights = np.max(np.sum(Y_reshaped, axis=0)) / np.sum(Y_reshaped, axis=0)\n",
    "    for i in range(Y.shape[-1] ):\n",
    "        class_dict[i] = weights[i]\n",
    "        \n",
    "    return class_dict"
   ]
  },
  {
   "cell_type": "code",
   "execution_count": 20,
   "id": "ee9b7182",
   "metadata": {},
   "outputs": [],
   "source": [
    "##definition statement for ACC\n",
    "def calculate_accuracy(y_true, y_prob, threshold=0.5):\n",
    "    y_pred = (y_prob >= threshold).astype(int)\n",
    "    return np.mean(y_true == y_pred)"
   ]
  },
  {
   "cell_type": "code",
   "execution_count": 21,
   "id": "387685d8",
   "metadata": {
    "jupyter": {
     "source_hidden": true
    }
   },
   "outputs": [],
   "source": [
    "##Loss and ACC lists, only relevant w/o early stopping\n",
    "train_loss = []\n",
    "val_loss = []\n",
    "cat_acc = []\n",
    "val_acc = [] \n",
    "\n",
    "##BSS Arrays, all of the skill scores have 200 rows\n",
    "#because that is how many cross-validations I will do for the model\n",
    "BSS_all= np.empty((n,))\n",
    "BSS_val= np.empty((n,))\n",
    "BSS_train= np.empty((n,))\n",
    "BSS_test= np.empty((n,))\n",
    "BSS_90= np.empty((n,))\n",
    "\n",
    "BSS_avg= np.empty((n,))\n",
    "BSS_30= np.empty((n,))\n",
    "BSS_70= np.empty((n,))\n",
    "\n",
    "##RAS and PAS Arrays\n",
    "Prec_all= np.empty((n,2))\n",
    "Rec_all= np.empty((n,2))\n",
    "\n",
    "Prec_val= np.empty((n,2))\n",
    "Rec_val= np.empty((n,2))\n",
    "\n",
    "Prec_train= np.empty((n,2))\n",
    "Rec_train= np.empty((n,2))\n",
    "\n",
    "Prec_test= np.empty((n,2))\n",
    "Rec_test= np.empty((n,2))\n",
    "\n",
    "##FOR SHAP\n",
    "cat_shaps = np.empty((n,2,20))\n",
    "class0_agg = np.empty((n,300,20))\n",
    "class1_agg = np.empty((n,300,20))\n",
    "shap_out = np.empty((n,2,300,14,20))"
   ]
  },
  {
   "cell_type": "code",
   "execution_count": 22,
   "id": "b7edcc00",
   "metadata": {
    "jupyter": {
     "source_hidden": true
    }
   },
   "outputs": [],
   "source": [
    "##empty lists for ACC scores \n",
    "##Testing Accuracy Arrays\n",
    "fulltest_acc = []\n",
    "test90_acc = []\n",
    "\n",
    "##Training Accuracy Arrays\n",
    "fulltrain_acc = []\n",
    "train90_acc = []\n",
    "\n",
    "##Validation Accuracy Arrays\n",
    "fullval_acc = []\n",
    "val90_acc = []"
   ]
  },
  {
   "cell_type": "code",
   "execution_count": 23,
   "id": "1c6a4675",
   "metadata": {
    "jupyter": {
     "source_hidden": true
    }
   },
   "outputs": [],
   "source": [
    "##probabilities\n",
    "p_test = []\n",
    "p_train = []\n",
    "p_val = []\n",
    "\n",
    "p_mid = []\n",
    "p_90 = []\n",
    "p_30 = []\n",
    "p_70 = []\n",
    "\n",
    "##correct positive\n",
    "posXtest = []\n",
    "#false positive\n",
    "FposXtest = []\n",
    "#correct negative\n",
    "negXtest = []\n",
    "#false negative\n",
    "FnegXtest = []\n",
    "\n",
    "index90 = []\n",
    "indexmin = []\n",
    "indexmid = []\n",
    "indexmax = []\n",
    "\n",
    "##correct positive\n",
    "percpos = []\n",
    "#false positive\n",
    "percFpos = []\n",
    "#correct negative\n",
    "percneg = []\n",
    "#false negative\n",
    "percFneg = []"
   ]
  },
  {
   "cell_type": "markdown",
   "id": "239b1bfc",
   "metadata": {},
   "source": [
    "### Model Architecture. "
   ]
  },
  {
   "cell_type": "code",
   "execution_count": 24,
   "id": "8f372744",
   "metadata": {},
   "outputs": [],
   "source": [
    "######\n",
    "batch_size = 64\n",
    "epochs = 20\n",
    "shuffle = True\n",
    "verbose = 0 #0 returns no apoch info, 2 does"
   ]
  },
  {
   "cell_type": "code",
   "execution_count": 25,
   "id": "76d68619",
   "metadata": {
    "jupyter": {
     "source_hidden": true
    }
   },
   "outputs": [],
   "source": [
    "#DEFINITION OF MODEL ITSELF\n",
    "def basic_LSTM(ntimestep, nfeature, n1, n2, n3, rl1, rl3, lr):  \n",
    "    input_tensor = Input(shape=(ntimestep, nfeature))\n",
    "    \n",
    "    layer1 = layers.RNN(\n",
    "        layers.LSTMCell(n1, activation='tanh', use_bias=True,\n",
    "                          kernel_initializer='glorot_uniform',\n",
    "                          kernel_regularizer=keras.regularizers.l2(l2= rl1)),\n",
    "        return_sequences=False)(input_tensor)\n",
    "    #layer1, alfa = AttentionWithContext()(layer1)\n",
    "    #layer1 = Addition()(layer1)\n",
    "    \n",
    "    #layer2 = layers.RNN(\n",
    "        #layers.LSTMCell(n2, activation='tanh', use_bias=True,\n",
    "                          #kernel_initializer='glorot_uniform',\n",
    "                          #kernel_regularizer=keras.regularizers.l2(l2= rl1)))(layer1)\n",
    "    \n",
    "    layer3 = layers.Dense(n3, activation='relu',use_bias=True,\n",
    "                          kernel_initializer='he_normal',bias_initializer='he_normal',\n",
    "                          kernel_regularizer=keras.regularizers.l2(l2=rl3))(layer1)\n",
    "\n",
    "    output_tensor = layers.Dense(2, activation='softmax',)(layer3)\n",
    "\n",
    "    model = Model(input_tensor, output_tensor)\n",
    "    opt = tf.keras.optimizers.legacy.Adam(learning_rate=lr)\n",
    "    #decay_rate = lr / epochs\n",
    "    #momentum = 0.9\n",
    "\n",
    "    model.compile(optimizer=opt,loss='categorical_crossentropy',metrics=[keras.metrics.categorical_accuracy],)\n",
    "                            \n",
    "    return model"
   ]
  },
  {
   "cell_type": "code",
   "execution_count": 26,
   "id": "0922672b",
   "metadata": {},
   "outputs": [],
   "source": [
    "##Early Stopping Condition, if desired\n",
    "from tensorflow.keras.callbacks import EarlyStopping\n",
    "\n",
    "early_stopping = EarlyStopping(monitor='val_loss',patience=3,restore_best_weights=True,verbose=1)"
   ]
  },
  {
   "cell_type": "code",
   "execution_count": null,
   "id": "abb602ae",
   "metadata": {
    "scrolled": true
   },
   "outputs": [
    {
     "name": "stdout",
     "output_type": "stream",
     "text": [
      "#######################################\n",
      "CV  0\n",
      "Restoring model weights from the end of the best epoch: 10.\n",
      "Epoch 13: early stopping\n",
      "262/262 [==============================] - 1s 2ms/step\n",
      "43/43 [==============================] - 0s 2ms/step\n",
      "178/178 [==============================] - 0s 2ms/step\n",
      "43/43 [==============================] - 0s 2ms/step\n",
      "#######################################\n",
      "CV  1\n",
      "Restoring model weights from the end of the best epoch: 11.\n",
      "Epoch 14: early stopping\n",
      "262/262 [==============================] - 0s 2ms/step\n",
      "43/43 [==============================] - 0s 2ms/step\n",
      "178/178 [==============================] - 0s 2ms/step\n",
      "43/43 [==============================] - 0s 2ms/step\n",
      "#######################################\n",
      "CV  2\n",
      "Restoring model weights from the end of the best epoch: 12.\n",
      "Epoch 15: early stopping\n",
      "262/262 [==============================] - 0s 2ms/step\n",
      "43/43 [==============================] - 0s 2ms/step\n",
      "178/178 [==============================] - 0s 2ms/step\n",
      "43/43 [==============================] - 0s 2ms/step\n"
     ]
    }
   ],
   "source": [
    "## create loop for cross validation\n",
    "for l in range(0,n):\n",
    "    print(\"#######################################\")\n",
    "    print(\"CV \",l)\n",
    "    tf.keras.backend.clear_session()\n",
    "    ##randomly choose a fraction of events for validation and training\n",
    "    start = random.randrange(len(X_tri[:,0])-frac_ind)\n",
    "    end = start+(frac_ind)\n",
    "\n",
    "    #choose random 15% window of training data to be used for validation\n",
    "    X_val = X_tri[start:end]\n",
    "    Y_val = Y_tri[start:end]\n",
    "\n",
    "    #remaining training data\n",
    "    X_train1 = X_tri[0:start]\n",
    "    Y_train1 = Y_tri[0:start]\n",
    "    X_train2 = X_tri[end:]\n",
    "    Y_train2 = Y_tri[end:]\n",
    "    ##concatenate all of these\n",
    "    X_tr = np.concatenate((X_train1,X_train2))\n",
    "    Y_tr = np.concatenate((Y_train1,Y_train2))\n",
    "    \n",
    "    ##calculate class weights on remaining training data\n",
    "    #class_weight = class_weight_creator(Y_tr)\n",
    "    class_weight = {0 : 1.0, 1 : 1.79}\n",
    "    \n",
    "    \n",
    "    ##same partitioning for climo data\n",
    "    climo_train1 = new_climo[0:start,:]\n",
    "    climo_train2 = new_climo[end:frac_end,:]\n",
    "    \n",
    "    climo_train = np.concatenate((climo_train1,climo_train2))\n",
    "    \n",
    "    ##pause, calculate climo probabilities\n",
    "    climo_val = new_climo[start:end,:]\n",
    "    climo_test = new_climo[frac_end:,:]\n",
    "    \n",
    "    #initalize model\n",
    "    model = basic_LSTM(numb_int[0],numb_int[1], 64, 16, 16, 0.3, 0.2, 0.0006466)\n",
    "\n",
    "    model.fit(X_tr, Y_tr, validation_data=(X_val, Y_val),\n",
    "              batch_size=batch_size, epochs=epochs, shuffle=shuffle,\n",
    "              class_weight = class_weight, verbose=verbose, callbacks=[early_stopping])\n",
    "    \n",
    "    train_loss.append(model.history.history['loss'])\n",
    "    val_loss.append(model.history.history['val_loss'])\n",
    "    \n",
    "    cat_acc.append(model.history.history['categorical_accuracy'])\n",
    "    val_acc.append(model.history.history['val_categorical_accuracy'])\n",
    "    \n",
    "    pred = model.predict(X_all)\n",
    "    pred_val = model.predict(X_val)\n",
    "    pred_train = model.predict(X_tr)\n",
    "    pred_test = model.predict(X_tes)\n",
    "    \n",
    "    p_train.extend(pred_train)\n",
    "    p_val.extend(pred_val)\n",
    "    p_test.extend(pred_test)\n",
    "    ########################################################################################################\n",
    "    ##STATISTICS CALCULATINNG\n",
    "    pred_class = []\n",
    "    predval_class = []\n",
    "    predtr_class = []\n",
    "    predtest_class = []\n",
    "    \n",
    "    ##BRIER SKILL SCORE\n",
    "    BSS_all[l] = BSS(Y_all,pred)\n",
    "    BSS_val[l] = BSS(Y_val,pred_val)\n",
    "    BSS_train[l] = BSS(Y_tr,pred_train)\n",
    "    BSS_test[l] = BSS(Y_tes,pred_test) \n",
    "    \n",
    "    ##RECALL ACCURACY SCORE    \n",
    "    RAS_two(l, Rec_all, new_climo, Y_all, pred, pred_class,\n",
    "            climo_val, Rec_val, Y_val, pred_val, predval_class,\n",
    "            climo_train, Rec_train, Y_tr, pred_train, predtr_class,\n",
    "            climo_test, Rec_test, Y_tes, pred_test, predtest_class)\n",
    "    ##PRECISION ACCURACY SCORE     \n",
    "    PAS_two(l, Prec_all, new_climo, Y_all, pred, pred_class,\n",
    "            climo_val, Prec_val, Y_val, pred_val, predval_class,\n",
    "            climo_train, Prec_train, Y_tr, pred_train, predtr_class,\n",
    "            climo_test, Prec_test, Y_tes, pred_test, predtest_class)\n",
    "    ########################################################################################################\n",
    "    ##ACC\n",
    "    ##TESTING\n",
    "    q90 = np.percentile(pred_test,90,axis=0) ##90th percentile of test\n",
    "    ##90th percentile acc\n",
    "    great90 = [i for i, row in enumerate(pred_test) if (row[0] > q90[0]) or (row[1] > q90[1])]\n",
    "    # Create the arrays of probabilities and actual values that exceed the 90th percentile\n",
    "    test90 = pred_test[great90]\n",
    "    test90_norm = Y_tes[great90]\n",
    "    test90_acc.append(calculate_accuracy(test90_norm, test90, threshold=0.5))\n",
    "    ##full model\n",
    "    fulltest_acc.append(calculate_accuracy(Y_tes, pred_test, threshold=0.5))\n",
    "    ##Greater than 90 BSS\n",
    "    climo_90 = climo_test[great90]\n",
    "    \n",
    "    BSS_90[l] = BSS(test90_norm,test90)\n",
    "    p_90.extend(test90)\n",
    "    \n",
    "    ##classify the accuracy of predicitons\n",
    "    correct_pos = [] #correct positive anomaly\n",
    "    correct_neg = [] #correct negative anomaly\n",
    "    \n",
    "    false_pos = [] #false positive\n",
    "    false_neg = [] #false negative\n",
    "\n",
    "    for j in range(len(great90)):\n",
    "        #print(j)\n",
    "        #print(great90[j])\n",
    "        index = great90[j]\n",
    "        if pred_test[index,0] < pred_test[index,1] and Y_tes[index,0] == 0:\n",
    "            correct_pos.append(index)\n",
    "            #print('###########')\n",
    "        elif pred_test[index,0] > pred_test[index,1] and Y_tes[index,0] == 1:\n",
    "            correct_neg.append(index)\n",
    "            #print('###########')\n",
    "        elif pred_test[index,0] < pred_test[index,1] and Y_tes[index,0] == 1:\n",
    "            false_neg.append(index)\n",
    "            #print('###########')\n",
    "        elif pred_test[index,0] > pred_test[index,1] and Y_tes[index,0] == 0:\n",
    "            false_pos.append(index)\n",
    "            #print('###########')\n",
    "\n",
    "    ##correct positive\n",
    "    posXtest.extend(correct_pos)\n",
    "    #false positive\n",
    "    FposXtest.extend(false_pos)\n",
    "    #correct negative\n",
    "    negXtest.extend(correct_neg)\n",
    "    #false negative\n",
    "    FnegXtest.extend(false_neg)\n",
    "    \n",
    "    percpos.append(len(correct_pos)/len(great90))\n",
    "    #false positive\n",
    "    percFpos.append(len(false_pos)/len(great90))\n",
    "    #correct negative\n",
    "    percneg.append(len(correct_neg)/len(great90))\n",
    "    #false negative\n",
    "    percFneg.append(len(false_neg)/len(great90))\n",
    "\n",
    "\n",
    "    ##############################3\n",
    "    \n",
    "    #AVERAGE QUANT\n",
    "    qmin = np.min(pred_test,axis=0)\n",
    "    q30 = np.percentile(pred_test,30,axis=0) ##30th percentile of test\n",
    "    q70 = np.percentile(pred_test,70,axis=0) ##70th percentile of test\n",
    "    qmax = np.max(pred_test,axis=0)\n",
    "    \n",
    "    ##mid percentile acc\n",
    "    mid = [i for i, row in enumerate(pred_test) if (row[0] >= q30[0] and row[0] <= q70[0] ) or (row[1] >= q30[1] and row[1] <= q70[1])]\n",
    "    # Create the arrays of probabilities and actual values that exceed the 90th percentile\n",
    "    test_mid = pred_test[mid]\n",
    "    test_mid_norm = Y_tes[mid]\n",
    "    \n",
    "    BSS_avg[l] = BSS(test_mid_norm,test_mid)\n",
    "    p_mid.extend(test_mid)\n",
    "    \n",
    "    #0-30\n",
    "    minimum = [i for i, row in enumerate(pred_test) if (row[0] >= qmin[0] and row[0] < q30[0] ) or (row[1] >= qmin[1] and row[1] < q30[1])]\n",
    "    # Create the arrays of probabilities and actual values that exceed the 90th percentile\n",
    "    test_minimum = pred_test[minimum]\n",
    "    test_minimum_norm = Y_tes[minimum]\n",
    "    \n",
    "    BSS_30[l] = BSS(test_minimum_norm,test_minimum)\n",
    "    p_30.extend(test_minimum)\n",
    "    \n",
    "    #70-100\n",
    "    maximum = [i for i, row in enumerate(pred_test) if (row[0] > q70[0] and row[0] <= qmax[0] ) or (row[1] > q70[1] and row[1] <= qmax[1])]\n",
    "    # Create the arrays of probabilities and actual values that exceed the 90th percentile\n",
    "    test_maximum = pred_test[maximum]\n",
    "    test_maximum_norm = Y_tes[maximum]\n",
    "    \n",
    "    BSS_70[l] = BSS(test_maximum_norm,test_maximum)\n",
    "    p_70.extend(test_maximum)\n",
    "    \n",
    "    ####_______SAVE INDICES _______\n",
    "    index90.extend(great90)\n",
    "    indexmin.extend(minimum)\n",
    "    indexmid.extend(mid)\n",
    "    indexmax.extend(maximum)\n",
    "    ##############################\n",
    "    ####_________________SHAP_________________\n",
    "    #use gradient explainer on subset of training data\n",
    "    sample = X_tr[start:end]\n",
    "    explainer = shap.GradientExplainer(model, sample)\n",
    "    #use explainer\n",
    "    shap_values = explainer.shap_values(X_tr[:300])\n",
    "\n",
    "    shap_values = np.array(shap_values)\n",
    "    shap_out[l,:,:,:,:] = shap_values\n",
    "    aggs = np.abs(shap_values) ##aggregate over the samples to make all positive\n",
    "    #take mean along sample dimension\n",
    "    aggs = aggs.mean(axis=1)\n",
    "    feat_cat = aggs.mean(axis=1) ##take mean along timestep axis\n",
    "    cat_shaps[l,:,:] = feat_cat[:,:] ##APPEND TO BIG ARRAY. \n",
    "\n",
    "    #stuff for creating beeswarm plots\n",
    "    shap_class1_agg = np.mean(shap_values[1], axis=1)  #pos class agg shap values (samples, features)\n",
    "    shap_class0_agg = np.mean(shap_values[0], axis=1)  #neg class agg shap values (samples, features)\n",
    "\n",
    "    class0_agg[l,:,:] = shap_class0_agg[:,:]\n",
    "    class1_agg[l,:,:] = shap_class1_agg[:,:]\n"
   ]
  },
  {
   "cell_type": "code",
   "execution_count": null,
   "id": "33ac2e6b",
   "metadata": {},
   "outputs": [],
   "source": [
    "##correct positive\n",
    "posXtest = np.array(posXtest)\n",
    "#false positive\n",
    "FposXtest = np.array(FposXtest)\n",
    "#correct negative\n",
    "negXtest = np.array(negXtest)\n",
    "#false negative\n",
    "FnegXtest = np.array(FnegXtest)\n",
    "\n",
    "print(f'Average Num. of 10% Confident and Correct Postive Predictions: {np.mean(percpos)* 100:.2f}%')\n",
    "print(f'Average Num. of 10% Confident and Correct Negative Predictions: {np.mean(percneg)* 100:.2f}%')\n",
    "print(f'Average Num. of 10% Confident and FALSE Postive Predictions: {np.mean(percFpos)* 100:.2f}%')\n",
    "print(f'Average Num. of 10% Confident and FALSE Negative Predictions: {np.mean(percFneg)* 100:.2f}%')\n",
    "print('#######################################################################')\n",
    "print(f'Average Num. of 10% Confident and Correct Predictions: {np.mean(percpos)* 100 + np.mean(percneg)* 100:.2f}%')\n",
    "print(f'Average Num. of 10% Confident and FALSE Predictions: {np.mean(percFpos)* 100 +np.mean(percFneg)* 100:.2f}%')"
   ]
  },
  {
   "cell_type": "code",
   "execution_count": null,
   "id": "f95ec019",
   "metadata": {},
   "outputs": [],
   "source": [
    "####now I wanna make these plots SO ... I am adding an index column on to X_test ... full version. \n",
    "ranges = np.array([x for x in range(0,lead*10,1)])\n",
    "ranges = ranges.reshape(10,lead) \n",
    "ranges.shape"
   ]
  },
  {
   "cell_type": "code",
   "execution_count": null,
   "id": "b182b50e",
   "metadata": {},
   "outputs": [],
   "source": [
    "##export out files to make the next few plots w/o normalization\n",
    "pickle.dump(ranges, open(\"range_indices_RF14.p\", 'wb'))\n",
    "pickle.dump(posXtest, open(\"posXtest_RF14.p\", 'wb'))\n",
    "pickle.dump(FposXtest, open(\"FposXtest_RF14.p\", 'wb'))\n",
    "pickle.dump(negXtest, open(\"negXtest_RF14.p\", 'wb'))\n",
    "pickle.dump(FnegXtest, open(\"FnegXtest_RF14.p\", 'wb'))"
   ]
  },
  {
   "cell_type": "raw",
   "id": "ccb20f98",
   "metadata": {
    "jupyter": {
     "outputs_hidden": true,
     "source_hidden": true
    }
   },
   "source": [
    "bins = np.linspace(-0.3, 0.3,13)\n",
    "counts, edges, = np.histogram(BSS_90[:], bins=bins)\n",
    "\n",
    "fig, (ax1) = plt.subplots(1,1, figsize=(9,7))\n",
    "\n",
    "ax1.bar(edges[:-1], counts, width=np.diff(edges), \n",
    "        edgecolor='black', alpha=0.5, align='edge', color='lightblue')\n",
    "ax1.set_xlabel('BSS of 90th Percentile',fontsize =13)\n",
    "ax1.set_ylabel('Number of Models',fontsize =13)\n",
    "plt.tick_params(labelsize = 12)\n",
    "ax1.set_title('BSS for 90th Percentile Predictions of Testing Data in 100 CVs',fontsize =15)\n",
    "#plt.savefig(\"BSS90_eur14.png\")"
   ]
  },
  {
   "cell_type": "raw",
   "id": "f944b9e2",
   "metadata": {
    "jupyter": {
     "outputs_hidden": true,
     "source_hidden": true
    }
   },
   "source": [
    "bins = np.linspace(-0.3, 0.3,13)\n",
    "fs = 11\n",
    "\n",
    "counts1, edges1, = np.histogram(BSS_30[:], bins=bins)\n",
    "counts2, edges2, = np.histogram(BSS_avg[:], bins=bins)\n",
    "counts3, edges3, = np.histogram(BSS_70[:], bins=bins)\n",
    "\n",
    "fig, (ax1,ax2,ax3) = plt.subplots(1,3, figsize=(14,4))\n",
    "\n",
    "ax1.bar(edges1[:-1], counts1, width=np.diff(edges1), \n",
    "        edgecolor='black', alpha=0.5, align='edge', color='lightblue')\n",
    "ax1.set_xlabel('BSS 0-30th Percentiles', fontsize=fs+1)\n",
    "ax1.set_ylabel('Number of Models', fontsize=fs+1)\n",
    "\n",
    "ax2.bar(edges2[:-1], counts2, width=np.diff(edges2), \n",
    "        edgecolor='black', alpha=0.5, align='edge', color='lightblue')\n",
    "ax2.set_xlabel('BSS Middle Percentiles', fontsize=fs+1)\n",
    "#ax2.set_ylabel('Number of Models', fontsize=fs+1)\n",
    "\n",
    "ax3.bar(edges3[:-1], counts3, width=np.diff(edges3), \n",
    "        edgecolor='black', alpha=0.5, align='edge', color='lightblue')\n",
    "ax3.set_xlabel('BSS 70-100th Percentiles', fontsize=fs+1)\n",
    "#ax3.set_ylabel('Number of Models', fontsize=fs+1)\n",
    "\n",
    "plt.suptitle('BSS of Predictions in Various Percentiles of Testing Data in 100 CVs for Predicting +14 day European Temp Anomalies', fontsize=fs+3, x=0.525,y=0.95)\n",
    "#plt.savefig(\"BSSpercentile_eur14.png\")"
   ]
  },
  {
   "cell_type": "raw",
   "id": "dfa319ab",
   "metadata": {
    "jupyter": {
     "outputs_hidden": true,
     "source_hidden": true
    }
   },
   "source": [
    "bins = np.linspace(-0.3, 0.3,13)\n",
    "fs = 11\n",
    "\n",
    "counts1, edges1, = np.histogram(BSS_train[:], bins=bins)\n",
    "counts2, edges2, = np.histogram(BSS_val[:], bins=bins)\n",
    "counts3, edges3, = np.histogram(BSS_test[:], bins=bins)\n",
    "\n",
    "fig, (ax1,ax2,ax3) = plt.subplots(1,3, figsize=(14,4))\n",
    "\n",
    "ax1.bar(edges1[:-1], counts1, width=np.diff(edges1), \n",
    "        edgecolor='black', alpha=0.5, align='edge', color='lightblue')\n",
    "ax1.set_xlabel('BSS Training Data', fontsize=fs+1)\n",
    "ax1.set_ylabel('Number of Models', fontsize=fs+1)\n",
    "\n",
    "ax2.bar(edges2[:-1], counts2, width=np.diff(edges2), \n",
    "        edgecolor='black', alpha=0.5, align='edge', color='lightblue')\n",
    "ax2.set_xlabel('BSS Validation Data', fontsize=fs+1)\n",
    "#ax2.set_ylabel('Number of Models', fontsize=fs+1)\n",
    "\n",
    "ax3.bar(edges3[:-1], counts3, width=np.diff(edges3), \n",
    "        edgecolor='black', alpha=0.5, align='edge', color='lightblue')\n",
    "ax3.set_xlabel('BSS Testing Data', fontsize=fs+1)\n",
    "#ax3.set_ylabel('Number of Models', fontsize=fs+1)\n",
    "\n",
    "plt.suptitle('BSS of Predictions Across All Datasets in 100 CVs for Predicting +14 day European Temp Anomalies', fontsize=fs+3, x=0.525,y=0.95)\n",
    "#plt.savefig(\"BSSdatasets_eur14.png\")"
   ]
  },
  {
   "cell_type": "code",
   "execution_count": null,
   "id": "099b0f42",
   "metadata": {},
   "outputs": [],
   "source": [
    "len(p_train)"
   ]
  },
  {
   "cell_type": "code",
   "execution_count": null,
   "id": "794102b6",
   "metadata": {
    "jupyter": {
     "source_hidden": true
    }
   },
   "outputs": [],
   "source": [
    "p_test = np.array(p_test)\n",
    "p_test = p_test.reshape(((len(p_test),2)))\n",
    "\n",
    "p_train = np.array(p_train)\n",
    "p_train = p_train.reshape(((len(p_train),2)))\n",
    "\n",
    "p_val= np.array(p_val)\n",
    "p_val = p_val.reshape(((len(p_val),2)))\n",
    "\n",
    "p_mid= np.array(p_mid)\n",
    "p_mid = p_mid.reshape(((len(p_mid),2)))\n",
    "\n",
    "p_30= np.array(p_30)\n",
    "p_30 = p_30.reshape(((len(p_30),2)))\n",
    "\n",
    "p_70= np.array(p_70)\n",
    "p_70 = p_70.reshape(((len(p_70),2)))"
   ]
  },
  {
   "cell_type": "code",
   "execution_count": null,
   "id": "589a0fa1",
   "metadata": {
    "jupyter": {
     "source_hidden": true
    }
   },
   "outputs": [],
   "source": [
    "bins = np.linspace(0, 1, 37)  #10 bins from 0.4 to 1\n",
    "fs = 11\n",
    "##bin the probabilities\n",
    "counts_neg_train, edges_neg_train = np.histogram(p_train[:,0], bins=bins)\n",
    "counts_pos_train, edges_pos_train = np.histogram(p_train[:,1], bins=bins)\n",
    "\n",
    "counts_neg_val, edges_neg_val = np.histogram(p_val[:,0], bins=bins)\n",
    "counts_pos_val, edges_pos_val = np.histogram(p_val[:,1], bins=bins)\n",
    "\n",
    "counts_neg_test, edges_neg_test = np.histogram(p_test[:,0], bins=bins)\n",
    "counts_pos_test, edges_pos_test = np.histogram(p_test[:,1], bins=bins)\n",
    "\n",
    "\n",
    "fig, axes = plt.subplots(3, 2, figsize=(11,11))\n",
    "ax1, ax2, ax3, ax4, ax5, ax6 = axes.flatten()\n",
    "\n",
    "ax1.bar(edges_neg_train[:-1], counts_neg_train, width=np.diff(edges_neg_train), \n",
    "        edgecolor='black', alpha=0.5, align='edge', color='blue')\n",
    "ax1.set_title('Negative', fontsize=fs+2)\n",
    "ax1.set_xlabel('Probability in Training Data', fontsize=fs+1)\n",
    "ax1.set_ylabel('Count', fontsize=fs+1)\n",
    "\n",
    "ax2.bar(edges_pos_train[:-1], counts_pos_train, width=np.diff(edges_pos_train), \n",
    "        edgecolor='black', alpha=0.5, align='edge', color='orange')\n",
    "ax2.set_title('Positive', fontsize=fs+2)\n",
    "ax2.set_xlabel('Probability in Training Data', fontsize=fs+1)\n",
    "#ax2.set_ylabel('Count')\n",
    "\n",
    "ax3.bar(edges_neg_val[:-1], counts_neg_val, width=np.diff(edges_neg_val), \n",
    "        edgecolor='black', alpha=0.5, align='edge', color='blue')\n",
    "#ax3.set_title('Negative Validation Predictions', fontsize=fs)\n",
    "ax3.set_xlabel('Probability in Validation Data', fontsize=fs+1)\n",
    "ax3.set_ylabel('Count', fontsize=fs+1)\n",
    "\n",
    "ax4.bar(edges_pos_val[:-1], counts_pos_val, width=np.diff(edges_pos_val), \n",
    "        edgecolor='black', alpha=0.5, align='edge', color='orange')\n",
    "#ax4.set_title('Positive Validation Predictions', fontsize=fs)\n",
    "ax4.set_xlabel('Probability in Validation Data', fontsize=fs+1)\n",
    "#ax4.set_ylabel('Count')\n",
    "\n",
    "ax5.bar(edges_neg_test[:-1], counts_neg_test, width=np.diff(edges_neg_test), \n",
    "        edgecolor='black', alpha=0.5, align='edge', color='blue')\n",
    "#ax5.set_title('Negative Testing Predictions', fontsize=fs)\n",
    "ax5.set_xlabel('Probability in Testing Data', fontsize=fs+1)\n",
    "ax5.set_ylabel('Count', fontsize=fs+1)\n",
    "\n",
    "ax6.bar(edges_pos_test[:-1], counts_pos_test, width=np.diff(edges_pos_test), \n",
    "        edgecolor='black', alpha=0.5, align='edge', color='orange')\n",
    "#ax6.set_title('Positive Testing Predictions', fontsize=fs)\n",
    "ax6.set_xlabel('Probability in Testing Data', fontsize=fs+1)\n",
    "#ax6.set_ylabel('Count')\n",
    "\n",
    "plt.suptitle(\"Probability Distributions of Various Datasets Across 100 CVs for Predicting +14 day European Temp Anomalies\", fontsize=fs+4, x=0.525,y=0.99)\n",
    "plt.tight_layout()\n",
    "plt.savefig(\"probability_distrib_eur14.png\")"
   ]
  },
  {
   "cell_type": "code",
   "execution_count": null,
   "id": "6d884999",
   "metadata": {
    "jupyter": {
     "source_hidden": true
    }
   },
   "outputs": [],
   "source": [
    "bins = np.linspace(0, 1, 37)  #10 bins from 0.4 to 1\n",
    "fs = 11\n",
    "##bin the probabilities\n",
    "counts_neg_train, edges_neg_train = np.histogram(p_30[:,0], bins=bins)\n",
    "counts_pos_train, edges_pos_train = np.histogram(p_30[:,1], bins=bins)\n",
    "\n",
    "counts_neg_val, edges_neg_val = np.histogram(p_mid[:,0], bins=bins)\n",
    "counts_pos_val, edges_pos_val = np.histogram(p_mid[:,1], bins=bins)\n",
    "\n",
    "counts_neg_test, edges_neg_test = np.histogram(p_70[:,0], bins=bins)\n",
    "counts_pos_test, edges_pos_test = np.histogram(p_70[:,1], bins=bins)\n",
    "\n",
    "\n",
    "fig, axes = plt.subplots(3, 2, figsize=(11,11))\n",
    "ax1, ax2, ax3, ax4, ax5, ax6 = axes.flatten()\n",
    "\n",
    "ax1.bar(edges_neg_train[:-1], counts_neg_train, width=np.diff(edges_neg_train), \n",
    "        edgecolor='black', alpha=0.5, align='edge', color='blue')\n",
    "ax1.set_title('Negative', fontsize=fs+2)\n",
    "ax1.set_xlabel('Probability in 0-30th Percentiles', fontsize=fs+1)\n",
    "ax1.set_ylabel('Count', fontsize=fs+1)\n",
    "\n",
    "ax2.bar(edges_pos_train[:-1], counts_pos_train, width=np.diff(edges_pos_train), \n",
    "        edgecolor='black', alpha=0.5, align='edge', color='orange')\n",
    "ax2.set_title('Positive', fontsize=fs+2)\n",
    "ax2.set_xlabel('Probability in 0-30th Percentiles', fontsize=fs+1)\n",
    "#ax2.set_ylabel('Count')\n",
    "\n",
    "ax3.bar(edges_neg_val[:-1], counts_neg_val, width=np.diff(edges_neg_val), \n",
    "        edgecolor='black', alpha=0.5, align='edge', color='blue')\n",
    "#ax3.set_title('Negative Validation Predictions', fontsize=fs)\n",
    "ax3.set_xlabel('Probability in Middle Percentiles', fontsize=fs+1)\n",
    "ax3.set_ylabel('Count', fontsize=fs+1)\n",
    "\n",
    "ax4.bar(edges_pos_val[:-1], counts_pos_val, width=np.diff(edges_pos_val), \n",
    "        edgecolor='black', alpha=0.5, align='edge', color='orange')\n",
    "#ax4.set_title('Positive Validation Predictions', fontsize=fs)\n",
    "ax4.set_xlabel('Probability in Middle Percentiles', fontsize=fs+1)\n",
    "#ax4.set_ylabel('Count')\n",
    "\n",
    "ax5.bar(edges_neg_test[:-1], counts_neg_test, width=np.diff(edges_neg_test), \n",
    "        edgecolor='black', alpha=0.5, align='edge', color='blue')\n",
    "#ax5.set_title('Negative Testing Predictions', fontsize=fs)\n",
    "ax5.set_xlabel('Probability in 70-100th Percentiles', fontsize=fs+1)\n",
    "ax5.set_ylabel('Count', fontsize=fs+1)\n",
    "\n",
    "ax6.bar(edges_pos_test[:-1], counts_pos_test, width=np.diff(edges_pos_test), \n",
    "        edgecolor='black', alpha=0.5, align='edge', color='orange')\n",
    "#ax6.set_title('Positive Testing Predictions', fontsize=fs)\n",
    "ax6.set_xlabel('Probability in 70-100th Percentiles', fontsize=fs+1)\n",
    "#ax6.set_ylabel('Count')\n",
    "\n",
    "plt.suptitle(\"Probability Distributions for Percentiles of Testing Data Across 100 CVs, +14 day European Temp Anomalies\", fontsize=fs+4, x=0.525,y=0.99)\n",
    "plt.tight_layout()\n",
    "#plt.savefig(\"percentile_distrib_eur14.png\")"
   ]
  },
  {
   "cell_type": "markdown",
   "id": "5c0ae972",
   "metadata": {},
   "source": [
    "### Model Curves. "
   ]
  },
  {
   "cell_type": "raw",
   "id": "9082b6e0",
   "metadata": {
    "jupyter": {
     "source_hidden": true
    }
   },
   "source": [
    "tloss = np.mean(train_loss, axis=0)\n",
    "vloss = np.mean(val_loss, axis=0)\n",
    "    \n",
    "cacc= np.mean(cat_acc, axis=0)\n",
    "vacc= np.mean(val_acc, axis=0)"
   ]
  },
  {
   "cell_type": "raw",
   "id": "969b97e9",
   "metadata": {
    "jupyter": {
     "source_hidden": true
    }
   },
   "source": [
    "fig, (ax1,ax2) = plt.subplots(1,2, figsize=plt.figaspect(0.25))\n",
    "ax1.plot(tloss, label='Training loss')\n",
    "ax1.plot(vloss, label='Validation loss')\n",
    "ax1.set_yscale('log')\n",
    "ax1.set_title('loss')\n",
    "ax1.set_xlabel('Epoch')\n",
    "ax1.set_ylabel('loss')\n",
    "ax1.legend()\n",
    "\n",
    "ax2.plot(cacc, label='Training ACC')\n",
    "ax2.plot(vacc, label='Validation ACC')\n",
    "ax2.set_title('Accuracy')\n",
    "ax2.set_xlabel('Epoch')\n",
    "ax2.set_ylabel('Acc')\n",
    "ax2.legend\n",
    "\n",
    "#plt.savefig(\"EUR_ACC_14.png\")"
   ]
  },
  {
   "cell_type": "markdown",
   "id": "47454249",
   "metadata": {},
   "source": [
    "### Skill Score Distributions. "
   ]
  },
  {
   "cell_type": "code",
   "execution_count": null,
   "id": "6e3b6fe6",
   "metadata": {},
   "outputs": [],
   "source": [
    "#plot\n",
    "fig = plt.figure(figsize=(12,11))\n",
    "font = 16\n",
    "#loop through each member\n",
    "ax1 = plt.subplot(3,1,1)\n",
    "ax2 = plt.subplot(3,1,2)\n",
    "ax3 = plt.subplot(3,1,3)\n",
    "\n",
    "ticks = ['Full', 'Train', 'Val', 'Test'] #set tick numbers for dataset\n",
    "colors = ['lightcyan','peachpuff']\n",
    "ind = [2, 4, 6, 8]  # the x locations for the groups\n",
    "w = 0.25 #box-plot width\n",
    "labels = ['- Anom', '+ Anom '] #labels of quantiles\n",
    "\n",
    "\n",
    "##begin to go plot by plot ...\n",
    "#each plot has a separate plot function for each lead time. In these, the plots get each quantile plotted. \n",
    "plt.suptitle(\"Stat Scores for Predicting Europe Temp Anoms at 14-days Lead with Top 20 PCs\",fontsize = 20)\n",
    "\n",
    "a1_0 = ax1.boxplot(BSS_all[:], positions= [2], widths=w, patch_artist=True)\n",
    "a1_5 = ax1.boxplot(BSS_train[:], positions=[4], widths=w, patch_artist=True)\n",
    "a1_10 = ax1.boxplot(BSS_val[:], positions=[6], widths=w, patch_artist=True)\n",
    "a1_14 = ax1.boxplot(BSS_test[:], positions=[7], widths=w, patch_artist=True)\n",
    "ax1.axhline(0, c='k', ls ='-.')\n",
    "ax1.set_xticks(ind, ticks)\n",
    "#next few lines color the box plot faces\n",
    "for bplot in (a1_0, a1_5, a1_10, a1_14,):\n",
    "    for patch, color in zip(bplot['boxes'], colors):\n",
    "        patch.set_facecolor(color)\n",
    "#for patch, label in zip(a1_0['boxes'], labels):\n",
    "    #patch.set_label(label)\n",
    "ax1.set_title('BSS for Temperature Region',fontsize = 14)\n",
    "ax1.set_ylim(-0.25,0.25)\n",
    "ax1.set_xlabel('Data Set',fontsize = 14)\n",
    "ax1.set_ylabel('BSS',fontsize = font)\n",
    "ax1.tick_params(axis='both', which='major', labelsize= font)\n",
    "#ax1.legend(loc = 'lower right', fontsize = 10)\n",
    "ax1.set_aspect('auto') ;\n",
    "\n",
    "##repeat the process\n",
    "a2_0 = ax2.boxplot([Rec_all[:,0],Rec_all[:,1]], positions= [1.8,2.2], widths=w, patch_artist=True)\n",
    "a2_5 = ax2.boxplot([Rec_train[:,0],Rec_train[:,1]], positions=[3.8,4.2], widths=w, patch_artist=True)\n",
    "a2_10 = ax2.boxplot([Rec_val[:,0],Rec_val[:,1]], positions=[5.8,6.2], widths=w, patch_artist=True)\n",
    "a2_14 = ax2.boxplot([Rec_test[:,0],Rec_test[:,1]], positions=[7.8,8.2], widths=w, patch_artist=True)\n",
    "ax2.axhline(0.5, c='k', ls ='-.')\n",
    "ax2.set_xticks(ind, ticks)\n",
    "for bplot in (a2_0, a2_5, a2_10, a2_14):\n",
    "    for patch, color in zip(bplot['boxes'], colors):\n",
    "        patch.set_facecolor(color)\n",
    "for patch, label in zip(a2_0['boxes'], labels):\n",
    "    patch.set_label(label)\n",
    "#ax2.set_title('RAS for Temperature Region',fontsize = 14)\n",
    "ax2.set_ylim(-0.1,1.1)\n",
    "ax2.tick_params(axis='both', which='major', labelsize= font)\n",
    "ax2.set_ylabel('RAS',fontsize = font)\n",
    "#ax2.set_xlabel('Data Set',fontsize = 14)\n",
    "#ax2.set_ylabel('Brier Skill Score')\n",
    "ax2.legend(loc = 'lower right', fontsize = 10)\n",
    "ax2.set_aspect('auto') ;\n",
    "\n",
    "a3_0 = ax3.boxplot([Prec_all[:,0],Prec_all[:,1]], positions= [1.8,2.2], widths=w, patch_artist=True)\n",
    "a3_5 = ax3.boxplot([Prec_train[:,0],Prec_train[:,1]], positions=[3.8,4.2], widths=w, patch_artist=True)\n",
    "a3_10 = ax3.boxplot([Prec_val[:,0],Prec_val[:,1]], positions=[5.8,6.2], widths=w, patch_artist=True)\n",
    "a3_14 = ax3.boxplot([Prec_test[:,0],Prec_test[:,1]], positions=[7.8,8.2], widths=w, patch_artist=True)\n",
    "ax3.axhline(0.5, c='k', ls ='-.')\n",
    "ax3.set_xticks(ind, ticks)\n",
    "for bplot in (a3_0, a3_5, a3_10, a3_14):\n",
    "    for patch, color in zip(bplot['boxes'], colors):\n",
    "        patch.set_facecolor(color)\n",
    "for patch, label in zip(a3_0['boxes'], labels):\n",
    "    patch.set_label(label)\n",
    "#ax3.set_title('RAS Well')\n",
    "#ax3.set_title('PAS for Temperature Region',fontsize = 14)\n",
    "ax3.set_ylim(-0.1,1.1)\n",
    "ax3.set_ylabel('PAS',fontsize = font)\n",
    "ax3.set_xlabel('Data Set',fontsize = font)\n",
    "#ax3.set_ylabel('Recall Accuracy Score',fontsize = 14)\n",
    "ax3.tick_params(axis='both', which='major', labelsize= font)\n",
    "ax3.legend(loc = 'lower right', fontsize = 10)\n",
    "ax3.set_aspect('auto') ;\n",
    "\n",
    "plt.tight_layout()\n",
    "#plt.show()\n",
    "plt.savefig(\"EUR_StatScore_14.png\", bbox_inches='tight',dpi =150)\n"
   ]
  },
  {
   "cell_type": "markdown",
   "id": "f7a311de",
   "metadata": {},
   "source": [
    "### Percentile ACC Plots."
   ]
  },
  {
   "cell_type": "code",
   "execution_count": null,
   "id": "0bb1a8cb",
   "metadata": {},
   "outputs": [],
   "source": [
    "bins = np.linspace(0.4, 1,13)  # 10 bins from 0.4 to 1\n",
    "fig = plt.figure(figsize=(9,7))\n",
    "##bin the testing 90th percentile accuracy data\n",
    "counts90, edges90 = np.histogram(test90_acc, bins=bins)\n",
    "countsfull, edgesfull = np.histogram(fulltest_acc, bins=bins)\n",
    "# Plot the full dataset\n",
    "#offset = 0.02  # Adjust this value if needed for better visibility\n",
    "plt.bar(edgesfull[:-1], countsfull, width=np.diff(edgesfull), \n",
    "        edgecolor='black', alpha=0.5, label='All Predictions', align='edge', color='blue')\n",
    "# Plot the 90th percentile\n",
    "plt.bar(edges90[:-1], counts90, width=np.diff(edges90), \n",
    "        edgecolor='black', alpha=0.5, label='>90th Percentile Predictions', align='edge', color = 'lightblue')\n",
    "plt.xlabel('Accuracy', fontsize =14)\n",
    "plt.xticks(fontsize = 13)\n",
    "plt.yticks(fontsize = 13)\n",
    "plt.ylabel('Number of Models', fontsize =14)\n",
    "plt.legend(fontsize = 12)\n",
    "plt.title('Testing Prediction Accuracy Across 100 CVs for +14 day Europe Temp Anoms (LSTM)', fontsize =15)\n",
    "plt.savefig(\"EUR14_ACCtesting.png\",bbox_inches = 'tight')"
   ]
  },
  {
   "cell_type": "markdown",
   "id": "782ff5d4",
   "metadata": {},
   "source": [
    "### SHAP Plots."
   ]
  },
  {
   "cell_type": "code",
   "execution_count": null,
   "id": "f4709271",
   "metadata": {},
   "outputs": [],
   "source": [
    "shap_out.shape"
   ]
  },
  {
   "cell_type": "code",
   "execution_count": null,
   "id": "a9f7fe00",
   "metadata": {},
   "outputs": [],
   "source": [
    "#compute mean |SHAP| over CVs and samples for each class separately\n",
    "#computed along the cv axis and smaple axis\n",
    "shap_class0 = np.mean(np.abs(shap_out[:, 0, :, :, :]), axis=(0,1))  \n",
    "shap_class1 = np.mean(np.abs(shap_out[:, 1, :, :, :]), axis=(0,1)) \n",
    "\n",
    "#transpose bc features arent on yaxis\n",
    "plot_class0 = shap_class0.T\n",
    "plot_class1 = shap_class1.T\n",
    "\n",
    "features = ['U3', 'GPH4', 'U2', 'GPH2', 'EHF2', 'GPH5', 'U4', 'EHF24', 'EHF19', 'EHF7',\n",
    "            'EHF13', 'U8', 'EHF4', 'EHF31', 'EHF14', 'EHF11', 'EHF8', 'EHF15', 'EHF5', 'EHF6']\n",
    "\n",
    "fig, axes = plt.subplots(1, 2, figsize=(14, 6), sharey=True)\n",
    "\n",
    "plt.suptitle(\"Mean |SHAP| Value Density for Timesteps in 14-day Input Window at +14 Days Lead to Temp Anomalies\", fontsize=16, y=0.96)\n",
    "#neg temps subplot\n",
    "im0 = axes[0].imshow(plot_class0, aspect='auto', cmap='plasma', origin='lower')\n",
    "axes[0].set_title(\"Negative Temp Anomalies\", fontsize=13)\n",
    "axes[0].set_xlabel(\"Timestep\", fontsize=12)\n",
    "axes[0].set_ylabel(\"Feature\", fontsize=12)\n",
    "axes[0].set_xticks(np.arange(14))\n",
    "axes[0].set_xticklabels([str(\"T -\"+str(i)) for i in range(14)], fontsize=10)\n",
    "axes[0].set_yticks(np.arange(20))\n",
    "axes[0].set_yticklabels(features, fontsize=10)\n",
    "axes[0].invert_xaxis()\n",
    "\n",
    "#pos temps\n",
    "im1 = axes[1].imshow(plot_class1, aspect='auto', cmap='plasma', origin='lower')\n",
    "axes[1].set_title(\"Positive Temp Anomalies\", fontsize=13)\n",
    "axes[1].set_xlabel(\"Timestep\", fontsize=12)\n",
    "axes[1].set_xticks(np.arange(14))\n",
    "axes[1].set_xticklabels([str(\"T\"+str(i)) for i in range(14)], fontsize=10)\n",
    "axes[1].invert_xaxis()\n",
    "\n",
    "fig.subplots_adjust(right=0.87)\n",
    "\n",
    "cbar_ax = fig.add_axes([1, 0.15, 0.015, 0.7])\n",
    "cbar = fig.colorbar(im1, cax=cbar_ax)\n",
    "cbar.set_label(\"Mean |SHAP| Value\", fontsize=12)\n",
    "\n",
    "plt.tight_layout()\n",
    "plt.savefig(\"EUR14_SHAPdensity.png\",bbox_inches = 'tight')\n",
    "plt.show()"
   ]
  },
  {
   "cell_type": "code",
   "execution_count": null,
   "id": "6638071b",
   "metadata": {},
   "outputs": [],
   "source": [
    "##shap bar plot. \n",
    "\n",
    "#take mean along CV axis\n",
    "cat_shaps2 = np.nanmean(cat_shaps,axis=0)\n",
    "feat_cat_df = pd.DataFrame(cat_shaps2) #make dataframs\n",
    "feat_cat_df.columns = features #add labels\n",
    "featcat_df = feat_cat_df.T #transpose\n",
    "fig = plt.figure(figsize=(11,10),dpi=100)\n",
    "fig.suptitle(\"SHAP for Predicting Surface Temperature Extreme over Europe 14-days Leadtime\",\n",
    "             fontsize = 19,x=.53) \n",
    " \n",
    "ax1 = fig.add_subplot(1,1,1)\n",
    "featcat_df.loc[featcat_df.sum(1).sort_values(ascending=True).index[:]].plot(\n",
    "    kind=\"barh\", stacked=True, ax = ax1, colormap = 'bwr')\n",
    "ax1.tick_params(axis='both', which='major', labelsize= 16)\n",
    "#ax1.set_yticks([0,1,2,3,4,5,6,7,8],feature_name_bh)\n",
    "ax1.set_xlabel('Mean SHAP value', fontsize =18 )\n",
    "ax1.set_ylabel('Feature', fontsize =18 )\n",
    "ax1.legend(loc = 'lower right', fontsize =18)\n",
    "#ax1.set_xlim(0,0.25)\n",
    "\n",
    "plt.tight_layout()\n",
    "plt.savefig('SHAP_barh_eur14.png')"
   ]
  },
  {
   "cell_type": "code",
   "execution_count": null,
   "id": "2cf6d8d0",
   "metadata": {},
   "outputs": [],
   "source": [
    "#shap beeswarm, pre process\n",
    "class0_agg = np.nanmean(class0_agg, axis=0)\n",
    "class1_agg = np.nanmean(class1_agg, axis=0)\n",
    "X_sample = np.mean(X_tr[:300], axis=1) #reference from training for agg shaps(samples, features)\n",
    "#separate reference dataframe with column names. \n",
    "X_df = pd.DataFrame(X_sample, columns=features)"
   ]
  },
  {
   "cell_type": "code",
   "execution_count": null,
   "id": "8416b4c7",
   "metadata": {},
   "outputs": [],
   "source": [
    "##Positive Beeswarm\n",
    "shap.summary_plot(shap_class1_agg, X_df, show=False)\n",
    "fig = plt.gcf()\n",
    "ax = plt.gca()\n",
    "\n",
    "fig.suptitle(\"SHAP Values for Negative Europe Temp Anomalies +14 Days Lead\",fontsize =14, y = 1.05)\n",
    "ax.set_xlabel(\"Mean SHAP Value\", fontsize=14)\n",
    "ax.set_ylabel(\"Features\", fontsize=14)\n",
    "ax.set_xticks(np.arange(-0.015,0.02,0.01)) \n",
    "ax.tick_params(axis='both', labelsize=12)\n",
    "\n",
    "plt.tight_layout()\n",
    "plt.savefig(\"SHAP_beepos_eur14.png\",bbox_inches = 'tight')\n",
    "plt.show()"
   ]
  },
  {
   "cell_type": "code",
   "execution_count": null,
   "id": "b774ff92",
   "metadata": {},
   "outputs": [],
   "source": [
    "##negative beeswarm\n",
    "shap.summary_plot(shap_class0_agg, X_df, show=False)\n",
    "fig = plt.gcf()\n",
    "ax = plt.gca()\n",
    "\n",
    "fig.suptitle(\"SHAP Beeswarm Plot – Negative Class (14-day Forecast)\", fontsize=16)\n",
    "ax.set_xlabel(\"Mean SHAP Value\", fontsize=14)\n",
    "ax.set_xticks(np.arange(-0.015,0.02,0.01)) \n",
    "ax.set_ylabel(\"Features\", fontsize=14)\n",
    "ax.tick_params(axis='both', labelsize=12)\n",
    "\n",
    "plt.tight_layout()\n",
    "#plt.savefig(\"SHAP_beeneg_eur14.png\")\n",
    "plt.show()"
   ]
  },
  {
   "cell_type": "code",
   "execution_count": null,
   "id": "1d330281",
   "metadata": {},
   "outputs": [],
   "source": []
  }
 ],
 "metadata": {
  "kernelspec": {
   "display_name": "Python 3 (ipykernel)",
   "language": "python",
   "name": "python3"
  },
  "language_info": {
   "codemirror_mode": {
    "name": "ipython",
    "version": 3
   },
   "file_extension": ".py",
   "mimetype": "text/x-python",
   "name": "python",
   "nbconvert_exporter": "python",
   "pygments_lexer": "ipython3",
   "version": "3.10.12"
  }
 },
 "nbformat": 4,
 "nbformat_minor": 5
}
