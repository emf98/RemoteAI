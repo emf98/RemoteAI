{
 "cells": [
  {
   "cell_type": "markdown",
   "id": "0da88474",
   "metadata": {},
   "source": [
    "### Starting over with the LSTM model ... \n",
    "\n",
    "File initially created 6/5/2025. \n",
    "\n",
    "I will start with a 14 day model. "
   ]
  },
  {
   "cell_type": "code",
   "execution_count": 1,
   "id": "2e2a26b7",
   "metadata": {},
   "outputs": [
    {
     "name": "stderr",
     "output_type": "stream",
     "text": [
      "2025-06-25 16:22:43.585366: I tensorflow/core/util/port.cc:113] oneDNN custom operations are on. You may see slightly different numerical results due to floating-point round-off errors from different computation orders. To turn them off, set the environment variable `TF_ENABLE_ONEDNN_OPTS=0`.\n",
      "2025-06-25 16:22:43.616835: E external/local_xla/xla/stream_executor/cuda/cuda_dnn.cc:9373] Unable to register cuDNN factory: Attempting to register factory for plugin cuDNN when one has already been registered\n",
      "2025-06-25 16:22:43.616856: E external/local_xla/xla/stream_executor/cuda/cuda_fft.cc:607] Unable to register cuFFT factory: Attempting to register factory for plugin cuFFT when one has already been registered\n",
      "2025-06-25 16:22:43.617819: E external/local_xla/xla/stream_executor/cuda/cuda_blas.cc:1534] Unable to register cuBLAS factory: Attempting to register factory for plugin cuBLAS when one has already been registered\n",
      "2025-06-25 16:22:43.622939: I tensorflow/core/platform/cpu_feature_guard.cc:183] This TensorFlow binary is optimized to use available CPU instructions in performance-critical operations.\n",
      "To enable the following instructions: SSE3 SSE4.1 SSE4.2 AVX, in other operations, rebuild TensorFlow with the appropriate compiler flags.\n",
      "2025-06-25 16:22:44.962536: I tensorflow/core/common_runtime/gpu/gpu_device.cc:1926] Created device /job:localhost/replica:0/task:0/device:GPU:0 with 990 MB memory:  -> device: 0, name: NVIDIA H100 80GB HBM3, pci bus id: 0000:2d:00.0, compute capability: 9.0\n"
     ]
    }
   ],
   "source": [
    "##import cell makes its appearance once again...\n",
    "%matplotlib inline\n",
    "##so-called \"math\" related imports\n",
    "#from netCDF4 import Dataset as ncread\n",
    "import numpy as np\n",
    "import pandas as pd\n",
    "import math\n",
    "from random import seed\n",
    "from random import randint\n",
    "from random import sample\n",
    "from scipy.ndimage import gaussian_filter\n",
    "from sklearn.metrics import brier_score_loss\n",
    "import xarray as xr\n",
    "\n",
    "import pickle\n",
    "\n",
    "##plotting related imports\n",
    "import matplotlib.pyplot as plt\n",
    "\n",
    "#import tensorflow/keras related files\n",
    "import tensorflow as tf    \n",
    "#tf.compat.v1.disable_v2_behavior() # <-- HERE !\n",
    "\n",
    "tf.device('/physical_device:GPU:0')\n",
    "\n",
    "from tensorflow import keras\n",
    "from tensorflow.keras import layers\n",
    "from tensorflow.keras import Input\n",
    "from tensorflow.keras.models import Model\n",
    "from tensorflow.keras.callbacks import ModelCheckpoint\n",
    "from tensorflow.keras import regularizers\n",
    "import tensorflow.keras.backend as K\n",
    "from tensorflow.keras.utils import to_categorical\n",
    "from tensorflow.keras.layers import Dropout, Activation, Reshape, Flatten, LSTM, Dense, Dropout, Embedding, Bidirectional, GRU\n",
    "from tensorflow.keras import Sequential\n",
    "from tensorflow.keras import initializers, regularizers\n",
    "from tensorflow.keras import optimizers\n",
    "from tensorflow.keras import constraints\n",
    "from tensorflow.keras.layers import Layer, InputSpec\n",
    "\n",
    "tf.compat.v1.disable_eager_execution()\n",
    "#import investigate"
   ]
  },
  {
   "cell_type": "code",
   "execution_count": 2,
   "id": "7921b21e",
   "metadata": {},
   "outputs": [
    {
     "name": "stdout",
     "output_type": "stream",
     "text": [
      "2.15.0\n"
     ]
    }
   ],
   "source": [
    "print(tf.__version__)"
   ]
  },
  {
   "cell_type": "code",
   "execution_count": 3,
   "id": "2af405e9",
   "metadata": {},
   "outputs": [],
   "source": [
    "##load in solvers for PC analysis to get the PCs for the model itself. "
   ]
  },
  {
   "cell_type": "code",
   "execution_count": 4,
   "id": "a526865e",
   "metadata": {},
   "outputs": [],
   "source": [
    "# load input solvers\n",
    "infile = open(\"../../reduced_data/PCs/U_14.p\",\"rb\",)\n",
    "U_PC = pickle.load(infile)  ##zonal mean wind\n",
    "infile.close()\n",
    "\n",
    "infile = open(\"../../reduced_data/PCs/EHF_14.p\",\"rb\",)\n",
    "EHF_PC = pickle.load(infile)  ##ZMehf vertical cross section along longitudes\n",
    "infile.close()\n",
    "\n",
    "infile = open(\"../../reduced_data/PCs/GPH_14.p\",\"rb\",)\n",
    "GPH_PC = pickle.load(infile)  ##ZMehf vertical cross section along longitudes\n",
    "infile.close()"
   ]
  },
  {
   "cell_type": "code",
   "execution_count": 5,
   "id": "0b7ca2d6",
   "metadata": {},
   "outputs": [],
   "source": [
    "##remove PC 1\n",
    "U_PC = U_PC[:, 1:]\n",
    "EHF_PC = EHF_PC[:, 1:]\n",
    "GPH_PC = GPH_PC[:, 1:]"
   ]
  },
  {
   "cell_type": "code",
   "execution_count": 6,
   "id": "49780fb5",
   "metadata": {},
   "outputs": [
    {
     "data": {
      "text/plain": [
       "(9238, 9)"
      ]
     },
     "execution_count": 6,
     "metadata": {},
     "output_type": "execute_result"
    }
   ],
   "source": [
    "U_PC.shape"
   ]
  },
  {
   "cell_type": "code",
   "execution_count": 7,
   "id": "9cf84194",
   "metadata": {
    "scrolled": true
   },
   "outputs": [],
   "source": [
    "# load output data\n",
    "infile = open(\"../../reduced_data/temps/eur_14.p\",\"rb\",)\n",
    "output = pickle.load(infile) \n",
    "infile.close()"
   ]
  },
  {
   "cell_type": "code",
   "execution_count": 8,
   "id": "49719b3f",
   "metadata": {},
   "outputs": [
    {
     "data": {
      "text/plain": [
       "(9238,)"
      ]
     },
     "execution_count": 8,
     "metadata": {},
     "output_type": "execute_result"
    }
   ],
   "source": [
    "output.shape"
   ]
  },
  {
   "cell_type": "code",
   "execution_count": 9,
   "id": "051d9e0e",
   "metadata": {},
   "outputs": [],
   "source": [
    "##create one array of PCs\n",
    "inputvar = np.concatenate((U_PC,EHF_PC,GPH_PC),axis=1) "
   ]
  },
  {
   "cell_type": "code",
   "execution_count": 10,
   "id": "c616bb42",
   "metadata": {},
   "outputs": [
    {
     "data": {
      "text/html": [
       "<div>\n",
       "<style scoped>\n",
       "    .dataframe tbody tr th:only-of-type {\n",
       "        vertical-align: middle;\n",
       "    }\n",
       "\n",
       "    .dataframe tbody tr th {\n",
       "        vertical-align: top;\n",
       "    }\n",
       "\n",
       "    .dataframe thead th {\n",
       "        text-align: right;\n",
       "    }\n",
       "</style>\n",
       "<table border=\"1\" class=\"dataframe\">\n",
       "  <thead>\n",
       "    <tr style=\"text-align: right;\">\n",
       "      <th></th>\n",
       "      <th>0</th>\n",
       "      <th>1</th>\n",
       "      <th>2</th>\n",
       "      <th>3</th>\n",
       "      <th>4</th>\n",
       "      <th>5</th>\n",
       "      <th>6</th>\n",
       "      <th>7</th>\n",
       "      <th>8</th>\n",
       "      <th>9</th>\n",
       "      <th>...</th>\n",
       "      <th>52</th>\n",
       "      <th>53</th>\n",
       "      <th>54</th>\n",
       "      <th>55</th>\n",
       "      <th>56</th>\n",
       "      <th>57</th>\n",
       "      <th>58</th>\n",
       "      <th>59</th>\n",
       "      <th>60</th>\n",
       "      <th>61</th>\n",
       "    </tr>\n",
       "  </thead>\n",
       "  <tbody>\n",
       "    <tr>\n",
       "      <th>0</th>\n",
       "      <td>0.791039</td>\n",
       "      <td>-1.727149</td>\n",
       "      <td>1.481165</td>\n",
       "      <td>-1.684007</td>\n",
       "      <td>0.329935</td>\n",
       "      <td>1.656387</td>\n",
       "      <td>-0.211460</td>\n",
       "      <td>1.453994</td>\n",
       "      <td>0.837609</td>\n",
       "      <td>0.195595</td>\n",
       "      <td>...</td>\n",
       "      <td>0.172799</td>\n",
       "      <td>1.564267</td>\n",
       "      <td>0.584225</td>\n",
       "      <td>-0.036226</td>\n",
       "      <td>0.870949</td>\n",
       "      <td>0.482494</td>\n",
       "      <td>0.197297</td>\n",
       "      <td>0.694999</td>\n",
       "      <td>-0.395420</td>\n",
       "      <td>-1.128227</td>\n",
       "    </tr>\n",
       "    <tr>\n",
       "      <th>1</th>\n",
       "      <td>0.821552</td>\n",
       "      <td>-1.842438</td>\n",
       "      <td>1.416795</td>\n",
       "      <td>-1.725300</td>\n",
       "      <td>-0.155038</td>\n",
       "      <td>2.059544</td>\n",
       "      <td>0.081825</td>\n",
       "      <td>1.419269</td>\n",
       "      <td>0.147530</td>\n",
       "      <td>0.234372</td>\n",
       "      <td>...</td>\n",
       "      <td>-0.436175</td>\n",
       "      <td>1.686121</td>\n",
       "      <td>0.834128</td>\n",
       "      <td>0.081523</td>\n",
       "      <td>0.887701</td>\n",
       "      <td>0.621646</td>\n",
       "      <td>0.388313</td>\n",
       "      <td>0.968120</td>\n",
       "      <td>-0.156091</td>\n",
       "      <td>-1.539525</td>\n",
       "    </tr>\n",
       "    <tr>\n",
       "      <th>2</th>\n",
       "      <td>0.888491</td>\n",
       "      <td>-1.958864</td>\n",
       "      <td>1.626327</td>\n",
       "      <td>-1.405833</td>\n",
       "      <td>-0.030527</td>\n",
       "      <td>1.728328</td>\n",
       "      <td>0.536282</td>\n",
       "      <td>0.792897</td>\n",
       "      <td>-1.002197</td>\n",
       "      <td>0.268253</td>\n",
       "      <td>...</td>\n",
       "      <td>0.480251</td>\n",
       "      <td>1.535731</td>\n",
       "      <td>1.169094</td>\n",
       "      <td>0.118023</td>\n",
       "      <td>0.852785</td>\n",
       "      <td>0.684715</td>\n",
       "      <td>0.481477</td>\n",
       "      <td>0.804988</td>\n",
       "      <td>0.313862</td>\n",
       "      <td>-1.607084</td>\n",
       "    </tr>\n",
       "    <tr>\n",
       "      <th>3</th>\n",
       "      <td>0.883083</td>\n",
       "      <td>-1.953125</td>\n",
       "      <td>1.878820</td>\n",
       "      <td>-0.966085</td>\n",
       "      <td>0.620002</td>\n",
       "      <td>1.275088</td>\n",
       "      <td>0.679312</td>\n",
       "      <td>1.133707</td>\n",
       "      <td>-0.758163</td>\n",
       "      <td>0.231512</td>\n",
       "      <td>...</td>\n",
       "      <td>-0.880181</td>\n",
       "      <td>1.224010</td>\n",
       "      <td>1.292322</td>\n",
       "      <td>-0.031788</td>\n",
       "      <td>0.794642</td>\n",
       "      <td>0.805009</td>\n",
       "      <td>0.279682</td>\n",
       "      <td>0.627936</td>\n",
       "      <td>0.181622</td>\n",
       "      <td>-0.832041</td>\n",
       "    </tr>\n",
       "    <tr>\n",
       "      <th>4</th>\n",
       "      <td>0.799762</td>\n",
       "      <td>-1.914598</td>\n",
       "      <td>1.794036</td>\n",
       "      <td>-0.578514</td>\n",
       "      <td>1.147515</td>\n",
       "      <td>0.969589</td>\n",
       "      <td>0.594968</td>\n",
       "      <td>1.942123</td>\n",
       "      <td>-0.141386</td>\n",
       "      <td>0.126057</td>\n",
       "      <td>...</td>\n",
       "      <td>-0.636755</td>\n",
       "      <td>0.993273</td>\n",
       "      <td>1.244127</td>\n",
       "      <td>-0.186460</td>\n",
       "      <td>0.879478</td>\n",
       "      <td>1.131472</td>\n",
       "      <td>0.345422</td>\n",
       "      <td>0.342985</td>\n",
       "      <td>0.390064</td>\n",
       "      <td>0.147311</td>\n",
       "    </tr>\n",
       "    <tr>\n",
       "      <th>...</th>\n",
       "      <td>...</td>\n",
       "      <td>...</td>\n",
       "      <td>...</td>\n",
       "      <td>...</td>\n",
       "      <td>...</td>\n",
       "      <td>...</td>\n",
       "      <td>...</td>\n",
       "      <td>...</td>\n",
       "      <td>...</td>\n",
       "      <td>...</td>\n",
       "      <td>...</td>\n",
       "      <td>...</td>\n",
       "      <td>...</td>\n",
       "      <td>...</td>\n",
       "      <td>...</td>\n",
       "      <td>...</td>\n",
       "      <td>...</td>\n",
       "      <td>...</td>\n",
       "      <td>...</td>\n",
       "      <td>...</td>\n",
       "      <td>...</td>\n",
       "    </tr>\n",
       "    <tr>\n",
       "      <th>9233</th>\n",
       "      <td>0.739117</td>\n",
       "      <td>0.344881</td>\n",
       "      <td>-1.039941</td>\n",
       "      <td>1.907440</td>\n",
       "      <td>-0.463413</td>\n",
       "      <td>1.368651</td>\n",
       "      <td>1.955351</td>\n",
       "      <td>-1.003432</td>\n",
       "      <td>-1.171885</td>\n",
       "      <td>-0.032577</td>\n",
       "      <td>...</td>\n",
       "      <td>0.667313</td>\n",
       "      <td>0.159405</td>\n",
       "      <td>1.871430</td>\n",
       "      <td>1.036272</td>\n",
       "      <td>-0.931433</td>\n",
       "      <td>-0.594206</td>\n",
       "      <td>1.060108</td>\n",
       "      <td>0.489458</td>\n",
       "      <td>0.632401</td>\n",
       "      <td>1.478229</td>\n",
       "    </tr>\n",
       "    <tr>\n",
       "      <th>9234</th>\n",
       "      <td>0.708051</td>\n",
       "      <td>0.610486</td>\n",
       "      <td>-0.735913</td>\n",
       "      <td>1.811668</td>\n",
       "      <td>1.011904</td>\n",
       "      <td>0.905560</td>\n",
       "      <td>2.091698</td>\n",
       "      <td>-0.923073</td>\n",
       "      <td>-0.182186</td>\n",
       "      <td>0.100459</td>\n",
       "      <td>...</td>\n",
       "      <td>0.677382</td>\n",
       "      <td>0.532989</td>\n",
       "      <td>1.945315</td>\n",
       "      <td>1.078350</td>\n",
       "      <td>-0.883960</td>\n",
       "      <td>-0.255287</td>\n",
       "      <td>1.054779</td>\n",
       "      <td>0.616516</td>\n",
       "      <td>0.933306</td>\n",
       "      <td>0.541883</td>\n",
       "    </tr>\n",
       "    <tr>\n",
       "      <th>9235</th>\n",
       "      <td>0.612392</td>\n",
       "      <td>0.813433</td>\n",
       "      <td>-0.491388</td>\n",
       "      <td>1.058656</td>\n",
       "      <td>2.158425</td>\n",
       "      <td>0.531745</td>\n",
       "      <td>2.458308</td>\n",
       "      <td>-0.798223</td>\n",
       "      <td>1.449475</td>\n",
       "      <td>0.138989</td>\n",
       "      <td>...</td>\n",
       "      <td>0.355340</td>\n",
       "      <td>1.044255</td>\n",
       "      <td>1.904598</td>\n",
       "      <td>0.936523</td>\n",
       "      <td>-1.013030</td>\n",
       "      <td>-0.031661</td>\n",
       "      <td>1.253826</td>\n",
       "      <td>0.375767</td>\n",
       "      <td>0.830058</td>\n",
       "      <td>-0.412274</td>\n",
       "    </tr>\n",
       "    <tr>\n",
       "      <th>9236</th>\n",
       "      <td>0.179745</td>\n",
       "      <td>0.300776</td>\n",
       "      <td>-0.592462</td>\n",
       "      <td>-0.004740</td>\n",
       "      <td>2.092489</td>\n",
       "      <td>-0.249596</td>\n",
       "      <td>1.450899</td>\n",
       "      <td>-0.071044</td>\n",
       "      <td>2.113109</td>\n",
       "      <td>0.101430</td>\n",
       "      <td>...</td>\n",
       "      <td>-0.112332</td>\n",
       "      <td>1.295592</td>\n",
       "      <td>1.709359</td>\n",
       "      <td>0.596902</td>\n",
       "      <td>-1.099654</td>\n",
       "      <td>-0.021087</td>\n",
       "      <td>1.714048</td>\n",
       "      <td>0.279814</td>\n",
       "      <td>0.649183</td>\n",
       "      <td>-0.773683</td>\n",
       "    </tr>\n",
       "    <tr>\n",
       "      <th>9237</th>\n",
       "      <td>-0.171662</td>\n",
       "      <td>-0.141076</td>\n",
       "      <td>-0.920245</td>\n",
       "      <td>-0.283947</td>\n",
       "      <td>0.960485</td>\n",
       "      <td>-0.176553</td>\n",
       "      <td>0.644020</td>\n",
       "      <td>0.822152</td>\n",
       "      <td>2.009169</td>\n",
       "      <td>0.178951</td>\n",
       "      <td>...</td>\n",
       "      <td>0.076846</td>\n",
       "      <td>1.124540</td>\n",
       "      <td>1.518323</td>\n",
       "      <td>0.307120</td>\n",
       "      <td>-0.841747</td>\n",
       "      <td>-0.354376</td>\n",
       "      <td>1.852638</td>\n",
       "      <td>0.494849</td>\n",
       "      <td>0.489356</td>\n",
       "      <td>-0.597684</td>\n",
       "    </tr>\n",
       "  </tbody>\n",
       "</table>\n",
       "<p>9238 rows × 62 columns</p>\n",
       "</div>"
      ],
      "text/plain": [
       "            0         1         2         3         4         5         6   \\\n",
       "0     0.791039 -1.727149  1.481165 -1.684007  0.329935  1.656387 -0.211460   \n",
       "1     0.821552 -1.842438  1.416795 -1.725300 -0.155038  2.059544  0.081825   \n",
       "2     0.888491 -1.958864  1.626327 -1.405833 -0.030527  1.728328  0.536282   \n",
       "3     0.883083 -1.953125  1.878820 -0.966085  0.620002  1.275088  0.679312   \n",
       "4     0.799762 -1.914598  1.794036 -0.578514  1.147515  0.969589  0.594968   \n",
       "...        ...       ...       ...       ...       ...       ...       ...   \n",
       "9233  0.739117  0.344881 -1.039941  1.907440 -0.463413  1.368651  1.955351   \n",
       "9234  0.708051  0.610486 -0.735913  1.811668  1.011904  0.905560  2.091698   \n",
       "9235  0.612392  0.813433 -0.491388  1.058656  2.158425  0.531745  2.458308   \n",
       "9236  0.179745  0.300776 -0.592462 -0.004740  2.092489 -0.249596  1.450899   \n",
       "9237 -0.171662 -0.141076 -0.920245 -0.283947  0.960485 -0.176553  0.644020   \n",
       "\n",
       "            7         8         9   ...        52        53        54  \\\n",
       "0     1.453994  0.837609  0.195595  ...  0.172799  1.564267  0.584225   \n",
       "1     1.419269  0.147530  0.234372  ... -0.436175  1.686121  0.834128   \n",
       "2     0.792897 -1.002197  0.268253  ...  0.480251  1.535731  1.169094   \n",
       "3     1.133707 -0.758163  0.231512  ... -0.880181  1.224010  1.292322   \n",
       "4     1.942123 -0.141386  0.126057  ... -0.636755  0.993273  1.244127   \n",
       "...        ...       ...       ...  ...       ...       ...       ...   \n",
       "9233 -1.003432 -1.171885 -0.032577  ...  0.667313  0.159405  1.871430   \n",
       "9234 -0.923073 -0.182186  0.100459  ...  0.677382  0.532989  1.945315   \n",
       "9235 -0.798223  1.449475  0.138989  ...  0.355340  1.044255  1.904598   \n",
       "9236 -0.071044  2.113109  0.101430  ... -0.112332  1.295592  1.709359   \n",
       "9237  0.822152  2.009169  0.178951  ...  0.076846  1.124540  1.518323   \n",
       "\n",
       "            55        56        57        58        59        60        61  \n",
       "0    -0.036226  0.870949  0.482494  0.197297  0.694999 -0.395420 -1.128227  \n",
       "1     0.081523  0.887701  0.621646  0.388313  0.968120 -0.156091 -1.539525  \n",
       "2     0.118023  0.852785  0.684715  0.481477  0.804988  0.313862 -1.607084  \n",
       "3    -0.031788  0.794642  0.805009  0.279682  0.627936  0.181622 -0.832041  \n",
       "4    -0.186460  0.879478  1.131472  0.345422  0.342985  0.390064  0.147311  \n",
       "...        ...       ...       ...       ...       ...       ...       ...  \n",
       "9233  1.036272 -0.931433 -0.594206  1.060108  0.489458  0.632401  1.478229  \n",
       "9234  1.078350 -0.883960 -0.255287  1.054779  0.616516  0.933306  0.541883  \n",
       "9235  0.936523 -1.013030 -0.031661  1.253826  0.375767  0.830058 -0.412274  \n",
       "9236  0.596902 -1.099654 -0.021087  1.714048  0.279814  0.649183 -0.773683  \n",
       "9237  0.307120 -0.841747 -0.354376  1.852638  0.494849  0.489356 -0.597684  \n",
       "\n",
       "[9238 rows x 62 columns]"
      ]
     },
     "execution_count": 10,
     "metadata": {},
     "output_type": "execute_result"
    }
   ],
   "source": [
    "##make pandas dataframe for RF\n",
    "input = pd.DataFrame(inputvar)\n",
    "input"
   ]
  },
  {
   "cell_type": "code",
   "execution_count": 11,
   "id": "fe92b548",
   "metadata": {},
   "outputs": [
    {
     "name": "stdout",
     "output_type": "stream",
     "text": [
      "(62, 135)\n"
     ]
    }
   ],
   "source": [
    "##need to change this based on lag \n",
    "## 14-days = [:, 10:] 10 day window rather than 14\n",
    "## 20-days = [:, 16:]\n",
    "## 30-days = [:, 26:]\n",
    "\n",
    "# 139\n",
    "# 133\n",
    "# 123\n",
    "\n",
    "## 14-days = [:, 14:] 14 day window\n",
    "## 20-days = [:, 20:]\n",
    "## 30-days = [:, 30:]\n",
    "\n",
    "# 135\n",
    "# 129\n",
    "# 119\n",
    "\n",
    "lead = 135\n",
    "\n",
    "temp = output.reshape(62, 149)\n",
    "temp = temp[:, 14:]\n",
    "print(temp.shape)\n",
    "\n",
    "temp_flat = temp.flatten()"
   ]
  },
  {
   "cell_type": "code",
   "execution_count": 12,
   "id": "c1af9271",
   "metadata": {},
   "outputs": [],
   "source": [
    "#selected indices\n",
    "#EUROPE\n",
    "#input[[1, 56, 0, 54, 9, 57, 2, 31, 26, 14, 20, 6, 11, 38, 21, 18, 15, 22, 12, 13]]\n",
    "\n",
    "##CANADA\n",
    "#input[[56, 1, 0, 55, 2, 53, 22, 57, 9, 25, 11, 4, 54, 38, 17, 30, 36, 3, 14, 26]]\n",
    "\n",
    "##SE US\n",
    "#input[[56, 1, 54, 18, 53, 3, 0, 10, 5, 19, 21, 14, 2, 57, 13, 60, 22, 26,25, 11]]"
   ]
  },
  {
   "cell_type": "code",
   "execution_count": 13,
   "id": "65061d86",
   "metadata": {},
   "outputs": [],
   "source": [
    "#create pd datafram of selected feature columns.\n",
    "sele_ind_df = input[[1, 56, 0, 54, 9, 57, 2, 31, 26, 14, 20, 6, 11, 38, 21, 18, 15, 22, 12, 13]]\n",
    "\n",
    "n_features = 20"
   ]
  },
  {
   "cell_type": "code",
   "execution_count": 14,
   "id": "4ddb5001",
   "metadata": {},
   "outputs": [
    {
     "data": {
      "text/html": [
       "<div>\n",
       "<style scoped>\n",
       "    .dataframe tbody tr th:only-of-type {\n",
       "        vertical-align: middle;\n",
       "    }\n",
       "\n",
       "    .dataframe tbody tr th {\n",
       "        vertical-align: top;\n",
       "    }\n",
       "\n",
       "    .dataframe thead th {\n",
       "        text-align: right;\n",
       "    }\n",
       "</style>\n",
       "<table border=\"1\" class=\"dataframe\">\n",
       "  <thead>\n",
       "    <tr style=\"text-align: right;\">\n",
       "      <th></th>\n",
       "      <th>1</th>\n",
       "      <th>56</th>\n",
       "      <th>0</th>\n",
       "      <th>54</th>\n",
       "      <th>9</th>\n",
       "      <th>57</th>\n",
       "      <th>2</th>\n",
       "      <th>31</th>\n",
       "      <th>26</th>\n",
       "      <th>14</th>\n",
       "      <th>20</th>\n",
       "      <th>6</th>\n",
       "      <th>11</th>\n",
       "      <th>38</th>\n",
       "      <th>21</th>\n",
       "      <th>18</th>\n",
       "      <th>15</th>\n",
       "      <th>22</th>\n",
       "      <th>12</th>\n",
       "      <th>13</th>\n",
       "    </tr>\n",
       "  </thead>\n",
       "  <tbody>\n",
       "    <tr>\n",
       "      <th>0</th>\n",
       "      <td>-1.727149</td>\n",
       "      <td>0.870949</td>\n",
       "      <td>0.791039</td>\n",
       "      <td>0.584225</td>\n",
       "      <td>0.195595</td>\n",
       "      <td>0.482494</td>\n",
       "      <td>1.481165</td>\n",
       "      <td>-0.840203</td>\n",
       "      <td>-0.190102</td>\n",
       "      <td>0.057985</td>\n",
       "      <td>-0.773881</td>\n",
       "      <td>-0.211460</td>\n",
       "      <td>-0.443124</td>\n",
       "      <td>-0.130601</td>\n",
       "      <td>0.202801</td>\n",
       "      <td>-0.186997</td>\n",
       "      <td>-0.187630</td>\n",
       "      <td>-0.032653</td>\n",
       "      <td>-0.019193</td>\n",
       "      <td>0.376977</td>\n",
       "    </tr>\n",
       "    <tr>\n",
       "      <th>1</th>\n",
       "      <td>-1.842438</td>\n",
       "      <td>0.887701</td>\n",
       "      <td>0.821552</td>\n",
       "      <td>0.834128</td>\n",
       "      <td>0.234372</td>\n",
       "      <td>0.621646</td>\n",
       "      <td>1.416795</td>\n",
       "      <td>0.061981</td>\n",
       "      <td>0.047160</td>\n",
       "      <td>0.038753</td>\n",
       "      <td>-0.324938</td>\n",
       "      <td>0.081825</td>\n",
       "      <td>-0.373201</td>\n",
       "      <td>0.321552</td>\n",
       "      <td>0.467937</td>\n",
       "      <td>-0.598541</td>\n",
       "      <td>-0.270955</td>\n",
       "      <td>0.027107</td>\n",
       "      <td>-0.049397</td>\n",
       "      <td>0.386002</td>\n",
       "    </tr>\n",
       "    <tr>\n",
       "      <th>2</th>\n",
       "      <td>-1.958864</td>\n",
       "      <td>0.852785</td>\n",
       "      <td>0.888491</td>\n",
       "      <td>1.169094</td>\n",
       "      <td>0.268253</td>\n",
       "      <td>0.684715</td>\n",
       "      <td>1.626327</td>\n",
       "      <td>0.298515</td>\n",
       "      <td>-0.432859</td>\n",
       "      <td>0.009860</td>\n",
       "      <td>-0.306709</td>\n",
       "      <td>0.536282</td>\n",
       "      <td>-0.265632</td>\n",
       "      <td>0.342450</td>\n",
       "      <td>0.137449</td>\n",
       "      <td>-0.366524</td>\n",
       "      <td>-0.253419</td>\n",
       "      <td>0.012183</td>\n",
       "      <td>0.024585</td>\n",
       "      <td>0.317177</td>\n",
       "    </tr>\n",
       "    <tr>\n",
       "      <th>3</th>\n",
       "      <td>-1.953125</td>\n",
       "      <td>0.794642</td>\n",
       "      <td>0.883083</td>\n",
       "      <td>1.292322</td>\n",
       "      <td>0.231512</td>\n",
       "      <td>0.805009</td>\n",
       "      <td>1.878820</td>\n",
       "      <td>0.660462</td>\n",
       "      <td>-0.094418</td>\n",
       "      <td>0.000942</td>\n",
       "      <td>0.019133</td>\n",
       "      <td>0.679312</td>\n",
       "      <td>-0.231309</td>\n",
       "      <td>0.463792</td>\n",
       "      <td>0.329118</td>\n",
       "      <td>-0.513304</td>\n",
       "      <td>-0.236251</td>\n",
       "      <td>-0.282491</td>\n",
       "      <td>0.136366</td>\n",
       "      <td>0.271059</td>\n",
       "    </tr>\n",
       "    <tr>\n",
       "      <th>4</th>\n",
       "      <td>-1.914598</td>\n",
       "      <td>0.879478</td>\n",
       "      <td>0.799762</td>\n",
       "      <td>1.244127</td>\n",
       "      <td>0.126057</td>\n",
       "      <td>1.131472</td>\n",
       "      <td>1.794036</td>\n",
       "      <td>0.447582</td>\n",
       "      <td>-0.096808</td>\n",
       "      <td>-0.171956</td>\n",
       "      <td>0.254848</td>\n",
       "      <td>0.594968</td>\n",
       "      <td>-0.224626</td>\n",
       "      <td>0.005776</td>\n",
       "      <td>-0.106193</td>\n",
       "      <td>-0.430760</td>\n",
       "      <td>-0.154636</td>\n",
       "      <td>-0.166812</td>\n",
       "      <td>0.192114</td>\n",
       "      <td>0.207816</td>\n",
       "    </tr>\n",
       "    <tr>\n",
       "      <th>...</th>\n",
       "      <td>...</td>\n",
       "      <td>...</td>\n",
       "      <td>...</td>\n",
       "      <td>...</td>\n",
       "      <td>...</td>\n",
       "      <td>...</td>\n",
       "      <td>...</td>\n",
       "      <td>...</td>\n",
       "      <td>...</td>\n",
       "      <td>...</td>\n",
       "      <td>...</td>\n",
       "      <td>...</td>\n",
       "      <td>...</td>\n",
       "      <td>...</td>\n",
       "      <td>...</td>\n",
       "      <td>...</td>\n",
       "      <td>...</td>\n",
       "      <td>...</td>\n",
       "      <td>...</td>\n",
       "      <td>...</td>\n",
       "    </tr>\n",
       "    <tr>\n",
       "      <th>9233</th>\n",
       "      <td>0.344881</td>\n",
       "      <td>-0.931433</td>\n",
       "      <td>0.739117</td>\n",
       "      <td>1.871430</td>\n",
       "      <td>-0.032577</td>\n",
       "      <td>-0.594206</td>\n",
       "      <td>-1.039941</td>\n",
       "      <td>-0.509073</td>\n",
       "      <td>-0.257606</td>\n",
       "      <td>-0.355304</td>\n",
       "      <td>-0.337902</td>\n",
       "      <td>1.955351</td>\n",
       "      <td>0.696732</td>\n",
       "      <td>-0.993664</td>\n",
       "      <td>-0.459643</td>\n",
       "      <td>-0.780476</td>\n",
       "      <td>0.085641</td>\n",
       "      <td>0.103523</td>\n",
       "      <td>1.020420</td>\n",
       "      <td>-0.827579</td>\n",
       "    </tr>\n",
       "    <tr>\n",
       "      <th>9234</th>\n",
       "      <td>0.610486</td>\n",
       "      <td>-0.883960</td>\n",
       "      <td>0.708051</td>\n",
       "      <td>1.945315</td>\n",
       "      <td>0.100459</td>\n",
       "      <td>-0.255287</td>\n",
       "      <td>-0.735913</td>\n",
       "      <td>-0.484002</td>\n",
       "      <td>0.104951</td>\n",
       "      <td>-0.734529</td>\n",
       "      <td>-0.387806</td>\n",
       "      <td>2.091698</td>\n",
       "      <td>0.528793</td>\n",
       "      <td>-0.712909</td>\n",
       "      <td>0.187002</td>\n",
       "      <td>-0.496463</td>\n",
       "      <td>-0.079321</td>\n",
       "      <td>0.201060</td>\n",
       "      <td>0.726277</td>\n",
       "      <td>-0.338853</td>\n",
       "    </tr>\n",
       "    <tr>\n",
       "      <th>9235</th>\n",
       "      <td>0.813433</td>\n",
       "      <td>-1.013030</td>\n",
       "      <td>0.612392</td>\n",
       "      <td>1.904598</td>\n",
       "      <td>0.138989</td>\n",
       "      <td>-0.031661</td>\n",
       "      <td>-0.491388</td>\n",
       "      <td>-0.967253</td>\n",
       "      <td>-0.227728</td>\n",
       "      <td>-0.252240</td>\n",
       "      <td>-0.915382</td>\n",
       "      <td>2.458308</td>\n",
       "      <td>0.276310</td>\n",
       "      <td>0.378725</td>\n",
       "      <td>0.115268</td>\n",
       "      <td>-0.112195</td>\n",
       "      <td>0.129463</td>\n",
       "      <td>-0.507578</td>\n",
       "      <td>0.114448</td>\n",
       "      <td>0.129632</td>\n",
       "    </tr>\n",
       "    <tr>\n",
       "      <th>9236</th>\n",
       "      <td>0.300776</td>\n",
       "      <td>-1.099654</td>\n",
       "      <td>0.179745</td>\n",
       "      <td>1.709359</td>\n",
       "      <td>0.101430</td>\n",
       "      <td>-0.021087</td>\n",
       "      <td>-0.592462</td>\n",
       "      <td>-1.556661</td>\n",
       "      <td>-0.148204</td>\n",
       "      <td>0.084979</td>\n",
       "      <td>-2.017825</td>\n",
       "      <td>1.450899</td>\n",
       "      <td>0.127205</td>\n",
       "      <td>0.196277</td>\n",
       "      <td>0.509032</td>\n",
       "      <td>0.827147</td>\n",
       "      <td>0.147253</td>\n",
       "      <td>-0.492190</td>\n",
       "      <td>0.008271</td>\n",
       "      <td>0.058502</td>\n",
       "    </tr>\n",
       "    <tr>\n",
       "      <th>9237</th>\n",
       "      <td>-0.141076</td>\n",
       "      <td>-0.841747</td>\n",
       "      <td>-0.171662</td>\n",
       "      <td>1.518323</td>\n",
       "      <td>0.178951</td>\n",
       "      <td>-0.354376</td>\n",
       "      <td>-0.920245</td>\n",
       "      <td>-0.362053</td>\n",
       "      <td>0.017998</td>\n",
       "      <td>-0.229013</td>\n",
       "      <td>-2.150286</td>\n",
       "      <td>0.644020</td>\n",
       "      <td>0.027940</td>\n",
       "      <td>0.382890</td>\n",
       "      <td>1.099226</td>\n",
       "      <td>0.677530</td>\n",
       "      <td>-0.054276</td>\n",
       "      <td>-0.581448</td>\n",
       "      <td>0.019743</td>\n",
       "      <td>-0.055451</td>\n",
       "    </tr>\n",
       "  </tbody>\n",
       "</table>\n",
       "<p>9238 rows × 20 columns</p>\n",
       "</div>"
      ],
      "text/plain": [
       "            1         56        0         54        9         57        2   \\\n",
       "0    -1.727149  0.870949  0.791039  0.584225  0.195595  0.482494  1.481165   \n",
       "1    -1.842438  0.887701  0.821552  0.834128  0.234372  0.621646  1.416795   \n",
       "2    -1.958864  0.852785  0.888491  1.169094  0.268253  0.684715  1.626327   \n",
       "3    -1.953125  0.794642  0.883083  1.292322  0.231512  0.805009  1.878820   \n",
       "4    -1.914598  0.879478  0.799762  1.244127  0.126057  1.131472  1.794036   \n",
       "...        ...       ...       ...       ...       ...       ...       ...   \n",
       "9233  0.344881 -0.931433  0.739117  1.871430 -0.032577 -0.594206 -1.039941   \n",
       "9234  0.610486 -0.883960  0.708051  1.945315  0.100459 -0.255287 -0.735913   \n",
       "9235  0.813433 -1.013030  0.612392  1.904598  0.138989 -0.031661 -0.491388   \n",
       "9236  0.300776 -1.099654  0.179745  1.709359  0.101430 -0.021087 -0.592462   \n",
       "9237 -0.141076 -0.841747 -0.171662  1.518323  0.178951 -0.354376 -0.920245   \n",
       "\n",
       "            31        26        14        20        6         11        38  \\\n",
       "0    -0.840203 -0.190102  0.057985 -0.773881 -0.211460 -0.443124 -0.130601   \n",
       "1     0.061981  0.047160  0.038753 -0.324938  0.081825 -0.373201  0.321552   \n",
       "2     0.298515 -0.432859  0.009860 -0.306709  0.536282 -0.265632  0.342450   \n",
       "3     0.660462 -0.094418  0.000942  0.019133  0.679312 -0.231309  0.463792   \n",
       "4     0.447582 -0.096808 -0.171956  0.254848  0.594968 -0.224626  0.005776   \n",
       "...        ...       ...       ...       ...       ...       ...       ...   \n",
       "9233 -0.509073 -0.257606 -0.355304 -0.337902  1.955351  0.696732 -0.993664   \n",
       "9234 -0.484002  0.104951 -0.734529 -0.387806  2.091698  0.528793 -0.712909   \n",
       "9235 -0.967253 -0.227728 -0.252240 -0.915382  2.458308  0.276310  0.378725   \n",
       "9236 -1.556661 -0.148204  0.084979 -2.017825  1.450899  0.127205  0.196277   \n",
       "9237 -0.362053  0.017998 -0.229013 -2.150286  0.644020  0.027940  0.382890   \n",
       "\n",
       "            21        18        15        22        12        13  \n",
       "0     0.202801 -0.186997 -0.187630 -0.032653 -0.019193  0.376977  \n",
       "1     0.467937 -0.598541 -0.270955  0.027107 -0.049397  0.386002  \n",
       "2     0.137449 -0.366524 -0.253419  0.012183  0.024585  0.317177  \n",
       "3     0.329118 -0.513304 -0.236251 -0.282491  0.136366  0.271059  \n",
       "4    -0.106193 -0.430760 -0.154636 -0.166812  0.192114  0.207816  \n",
       "...        ...       ...       ...       ...       ...       ...  \n",
       "9233 -0.459643 -0.780476  0.085641  0.103523  1.020420 -0.827579  \n",
       "9234  0.187002 -0.496463 -0.079321  0.201060  0.726277 -0.338853  \n",
       "9235  0.115268 -0.112195  0.129463 -0.507578  0.114448  0.129632  \n",
       "9236  0.509032  0.827147  0.147253 -0.492190  0.008271  0.058502  \n",
       "9237  1.099226  0.677530 -0.054276 -0.581448  0.019743 -0.055451  \n",
       "\n",
       "[9238 rows x 20 columns]"
      ]
     },
     "execution_count": 14,
     "metadata": {},
     "output_type": "execute_result"
    }
   ],
   "source": [
    "#look at new input array\n",
    "sele_ind_df"
   ]
  },
  {
   "cell_type": "code",
   "execution_count": 15,
   "id": "8e515e10",
   "metadata": {},
   "outputs": [],
   "source": [
    "#turn input array into (# samples, 14 days, 10 features)\n",
    "sele_ind_data = sele_ind_df.values\n",
    "sele_ind_data1 = sele_ind_data.reshape(62,149,n_features)"
   ]
  },
  {
   "cell_type": "code",
   "execution_count": 16,
   "id": "332593bc",
   "metadata": {},
   "outputs": [
    {
     "data": {
      "text/plain": [
       "(9238, 20)"
      ]
     },
     "execution_count": 16,
     "metadata": {},
     "output_type": "execute_result"
    }
   ],
   "source": [
    "sele_ind_data.shape"
   ]
  },
  {
   "cell_type": "code",
   "execution_count": 17,
   "id": "3cf51b5d",
   "metadata": {},
   "outputs": [],
   "source": [
    "#create timeseries data arrays for PCs \n",
    "#was 122 and 14 for the 14 day window. \n",
    "\n",
    "new_input =  np.empty((62,lead,14,n_features))\n",
    "new_output = np.empty((62,lead))\n",
    "\n",
    "for i in range(0,62):\n",
    "    for j in range(0,lead):\n",
    "        new_input[i,j,:,:] = sele_ind_data1[i,j:j+14,:]\n",
    "        new_output[i,j] = temp[i,j]"
   ]
  },
  {
   "cell_type": "code",
   "execution_count": 18,
   "id": "9d7634b1",
   "metadata": {},
   "outputs": [
    {
     "name": "stdout",
     "output_type": "stream",
     "text": [
      "(62, 135, 14, 20)\n",
      "(62, 135)\n"
     ]
    }
   ],
   "source": [
    "new_input = np.array(new_input)\n",
    "new_output = np.array(new_output)\n",
    "print(new_input.shape)\n",
    "print(new_output.shape)"
   ]
  },
  {
   "cell_type": "code",
   "execution_count": 19,
   "id": "d8a90234",
   "metadata": {},
   "outputs": [
    {
     "data": {
      "text/plain": [
       "7114"
      ]
     },
     "execution_count": 19,
     "metadata": {},
     "output_type": "execute_result"
    }
   ],
   "source": [
    "frac_ind = round((62*lead)*0.15)\n",
    "frac_end = round((62*lead)-frac_ind)\n",
    "frac_end"
   ]
  },
  {
   "cell_type": "code",
   "execution_count": 20,
   "id": "023d44ae",
   "metadata": {},
   "outputs": [
    {
     "data": {
      "text/plain": [
       "1256"
      ]
     },
     "execution_count": 20,
     "metadata": {},
     "output_type": "execute_result"
    }
   ],
   "source": [
    "frac_ind"
   ]
  },
  {
   "cell_type": "code",
   "execution_count": 21,
   "id": "5d764a8a",
   "metadata": {},
   "outputs": [],
   "source": [
    "##Set X_all and Y_all datasets\n",
    "X_all = np.copy(new_input.reshape((62*lead),14,n_features))\n",
    "Y_all = np.copy(new_output.flatten())\n",
    "\n",
    "##training data partition out\n",
    "X_tri = X_all[:frac_end,:]\n",
    "Y_tri = Y_all[:frac_end]\n",
    "\n",
    "#testing data partition out\n",
    "X_tes = X_all[frac_end:,:]\n",
    "Y_tes = Y_all[frac_end:]\n",
    "\n",
    "#Convert the Y array into a categorical array. This means we will create one-hot vector labels for all of the inputs.\n",
    "# The one-hot vectors have an index for each possible output category (two in our case)\n",
    "# A \"1\" is put in the index corresponding to the category to which the sample belongs\n",
    "Y_all = keras.utils.to_categorical(Y_all)\n",
    "Y_tri = keras.utils.to_categorical(Y_tri)\n",
    "Y_tes= keras.utils.to_categorical(Y_tes)"
   ]
  },
  {
   "cell_type": "code",
   "execution_count": 22,
   "id": "3b02caf6",
   "metadata": {},
   "outputs": [
    {
     "data": {
      "text/plain": [
       "(8370, 2)"
      ]
     },
     "execution_count": 22,
     "metadata": {},
     "output_type": "execute_result"
    }
   ],
   "source": [
    "Y_all.shape"
   ]
  },
  {
   "cell_type": "code",
   "execution_count": 23,
   "id": "f7ddae03",
   "metadata": {},
   "outputs": [],
   "source": [
    "##checking my data for NaN of Infs because I need to make sure this doesn't cause\n",
    "#the model to throw back no loss\n",
    "\n",
    "if np.any(np.isnan(X_all)) or np.any(np.isinf(X_all)):\n",
    "    print(\"NaN or Inf values found in X_all!\")\n",
    "\n",
    "if np.any(np.isnan(Y_all)) or np.any(np.isinf(Y_all)):\n",
    "    print(\"NaN or Inf values found in Y_all!\")"
   ]
  },
  {
   "cell_type": "markdown",
   "id": "4ca3f399",
   "metadata": {},
   "source": [
    "### Begin establishing specifics of model."
   ]
  },
  {
   "cell_type": "code",
   "execution_count": 24,
   "id": "3242986f",
   "metadata": {},
   "outputs": [],
   "source": [
    "##class weight creator for the instance where now I have a four dimensional output array \n",
    "def class_weight_creator(Y):\n",
    "    class_dict = {}\n",
    "    Y_reshaped = Y.reshape(-1, Y.shape[-1])\n",
    "    weights = np.max(np.sum(Y_reshaped, axis=0)) / np.sum(Y_reshaped, axis=0)\n",
    "    for i in range(Y.shape[-1] ):\n",
    "        class_dict[i] = weights[i]\n",
    "        \n",
    "    return class_dict"
   ]
  },
  {
   "cell_type": "code",
   "execution_count": 25,
   "id": "4c1de7c2",
   "metadata": {},
   "outputs": [],
   "source": [
    "##number of input nodes\n",
    "numb_int = X_all.shape[1:]\n",
    "\n",
    "##fraction of training data\n",
    "X_validation = X_tri[0:frac_ind]\n",
    "Y_validation = Y_tri[0:frac_ind]\n",
    "        \n",
    "X_train = X_tri[frac_ind:len(X_tri)]\n",
    "Y_train = Y_tri[frac_ind:len(Y_tri)]\n",
    "\n",
    "X_test = X_tes\n",
    "Y_test = Y_tes"
   ]
  },
  {
   "cell_type": "code",
   "execution_count": 26,
   "id": "f2a98ede",
   "metadata": {},
   "outputs": [
    {
     "data": {
      "text/plain": [
       "(5858, 2)"
      ]
     },
     "execution_count": 26,
     "metadata": {},
     "output_type": "execute_result"
    }
   ],
   "source": [
    "Y_train.shape"
   ]
  },
  {
   "cell_type": "code",
   "execution_count": 27,
   "id": "6e5adbb0",
   "metadata": {},
   "outputs": [
    {
     "data": {
      "text/plain": [
       "(14, 20)"
      ]
     },
     "execution_count": 27,
     "metadata": {},
     "output_type": "execute_result"
    }
   ],
   "source": [
    "numb_int"
   ]
  },
  {
   "cell_type": "raw",
   "id": "253d3998",
   "metadata": {
    "jupyter": {
     "source_hidden": true
    }
   },
   "source": [
    "from tensorflow.keras.layers import Layer\n",
    "from tensorflow.keras import backend as K\n",
    "\n",
    "class AttentionWithContext(Layer):\n",
    "    def __init__(self, **kwargs):\n",
    "        super(AttentionWithContext, self).__init__(**kwargs)\n",
    "\n",
    "    def build(self, input_shape):\n",
    "        self.W = self.add_weight(shape=(input_shape[-1], input_shape[-1]),\n",
    "                                 initializer='glorot_uniform',\n",
    "                                 trainable=True,\n",
    "                                 name='W')\n",
    "        self.u = self.add_weight(shape=(input_shape[-1],),\n",
    "                                 initializer='glorot_uniform',\n",
    "                                 trainable=True,\n",
    "                                 name='u')\n",
    "        super(AttentionWithContext, self).build(input_shape)\n",
    "\n",
    "    def call(self, x):\n",
    "        # x shape: (batch_size, timesteps, features)\n",
    "        uit = K.tanh(K.dot(x, self.W))  # (batch_size, timesteps, features)\n",
    "        # use tf.tensordot to do dot product along features dimension:\n",
    "        ait = tf.tensordot(uit, self.u, axes=[[2], [0]])  # (batch_size, timesteps)\n",
    "        a = K.softmax(ait)  # attention weights (batch_size, timesteps)\n",
    "        a = K.expand_dims(a)  # (batch_size, timesteps, 1)\n",
    "        weighted_input = x * a  # (batch_size, timesteps, features)\n",
    "        output = K.sum(weighted_input, axis=1)  # (batch_size, features)\n",
    "        return output\n",
    "\n",
    "    def compute_output_shape(self, input_shape):\n",
    "        return (input_shape[0], input_shape[-1])"
   ]
  },
  {
   "cell_type": "markdown",
   "id": "1d6293d3",
   "metadata": {},
   "source": [
    "### Model Architecture. "
   ]
  },
  {
   "cell_type": "code",
   "execution_count": 28,
   "id": "f2435f6b",
   "metadata": {},
   "outputs": [],
   "source": [
    "######\n",
    "batch_size = 64 #The number of samples the network sees before it backpropagates (batch size)\n",
    "epochs = 30 #The number of times the network will loop through the entire dataset (epochs)\n",
    "shuffle = True #Set whether to shuffle the training data so the model doesn't see it sequentially \n",
    "verbose = 2 #Set whether the model will output information when trained (0 = no output; 2 = output accuracy every epoch)"
   ]
  },
  {
   "cell_type": "code",
   "execution_count": 29,
   "id": "53a8810d",
   "metadata": {
    "jupyter": {
     "source_hidden": true
    }
   },
   "outputs": [],
   "source": [
    "def categorical_focal_loss(alpha=0.25, gamma=2.0):\n",
    "    def loss(y_true, y_pred):\n",
    "        # Clip predictions to prevent log(0)\n",
    "        epsilon = tf.keras.backend.epsilon()\n",
    "        y_pred = tf.clip_by_value(y_pred, epsilon, 1. - epsilon)\n",
    "\n",
    "        # Cross-entropy loss\n",
    "        cross_entropy = -y_true * tf.math.log(y_pred)\n",
    "\n",
    "        # Compute focal loss scaling factor\n",
    "        focal_factor = tf.pow(1 - y_pred, gamma)\n",
    "        loss = alpha * focal_factor * cross_entropy\n",
    "\n",
    "        return tf.reduce_sum(loss, axis=1)  # sum across classes per sample\n",
    "\n",
    "    return loss"
   ]
  },
  {
   "cell_type": "code",
   "execution_count": 30,
   "id": "2033dcf3",
   "metadata": {},
   "outputs": [],
   "source": [
    "stop_early = tf.keras.callbacks.EarlyStopping(monitor='val_loss', patience=5)"
   ]
  },
  {
   "cell_type": "code",
   "execution_count": 31,
   "id": "d6ef2555",
   "metadata": {},
   "outputs": [],
   "source": [
    "#model\n",
    "def basic_LSTM(ntimestep, nfeature, n1, n2, n3, rl1, rl3, lr):  \n",
    "    input_tensor = Input(shape=(ntimestep, nfeature))\n",
    "    \n",
    "    layer1 = layers.RNN(\n",
    "        layers.LSTMCell(n1, activation='tanh', use_bias=True,\n",
    "                          dropout=0.331, \n",
    "                          kernel_initializer='glorot_uniform',\n",
    "                          kernel_regularizer=keras.regularizers.l2(l2= rl1)),\n",
    "        return_sequences=False)(input_tensor)\n",
    "       \n",
    "    #layer2 = layers.RNN(\n",
    "        #layers.LSTMCell(n2, activation='tanh', use_bias=True,\n",
    "                          #kernel_initializer='glorot_uniform',\n",
    "                          #kernel_regularizer=keras.regularizers.l2(l2= rl1)))(layer1)\n",
    "    \n",
    "    layer3 = layers.Dense(n3, activation='relu',use_bias=True,\n",
    "                          kernel_initializer='he_normal',bias_initializer='he_normal',\n",
    "                          kernel_regularizer=keras.regularizers.l2(l2=rl3))(layer1)\n",
    "\n",
    "    output_tensor = layers.Dense(2, activation='softmax',)(layer3)\n",
    "\n",
    "    model = Model(input_tensor, output_tensor)\n",
    "    opt = tf.keras.optimizers.legacy.Adam(learning_rate=lr)\n",
    "    loss = 'categorical_crossentropy' #categorical_focal_loss(alpha=0.7, gamma=0.5)\n",
    "    #decay_rate = lr / epochs\n",
    "    #momentum = 0.9\n",
    "\n",
    "    model.compile(optimizer=opt,loss=loss,metrics=[keras.metrics.categorical_accuracy],)\n",
    "                            \n",
    "    return model"
   ]
  },
  {
   "cell_type": "code",
   "execution_count": 52,
   "id": "9f2f14ff",
   "metadata": {},
   "outputs": [],
   "source": [
    "tf.keras.backend.clear_session()"
   ]
  },
  {
   "cell_type": "code",
   "execution_count": 53,
   "id": "38576c03",
   "metadata": {},
   "outputs": [],
   "source": [
    "model = basic_LSTM(numb_int[0],numb_int[1], 64, 16, 16, 0.3, 0.2, 0.0006466)\n",
    "#model = basic_LSTM(numb_int[0],numb_int[1], 64, 16, 16, 0.3, 0.2, 0.000765)\n",
    "#model = basic_LSTM(numb_int[0],numb_int[1], 64, 16, 16, 0.208, 0.177, 0.0006466) ###OG\n"
   ]
  },
  {
   "cell_type": "code",
   "execution_count": 54,
   "id": "56fa3c8f",
   "metadata": {},
   "outputs": [],
   "source": [
    "##do the class_dict weights\n",
    "#class_weight = class_weight_creator(Y_train)\n",
    "#class_weight\n",
    "#class_weight = {0: 1.0, 1: 2.0}\n",
    "\n",
    "class_weight = {0: 1.0, 1: 1.79}"
   ]
  },
  {
   "cell_type": "code",
   "execution_count": 55,
   "id": "52bf19f9",
   "metadata": {},
   "outputs": [],
   "source": [
    "#{0: 1.0, 1: 1.8068999}"
   ]
  },
  {
   "cell_type": "code",
   "execution_count": 56,
   "id": "60d579e3",
   "metadata": {
    "scrolled": true
   },
   "outputs": [
    {
     "name": "stdout",
     "output_type": "stream",
     "text": [
      "Train on 5858 samples, validate on 1256 samples\n",
      "Epoch 1/30\n"
     ]
    },
    {
     "name": "stderr",
     "output_type": "stream",
     "text": [
      "2025-06-25 16:30:20.616394: I tensorflow/core/common_runtime/gpu/gpu_device.cc:1926] Created device /job:localhost/replica:0/task:0/device:GPU:0 with 990 MB memory:  -> device: 0, name: NVIDIA H100 80GB HBM3, pci bus id: 0000:2d:00.0, compute capability: 9.0\n",
      "2025-06-25 16:30:20.679853: W tensorflow/c/c_api.cc:305] Operation '{name:'training/Adam/dense_1/bias/v/Assign' id:937 op device:{requested: '', assigned: ''} def:{{{node training/Adam/dense_1/bias/v/Assign}} = AssignVariableOp[_has_manual_control_dependencies=true, dtype=DT_FLOAT, validate_shape=false](training/Adam/dense_1/bias/v, training/Adam/dense_1/bias/v/Initializer/zeros)}}' was changed by setting attribute after it was run by a session. This mutation will have no effect, and will trigger an error in the future. Either don't modify nodes after running them or create a new session.\n"
     ]
    },
    {
     "name": "stdout",
     "output_type": "stream",
     "text": [
      "5858/5858 [==============================] - 2s 318us/sample - loss: 12.0375 - categorical_accuracy: 0.4599 - val_loss: 7.1430 - val_categorical_accuracy: 0.6322\n",
      "Epoch 2/30\n",
      "  64/5858 [..............................] - ETA: 0s - loss: 7.3274 - categorical_accuracy: 0.6250"
     ]
    },
    {
     "name": "stderr",
     "output_type": "stream",
     "text": [
      "/usr/local/lib/python3.10/dist-packages/keras/src/engine/training_v1.py:2335: UserWarning: `Model.state_updates` will be removed in a future version. This property should not be used in TensorFlow 2.0, as `updates` are applied automatically.\n",
      "  updates = self.state_updates\n"
     ]
    },
    {
     "name": "stdout",
     "output_type": "stream",
     "text": [
      "5858/5858 [==============================] - 1s 99us/sample - loss: 5.1000 - categorical_accuracy: 0.6297 - val_loss: 3.3004 - val_categorical_accuracy: 0.6202\n",
      "Epoch 3/30\n",
      "5858/5858 [==============================] - 1s 99us/sample - loss: 2.6726 - categorical_accuracy: 0.6267 - val_loss: 1.9148 - val_categorical_accuracy: 0.5573\n",
      "Epoch 4/30\n",
      "5858/5858 [==============================] - 1s 99us/sample - loss: 1.7364 - categorical_accuracy: 0.6168 - val_loss: 1.3069 - val_categorical_accuracy: 0.5852\n",
      "Epoch 5/30\n",
      "5858/5858 [==============================] - 1s 99us/sample - loss: 1.3123 - categorical_accuracy: 0.6193 - val_loss: 1.0025 - val_categorical_accuracy: 0.6139\n",
      "Epoch 6/30\n",
      "5858/5858 [==============================] - 1s 99us/sample - loss: 1.0943 - categorical_accuracy: 0.6251 - val_loss: 0.8521 - val_categorical_accuracy: 0.6003\n",
      "Epoch 7/30\n",
      "5858/5858 [==============================] - 1s 99us/sample - loss: 0.9737 - categorical_accuracy: 0.6343 - val_loss: 0.7316 - val_categorical_accuracy: 0.6720\n",
      "Epoch 8/30\n",
      "5858/5858 [==============================] - 1s 99us/sample - loss: 0.9167 - categorical_accuracy: 0.6248 - val_loss: 0.7137 - val_categorical_accuracy: 0.6330\n",
      "Epoch 9/30\n",
      "5858/5858 [==============================] - 1s 98us/sample - loss: 0.8850 - categorical_accuracy: 0.6277 - val_loss: 0.6798 - val_categorical_accuracy: 0.6433\n",
      "Epoch 10/30\n",
      "5858/5858 [==============================] - 1s 99us/sample - loss: 0.8675 - categorical_accuracy: 0.6342 - val_loss: 0.6963 - val_categorical_accuracy: 0.6146\n",
      "Epoch 11/30\n",
      "5858/5858 [==============================] - 1s 99us/sample - loss: 0.8629 - categorical_accuracy: 0.6326 - val_loss: 0.7311 - val_categorical_accuracy: 0.5318\n",
      "Epoch 12/30\n",
      "5858/5858 [==============================] - 1s 98us/sample - loss: 0.8573 - categorical_accuracy: 0.6291 - val_loss: 0.6623 - val_categorical_accuracy: 0.6441\n",
      "Epoch 13/30\n",
      "5858/5858 [==============================] - 1s 99us/sample - loss: 0.8560 - categorical_accuracy: 0.6314 - val_loss: 0.6945 - val_categorical_accuracy: 0.6067\n",
      "Epoch 14/30\n",
      "5858/5858 [==============================] - 1s 99us/sample - loss: 0.8532 - categorical_accuracy: 0.6338 - val_loss: 0.6616 - val_categorical_accuracy: 0.6489\n",
      "Epoch 15/30\n",
      "5858/5858 [==============================] - 1s 98us/sample - loss: 0.8532 - categorical_accuracy: 0.6429 - val_loss: 0.6963 - val_categorical_accuracy: 0.5995\n",
      "Epoch 16/30\n",
      "5858/5858 [==============================] - 1s 98us/sample - loss: 0.8511 - categorical_accuracy: 0.6388 - val_loss: 0.6643 - val_categorical_accuracy: 0.6401\n",
      "Epoch 17/30\n",
      "5858/5858 [==============================] - 1s 99us/sample - loss: 0.8515 - categorical_accuracy: 0.6362 - val_loss: 0.6534 - val_categorical_accuracy: 0.6481\n",
      "Epoch 18/30\n",
      "5858/5858 [==============================] - 1s 98us/sample - loss: 0.8488 - categorical_accuracy: 0.6463 - val_loss: 0.7050 - val_categorical_accuracy: 0.5693\n",
      "Epoch 19/30\n",
      "5858/5858 [==============================] - 1s 99us/sample - loss: 0.8483 - categorical_accuracy: 0.6441 - val_loss: 0.6905 - val_categorical_accuracy: 0.6107\n",
      "Epoch 20/30\n",
      "5858/5858 [==============================] - 1s 99us/sample - loss: 0.8511 - categorical_accuracy: 0.6297 - val_loss: 0.6938 - val_categorical_accuracy: 0.5987\n",
      "Epoch 21/30\n",
      "5858/5858 [==============================] - 1s 99us/sample - loss: 0.8465 - categorical_accuracy: 0.6337 - val_loss: 0.6484 - val_categorical_accuracy: 0.6584\n",
      "Epoch 22/30\n",
      "5858/5858 [==============================] - 1s 98us/sample - loss: 0.8469 - categorical_accuracy: 0.6355 - val_loss: 0.6544 - val_categorical_accuracy: 0.6393\n",
      "Epoch 23/30\n",
      "5858/5858 [==============================] - 1s 101us/sample - loss: 0.8455 - categorical_accuracy: 0.6325 - val_loss: 0.6565 - val_categorical_accuracy: 0.6664\n",
      "Epoch 24/30\n",
      "5858/5858 [==============================] - 1s 98us/sample - loss: 0.8485 - categorical_accuracy: 0.6262 - val_loss: 0.7094 - val_categorical_accuracy: 0.5637\n",
      "Epoch 25/30\n",
      "5858/5858 [==============================] - 1s 98us/sample - loss: 0.8488 - categorical_accuracy: 0.6299 - val_loss: 0.6720 - val_categorical_accuracy: 0.6226\n",
      "Epoch 26/30\n",
      "5858/5858 [==============================] - 1s 99us/sample - loss: 0.8462 - categorical_accuracy: 0.6333 - val_loss: 0.6720 - val_categorical_accuracy: 0.6385\n",
      "Epoch 27/30\n",
      "5858/5858 [==============================] - 1s 99us/sample - loss: 0.8493 - categorical_accuracy: 0.6333 - val_loss: 0.6918 - val_categorical_accuracy: 0.6027\n",
      "Epoch 28/30\n",
      "5858/5858 [==============================] - 1s 99us/sample - loss: 0.8491 - categorical_accuracy: 0.6320 - val_loss: 0.7001 - val_categorical_accuracy: 0.5454\n",
      "Epoch 29/30\n",
      "5858/5858 [==============================] - 1s 99us/sample - loss: 0.8457 - categorical_accuracy: 0.6301 - val_loss: 0.6626 - val_categorical_accuracy: 0.6258\n",
      "Epoch 30/30\n",
      "5858/5858 [==============================] - 1s 98us/sample - loss: 0.8472 - categorical_accuracy: 0.6364 - val_loss: 0.6780 - val_categorical_accuracy: 0.6083\n"
     ]
    },
    {
     "data": {
      "text/plain": [
       "<keras.src.callbacks.History at 0x1551a67006a0>"
      ]
     },
     "execution_count": 56,
     "metadata": {},
     "output_type": "execute_result"
    }
   ],
   "source": [
    "model.fit(X_train, Y_train, validation_data=(X_validation, Y_validation),\n",
    "          batch_size=batch_size, epochs=epochs, class_weight=class_weight, shuffle=shuffle)#, callbacks=[stop_early])"
   ]
  },
  {
   "cell_type": "code",
   "execution_count": 57,
   "id": "fc22be05",
   "metadata": {},
   "outputs": [
    {
     "name": "stderr",
     "output_type": "stream",
     "text": [
      "/usr/local/lib/python3.10/dist-packages/keras/src/engine/training_v1.py:2359: UserWarning: `Model.state_updates` will be removed in a future version. This property should not be used in TensorFlow 2.0, as `updates` are applied automatically.\n",
      "  updates=self.state_updates,\n",
      "2025-06-25 16:30:39.465185: W tensorflow/c/c_api.cc:305] Operation '{name:'dense_1/Softmax' id:488 op device:{requested: '', assigned: ''} def:{{{node dense_1/Softmax}} = Softmax[T=DT_FLOAT, _has_manual_control_dependencies=true](dense_1/BiasAdd)}}' was changed by setting attribute after it was run by a session. This mutation will have no effect, and will trigger an error in the future. Either don't modify nodes after running them or create a new session.\n"
     ]
    },
    {
     "data": {
      "text/plain": [
       "<bound method Axes.legend of <Axes: title={'center': 'Accuracy'}, xlabel='Epoch', ylabel='Acc'>>"
      ]
     },
     "execution_count": 57,
     "metadata": {},
     "output_type": "execute_result"
    },
    {
     "data": {
      "image/png": "[encoded data removed]",
      "text/plain": [
       "<Figure size 1600x400 with 2 Axes>"
      ]
     },
     "metadata": {},
     "output_type": "display_data"
    }
   ],
   "source": [
    "train_loss=model.history.history['loss']\n",
    "val_loss=model.history.history['val_loss']\n",
    "    \n",
    "cat_acc=model.history.history['categorical_accuracy']\n",
    "val_acc=model.history.history['val_categorical_accuracy']\n",
    "        \n",
    "pred = model.predict(X_all)\n",
    "pred_val = model.predict(X_validation)\n",
    "pred_train = model.predict(X_train)\n",
    "pred_test = model.predict(X_test)\n",
    "\n",
    "# Look at the optimization history\n",
    "fig, (ax1,ax2) = plt.subplots(1,2, figsize=plt.figaspect(0.25))\n",
    "ax1.plot(train_loss, label='Training loss')\n",
    "ax1.plot(val_loss, label='Validation loss')\n",
    "ax1.set_yscale('log')\n",
    "ax1.set_title('loss')\n",
    "ax1.set_xlabel('Epoch')\n",
    "ax1.set_ylabel('loss')\n",
    "ax1.legend()\n",
    "\n",
    "ax2.plot(cat_acc, label='Training ACC')\n",
    "ax2.plot(val_acc, label='Validation ACC')\n",
    "ax2.set_title('Accuracy')\n",
    "ax2.set_xlabel('Epoch')\n",
    "ax2.set_ylabel('Acc')\n",
    "ax2.legend\n",
    "#plt.savefig(\"SEUS_onearch.png\")"
   ]
  },
  {
   "cell_type": "code",
   "execution_count": 58,
   "id": "9f7e6412",
   "metadata": {},
   "outputs": [
    {
     "name": "stdout",
     "output_type": "stream",
     "text": [
      "              precision    recall  f1-score   support\n",
      "\n",
      "           0      0.758     0.623     0.684       854\n",
      "           1      0.419     0.577     0.485       402\n",
      "\n",
      "    accuracy                          0.608      1256\n",
      "   macro avg      0.588     0.600     0.585      1256\n",
      "weighted avg      0.649     0.608     0.620      1256\n",
      "\n"
     ]
    }
   ],
   "source": [
    "from sklearn.metrics import classification_report\n",
    "import numpy as np\n",
    "\n",
    "y_val_pred = model.predict(X_validation)\n",
    "y_val_classes = np.argmax(y_val_pred, axis=1)\n",
    "y_val_true = np.argmax(Y_validation, axis=1)\n",
    "\n",
    "print(classification_report(y_val_true, y_val_classes, digits=3))"
   ]
  },
  {
   "cell_type": "code",
   "execution_count": 59,
   "id": "9cf81987",
   "metadata": {},
   "outputs": [
    {
     "name": "stdout",
     "output_type": "stream",
     "text": [
      "Brier Score (Model): 0.2458\n",
      "Brier Score (Climatology): 0.2330\n",
      "Brier Skill Score: -0.0553\n"
     ]
    }
   ],
   "source": [
    "# Convert one-hot labels to 1D integer labels (0 or 1)\n",
    "y_true = np.argmax(Y_test, axis=1)\n",
    "\n",
    "# Extract predicted probability for the positive class (class 1)\n",
    "y_prob = pred_test[:,1]\n",
    "\n",
    "# Create climatology baseline: constant probability = mean positive class rate\n",
    "p_climatology = np.full_like(y_true, y_true.mean(), dtype=float)\n",
    "\n",
    "# Compute Brier Scores\n",
    "bs_model = brier_score_loss(y_true, y_prob)\n",
    "bs_climo = brier_score_loss(y_true, p_climatology)\n",
    "\n",
    "# Compute Brier Skill Score\n",
    "bss = 1 - (bs_model / bs_climo)\n",
    "\n",
    "print(f\"Brier Score (Model): {bs_model:.4f}\")\n",
    "print(f\"Brier Score (Climatology): {bs_climo:.4f}\")\n",
    "print(f\"Brier Skill Score: {bss:.4f}\")"
   ]
  },
  {
   "cell_type": "code",
   "execution_count": 60,
   "id": "53c0b96d",
   "metadata": {},
   "outputs": [
    {
     "name": "stdout",
     "output_type": "stream",
     "text": [
      "Brier Score (Model): 0.2458\n",
      "Brier Score (Climatology): 0.6306\n",
      "Brier Skill Score: 0.6102\n"
     ]
    }
   ],
   "source": [
    "## Labels for negative class\n",
    "y_true_neg = 1 - y_true  # flip 0 <-> 1\n",
    "\n",
    "# Predicted probabilities for negative class\n",
    "y_prob_neg = pred_test[:, 0]\n",
    "\n",
    "# Calculate Brier Score and BSS for negative class\n",
    "bs_model_neg = brier_score_loss(y_true_neg, y_prob_neg)\n",
    "bs_climo_neg = brier_score_loss(y_true_neg, np.full_like(y_true_neg, y_true_neg.mean()))\n",
    "bss_neg = 1 - (bs_model_neg / bs_climo_neg)\n",
    "\n",
    "print(f\"Brier Score (Model): {bs_model_neg:.4f}\")\n",
    "print(f\"Brier Score (Climatology): {bs_climo_neg:.4f}\")\n",
    "print(f\"Brier Skill Score: {bss_neg:.4f}\")"
   ]
  },
  {
   "cell_type": "code",
   "execution_count": 61,
   "id": "f3c383a7",
   "metadata": {},
   "outputs": [
    {
     "data": {
      "image/png": "[encoded data removed]",
      "text/plain": [
       "<Figure size 1000x1000 with 6 Axes>"
      ]
     },
     "metadata": {},
     "output_type": "display_data"
    }
   ],
   "source": [
    "bins = np.linspace(0.1, 0.9, 37)  #10 bins from 0.4 to 1\n",
    "##bin the probabilities\n",
    "counts_neg_test, edges_neg_test = np.histogram(pred_test[:,0], bins=bins)\n",
    "counts_pos_test, edges_pos_test = np.histogram(pred_test[:,1], bins=bins)\n",
    "\n",
    "counts_neg_train, edges_neg_train = np.histogram(pred_train[:,0], bins=bins)\n",
    "counts_pos_train, edges_pos_train = np.histogram(pred_train[:,1], bins=bins)\n",
    "\n",
    "counts_neg_val, edges_neg_val = np.histogram(pred_val[:,0], bins=bins)\n",
    "counts_pos_val, edges_pos_val = np.histogram(pred_val[:,1], bins=bins)\n",
    "\n",
    "fig, axes = plt.subplots(3, 2, figsize=(10,10))\n",
    "ax1, ax2, ax3, ax4, ax5, ax6 = axes.flatten()\n",
    "\n",
    "ax1.bar(edges_neg_train[:-1], counts_neg_train, width=np.diff(edges_neg_train), \n",
    "        edgecolor='black', alpha=0.5, align='edge', color='blue')\n",
    "ax1.set_title('Negative Training Predictions', fontsize=13)\n",
    "ax1.set_xlabel('Probability')\n",
    "ax1.set_ylabel('Count')\n",
    "\n",
    "ax2.bar(edges_pos_train[:-1], counts_pos_train, width=np.diff(edges_pos_train), \n",
    "        edgecolor='black', alpha=0.5, align='edge', color='orange')\n",
    "ax2.set_title('Positive Training Predictions', fontsize=13)\n",
    "ax2.set_xlabel('Probability')\n",
    "ax2.set_ylabel('Count')\n",
    "\n",
    "ax3.bar(edges_neg_val[:-1], counts_neg_val, width=np.diff(edges_neg_val), \n",
    "        edgecolor='black', alpha=0.5, align='edge', color='blue')\n",
    "ax3.set_title('Negative Validation Predictions', fontsize=13)\n",
    "ax3.set_xlabel('Probability')\n",
    "ax3.set_ylabel('Count')\n",
    "\n",
    "ax4.bar(edges_pos_val[:-1], counts_pos_val, width=np.diff(edges_pos_val), \n",
    "        edgecolor='black', alpha=0.5, align='edge', color='orange')\n",
    "ax4.set_title('Positive Validation Predictions', fontsize=13)\n",
    "ax4.set_xlabel('Probability')\n",
    "ax4.set_ylabel('Count')\n",
    "\n",
    "ax5.bar(edges_neg_test[:-1], counts_neg_test, width=np.diff(edges_neg_test), \n",
    "        edgecolor='black', alpha=0.5, align='edge', color='blue')\n",
    "ax5.set_title('Negative Testing Predictions', fontsize=13)\n",
    "ax5.set_xlabel('Probability')\n",
    "ax5.set_ylabel('Count')\n",
    "\n",
    "ax6.bar(edges_pos_test[:-1], counts_pos_test, width=np.diff(edges_pos_test), \n",
    "        edgecolor='black', alpha=0.5, align='edge', color='orange')\n",
    "ax6.set_title('Positive Testing Predictions', fontsize=13)\n",
    "ax6.set_xlabel('Probability')\n",
    "ax6.set_ylabel('Count')\n",
    "\n",
    "plt.tight_layout()"
   ]
  },
  {
   "cell_type": "markdown",
   "id": "015482d9",
   "metadata": {},
   "source": [
    "### Try SHAP."
   ]
  },
  {
   "cell_type": "code",
   "execution_count": 82,
   "id": "9afefa35",
   "metadata": {},
   "outputs": [],
   "source": [
    "##testing shap\n",
    "import shap\n",
    "import pylab\n",
    "import random"
   ]
  },
  {
   "cell_type": "code",
   "execution_count": 83,
   "id": "fa63b595",
   "metadata": {},
   "outputs": [],
   "source": [
    "#random range of dates from X_train for explainer\n",
    "start = random.randrange(len(X_train[:,0])-frac_ind)\n",
    "end = start+(frac_ind)"
   ]
  },
  {
   "cell_type": "code",
   "execution_count": null,
   "id": "fbee2b4f",
   "metadata": {},
   "outputs": [],
   "source": [
    "print(start)"
   ]
  },
  {
   "cell_type": "code",
   "execution_count": null,
   "id": "81e13197",
   "metadata": {},
   "outputs": [],
   "source": [
    "#use gradient explainer on subset of training data\n",
    "sample = X_train[start:end]\n",
    "explainer = shap.GradientExplainer(model, sample)"
   ]
  },
  {
   "cell_type": "code",
   "execution_count": null,
   "id": "0427deda",
   "metadata": {},
   "outputs": [],
   "source": [
    "#use explainer\n",
    "shap_values = explainer.shap_values(X_train[:100])"
   ]
  },
  {
   "cell_type": "code",
   "execution_count": null,
   "id": "de98181b",
   "metadata": {},
   "outputs": [],
   "source": [
    "#change shap values to array\n",
    "shap_values = np.array(shap_values)\n",
    "shap_values.shape"
   ]
  },
  {
   "cell_type": "code",
   "execution_count": null,
   "id": "74494e71",
   "metadata": {},
   "outputs": [],
   "source": [
    "aggs = np.abs(shap_values) ##aggregate over the samples to make all positive\n",
    "aggs.shape"
   ]
  },
  {
   "cell_type": "code",
   "execution_count": null,
   "id": "5c185846",
   "metadata": {},
   "outputs": [],
   "source": [
    "#take mean along sample dimension\n",
    "aggs = aggs.mean(axis=1)\n",
    "aggs.shape"
   ]
  },
  {
   "cell_type": "code",
   "execution_count": null,
   "id": "3f7ed05e",
   "metadata": {},
   "outputs": [],
   "source": [
    "feat_cat = aggs.mean(axis=1) ##take mean along timestep axis\n",
    "feat_cat.shape\n",
    "feat_cat_df = pd.DataFrame(feat_cat) #turn into pandas dataframe"
   ]
  },
  {
   "cell_type": "code",
   "execution_count": null,
   "id": "650f6745",
   "metadata": {},
   "outputs": [],
   "source": [
    "feat_cat.shape"
   ]
  },
  {
   "cell_type": "code",
   "execution_count": null,
   "id": "981c24d0",
   "metadata": {},
   "outputs": [],
   "source": [
    "#fetures = ['1', '56', '0', '54', '9', '57', '2', '31', '26', '14','20', '6', '11', '38', '21', '18', '15', '22', '12', '13']\n",
    "\n",
    "#labels for columns\n",
    "features = ['U3', 'GPH4', 'U2', 'GPH2', 'EHF2', 'GPH5', 'U4', 'EHF24', 'EHF19', 'EHF7',\n",
    "            'EHF13', 'U8', 'EHF4', 'EHF31', 'EHF14', 'EHF11', 'EHF8', 'EHF15', 'EHF5', 'EHF6']"
   ]
  },
  {
   "cell_type": "code",
   "execution_count": null,
   "id": "befdc8a3",
   "metadata": {},
   "outputs": [],
   "source": [
    "#add labels and transpose model\n",
    "feat_cat_df.columns = features\n",
    "featcat_df = feat_cat_df.T"
   ]
  },
  {
   "cell_type": "code",
   "execution_count": null,
   "id": "23e07bd4",
   "metadata": {},
   "outputs": [],
   "source": [
    "fig = plt.figure(figsize=(11,10),dpi=100)\n",
    "fig.suptitle(\"SHAP for Predicting Surface Temperature Extreme over Europe 14-days Leadtime\",\n",
    "             fontsize = 19,x=.53) \n",
    " \n",
    "ax1 = fig.add_subplot(1,1,1)\n",
    "featcat_df.loc[featcat_df.sum(1).sort_values(ascending=True).index[:]].plot(\n",
    "    kind=\"barh\", stacked=True, ax = ax1, colormap = 'bwr')\n",
    "ax1.tick_params(axis='both', which='major', labelsize= 16)\n",
    "#ax1.set_yticks([0,1,2,3,4,5,6,7,8],feature_name_bh)\n",
    "ax1.set_xlabel('Mean SHAP value', fontsize =18 )\n",
    "ax1.set_ylabel('Feature', fontsize =18 )\n",
    "ax1.legend(loc = 'lower right', fontsize =18)\n",
    "#ax1.set_xlim(0,0.25)\n",
    "\n",
    "plt.tight_layout()\n",
    "plt.savefig('practice_SHAP.png')"
   ]
  },
  {
   "cell_type": "code",
   "execution_count": null,
   "id": "defca79f",
   "metadata": {},
   "outputs": [],
   "source": [
    "#stuff for creating beeswarm plots\n",
    "shap_class1_agg = np.mean(shap_values[1], axis=1)  #pos class agg shap values (samples, features)\n",
    "shap_class0_agg = np.mean(shap_values[0], axis=1)  #neg class agg shap values (samples, features)\n",
    "X_sample = np.mean(X_train[:100], axis=1) #reference from training for agg shaps(samples, features)"
   ]
  },
  {
   "cell_type": "code",
   "execution_count": null,
   "id": "35c4e279",
   "metadata": {},
   "outputs": [],
   "source": [
    "shap_class1_agg.shape"
   ]
  },
  {
   "cell_type": "code",
   "execution_count": null,
   "id": "83885b91",
   "metadata": {},
   "outputs": [],
   "source": [
    "#separate reference dataframe with column names. \n",
    "X_df = pd.DataFrame(X_sample, columns=features)"
   ]
  },
  {
   "cell_type": "code",
   "execution_count": null,
   "id": "c0488c3b",
   "metadata": {},
   "outputs": [],
   "source": [
    "shap.summary_plot(shap_class1_agg, X_df, show=False)\n",
    "fig = plt.gcf()\n",
    "ax = plt.gca()\n",
    "\n",
    "fig.suptitle(\"SHAP Beeswarm Plot – Positive Class (14-day Forecast)\", fontsize=16)\n",
    "ax.set_xlabel(\"Mean SHAP Value\", fontsize=14)\n",
    "ax.set_ylabel(\"Features\", fontsize=14)\n",
    "ax.tick_params(axis='both', labelsize=12)\n",
    "\n",
    "plt.tight_layout()\n",
    "plt.savefig(\"beeswarm_postest.png\")\n",
    "plt.show()"
   ]
  },
  {
   "cell_type": "code",
   "execution_count": null,
   "id": "4ee8a75e",
   "metadata": {},
   "outputs": [],
   "source": [
    "shap.summary_plot(shap_class0_agg, X_df, show=False)\n",
    "fig = plt.gcf()\n",
    "ax = plt.gca()\n",
    "\n",
    "fig.suptitle(\"SHAP Beeswarm Plot – Negative Class (14-day Forecast)\", fontsize=16)\n",
    "ax.set_xlabel(\"Mean SHAP Value\", fontsize=14)\n",
    "ax.set_ylabel(\"Features\", fontsize=14)\n",
    "ax.tick_params(axis='both', labelsize=12)\n",
    "\n",
    "plt.tight_layout()\n",
    "plt.savefig(\"beeswarm_negtest.png\")\n",
    "plt.show()"
   ]
  },
  {
   "cell_type": "code",
   "execution_count": null,
   "id": "aaa6dc27",
   "metadata": {},
   "outputs": [],
   "source": []
  }
 ],
 "metadata": {
  "kernelspec": {
   "display_name": "Python 3 (ipykernel)",
   "language": "python",
   "name": "python3"
  },
  "language_info": {
   "codemirror_mode": {
    "name": "ipython",
    "version": 3
   },
   "file_extension": ".py",
   "mimetype": "text/x-python",
   "name": "python",
   "nbconvert_exporter": "python",
   "pygments_lexer": "ipython3",
   "version": "3.10.12"
  }
 },
 "nbformat": 4,
 "nbformat_minor": 5
}
