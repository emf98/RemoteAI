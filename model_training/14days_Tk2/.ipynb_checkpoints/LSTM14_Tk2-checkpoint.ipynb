{
 "cells": [
  {
   "cell_type": "markdown",
   "id": "7264a804",
   "metadata": {},
   "source": [
    "### Starting over with the LSTM model ... \n",
    "\n",
    "File initially created 6/5/2025. \n",
    "\n",
    "I will start with a 14 day model. "
   ]
  },
  {
   "cell_type": "code",
   "execution_count": 1,
   "id": "242c1313",
   "metadata": {},
   "outputs": [
    {
     "name": "stderr",
     "output_type": "stream",
     "text": [
      "2025-06-18 23:58:42.615776: I tensorflow/core/util/port.cc:113] oneDNN custom operations are on. You may see slightly different numerical results due to floating-point round-off errors from different computation orders. To turn them off, set the environment variable `TF_ENABLE_ONEDNN_OPTS=0`.\n",
      "2025-06-18 23:58:42.647262: E external/local_xla/xla/stream_executor/cuda/cuda_dnn.cc:9373] Unable to register cuDNN factory: Attempting to register factory for plugin cuDNN when one has already been registered\n",
      "2025-06-18 23:58:42.647284: E external/local_xla/xla/stream_executor/cuda/cuda_fft.cc:607] Unable to register cuFFT factory: Attempting to register factory for plugin cuFFT when one has already been registered\n",
      "2025-06-18 23:58:42.648239: E external/local_xla/xla/stream_executor/cuda/cuda_blas.cc:1534] Unable to register cuBLAS factory: Attempting to register factory for plugin cuBLAS when one has already been registered\n",
      "2025-06-18 23:58:42.653334: I tensorflow/core/platform/cpu_feature_guard.cc:183] This TensorFlow binary is optimized to use available CPU instructions in performance-critical operations.\n",
      "To enable the following instructions: SSE3 SSE4.1 SSE4.2 AVX, in other operations, rebuild TensorFlow with the appropriate compiler flags.\n",
      "2025-06-18 23:58:43.998789: I tensorflow/core/common_runtime/gpu/gpu_device.cc:1926] Created device /job:localhost/replica:0/task:0/device:GPU:0 with 990 MB memory:  -> device: 0, name: NVIDIA H100 80GB HBM3, pci bus id: 0000:2d:00.0, compute capability: 9.0\n"
     ]
    }
   ],
   "source": [
    "##import cell makes its appearance once again...\n",
    "%matplotlib inline\n",
    "##so-called \"math\" related imports\n",
    "#from netCDF4 import Dataset as ncread\n",
    "import numpy as np\n",
    "import pandas as pd\n",
    "import math\n",
    "from random import seed\n",
    "from random import randint\n",
    "from random import sample\n",
    "from scipy.ndimage import gaussian_filter\n",
    "from sklearn.metrics import brier_score_loss\n",
    "import xarray as xr\n",
    "\n",
    "import pickle\n",
    "\n",
    "##plotting related imports\n",
    "import matplotlib.pyplot as plt\n",
    "\n",
    "#import tensorflow/keras related files\n",
    "import tensorflow as tf    \n",
    "#tf.compat.v1.disable_v2_behavior() # <-- HERE !\n",
    "\n",
    "tf.device('/physical_device:GPU:0')\n",
    "\n",
    "from tensorflow import keras\n",
    "from tensorflow.keras import layers\n",
    "from tensorflow.keras import Input\n",
    "from tensorflow.keras.models import Model\n",
    "from tensorflow.keras.callbacks import ModelCheckpoint\n",
    "from tensorflow.keras import regularizers\n",
    "import tensorflow.keras.backend as K\n",
    "from tensorflow.keras.utils import to_categorical\n",
    "from tensorflow.keras.layers import Dropout, Activation, Reshape, Flatten, LSTM, Dense, Dropout, Embedding, Bidirectional, GRU\n",
    "from tensorflow.keras import Sequential\n",
    "from tensorflow.keras import initializers, regularizers\n",
    "from tensorflow.keras import optimizers\n",
    "from tensorflow.keras import constraints\n",
    "from tensorflow.keras.layers import Layer, InputSpec\n",
    "\n",
    "tf.compat.v1.disable_eager_execution()\n",
    "#import investigate"
   ]
  },
  {
   "cell_type": "code",
   "execution_count": 2,
   "id": "01d8046b",
   "metadata": {},
   "outputs": [
    {
     "name": "stdout",
     "output_type": "stream",
     "text": [
      "2.15.0\n"
     ]
    }
   ],
   "source": [
    "print(tf.__version__)"
   ]
  },
  {
   "cell_type": "code",
   "execution_count": 3,
   "id": "ca0c4dc0",
   "metadata": {},
   "outputs": [],
   "source": [
    "##load in solvers for PC analysis to get the PCs for the model itself. "
   ]
  },
  {
   "cell_type": "code",
   "execution_count": 4,
   "id": "4d397bbf",
   "metadata": {},
   "outputs": [],
   "source": [
    "# load input solvers\n",
    "infile = open(\"../../reduced_data/PCs/U_14.p\",\"rb\",)\n",
    "U_PC = pickle.load(infile)  ##zonal mean wind\n",
    "infile.close()\n",
    "\n",
    "infile = open(\"../../reduced_data/PCs/EHF_14.p\",\"rb\",)\n",
    "EHF_PC = pickle.load(infile)  ##ZMehf vertical cross section along longitudes\n",
    "infile.close()\n",
    "\n",
    "infile = open(\"../../reduced_data/PCs/GPH_14.p\",\"rb\",)\n",
    "GPH_PC = pickle.load(infile)  ##ZMehf vertical cross section along longitudes\n",
    "infile.close()"
   ]
  },
  {
   "cell_type": "code",
   "execution_count": 5,
   "id": "2f09d85b",
   "metadata": {},
   "outputs": [],
   "source": [
    "##remove PC 1\n",
    "U_PC = U_PC[:, 1:]\n",
    "EHF_PC = EHF_PC[:, 1:]\n",
    "GPH_PC = GPH_PC[:, 1:]"
   ]
  },
  {
   "cell_type": "code",
   "execution_count": 6,
   "id": "1d34277d",
   "metadata": {},
   "outputs": [
    {
     "data": {
      "text/plain": [
       "(9238, 9)"
      ]
     },
     "execution_count": 6,
     "metadata": {},
     "output_type": "execute_result"
    }
   ],
   "source": [
    "U_PC.shape"
   ]
  },
  {
   "cell_type": "code",
   "execution_count": 7,
   "id": "a6234b87",
   "metadata": {
    "scrolled": true
   },
   "outputs": [],
   "source": [
    "# load output data\n",
    "infile = open(\"../../reduced_data/temps/eur_14.p\",\"rb\",)\n",
    "output = pickle.load(infile) \n",
    "infile.close()"
   ]
  },
  {
   "cell_type": "code",
   "execution_count": 8,
   "id": "5df78d0e",
   "metadata": {},
   "outputs": [
    {
     "data": {
      "text/plain": [
       "(9238,)"
      ]
     },
     "execution_count": 8,
     "metadata": {},
     "output_type": "execute_result"
    }
   ],
   "source": [
    "output.shape"
   ]
  },
  {
   "cell_type": "code",
   "execution_count": 9,
   "id": "97bda3e8",
   "metadata": {},
   "outputs": [],
   "source": [
    "##create one array of PCs\n",
    "inputvar = np.concatenate((U_PC,EHF_PC,GPH_PC),axis=1) "
   ]
  },
  {
   "cell_type": "code",
   "execution_count": 10,
   "id": "e8cab9f5",
   "metadata": {},
   "outputs": [
    {
     "data": {
      "text/html": [
       "<div>\n",
       "<style scoped>\n",
       "    .dataframe tbody tr th:only-of-type {\n",
       "        vertical-align: middle;\n",
       "    }\n",
       "\n",
       "    .dataframe tbody tr th {\n",
       "        vertical-align: top;\n",
       "    }\n",
       "\n",
       "    .dataframe thead th {\n",
       "        text-align: right;\n",
       "    }\n",
       "</style>\n",
       "<table border=\"1\" class=\"dataframe\">\n",
       "  <thead>\n",
       "    <tr style=\"text-align: right;\">\n",
       "      <th></th>\n",
       "      <th>0</th>\n",
       "      <th>1</th>\n",
       "      <th>2</th>\n",
       "      <th>3</th>\n",
       "      <th>4</th>\n",
       "      <th>5</th>\n",
       "      <th>6</th>\n",
       "      <th>7</th>\n",
       "      <th>8</th>\n",
       "      <th>9</th>\n",
       "      <th>...</th>\n",
       "      <th>52</th>\n",
       "      <th>53</th>\n",
       "      <th>54</th>\n",
       "      <th>55</th>\n",
       "      <th>56</th>\n",
       "      <th>57</th>\n",
       "      <th>58</th>\n",
       "      <th>59</th>\n",
       "      <th>60</th>\n",
       "      <th>61</th>\n",
       "    </tr>\n",
       "  </thead>\n",
       "  <tbody>\n",
       "    <tr>\n",
       "      <th>0</th>\n",
       "      <td>0.791039</td>\n",
       "      <td>-1.727149</td>\n",
       "      <td>1.481165</td>\n",
       "      <td>-1.684007</td>\n",
       "      <td>0.329935</td>\n",
       "      <td>1.656387</td>\n",
       "      <td>-0.211460</td>\n",
       "      <td>1.453994</td>\n",
       "      <td>0.837609</td>\n",
       "      <td>0.195595</td>\n",
       "      <td>...</td>\n",
       "      <td>0.172799</td>\n",
       "      <td>1.564267</td>\n",
       "      <td>0.584225</td>\n",
       "      <td>-0.036226</td>\n",
       "      <td>0.870949</td>\n",
       "      <td>0.482494</td>\n",
       "      <td>0.197297</td>\n",
       "      <td>0.694999</td>\n",
       "      <td>-0.395420</td>\n",
       "      <td>-1.128227</td>\n",
       "    </tr>\n",
       "    <tr>\n",
       "      <th>1</th>\n",
       "      <td>0.821552</td>\n",
       "      <td>-1.842438</td>\n",
       "      <td>1.416795</td>\n",
       "      <td>-1.725300</td>\n",
       "      <td>-0.155038</td>\n",
       "      <td>2.059544</td>\n",
       "      <td>0.081825</td>\n",
       "      <td>1.419269</td>\n",
       "      <td>0.147530</td>\n",
       "      <td>0.234372</td>\n",
       "      <td>...</td>\n",
       "      <td>-0.436175</td>\n",
       "      <td>1.686121</td>\n",
       "      <td>0.834128</td>\n",
       "      <td>0.081523</td>\n",
       "      <td>0.887701</td>\n",
       "      <td>0.621646</td>\n",
       "      <td>0.388313</td>\n",
       "      <td>0.968120</td>\n",
       "      <td>-0.156091</td>\n",
       "      <td>-1.539525</td>\n",
       "    </tr>\n",
       "    <tr>\n",
       "      <th>2</th>\n",
       "      <td>0.888491</td>\n",
       "      <td>-1.958864</td>\n",
       "      <td>1.626327</td>\n",
       "      <td>-1.405833</td>\n",
       "      <td>-0.030527</td>\n",
       "      <td>1.728328</td>\n",
       "      <td>0.536282</td>\n",
       "      <td>0.792897</td>\n",
       "      <td>-1.002197</td>\n",
       "      <td>0.268253</td>\n",
       "      <td>...</td>\n",
       "      <td>0.480251</td>\n",
       "      <td>1.535731</td>\n",
       "      <td>1.169094</td>\n",
       "      <td>0.118023</td>\n",
       "      <td>0.852785</td>\n",
       "      <td>0.684715</td>\n",
       "      <td>0.481477</td>\n",
       "      <td>0.804988</td>\n",
       "      <td>0.313862</td>\n",
       "      <td>-1.607084</td>\n",
       "    </tr>\n",
       "    <tr>\n",
       "      <th>3</th>\n",
       "      <td>0.883083</td>\n",
       "      <td>-1.953125</td>\n",
       "      <td>1.878820</td>\n",
       "      <td>-0.966085</td>\n",
       "      <td>0.620002</td>\n",
       "      <td>1.275088</td>\n",
       "      <td>0.679312</td>\n",
       "      <td>1.133707</td>\n",
       "      <td>-0.758163</td>\n",
       "      <td>0.231512</td>\n",
       "      <td>...</td>\n",
       "      <td>-0.880181</td>\n",
       "      <td>1.224010</td>\n",
       "      <td>1.292322</td>\n",
       "      <td>-0.031788</td>\n",
       "      <td>0.794642</td>\n",
       "      <td>0.805009</td>\n",
       "      <td>0.279682</td>\n",
       "      <td>0.627936</td>\n",
       "      <td>0.181622</td>\n",
       "      <td>-0.832041</td>\n",
       "    </tr>\n",
       "    <tr>\n",
       "      <th>4</th>\n",
       "      <td>0.799762</td>\n",
       "      <td>-1.914598</td>\n",
       "      <td>1.794036</td>\n",
       "      <td>-0.578514</td>\n",
       "      <td>1.147515</td>\n",
       "      <td>0.969589</td>\n",
       "      <td>0.594968</td>\n",
       "      <td>1.942123</td>\n",
       "      <td>-0.141386</td>\n",
       "      <td>0.126057</td>\n",
       "      <td>...</td>\n",
       "      <td>-0.636755</td>\n",
       "      <td>0.993273</td>\n",
       "      <td>1.244127</td>\n",
       "      <td>-0.186460</td>\n",
       "      <td>0.879478</td>\n",
       "      <td>1.131472</td>\n",
       "      <td>0.345422</td>\n",
       "      <td>0.342985</td>\n",
       "      <td>0.390064</td>\n",
       "      <td>0.147311</td>\n",
       "    </tr>\n",
       "    <tr>\n",
       "      <th>...</th>\n",
       "      <td>...</td>\n",
       "      <td>...</td>\n",
       "      <td>...</td>\n",
       "      <td>...</td>\n",
       "      <td>...</td>\n",
       "      <td>...</td>\n",
       "      <td>...</td>\n",
       "      <td>...</td>\n",
       "      <td>...</td>\n",
       "      <td>...</td>\n",
       "      <td>...</td>\n",
       "      <td>...</td>\n",
       "      <td>...</td>\n",
       "      <td>...</td>\n",
       "      <td>...</td>\n",
       "      <td>...</td>\n",
       "      <td>...</td>\n",
       "      <td>...</td>\n",
       "      <td>...</td>\n",
       "      <td>...</td>\n",
       "      <td>...</td>\n",
       "    </tr>\n",
       "    <tr>\n",
       "      <th>9233</th>\n",
       "      <td>0.739117</td>\n",
       "      <td>0.344881</td>\n",
       "      <td>-1.039941</td>\n",
       "      <td>1.907440</td>\n",
       "      <td>-0.463413</td>\n",
       "      <td>1.368651</td>\n",
       "      <td>1.955351</td>\n",
       "      <td>-1.003432</td>\n",
       "      <td>-1.171885</td>\n",
       "      <td>-0.032577</td>\n",
       "      <td>...</td>\n",
       "      <td>0.667313</td>\n",
       "      <td>0.159405</td>\n",
       "      <td>1.871430</td>\n",
       "      <td>1.036272</td>\n",
       "      <td>-0.931433</td>\n",
       "      <td>-0.594206</td>\n",
       "      <td>1.060108</td>\n",
       "      <td>0.489458</td>\n",
       "      <td>0.632401</td>\n",
       "      <td>1.478229</td>\n",
       "    </tr>\n",
       "    <tr>\n",
       "      <th>9234</th>\n",
       "      <td>0.708051</td>\n",
       "      <td>0.610486</td>\n",
       "      <td>-0.735913</td>\n",
       "      <td>1.811668</td>\n",
       "      <td>1.011904</td>\n",
       "      <td>0.905560</td>\n",
       "      <td>2.091698</td>\n",
       "      <td>-0.923073</td>\n",
       "      <td>-0.182186</td>\n",
       "      <td>0.100459</td>\n",
       "      <td>...</td>\n",
       "      <td>0.677382</td>\n",
       "      <td>0.532989</td>\n",
       "      <td>1.945315</td>\n",
       "      <td>1.078350</td>\n",
       "      <td>-0.883960</td>\n",
       "      <td>-0.255287</td>\n",
       "      <td>1.054779</td>\n",
       "      <td>0.616516</td>\n",
       "      <td>0.933306</td>\n",
       "      <td>0.541883</td>\n",
       "    </tr>\n",
       "    <tr>\n",
       "      <th>9235</th>\n",
       "      <td>0.612392</td>\n",
       "      <td>0.813433</td>\n",
       "      <td>-0.491388</td>\n",
       "      <td>1.058656</td>\n",
       "      <td>2.158425</td>\n",
       "      <td>0.531745</td>\n",
       "      <td>2.458308</td>\n",
       "      <td>-0.798223</td>\n",
       "      <td>1.449475</td>\n",
       "      <td>0.138989</td>\n",
       "      <td>...</td>\n",
       "      <td>0.355340</td>\n",
       "      <td>1.044255</td>\n",
       "      <td>1.904598</td>\n",
       "      <td>0.936523</td>\n",
       "      <td>-1.013030</td>\n",
       "      <td>-0.031661</td>\n",
       "      <td>1.253826</td>\n",
       "      <td>0.375767</td>\n",
       "      <td>0.830058</td>\n",
       "      <td>-0.412274</td>\n",
       "    </tr>\n",
       "    <tr>\n",
       "      <th>9236</th>\n",
       "      <td>0.179745</td>\n",
       "      <td>0.300776</td>\n",
       "      <td>-0.592462</td>\n",
       "      <td>-0.004740</td>\n",
       "      <td>2.092489</td>\n",
       "      <td>-0.249596</td>\n",
       "      <td>1.450899</td>\n",
       "      <td>-0.071044</td>\n",
       "      <td>2.113109</td>\n",
       "      <td>0.101430</td>\n",
       "      <td>...</td>\n",
       "      <td>-0.112332</td>\n",
       "      <td>1.295592</td>\n",
       "      <td>1.709359</td>\n",
       "      <td>0.596902</td>\n",
       "      <td>-1.099654</td>\n",
       "      <td>-0.021087</td>\n",
       "      <td>1.714048</td>\n",
       "      <td>0.279814</td>\n",
       "      <td>0.649183</td>\n",
       "      <td>-0.773683</td>\n",
       "    </tr>\n",
       "    <tr>\n",
       "      <th>9237</th>\n",
       "      <td>-0.171662</td>\n",
       "      <td>-0.141076</td>\n",
       "      <td>-0.920245</td>\n",
       "      <td>-0.283947</td>\n",
       "      <td>0.960485</td>\n",
       "      <td>-0.176553</td>\n",
       "      <td>0.644020</td>\n",
       "      <td>0.822152</td>\n",
       "      <td>2.009169</td>\n",
       "      <td>0.178951</td>\n",
       "      <td>...</td>\n",
       "      <td>0.076846</td>\n",
       "      <td>1.124540</td>\n",
       "      <td>1.518323</td>\n",
       "      <td>0.307120</td>\n",
       "      <td>-0.841747</td>\n",
       "      <td>-0.354376</td>\n",
       "      <td>1.852638</td>\n",
       "      <td>0.494849</td>\n",
       "      <td>0.489356</td>\n",
       "      <td>-0.597684</td>\n",
       "    </tr>\n",
       "  </tbody>\n",
       "</table>\n",
       "<p>9238 rows × 62 columns</p>\n",
       "</div>"
      ],
      "text/plain": [
       "            0         1         2         3         4         5         6   \\\n",
       "0     0.791039 -1.727149  1.481165 -1.684007  0.329935  1.656387 -0.211460   \n",
       "1     0.821552 -1.842438  1.416795 -1.725300 -0.155038  2.059544  0.081825   \n",
       "2     0.888491 -1.958864  1.626327 -1.405833 -0.030527  1.728328  0.536282   \n",
       "3     0.883083 -1.953125  1.878820 -0.966085  0.620002  1.275088  0.679312   \n",
       "4     0.799762 -1.914598  1.794036 -0.578514  1.147515  0.969589  0.594968   \n",
       "...        ...       ...       ...       ...       ...       ...       ...   \n",
       "9233  0.739117  0.344881 -1.039941  1.907440 -0.463413  1.368651  1.955351   \n",
       "9234  0.708051  0.610486 -0.735913  1.811668  1.011904  0.905560  2.091698   \n",
       "9235  0.612392  0.813433 -0.491388  1.058656  2.158425  0.531745  2.458308   \n",
       "9236  0.179745  0.300776 -0.592462 -0.004740  2.092489 -0.249596  1.450899   \n",
       "9237 -0.171662 -0.141076 -0.920245 -0.283947  0.960485 -0.176553  0.644020   \n",
       "\n",
       "            7         8         9   ...        52        53        54  \\\n",
       "0     1.453994  0.837609  0.195595  ...  0.172799  1.564267  0.584225   \n",
       "1     1.419269  0.147530  0.234372  ... -0.436175  1.686121  0.834128   \n",
       "2     0.792897 -1.002197  0.268253  ...  0.480251  1.535731  1.169094   \n",
       "3     1.133707 -0.758163  0.231512  ... -0.880181  1.224010  1.292322   \n",
       "4     1.942123 -0.141386  0.126057  ... -0.636755  0.993273  1.244127   \n",
       "...        ...       ...       ...  ...       ...       ...       ...   \n",
       "9233 -1.003432 -1.171885 -0.032577  ...  0.667313  0.159405  1.871430   \n",
       "9234 -0.923073 -0.182186  0.100459  ...  0.677382  0.532989  1.945315   \n",
       "9235 -0.798223  1.449475  0.138989  ...  0.355340  1.044255  1.904598   \n",
       "9236 -0.071044  2.113109  0.101430  ... -0.112332  1.295592  1.709359   \n",
       "9237  0.822152  2.009169  0.178951  ...  0.076846  1.124540  1.518323   \n",
       "\n",
       "            55        56        57        58        59        60        61  \n",
       "0    -0.036226  0.870949  0.482494  0.197297  0.694999 -0.395420 -1.128227  \n",
       "1     0.081523  0.887701  0.621646  0.388313  0.968120 -0.156091 -1.539525  \n",
       "2     0.118023  0.852785  0.684715  0.481477  0.804988  0.313862 -1.607084  \n",
       "3    -0.031788  0.794642  0.805009  0.279682  0.627936  0.181622 -0.832041  \n",
       "4    -0.186460  0.879478  1.131472  0.345422  0.342985  0.390064  0.147311  \n",
       "...        ...       ...       ...       ...       ...       ...       ...  \n",
       "9233  1.036272 -0.931433 -0.594206  1.060108  0.489458  0.632401  1.478229  \n",
       "9234  1.078350 -0.883960 -0.255287  1.054779  0.616516  0.933306  0.541883  \n",
       "9235  0.936523 -1.013030 -0.031661  1.253826  0.375767  0.830058 -0.412274  \n",
       "9236  0.596902 -1.099654 -0.021087  1.714048  0.279814  0.649183 -0.773683  \n",
       "9237  0.307120 -0.841747 -0.354376  1.852638  0.494849  0.489356 -0.597684  \n",
       "\n",
       "[9238 rows x 62 columns]"
      ]
     },
     "execution_count": 10,
     "metadata": {},
     "output_type": "execute_result"
    }
   ],
   "source": [
    "##make pandas dataframe for RF\n",
    "input = pd.DataFrame(inputvar)\n",
    "input"
   ]
  },
  {
   "cell_type": "code",
   "execution_count": 11,
   "id": "768d9281",
   "metadata": {},
   "outputs": [
    {
     "name": "stdout",
     "output_type": "stream",
     "text": [
      "(62, 135)\n"
     ]
    }
   ],
   "source": [
    "##need to change this based on lag \n",
    "## 14-days = [:, 10:] 10 day window rather than 14\n",
    "## 20-days = [:, 16:]\n",
    "## 30-days = [:, 26:]\n",
    "\n",
    "# 139\n",
    "# 133\n",
    "# 123\n",
    "\n",
    "## 14-days = [:, 14:] 14 day window\n",
    "## 20-days = [:, 20:]\n",
    "## 30-days = [:, 30:]\n",
    "\n",
    "# 135\n",
    "# 129\n",
    "# 119\n",
    "\n",
    "lead = 135\n",
    "\n",
    "temp = output.reshape(62, 149)\n",
    "temp = temp[:, 14:]\n",
    "print(temp.shape)\n",
    "\n",
    "temp_flat = temp.flatten()"
   ]
  },
  {
   "cell_type": "code",
   "execution_count": 12,
   "id": "74a7f93a",
   "metadata": {},
   "outputs": [],
   "source": [
    "#selected indices\n",
    "#EUROPE\n",
    "#input[[1, 56, 0, 54, 9, 57, 2, 31, 26, 14, 20, 6, 11, 38, 21, 18, 15, 22, 12, 13]]\n",
    "\n",
    "##CANADA\n",
    "#input[[56, 1, 0, 55, 2, 53, 22, 57, 9, 25, 11, 4, 54, 38, 17, 30, 36, 3, 14, 26]]\n",
    "\n",
    "##SE US\n",
    "#input[[56, 1, 54, 18, 53, 3, 0, 10, 5, 19, 21, 14, 2, 57, 13, 60, 22, 26,25, 11]]"
   ]
  },
  {
   "cell_type": "code",
   "execution_count": 13,
   "id": "73ea9d4a",
   "metadata": {},
   "outputs": [],
   "source": [
    "#create pd datafram of selected feature columns.\n",
    "sele_ind_df = input[[1, 56, 0, 54, 9, 57, 2, 31, 26, 14, 20, 6, 11, 38, 21, 18, 15, 22, 12, 13]]\n",
    "\n",
    "n_features = 20"
   ]
  },
  {
   "cell_type": "code",
   "execution_count": 14,
   "id": "9726e0c2",
   "metadata": {},
   "outputs": [
    {
     "data": {
      "text/html": [
       "<div>\n",
       "<style scoped>\n",
       "    .dataframe tbody tr th:only-of-type {\n",
       "        vertical-align: middle;\n",
       "    }\n",
       "\n",
       "    .dataframe tbody tr th {\n",
       "        vertical-align: top;\n",
       "    }\n",
       "\n",
       "    .dataframe thead th {\n",
       "        text-align: right;\n",
       "    }\n",
       "</style>\n",
       "<table border=\"1\" class=\"dataframe\">\n",
       "  <thead>\n",
       "    <tr style=\"text-align: right;\">\n",
       "      <th></th>\n",
       "      <th>1</th>\n",
       "      <th>56</th>\n",
       "      <th>0</th>\n",
       "      <th>54</th>\n",
       "      <th>9</th>\n",
       "      <th>57</th>\n",
       "      <th>2</th>\n",
       "      <th>31</th>\n",
       "      <th>26</th>\n",
       "      <th>14</th>\n",
       "      <th>20</th>\n",
       "      <th>6</th>\n",
       "      <th>11</th>\n",
       "      <th>38</th>\n",
       "      <th>21</th>\n",
       "      <th>18</th>\n",
       "      <th>15</th>\n",
       "      <th>22</th>\n",
       "      <th>12</th>\n",
       "      <th>13</th>\n",
       "    </tr>\n",
       "  </thead>\n",
       "  <tbody>\n",
       "    <tr>\n",
       "      <th>0</th>\n",
       "      <td>-1.727149</td>\n",
       "      <td>0.870949</td>\n",
       "      <td>0.791039</td>\n",
       "      <td>0.584225</td>\n",
       "      <td>0.195595</td>\n",
       "      <td>0.482494</td>\n",
       "      <td>1.481165</td>\n",
       "      <td>-0.840203</td>\n",
       "      <td>-0.190102</td>\n",
       "      <td>0.057985</td>\n",
       "      <td>-0.773881</td>\n",
       "      <td>-0.211460</td>\n",
       "      <td>-0.443124</td>\n",
       "      <td>-0.130601</td>\n",
       "      <td>0.202801</td>\n",
       "      <td>-0.186997</td>\n",
       "      <td>-0.187630</td>\n",
       "      <td>-0.032653</td>\n",
       "      <td>-0.019193</td>\n",
       "      <td>0.376977</td>\n",
       "    </tr>\n",
       "    <tr>\n",
       "      <th>1</th>\n",
       "      <td>-1.842438</td>\n",
       "      <td>0.887701</td>\n",
       "      <td>0.821552</td>\n",
       "      <td>0.834128</td>\n",
       "      <td>0.234372</td>\n",
       "      <td>0.621646</td>\n",
       "      <td>1.416795</td>\n",
       "      <td>0.061981</td>\n",
       "      <td>0.047160</td>\n",
       "      <td>0.038753</td>\n",
       "      <td>-0.324938</td>\n",
       "      <td>0.081825</td>\n",
       "      <td>-0.373201</td>\n",
       "      <td>0.321552</td>\n",
       "      <td>0.467937</td>\n",
       "      <td>-0.598541</td>\n",
       "      <td>-0.270955</td>\n",
       "      <td>0.027107</td>\n",
       "      <td>-0.049397</td>\n",
       "      <td>0.386002</td>\n",
       "    </tr>\n",
       "    <tr>\n",
       "      <th>2</th>\n",
       "      <td>-1.958864</td>\n",
       "      <td>0.852785</td>\n",
       "      <td>0.888491</td>\n",
       "      <td>1.169094</td>\n",
       "      <td>0.268253</td>\n",
       "      <td>0.684715</td>\n",
       "      <td>1.626327</td>\n",
       "      <td>0.298515</td>\n",
       "      <td>-0.432859</td>\n",
       "      <td>0.009860</td>\n",
       "      <td>-0.306709</td>\n",
       "      <td>0.536282</td>\n",
       "      <td>-0.265632</td>\n",
       "      <td>0.342450</td>\n",
       "      <td>0.137449</td>\n",
       "      <td>-0.366524</td>\n",
       "      <td>-0.253419</td>\n",
       "      <td>0.012183</td>\n",
       "      <td>0.024585</td>\n",
       "      <td>0.317177</td>\n",
       "    </tr>\n",
       "    <tr>\n",
       "      <th>3</th>\n",
       "      <td>-1.953125</td>\n",
       "      <td>0.794642</td>\n",
       "      <td>0.883083</td>\n",
       "      <td>1.292322</td>\n",
       "      <td>0.231512</td>\n",
       "      <td>0.805009</td>\n",
       "      <td>1.878820</td>\n",
       "      <td>0.660462</td>\n",
       "      <td>-0.094418</td>\n",
       "      <td>0.000942</td>\n",
       "      <td>0.019133</td>\n",
       "      <td>0.679312</td>\n",
       "      <td>-0.231309</td>\n",
       "      <td>0.463792</td>\n",
       "      <td>0.329118</td>\n",
       "      <td>-0.513304</td>\n",
       "      <td>-0.236251</td>\n",
       "      <td>-0.282491</td>\n",
       "      <td>0.136366</td>\n",
       "      <td>0.271059</td>\n",
       "    </tr>\n",
       "    <tr>\n",
       "      <th>4</th>\n",
       "      <td>-1.914598</td>\n",
       "      <td>0.879478</td>\n",
       "      <td>0.799762</td>\n",
       "      <td>1.244127</td>\n",
       "      <td>0.126057</td>\n",
       "      <td>1.131472</td>\n",
       "      <td>1.794036</td>\n",
       "      <td>0.447582</td>\n",
       "      <td>-0.096808</td>\n",
       "      <td>-0.171956</td>\n",
       "      <td>0.254848</td>\n",
       "      <td>0.594968</td>\n",
       "      <td>-0.224626</td>\n",
       "      <td>0.005776</td>\n",
       "      <td>-0.106193</td>\n",
       "      <td>-0.430760</td>\n",
       "      <td>-0.154636</td>\n",
       "      <td>-0.166812</td>\n",
       "      <td>0.192114</td>\n",
       "      <td>0.207816</td>\n",
       "    </tr>\n",
       "    <tr>\n",
       "      <th>...</th>\n",
       "      <td>...</td>\n",
       "      <td>...</td>\n",
       "      <td>...</td>\n",
       "      <td>...</td>\n",
       "      <td>...</td>\n",
       "      <td>...</td>\n",
       "      <td>...</td>\n",
       "      <td>...</td>\n",
       "      <td>...</td>\n",
       "      <td>...</td>\n",
       "      <td>...</td>\n",
       "      <td>...</td>\n",
       "      <td>...</td>\n",
       "      <td>...</td>\n",
       "      <td>...</td>\n",
       "      <td>...</td>\n",
       "      <td>...</td>\n",
       "      <td>...</td>\n",
       "      <td>...</td>\n",
       "      <td>...</td>\n",
       "    </tr>\n",
       "    <tr>\n",
       "      <th>9233</th>\n",
       "      <td>0.344881</td>\n",
       "      <td>-0.931433</td>\n",
       "      <td>0.739117</td>\n",
       "      <td>1.871430</td>\n",
       "      <td>-0.032577</td>\n",
       "      <td>-0.594206</td>\n",
       "      <td>-1.039941</td>\n",
       "      <td>-0.509073</td>\n",
       "      <td>-0.257606</td>\n",
       "      <td>-0.355304</td>\n",
       "      <td>-0.337902</td>\n",
       "      <td>1.955351</td>\n",
       "      <td>0.696732</td>\n",
       "      <td>-0.993664</td>\n",
       "      <td>-0.459643</td>\n",
       "      <td>-0.780476</td>\n",
       "      <td>0.085641</td>\n",
       "      <td>0.103523</td>\n",
       "      <td>1.020420</td>\n",
       "      <td>-0.827579</td>\n",
       "    </tr>\n",
       "    <tr>\n",
       "      <th>9234</th>\n",
       "      <td>0.610486</td>\n",
       "      <td>-0.883960</td>\n",
       "      <td>0.708051</td>\n",
       "      <td>1.945315</td>\n",
       "      <td>0.100459</td>\n",
       "      <td>-0.255287</td>\n",
       "      <td>-0.735913</td>\n",
       "      <td>-0.484002</td>\n",
       "      <td>0.104951</td>\n",
       "      <td>-0.734529</td>\n",
       "      <td>-0.387806</td>\n",
       "      <td>2.091698</td>\n",
       "      <td>0.528793</td>\n",
       "      <td>-0.712909</td>\n",
       "      <td>0.187002</td>\n",
       "      <td>-0.496463</td>\n",
       "      <td>-0.079321</td>\n",
       "      <td>0.201060</td>\n",
       "      <td>0.726277</td>\n",
       "      <td>-0.338853</td>\n",
       "    </tr>\n",
       "    <tr>\n",
       "      <th>9235</th>\n",
       "      <td>0.813433</td>\n",
       "      <td>-1.013030</td>\n",
       "      <td>0.612392</td>\n",
       "      <td>1.904598</td>\n",
       "      <td>0.138989</td>\n",
       "      <td>-0.031661</td>\n",
       "      <td>-0.491388</td>\n",
       "      <td>-0.967253</td>\n",
       "      <td>-0.227728</td>\n",
       "      <td>-0.252240</td>\n",
       "      <td>-0.915382</td>\n",
       "      <td>2.458308</td>\n",
       "      <td>0.276310</td>\n",
       "      <td>0.378725</td>\n",
       "      <td>0.115268</td>\n",
       "      <td>-0.112195</td>\n",
       "      <td>0.129463</td>\n",
       "      <td>-0.507578</td>\n",
       "      <td>0.114448</td>\n",
       "      <td>0.129632</td>\n",
       "    </tr>\n",
       "    <tr>\n",
       "      <th>9236</th>\n",
       "      <td>0.300776</td>\n",
       "      <td>-1.099654</td>\n",
       "      <td>0.179745</td>\n",
       "      <td>1.709359</td>\n",
       "      <td>0.101430</td>\n",
       "      <td>-0.021087</td>\n",
       "      <td>-0.592462</td>\n",
       "      <td>-1.556661</td>\n",
       "      <td>-0.148204</td>\n",
       "      <td>0.084979</td>\n",
       "      <td>-2.017825</td>\n",
       "      <td>1.450899</td>\n",
       "      <td>0.127205</td>\n",
       "      <td>0.196277</td>\n",
       "      <td>0.509032</td>\n",
       "      <td>0.827147</td>\n",
       "      <td>0.147253</td>\n",
       "      <td>-0.492190</td>\n",
       "      <td>0.008271</td>\n",
       "      <td>0.058502</td>\n",
       "    </tr>\n",
       "    <tr>\n",
       "      <th>9237</th>\n",
       "      <td>-0.141076</td>\n",
       "      <td>-0.841747</td>\n",
       "      <td>-0.171662</td>\n",
       "      <td>1.518323</td>\n",
       "      <td>0.178951</td>\n",
       "      <td>-0.354376</td>\n",
       "      <td>-0.920245</td>\n",
       "      <td>-0.362053</td>\n",
       "      <td>0.017998</td>\n",
       "      <td>-0.229013</td>\n",
       "      <td>-2.150286</td>\n",
       "      <td>0.644020</td>\n",
       "      <td>0.027940</td>\n",
       "      <td>0.382890</td>\n",
       "      <td>1.099226</td>\n",
       "      <td>0.677530</td>\n",
       "      <td>-0.054276</td>\n",
       "      <td>-0.581448</td>\n",
       "      <td>0.019743</td>\n",
       "      <td>-0.055451</td>\n",
       "    </tr>\n",
       "  </tbody>\n",
       "</table>\n",
       "<p>9238 rows × 20 columns</p>\n",
       "</div>"
      ],
      "text/plain": [
       "            1         56        0         54        9         57        2   \\\n",
       "0    -1.727149  0.870949  0.791039  0.584225  0.195595  0.482494  1.481165   \n",
       "1    -1.842438  0.887701  0.821552  0.834128  0.234372  0.621646  1.416795   \n",
       "2    -1.958864  0.852785  0.888491  1.169094  0.268253  0.684715  1.626327   \n",
       "3    -1.953125  0.794642  0.883083  1.292322  0.231512  0.805009  1.878820   \n",
       "4    -1.914598  0.879478  0.799762  1.244127  0.126057  1.131472  1.794036   \n",
       "...        ...       ...       ...       ...       ...       ...       ...   \n",
       "9233  0.344881 -0.931433  0.739117  1.871430 -0.032577 -0.594206 -1.039941   \n",
       "9234  0.610486 -0.883960  0.708051  1.945315  0.100459 -0.255287 -0.735913   \n",
       "9235  0.813433 -1.013030  0.612392  1.904598  0.138989 -0.031661 -0.491388   \n",
       "9236  0.300776 -1.099654  0.179745  1.709359  0.101430 -0.021087 -0.592462   \n",
       "9237 -0.141076 -0.841747 -0.171662  1.518323  0.178951 -0.354376 -0.920245   \n",
       "\n",
       "            31        26        14        20        6         11        38  \\\n",
       "0    -0.840203 -0.190102  0.057985 -0.773881 -0.211460 -0.443124 -0.130601   \n",
       "1     0.061981  0.047160  0.038753 -0.324938  0.081825 -0.373201  0.321552   \n",
       "2     0.298515 -0.432859  0.009860 -0.306709  0.536282 -0.265632  0.342450   \n",
       "3     0.660462 -0.094418  0.000942  0.019133  0.679312 -0.231309  0.463792   \n",
       "4     0.447582 -0.096808 -0.171956  0.254848  0.594968 -0.224626  0.005776   \n",
       "...        ...       ...       ...       ...       ...       ...       ...   \n",
       "9233 -0.509073 -0.257606 -0.355304 -0.337902  1.955351  0.696732 -0.993664   \n",
       "9234 -0.484002  0.104951 -0.734529 -0.387806  2.091698  0.528793 -0.712909   \n",
       "9235 -0.967253 -0.227728 -0.252240 -0.915382  2.458308  0.276310  0.378725   \n",
       "9236 -1.556661 -0.148204  0.084979 -2.017825  1.450899  0.127205  0.196277   \n",
       "9237 -0.362053  0.017998 -0.229013 -2.150286  0.644020  0.027940  0.382890   \n",
       "\n",
       "            21        18        15        22        12        13  \n",
       "0     0.202801 -0.186997 -0.187630 -0.032653 -0.019193  0.376977  \n",
       "1     0.467937 -0.598541 -0.270955  0.027107 -0.049397  0.386002  \n",
       "2     0.137449 -0.366524 -0.253419  0.012183  0.024585  0.317177  \n",
       "3     0.329118 -0.513304 -0.236251 -0.282491  0.136366  0.271059  \n",
       "4    -0.106193 -0.430760 -0.154636 -0.166812  0.192114  0.207816  \n",
       "...        ...       ...       ...       ...       ...       ...  \n",
       "9233 -0.459643 -0.780476  0.085641  0.103523  1.020420 -0.827579  \n",
       "9234  0.187002 -0.496463 -0.079321  0.201060  0.726277 -0.338853  \n",
       "9235  0.115268 -0.112195  0.129463 -0.507578  0.114448  0.129632  \n",
       "9236  0.509032  0.827147  0.147253 -0.492190  0.008271  0.058502  \n",
       "9237  1.099226  0.677530 -0.054276 -0.581448  0.019743 -0.055451  \n",
       "\n",
       "[9238 rows x 20 columns]"
      ]
     },
     "execution_count": 14,
     "metadata": {},
     "output_type": "execute_result"
    }
   ],
   "source": [
    "#look at new input array\n",
    "sele_ind_df"
   ]
  },
  {
   "cell_type": "code",
   "execution_count": 15,
   "id": "87b42826",
   "metadata": {},
   "outputs": [],
   "source": [
    "#turn input array into (# samples, 14 days, 10 features)\n",
    "sele_ind_data = sele_ind_df.values\n",
    "sele_ind_data1 = sele_ind_data.reshape(62,149,n_features)"
   ]
  },
  {
   "cell_type": "code",
   "execution_count": 16,
   "id": "196e17b9",
   "metadata": {},
   "outputs": [
    {
     "data": {
      "text/plain": [
       "(9238, 20)"
      ]
     },
     "execution_count": 16,
     "metadata": {},
     "output_type": "execute_result"
    }
   ],
   "source": [
    "sele_ind_data.shape"
   ]
  },
  {
   "cell_type": "code",
   "execution_count": 17,
   "id": "d38a75a0",
   "metadata": {},
   "outputs": [],
   "source": [
    "#create timeseries data arrays for PCs \n",
    "#was 122 and 14 for the 14 day window. \n",
    "\n",
    "new_input =  np.empty((62,lead,14,n_features))\n",
    "new_output = np.empty((62,lead))\n",
    "\n",
    "for i in range(0,62):\n",
    "    for j in range(0,lead):\n",
    "        new_input[i,j,:,:] = sele_ind_data1[i,j:j+14,:]\n",
    "        new_output[i,j] = temp[i,j]"
   ]
  },
  {
   "cell_type": "code",
   "execution_count": 18,
   "id": "18054414",
   "metadata": {},
   "outputs": [
    {
     "name": "stdout",
     "output_type": "stream",
     "text": [
      "(62, 135, 14, 20)\n",
      "(62, 135)\n"
     ]
    }
   ],
   "source": [
    "new_input = np.array(new_input)\n",
    "new_output = np.array(new_output)\n",
    "print(new_input.shape)\n",
    "print(new_output.shape)"
   ]
  },
  {
   "cell_type": "code",
   "execution_count": 19,
   "id": "377e7d9c",
   "metadata": {},
   "outputs": [
    {
     "data": {
      "text/plain": [
       "7114"
      ]
     },
     "execution_count": 19,
     "metadata": {},
     "output_type": "execute_result"
    }
   ],
   "source": [
    "frac_ind = round((62*lead)*0.15)\n",
    "frac_end = round((62*lead)-frac_ind)\n",
    "frac_end"
   ]
  },
  {
   "cell_type": "code",
   "execution_count": 20,
   "id": "eb07728d",
   "metadata": {},
   "outputs": [
    {
     "data": {
      "text/plain": [
       "1256"
      ]
     },
     "execution_count": 20,
     "metadata": {},
     "output_type": "execute_result"
    }
   ],
   "source": [
    "frac_ind"
   ]
  },
  {
   "cell_type": "code",
   "execution_count": 21,
   "id": "4ad9dff0",
   "metadata": {},
   "outputs": [],
   "source": [
    "##Set X_all and Y_all datasets\n",
    "X_all = np.copy(new_input.reshape((62*lead),14,n_features))\n",
    "Y_all = np.copy(new_output.flatten())\n",
    "\n",
    "##training data partition out\n",
    "X_tri = X_all[:frac_end,:]\n",
    "Y_tri = Y_all[:frac_end]\n",
    "\n",
    "#testing data partition out\n",
    "X_tes = X_all[frac_end:,:]\n",
    "Y_tes = Y_all[frac_end:]\n",
    "\n",
    "#Convert the Y array into a categorical array. This means we will create one-hot vector labels for all of the inputs.\n",
    "# The one-hot vectors have an index for each possible output category (two in our case)\n",
    "# A \"1\" is put in the index corresponding to the category to which the sample belongs\n",
    "Y_all = keras.utils.to_categorical(Y_all)\n",
    "Y_tri = keras.utils.to_categorical(Y_tri)\n",
    "Y_tes= keras.utils.to_categorical(Y_tes)"
   ]
  },
  {
   "cell_type": "code",
   "execution_count": 22,
   "id": "104e1331",
   "metadata": {},
   "outputs": [
    {
     "data": {
      "text/plain": [
       "(8370, 2)"
      ]
     },
     "execution_count": 22,
     "metadata": {},
     "output_type": "execute_result"
    }
   ],
   "source": [
    "Y_all.shape"
   ]
  },
  {
   "cell_type": "code",
   "execution_count": 23,
   "id": "d6735c83",
   "metadata": {},
   "outputs": [],
   "source": [
    "##checking my data for NaN of Infs because I need to make sure this doesn't cause\n",
    "#the model to throw back no loss\n",
    "\n",
    "if np.any(np.isnan(X_all)) or np.any(np.isinf(X_all)):\n",
    "    print(\"NaN or Inf values found in X_all!\")\n",
    "\n",
    "if np.any(np.isnan(Y_all)) or np.any(np.isinf(Y_all)):\n",
    "    print(\"NaN or Inf values found in Y_all!\")"
   ]
  },
  {
   "cell_type": "markdown",
   "id": "8844a4da",
   "metadata": {},
   "source": [
    "### Begin establishing specifics of model."
   ]
  },
  {
   "cell_type": "code",
   "execution_count": 24,
   "id": "2ddb9fe1",
   "metadata": {},
   "outputs": [],
   "source": [
    "##class weight creator for the instance where now I have a four dimensional output array \n",
    "def class_weight_creator(Y):\n",
    "    class_dict = {}\n",
    "    Y_reshaped = Y.reshape(-1, Y.shape[-1])\n",
    "    weights = np.max(np.sum(Y_reshaped, axis=0)) / np.sum(Y_reshaped, axis=0)\n",
    "    for i in range(Y.shape[-1] ):\n",
    "        class_dict[i] = weights[i]\n",
    "        \n",
    "    return class_dict"
   ]
  },
  {
   "cell_type": "code",
   "execution_count": 25,
   "id": "658098cf",
   "metadata": {},
   "outputs": [],
   "source": [
    "##number of input nodes\n",
    "numb_int = X_all.shape[1:]\n",
    "\n",
    "##fraction of training data\n",
    "X_validation = X_tri[0:frac_ind]\n",
    "Y_validation = Y_tri[0:frac_ind]\n",
    "        \n",
    "X_train = X_tri[frac_ind:len(X_tri)]\n",
    "Y_train = Y_tri[frac_ind:len(Y_tri)]\n",
    "\n",
    "X_test = X_tes\n",
    "Y_test = Y_tes"
   ]
  },
  {
   "cell_type": "code",
   "execution_count": 26,
   "id": "d5d8d1f2",
   "metadata": {},
   "outputs": [
    {
     "data": {
      "text/plain": [
       "(5858, 2)"
      ]
     },
     "execution_count": 26,
     "metadata": {},
     "output_type": "execute_result"
    }
   ],
   "source": [
    "Y_train.shape"
   ]
  },
  {
   "cell_type": "code",
   "execution_count": 27,
   "id": "06b2e22d",
   "metadata": {},
   "outputs": [
    {
     "data": {
      "text/plain": [
       "(14, 20)"
      ]
     },
     "execution_count": 27,
     "metadata": {},
     "output_type": "execute_result"
    }
   ],
   "source": [
    "numb_int"
   ]
  },
  {
   "cell_type": "raw",
   "id": "3903f876",
   "metadata": {
    "jupyter": {
     "source_hidden": true
    }
   },
   "source": [
    "from tensorflow.keras.layers import Layer\n",
    "from tensorflow.keras import backend as K\n",
    "\n",
    "class AttentionWithContext(Layer):\n",
    "    def __init__(self, **kwargs):\n",
    "        super(AttentionWithContext, self).__init__(**kwargs)\n",
    "\n",
    "    def build(self, input_shape):\n",
    "        self.W = self.add_weight(shape=(input_shape[-1], input_shape[-1]),\n",
    "                                 initializer='glorot_uniform',\n",
    "                                 trainable=True,\n",
    "                                 name='W')\n",
    "        self.u = self.add_weight(shape=(input_shape[-1],),\n",
    "                                 initializer='glorot_uniform',\n",
    "                                 trainable=True,\n",
    "                                 name='u')\n",
    "        super(AttentionWithContext, self).build(input_shape)\n",
    "\n",
    "    def call(self, x):\n",
    "        # x shape: (batch_size, timesteps, features)\n",
    "        uit = K.tanh(K.dot(x, self.W))  # (batch_size, timesteps, features)\n",
    "        # use tf.tensordot to do dot product along features dimension:\n",
    "        ait = tf.tensordot(uit, self.u, axes=[[2], [0]])  # (batch_size, timesteps)\n",
    "        a = K.softmax(ait)  # attention weights (batch_size, timesteps)\n",
    "        a = K.expand_dims(a)  # (batch_size, timesteps, 1)\n",
    "        weighted_input = x * a  # (batch_size, timesteps, features)\n",
    "        output = K.sum(weighted_input, axis=1)  # (batch_size, features)\n",
    "        return output\n",
    "\n",
    "    def compute_output_shape(self, input_shape):\n",
    "        return (input_shape[0], input_shape[-1])"
   ]
  },
  {
   "cell_type": "markdown",
   "id": "83eb9514",
   "metadata": {},
   "source": [
    "### Model Architecture. "
   ]
  },
  {
   "cell_type": "code",
   "execution_count": 28,
   "id": "32ad3398",
   "metadata": {},
   "outputs": [],
   "source": [
    "######\n",
    "batch_size = 64 #The number of samples the network sees before it backpropagates (batch size)\n",
    "epochs = 40 #The number of times the network will loop through the entire dataset (epochs)\n",
    "shuffle = True #Set whether to shuffle the training data so the model doesn't see it sequentially \n",
    "verbose = 2 #Set whether the model will output information when trained (0 = no output; 2 = output accuracy every epoch)"
   ]
  },
  {
   "cell_type": "code",
   "execution_count": 29,
   "id": "6f33c0b5",
   "metadata": {
    "jupyter": {
     "source_hidden": true
    }
   },
   "outputs": [],
   "source": [
    "def categorical_focal_loss(alpha=0.25, gamma=2.0):\n",
    "    def loss(y_true, y_pred):\n",
    "        # Clip predictions to prevent log(0)\n",
    "        epsilon = tf.keras.backend.epsilon()\n",
    "        y_pred = tf.clip_by_value(y_pred, epsilon, 1. - epsilon)\n",
    "\n",
    "        # Cross-entropy loss\n",
    "        cross_entropy = -y_true * tf.math.log(y_pred)\n",
    "\n",
    "        # Compute focal loss scaling factor\n",
    "        focal_factor = tf.pow(1 - y_pred, gamma)\n",
    "        loss = alpha * focal_factor * cross_entropy\n",
    "\n",
    "        return tf.reduce_sum(loss, axis=1)  # sum across classes per sample\n",
    "\n",
    "    return loss"
   ]
  },
  {
   "cell_type": "code",
   "execution_count": 30,
   "id": "eed3a19d",
   "metadata": {},
   "outputs": [],
   "source": [
    "stop_early = tf.keras.callbacks.EarlyStopping(monitor='val_loss', patience=5)"
   ]
  },
  {
   "cell_type": "code",
   "execution_count": 31,
   "id": "9fb7f907",
   "metadata": {},
   "outputs": [],
   "source": [
    "#model\n",
    "def basic_LSTM(ntimestep, nfeature, n1, n2, n3, rl1, rl3, lr):  \n",
    "    input_tensor = Input(shape=(ntimestep, nfeature))\n",
    "    \n",
    "    layer1 = layers.RNN(\n",
    "        layers.LSTMCell(n1, activation='tanh', use_bias=True,\n",
    "                          dropout=0.2, \n",
    "                          kernel_initializer='glorot_uniform',\n",
    "                          kernel_regularizer=keras.regularizers.l2(l2= rl1)),\n",
    "        return_sequences=True)(input_tensor)\n",
    "       \n",
    "    layer2 = layers.RNN(\n",
    "        layers.LSTMCell(n2, activation='tanh', use_bias=True,\n",
    "                          kernel_initializer='glorot_uniform',\n",
    "                          kernel_regularizer=keras.regularizers.l2(l2= rl1)))(layer1)\n",
    "    \n",
    "    layer3 = layers.Dense(n3, activation='relu',use_bias=True,\n",
    "                          kernel_initializer='he_normal',bias_initializer='he_normal',\n",
    "                          kernel_regularizer=keras.regularizers.l2(l2=rl3))(layer2)\n",
    "\n",
    "    output_tensor = layers.Dense(2, activation='softmax',)(layer3)\n",
    "\n",
    "    model = Model(input_tensor, output_tensor)\n",
    "    opt = tf.keras.optimizers.legacy.Adam(learning_rate=lr)\n",
    "    loss = 'categorical_crossentropy' #categorical_focal_loss(alpha=0.7, gamma=0.5)\n",
    "    #decay_rate = lr / epochs\n",
    "    #momentum = 0.9\n",
    "\n",
    "    model.compile(optimizer=opt,loss=loss,metrics=[keras.metrics.categorical_accuracy],)\n",
    "                            \n",
    "    return model"
   ]
  },
  {
   "cell_type": "code",
   "execution_count": 32,
   "id": "616cac72",
   "metadata": {},
   "outputs": [],
   "source": [
    "tf.keras.backend.clear_session()"
   ]
  },
  {
   "cell_type": "code",
   "execution_count": 33,
   "id": "49030411",
   "metadata": {},
   "outputs": [],
   "source": [
    "model = basic_LSTM(numb_int[0],numb_int[1], 64, 16, 16, 0.208, 0.177, 0.0006466)"
   ]
  },
  {
   "cell_type": "code",
   "execution_count": 34,
   "id": "46f74684",
   "metadata": {},
   "outputs": [],
   "source": [
    "##do the class_dict weights\n",
    "#class_weight = class_weight_creator(Y_train)\n",
    "#class_weight\n",
    "#class_weight = {0: 1.0, 1: 2.0}\n",
    "\n",
    "class_weight = {0: 1.0, 1: 1.83}"
   ]
  },
  {
   "cell_type": "code",
   "execution_count": 35,
   "id": "d9addf58",
   "metadata": {},
   "outputs": [],
   "source": [
    "#{0: 1.0, 1: 1.8068999}"
   ]
  },
  {
   "cell_type": "code",
   "execution_count": 36,
   "id": "0ccc4e65",
   "metadata": {
    "scrolled": true
   },
   "outputs": [
    {
     "name": "stdout",
     "output_type": "stream",
     "text": [
      "Train on 5858 samples, validate on 1256 samples\n"
     ]
    },
    {
     "name": "stderr",
     "output_type": "stream",
     "text": [
      "2025-06-18 23:58:44.875278: I tensorflow/core/common_runtime/gpu/gpu_device.cc:1926] Created device /job:localhost/replica:0/task:0/device:GPU:0 with 990 MB memory:  -> device: 0, name: NVIDIA H100 80GB HBM3, pci bus id: 0000:2d:00.0, compute capability: 9.0\n",
      "2025-06-18 23:58:44.893277: I tensorflow/compiler/mlir/mlir_graph_optimization_pass.cc:388] MLIR V1 optimization pass is not enabled\n",
      "2025-06-18 23:58:45.001774: W tensorflow/c/c_api.cc:305] Operation '{name:'training/Adam/dense_1/bias/v/Assign' id:1322 op device:{requested: '', assigned: ''} def:{{{node training/Adam/dense_1/bias/v/Assign}} = AssignVariableOp[_has_manual_control_dependencies=true, dtype=DT_FLOAT, validate_shape=false](training/Adam/dense_1/bias/v, training/Adam/dense_1/bias/v/Initializer/zeros)}}' was changed by setting attribute after it was run by a session. This mutation will have no effect, and will trigger an error in the future. Either don't modify nodes after running them or create a new session.\n"
     ]
    },
    {
     "name": "stdout",
     "output_type": "stream",
     "text": [
      "Epoch 1/40\n",
      "5824/5858 [============================>.] - ETA: 0s - loss: 19.4222 - categorical_accuracy: 0.6289"
     ]
    },
    {
     "name": "stderr",
     "output_type": "stream",
     "text": [
      "/usr/local/lib/python3.10/dist-packages/keras/src/engine/training_v1.py:2335: UserWarning: `Model.state_updates` will be removed in a future version. This property should not be used in TensorFlow 2.0, as `updates` are applied automatically.\n",
      "  updates = self.state_updates\n"
     ]
    },
    {
     "name": "stdout",
     "output_type": "stream",
     "text": [
      "5858/5858 [==============================] - 3s 480us/sample - loss: 19.3848 - categorical_accuracy: 0.6297 - val_loss: 12.7269 - val_categorical_accuracy: 0.6338\n",
      "Epoch 2/40\n",
      "5858/5858 [==============================] - 1s 214us/sample - loss: 9.4640 - categorical_accuracy: 0.6297 - val_loss: 6.6457 - val_categorical_accuracy: 0.6123\n",
      "Epoch 3/40\n",
      "5858/5858 [==============================] - 1s 214us/sample - loss: 5.3837 - categorical_accuracy: 0.6185 - val_loss: 4.0606 - val_categorical_accuracy: 0.6322\n",
      "Epoch 4/40\n",
      "5858/5858 [==============================] - 1s 213us/sample - loss: 3.5940 - categorical_accuracy: 0.6301 - val_loss: 2.8656 - val_categorical_accuracy: 0.6266\n",
      "Epoch 5/40\n",
      "5858/5858 [==============================] - 1s 212us/sample - loss: 2.6988 - categorical_accuracy: 0.6299 - val_loss: 2.2158 - val_categorical_accuracy: 0.6123\n",
      "Epoch 6/40\n",
      "5858/5858 [==============================] - 1s 213us/sample - loss: 2.1736 - categorical_accuracy: 0.6340 - val_loss: 1.7765 - val_categorical_accuracy: 0.6640\n",
      "Epoch 7/40\n",
      "5858/5858 [==============================] - 1s 214us/sample - loss: 1.8229 - categorical_accuracy: 0.6446 - val_loss: 1.5000 - val_categorical_accuracy: 0.6354\n",
      "Epoch 8/40\n",
      "5858/5858 [==============================] - 1s 216us/sample - loss: 1.5717 - categorical_accuracy: 0.6441 - val_loss: 1.2986 - val_categorical_accuracy: 0.6218\n",
      "Epoch 9/40\n",
      "5858/5858 [==============================] - 1s 214us/sample - loss: 1.3841 - categorical_accuracy: 0.6483 - val_loss: 1.1250 - val_categorical_accuracy: 0.6425\n",
      "Epoch 10/40\n",
      "5858/5858 [==============================] - 1s 215us/sample - loss: 1.2454 - categorical_accuracy: 0.6473 - val_loss: 0.9755 - val_categorical_accuracy: 0.6720\n",
      "Epoch 11/40\n",
      "5858/5858 [==============================] - 1s 215us/sample - loss: 1.1423 - categorical_accuracy: 0.6545 - val_loss: 0.9417 - val_categorical_accuracy: 0.6115\n",
      "Epoch 12/40\n",
      "5858/5858 [==============================] - 1s 213us/sample - loss: 1.0619 - categorical_accuracy: 0.6504 - val_loss: 0.8306 - val_categorical_accuracy: 0.6576\n",
      "Epoch 13/40\n",
      "5858/5858 [==============================] - 1s 211us/sample - loss: 1.0072 - categorical_accuracy: 0.6432 - val_loss: 0.7873 - val_categorical_accuracy: 0.6600\n",
      "Epoch 14/40\n",
      "5858/5858 [==============================] - 1s 214us/sample - loss: 0.9620 - categorical_accuracy: 0.6497 - val_loss: 0.7690 - val_categorical_accuracy: 0.6425\n",
      "Epoch 15/40\n",
      "5858/5858 [==============================] - 1s 212us/sample - loss: 0.9322 - categorical_accuracy: 0.6453 - val_loss: 0.7329 - val_categorical_accuracy: 0.6377\n",
      "Epoch 16/40\n",
      "5858/5858 [==============================] - 1s 214us/sample - loss: 0.9130 - categorical_accuracy: 0.6487 - val_loss: 0.6898 - val_categorical_accuracy: 0.6768\n",
      "Epoch 17/40\n",
      "5858/5858 [==============================] - 1s 212us/sample - loss: 0.8993 - categorical_accuracy: 0.6448 - val_loss: 0.6740 - val_categorical_accuracy: 0.6919\n",
      "Epoch 18/40\n",
      "5858/5858 [==============================] - 1s 212us/sample - loss: 0.8875 - categorical_accuracy: 0.6458 - val_loss: 0.6936 - val_categorical_accuracy: 0.6545\n",
      "Epoch 19/40\n",
      "5858/5858 [==============================] - 1s 213us/sample - loss: 0.8753 - categorical_accuracy: 0.6502 - val_loss: 0.6603 - val_categorical_accuracy: 0.6887\n",
      "Epoch 20/40\n",
      "5858/5858 [==============================] - 1s 215us/sample - loss: 0.8776 - categorical_accuracy: 0.6417 - val_loss: 0.6804 - val_categorical_accuracy: 0.6489\n",
      "Epoch 21/40\n",
      "5858/5858 [==============================] - 1s 212us/sample - loss: 0.8707 - categorical_accuracy: 0.6499 - val_loss: 0.6745 - val_categorical_accuracy: 0.6576\n",
      "Epoch 22/40\n",
      "5858/5858 [==============================] - 1s 214us/sample - loss: 0.8672 - categorical_accuracy: 0.6523 - val_loss: 0.6626 - val_categorical_accuracy: 0.6449\n",
      "Epoch 23/40\n",
      "5858/5858 [==============================] - 1s 214us/sample - loss: 0.8666 - categorical_accuracy: 0.6490 - val_loss: 0.6653 - val_categorical_accuracy: 0.6704\n",
      "Epoch 24/40\n",
      "5858/5858 [==============================] - 1s 213us/sample - loss: 0.8636 - categorical_accuracy: 0.6494 - val_loss: 0.6811 - val_categorical_accuracy: 0.6369\n",
      "Epoch 25/40\n",
      "5858/5858 [==============================] - 1s 214us/sample - loss: 0.8620 - categorical_accuracy: 0.6531 - val_loss: 0.6618 - val_categorical_accuracy: 0.6616\n",
      "Epoch 26/40\n",
      "5858/5858 [==============================] - 1s 213us/sample - loss: 0.8639 - categorical_accuracy: 0.6473 - val_loss: 0.6808 - val_categorical_accuracy: 0.6258\n",
      "Epoch 27/40\n",
      "5858/5858 [==============================] - 1s 212us/sample - loss: 0.8623 - categorical_accuracy: 0.6564 - val_loss: 0.6754 - val_categorical_accuracy: 0.6584\n",
      "Epoch 28/40\n",
      "5858/5858 [==============================] - 1s 216us/sample - loss: 0.8649 - categorical_accuracy: 0.6473 - val_loss: 0.6954 - val_categorical_accuracy: 0.6266\n",
      "Epoch 29/40\n",
      "5858/5858 [==============================] - 1s 213us/sample - loss: 0.8650 - categorical_accuracy: 0.6511 - val_loss: 0.6588 - val_categorical_accuracy: 0.6513\n",
      "Epoch 30/40\n",
      "5858/5858 [==============================] - 1s 213us/sample - loss: 0.8601 - categorical_accuracy: 0.6567 - val_loss: 0.6490 - val_categorical_accuracy: 0.6696\n",
      "Epoch 31/40\n",
      "5858/5858 [==============================] - 1s 217us/sample - loss: 0.8659 - categorical_accuracy: 0.6516 - val_loss: 0.6757 - val_categorical_accuracy: 0.6481\n",
      "Epoch 32/40\n",
      "5858/5858 [==============================] - 1s 215us/sample - loss: 0.8647 - categorical_accuracy: 0.6446 - val_loss: 0.6710 - val_categorical_accuracy: 0.6457\n",
      "Epoch 33/40\n",
      "5858/5858 [==============================] - 1s 214us/sample - loss: 0.8605 - categorical_accuracy: 0.6547 - val_loss: 0.6718 - val_categorical_accuracy: 0.6481\n",
      "Epoch 34/40\n",
      "5858/5858 [==============================] - 1s 215us/sample - loss: 0.8581 - categorical_accuracy: 0.6584 - val_loss: 0.6845 - val_categorical_accuracy: 0.6218\n",
      "Epoch 35/40\n",
      "5858/5858 [==============================] - 1s 214us/sample - loss: 0.8598 - categorical_accuracy: 0.6538 - val_loss: 0.6816 - val_categorical_accuracy: 0.6202\n",
      "Epoch 36/40\n",
      "5858/5858 [==============================] - 1s 214us/sample - loss: 0.8589 - categorical_accuracy: 0.6478 - val_loss: 0.6687 - val_categorical_accuracy: 0.6306\n",
      "Epoch 37/40\n",
      "5858/5858 [==============================] - 1s 213us/sample - loss: 0.8660 - categorical_accuracy: 0.6446 - val_loss: 0.6728 - val_categorical_accuracy: 0.6449\n",
      "Epoch 38/40\n",
      "5858/5858 [==============================] - 1s 213us/sample - loss: 0.8577 - categorical_accuracy: 0.6436 - val_loss: 0.6777 - val_categorical_accuracy: 0.6489\n",
      "Epoch 39/40\n",
      "5858/5858 [==============================] - 1s 212us/sample - loss: 0.8557 - categorical_accuracy: 0.6557 - val_loss: 0.6655 - val_categorical_accuracy: 0.6282\n",
      "Epoch 40/40\n",
      "5858/5858 [==============================] - 1s 213us/sample - loss: 0.8547 - categorical_accuracy: 0.6531 - val_loss: 0.6661 - val_categorical_accuracy: 0.6393\n"
     ]
    },
    {
     "data": {
      "text/plain": [
       "<keras.src.callbacks.History at 0x155234b9a020>"
      ]
     },
     "execution_count": 36,
     "metadata": {},
     "output_type": "execute_result"
    }
   ],
   "source": [
    "model.fit(X_train, Y_train, validation_data=(X_validation, Y_validation),\n",
    "          batch_size=batch_size, epochs=epochs, class_weight=class_weight, shuffle=shuffle)#, callbacks=[stop_early])"
   ]
  },
  {
   "cell_type": "code",
   "execution_count": 37,
   "id": "d2b1d4c2",
   "metadata": {},
   "outputs": [
    {
     "name": "stderr",
     "output_type": "stream",
     "text": [
      "/usr/local/lib/python3.10/dist-packages/keras/src/engine/training_v1.py:2359: UserWarning: `Model.state_updates` will be removed in a future version. This property should not be used in TensorFlow 2.0, as `updates` are applied automatically.\n",
      "  updates=self.state_updates,\n",
      "2025-06-18 23:59:36.798364: W tensorflow/c/c_api.cc:305] Operation '{name:'dense_1/Softmax' id:737 op device:{requested: '', assigned: ''} def:{{{node dense_1/Softmax}} = Softmax[T=DT_FLOAT, _has_manual_control_dependencies=true](dense_1/BiasAdd)}}' was changed by setting attribute after it was run by a session. This mutation will have no effect, and will trigger an error in the future. Either don't modify nodes after running them or create a new session.\n"
     ]
    },
    {
     "data": {
      "text/plain": [
       "<bound method Axes.legend of <Axes: title={'center': 'Accuracy'}, xlabel='Epoch', ylabel='Acc'>>"
      ]
     },
     "execution_count": 37,
     "metadata": {},
     "output_type": "execute_result"
    },
    {
     "data": {
      "image/png": "[encoded data removed]",
      "text/plain": [
       "<Figure size 1600x400 with 2 Axes>"
      ]
     },
     "metadata": {},
     "output_type": "display_data"
    }
   ],
   "source": [
    "train_loss=model.history.history['loss']\n",
    "val_loss=model.history.history['val_loss']\n",
    "    \n",
    "cat_acc=model.history.history['categorical_accuracy']\n",
    "val_acc=model.history.history['val_categorical_accuracy']\n",
    "        \n",
    "pred = model.predict(X_all)\n",
    "pred_val = model.predict(X_validation)\n",
    "pred_train = model.predict(X_train)\n",
    "pred_test = model.predict(X_test)\n",
    "\n",
    "# Look at the optimization history\n",
    "fig, (ax1,ax2) = plt.subplots(1,2, figsize=plt.figaspect(0.25))\n",
    "ax1.plot(train_loss, label='Training loss')\n",
    "ax1.plot(val_loss, label='Validation loss')\n",
    "ax1.set_yscale('log')\n",
    "ax1.set_title('loss')\n",
    "ax1.set_xlabel('Epoch')\n",
    "ax1.set_ylabel('loss')\n",
    "ax1.legend()\n",
    "\n",
    "ax2.plot(cat_acc, label='Training ACC')\n",
    "ax2.plot(val_acc, label='Validation ACC')\n",
    "ax2.set_title('Accuracy')\n",
    "ax2.set_xlabel('Epoch')\n",
    "ax2.set_ylabel('Acc')\n",
    "ax2.legend\n",
    "#plt.savefig(\"SEUS_onearch.png\")"
   ]
  },
  {
   "cell_type": "code",
   "execution_count": 38,
   "id": "695fed50",
   "metadata": {},
   "outputs": [
    {
     "name": "stdout",
     "output_type": "stream",
     "text": [
      "              precision    recall  f1-score   support\n",
      "\n",
      "           0      0.777     0.658     0.713       854\n",
      "           1      0.452     0.600     0.516       402\n",
      "\n",
      "    accuracy                          0.639      1256\n",
      "   macro avg      0.615     0.629     0.614      1256\n",
      "weighted avg      0.673     0.639     0.650      1256\n",
      "\n"
     ]
    }
   ],
   "source": [
    "from sklearn.metrics import classification_report\n",
    "import numpy as np\n",
    "\n",
    "y_val_pred = model.predict(X_validation)\n",
    "y_val_classes = np.argmax(y_val_pred, axis=1)\n",
    "y_val_true = np.argmax(Y_validation, axis=1)\n",
    "\n",
    "print(classification_report(y_val_true, y_val_classes, digits=3))"
   ]
  },
  {
   "cell_type": "code",
   "execution_count": 39,
   "id": "5d5b1999",
   "metadata": {},
   "outputs": [
    {
     "name": "stdout",
     "output_type": "stream",
     "text": [
      "Brier Score (Model): 0.2349\n",
      "Brier Score (Climatology): 0.2330\n",
      "Brier Skill Score: -0.0082\n"
     ]
    }
   ],
   "source": [
    "# Convert one-hot labels to 1D integer labels (0 or 1)\n",
    "y_true = np.argmax(Y_test, axis=1)\n",
    "\n",
    "# Extract predicted probability for the positive class (class 1)\n",
    "y_prob = pred_test[:,1]\n",
    "\n",
    "# Create climatology baseline: constant probability = mean positive class rate\n",
    "p_climatology = np.full_like(y_true, y_true.mean(), dtype=float)\n",
    "\n",
    "# Compute Brier Scores\n",
    "bs_model = brier_score_loss(y_true, y_prob)\n",
    "bs_climo = brier_score_loss(y_true, p_climatology)\n",
    "\n",
    "# Compute Brier Skill Score\n",
    "bss = 1 - (bs_model / bs_climo)\n",
    "\n",
    "print(f\"Brier Score (Model): {bs_model:.4f}\")\n",
    "print(f\"Brier Score (Climatology): {bs_climo:.4f}\")\n",
    "print(f\"Brier Skill Score: {bss:.4f}\")"
   ]
  },
  {
   "cell_type": "code",
   "execution_count": 40,
   "id": "5890d46a",
   "metadata": {},
   "outputs": [
    {
     "name": "stdout",
     "output_type": "stream",
     "text": [
      "Brier Score (Model): 0.2349\n",
      "Brier Score (Climatology): 0.6306\n",
      "Brier Skill Score: 0.6275\n"
     ]
    }
   ],
   "source": [
    "## Labels for negative class\n",
    "y_true_neg = 1 - y_true  # flip 0 <-> 1\n",
    "\n",
    "# Predicted probabilities for negative class\n",
    "y_prob_neg = pred_test[:, 0]\n",
    "\n",
    "# Calculate Brier Score and BSS for negative class\n",
    "bs_model_neg = brier_score_loss(y_true_neg, y_prob_neg)\n",
    "bs_climo_neg = brier_score_loss(y_true_neg, np.full_like(y_true_neg, y_true_neg.mean()))\n",
    "bss_neg = 1 - (bs_model_neg / bs_climo_neg)\n",
    "\n",
    "print(f\"Brier Score (Model): {bs_model_neg:.4f}\")\n",
    "print(f\"Brier Score (Climatology): {bs_climo_neg:.4f}\")\n",
    "print(f\"Brier Skill Score: {bss_neg:.4f}\")"
   ]
  },
  {
   "cell_type": "code",
   "execution_count": 41,
   "id": "ac22dab9",
   "metadata": {},
   "outputs": [
    {
     "data": {
      "image/png": "[encoded data removed]",
      "text/plain": [
       "<Figure size 1000x1000 with 6 Axes>"
      ]
     },
     "metadata": {},
     "output_type": "display_data"
    }
   ],
   "source": [
    "bins = np.linspace(0.2, 0.8, 37)  #10 bins from 0.4 to 1\n",
    "##bin the probabilities\n",
    "counts_neg_test, edges_neg_test = np.histogram(pred_test[:,0], bins=bins)\n",
    "counts_pos_test, edges_pos_test = np.histogram(pred_test[:,1], bins=bins)\n",
    "\n",
    "counts_neg_train, edges_neg_train = np.histogram(pred_train[:,0], bins=bins)\n",
    "counts_pos_train, edges_pos_train = np.histogram(pred_train[:,1], bins=bins)\n",
    "\n",
    "counts_neg_val, edges_neg_val = np.histogram(pred_val[:,0], bins=bins)\n",
    "counts_pos_val, edges_pos_val = np.histogram(pred_val[:,1], bins=bins)\n",
    "\n",
    "fig, axes = plt.subplots(3, 2, figsize=(10,10))\n",
    "ax1, ax2, ax3, ax4, ax5, ax6 = axes.flatten()\n",
    "\n",
    "ax1.bar(edges_neg_train[:-1], counts_neg_train, width=np.diff(edges_neg_train), \n",
    "        edgecolor='black', alpha=0.5, align='edge', color='blue')\n",
    "ax1.set_title('Negative Training Predictions', fontsize=13)\n",
    "ax1.set_xlabel('Probability')\n",
    "ax1.set_ylabel('Count')\n",
    "\n",
    "ax2.bar(edges_pos_train[:-1], counts_pos_train, width=np.diff(edges_pos_train), \n",
    "        edgecolor='black', alpha=0.5, align='edge', color='orange')\n",
    "ax2.set_title('Positive Training Predictions', fontsize=13)\n",
    "ax2.set_xlabel('Probability')\n",
    "ax2.set_ylabel('Count')\n",
    "\n",
    "ax3.bar(edges_neg_val[:-1], counts_neg_val, width=np.diff(edges_neg_val), \n",
    "        edgecolor='black', alpha=0.5, align='edge', color='blue')\n",
    "ax3.set_title('Negative Validation Predictions', fontsize=13)\n",
    "ax3.set_xlabel('Probability')\n",
    "ax3.set_ylabel('Count')\n",
    "\n",
    "ax4.bar(edges_pos_val[:-1], counts_pos_val, width=np.diff(edges_pos_val), \n",
    "        edgecolor='black', alpha=0.5, align='edge', color='orange')\n",
    "ax4.set_title('Positive Validation Predictions', fontsize=13)\n",
    "ax4.set_xlabel('Probability')\n",
    "ax4.set_ylabel('Count')\n",
    "\n",
    "ax5.bar(edges_neg_test[:-1], counts_neg_test, width=np.diff(edges_neg_test), \n",
    "        edgecolor='black', alpha=0.5, align='edge', color='blue')\n",
    "ax5.set_title('Negative Testing Predictions', fontsize=13)\n",
    "ax5.set_xlabel('Probability')\n",
    "ax5.set_ylabel('Count')\n",
    "\n",
    "ax6.bar(edges_pos_test[:-1], counts_pos_test, width=np.diff(edges_pos_test), \n",
    "        edgecolor='black', alpha=0.5, align='edge', color='orange')\n",
    "ax6.set_title('Positive Testing Predictions', fontsize=13)\n",
    "ax6.set_xlabel('Probability')\n",
    "ax6.set_ylabel('Count')\n",
    "\n",
    "plt.tight_layout()"
   ]
  },
  {
   "cell_type": "markdown",
   "id": "8dab797d",
   "metadata": {},
   "source": [
    "### Try SHAP."
   ]
  },
  {
   "cell_type": "code",
   "execution_count": 42,
   "id": "c7a2619a",
   "metadata": {},
   "outputs": [],
   "source": [
    "##testing shap\n",
    "import shap\n",
    "import pylab\n",
    "import random"
   ]
  },
  {
   "cell_type": "code",
   "execution_count": 43,
   "id": "c09956d4",
   "metadata": {},
   "outputs": [],
   "source": [
    "#random range of dates from X_train for explainer\n",
    "start = random.randrange(len(X_train[:,0])-frac_ind)\n",
    "end = start+(frac_ind)"
   ]
  },
  {
   "cell_type": "code",
   "execution_count": 44,
   "id": "a3fc8642",
   "metadata": {},
   "outputs": [
    {
     "name": "stdout",
     "output_type": "stream",
     "text": [
      "3123\n"
     ]
    }
   ],
   "source": [
    "print(start)"
   ]
  },
  {
   "cell_type": "code",
   "execution_count": 45,
   "id": "7b1074a7",
   "metadata": {},
   "outputs": [],
   "source": [
    "#use gradient explainer on subset of training data\n",
    "sample = X_train[start:end]\n",
    "explainer = shap.GradientExplainer(model, sample)"
   ]
  },
  {
   "cell_type": "code",
   "execution_count": 46,
   "id": "82f9dd7e",
   "metadata": {},
   "outputs": [
    {
     "name": "stderr",
     "output_type": "stream",
     "text": [
      "2025-06-18 23:59:40.620718: W tensorflow/c/c_api.cc:305] Operation '{name:'rnn/while' id:341 op device:{requested: '', assigned: ''} def:{{{node rnn/while}} = While[T=[DT_INT32, DT_INT32, DT_INT32, DT_VARIANT, DT_FLOAT, ..., DT_VARIANT, DT_VARIANT, DT_VARIANT, DT_VARIANT, DT_VARIANT]{attr_hash=5510909326915687547}, _lower_using_switch_merge=true, _num_original_outputs=82, _read_only_resource_inputs=[9, 10, 11], body=rnn_while_body_281_rewritten[], cond=rnn_while_cond_280_rewritten[], output_shapes=[[], [], [], [], [?,64], ..., [], [], [], [], []]{attr_hash=12215116623190090592}, parallel_iterations=32](rnn/while/loop_counter, rnn/while/maximum_iterations, rnn/time, rnn/TensorArrayV2_1, rnn/zeros, rnn/zeros_1, rnn/strided_slice_1, rnn/TensorArrayUnstack/TensorListFromTensor, keras_learning_phase, rnn/lstm_cell/kernel, rnn/lstm_cell/recurrent_kernel, rnn/lstm_cell/bias, rnn/while/EmptyTensorList, rnn/while/EmptyTensorList_1, rnn/while/EmptyTensorList_2, rnn/while/EmptyTensorList_3, rnn/while/EmptyTensorList_4, rnn/while/EmptyTensorList_5, rnn/while/EmptyTensorList_6, rnn/while/EmptyTensorList_7, rnn/while/EmptyTensorList_8, rnn/while/EmptyTensorList_9, rnn/while/EmptyTensorList_10, rnn/while/EmptyTensorList_11, rnn/while/EmptyTensorList_12, rnn/while/EmptyTensorList_13, rnn/while/EmptyTensorList_14, rnn/while/EmptyTensorList_15, rnn/while/EmptyTensorList_16, rnn/while/EmptyTensorList_17, rnn/while/EmptyTensorList_18, rnn/while/EmptyTensorList_19, rnn/while/EmptyTensorList_20, rnn/while/EmptyTensorList_21, rnn/while/EmptyTensorList_22, rnn/while/EmptyTensorList_23, rnn/while/EmptyTensorList_24, rnn/while/EmptyTensorList_25, rnn/while/EmptyTensorList_26, rnn/while/EmptyTensorList_27, rnn/while/EmptyTensorList_28, rnn/while/EmptyTensorList_29, rnn/while/EmptyTensorList_30, rnn/while/EmptyTensorList_31, rnn/while/EmptyTensorList_32, rnn/while/EmptyTensorList_33, rnn/while/EmptyTensorList_34, rnn/while/EmptyTensorList_35, rnn/while/EmptyTensorList_36, rnn/while/EmptyTensorList_37, rnn/while/EmptyTensorList_38, rnn/while/EmptyTensorList_39, rnn/while/EmptyTensorList_40, rnn/while/EmptyTensorList_41, rnn/while/EmptyTensorList_42, rnn/while/EmptyTensorList_43, rnn/while/EmptyTensorList_44, rnn/while/EmptyTensorList_45, rnn/while/EmptyTensorList_46, rnn/while/EmptyTensorList_47, rnn/while/EmptyTensorList_48, rnn/while/EmptyTensorList_49, rnn/while/EmptyTensorList_50, rnn/while/EmptyTensorList_51, rnn/while/EmptyTensorList_52, rnn/while/EmptyTensorList_53, rnn/while/EmptyTensorList_54, rnn/while/EmptyTensorList_55, rnn/while/EmptyTensorList_56, rnn/while/EmptyTensorList_57, rnn/while/EmptyTensorList_58, rnn/while/EmptyTensorList_59, rnn/while/EmptyTensorList_60, rnn/while/EmptyTensorList_61, rnn/while/EmptyTensorList_62, rnn/while/EmptyTensorList_63, rnn/while/EmptyTensorList_64, rnn/while/EmptyTensorList_65, rnn/while/EmptyTensorList_66, training/Adam/gradients/gradients/rnn/while_grad/gradients/lstm_cell/mul_grad/Shape_1_0/accumulator:0, training/Adam/gradients/gradients/rnn/while_grad/gradients/TensorArrayV2Read/TensorListGetItem_grad/TensorListElementShape_0/accumulator:0, training/Adam/gradients/gradients/rnn/while_grad/gradients/TensorArrayV2Read/TensorListGetItem_grad/TensorListLength_0/accumulator:0)}}' was changed by setting attribute after it was run by a session. This mutation will have no effect, and will trigger an error in the future. Either don't modify nodes after running them or create a new session.\n",
      "2025-06-18 23:59:49.213670: W tensorflow/c/c_api.cc:305] Operation '{name:'rnn/while' id:341 op device:{requested: '', assigned: ''} def:{{{node rnn/while}} = While[T=[DT_INT32, DT_INT32, DT_INT32, DT_VARIANT, DT_FLOAT, ..., DT_VARIANT, DT_VARIANT, DT_VARIANT, DT_VARIANT, DT_VARIANT]{attr_hash=5510909326915687547}, _lower_using_switch_merge=true, _num_original_outputs=82, _read_only_resource_inputs=[9, 10, 11], body=rnn_while_body_281_rewritten[], cond=rnn_while_cond_280_rewritten[], output_shapes=[[], [], [], [], [?,64], ..., [], [], [], [], []]{attr_hash=12215116623190090592}, parallel_iterations=32](rnn/while/loop_counter, rnn/while/maximum_iterations, rnn/time, rnn/TensorArrayV2_1, rnn/zeros, rnn/zeros_1, rnn/strided_slice_1, rnn/TensorArrayUnstack/TensorListFromTensor, keras_learning_phase, rnn/lstm_cell/kernel, rnn/lstm_cell/recurrent_kernel, rnn/lstm_cell/bias, rnn/while/EmptyTensorList, rnn/while/EmptyTensorList_1, rnn/while/EmptyTensorList_2, rnn/while/EmptyTensorList_3, rnn/while/EmptyTensorList_4, rnn/while/EmptyTensorList_5, rnn/while/EmptyTensorList_6, rnn/while/EmptyTensorList_7, rnn/while/EmptyTensorList_8, rnn/while/EmptyTensorList_9, rnn/while/EmptyTensorList_10, rnn/while/EmptyTensorList_11, rnn/while/EmptyTensorList_12, rnn/while/EmptyTensorList_13, rnn/while/EmptyTensorList_14, rnn/while/EmptyTensorList_15, rnn/while/EmptyTensorList_16, rnn/while/EmptyTensorList_17, rnn/while/EmptyTensorList_18, rnn/while/EmptyTensorList_19, rnn/while/EmptyTensorList_20, rnn/while/EmptyTensorList_21, rnn/while/EmptyTensorList_22, rnn/while/EmptyTensorList_23, rnn/while/EmptyTensorList_24, rnn/while/EmptyTensorList_25, rnn/while/EmptyTensorList_26, rnn/while/EmptyTensorList_27, rnn/while/EmptyTensorList_28, rnn/while/EmptyTensorList_29, rnn/while/EmptyTensorList_30, rnn/while/EmptyTensorList_31, rnn/while/EmptyTensorList_32, rnn/while/EmptyTensorList_33, rnn/while/EmptyTensorList_34, rnn/while/EmptyTensorList_35, rnn/while/EmptyTensorList_36, rnn/while/EmptyTensorList_37, rnn/while/EmptyTensorList_38, rnn/while/EmptyTensorList_39, rnn/while/EmptyTensorList_40, rnn/while/EmptyTensorList_41, rnn/while/EmptyTensorList_42, rnn/while/EmptyTensorList_43, rnn/while/EmptyTensorList_44, rnn/while/EmptyTensorList_45, rnn/while/EmptyTensorList_46, rnn/while/EmptyTensorList_47, rnn/while/EmptyTensorList_48, rnn/while/EmptyTensorList_49, rnn/while/EmptyTensorList_50, rnn/while/EmptyTensorList_51, rnn/while/EmptyTensorList_52, rnn/while/EmptyTensorList_53, rnn/while/EmptyTensorList_54, rnn/while/EmptyTensorList_55, rnn/while/EmptyTensorList_56, rnn/while/EmptyTensorList_57, rnn/while/EmptyTensorList_58, rnn/while/EmptyTensorList_59, rnn/while/EmptyTensorList_60, rnn/while/EmptyTensorList_61, rnn/while/EmptyTensorList_62, rnn/while/EmptyTensorList_63, rnn/while/EmptyTensorList_64, rnn/while/EmptyTensorList_65, rnn/while/EmptyTensorList_66, training/Adam/gradients/gradients/rnn/while_grad/gradients/lstm_cell/mul_grad/Shape_1_0/accumulator:0, training/Adam/gradients/gradients/rnn/while_grad/gradients/TensorArrayV2Read/TensorListGetItem_grad/TensorListElementShape_0/accumulator:0, training/Adam/gradients/gradients/rnn/while_grad/gradients/TensorArrayV2Read/TensorListGetItem_grad/TensorListLength_0/accumulator:0)}}' was changed by setting attribute after it was run by a session. This mutation will have no effect, and will trigger an error in the future. Either don't modify nodes after running them or create a new session.\n"
     ]
    }
   ],
   "source": [
    "#use explainer\n",
    "shap_values = explainer.shap_values(X_train[:100])"
   ]
  },
  {
   "cell_type": "code",
   "execution_count": 47,
   "id": "f28936e8",
   "metadata": {},
   "outputs": [
    {
     "data": {
      "text/plain": [
       "(2, 100, 14, 20)"
      ]
     },
     "execution_count": 47,
     "metadata": {},
     "output_type": "execute_result"
    }
   ],
   "source": [
    "#change shap values to array\n",
    "shap_values = np.array(shap_values)\n",
    "shap_values.shape"
   ]
  },
  {
   "cell_type": "code",
   "execution_count": 48,
   "id": "635f72e0",
   "metadata": {},
   "outputs": [
    {
     "data": {
      "text/plain": [
       "(2, 100, 14, 20)"
      ]
     },
     "execution_count": 48,
     "metadata": {},
     "output_type": "execute_result"
    }
   ],
   "source": [
    "aggs = np.abs(shap_values) ##aggregate over the samples to make all positive\n",
    "aggs.shape"
   ]
  },
  {
   "cell_type": "code",
   "execution_count": 49,
   "id": "b2fa2eb8",
   "metadata": {},
   "outputs": [
    {
     "data": {
      "text/plain": [
       "(2, 14, 20)"
      ]
     },
     "execution_count": 49,
     "metadata": {},
     "output_type": "execute_result"
    }
   ],
   "source": [
    "#take mean along sample dimension\n",
    "aggs = aggs.mean(axis=1)\n",
    "aggs.shape"
   ]
  },
  {
   "cell_type": "code",
   "execution_count": 50,
   "id": "334ba239",
   "metadata": {},
   "outputs": [],
   "source": [
    "feat_cat = aggs.mean(axis=1) ##take mean along timestep axis\n",
    "feat_cat.shape\n",
    "feat_cat_df = pd.DataFrame(feat_cat) #turn into pandas dataframe"
   ]
  },
  {
   "cell_type": "code",
   "execution_count": 51,
   "id": "191b95f6",
   "metadata": {},
   "outputs": [],
   "source": [
    "#fetures = ['1', '56', '0', '54', '9', '57', '2', '31', '26', '14','20', '6', '11', '38', '21', '18', '15', '22', '12', '13']\n",
    "\n",
    "#labels for columns\n",
    "features = ['U3', 'GPH4', 'U2', 'GPH2', 'EHF2', 'GPH5', 'U4', 'EHF24', 'EHF19', 'EHF7',\n",
    "            'EHF13', 'U8', 'EHF4', 'EHF31', 'EHF14', 'EHF11', 'EHF8', 'EHF15', 'EHF5', 'EHF6']"
   ]
  },
  {
   "cell_type": "code",
   "execution_count": 52,
   "id": "f3d8b6d8",
   "metadata": {},
   "outputs": [],
   "source": [
    "#add labels and transpose model\n",
    "feat_cat_df.columns = features\n",
    "featcat_df = feat_cat_df.T"
   ]
  },
  {
   "cell_type": "code",
   "execution_count": 53,
   "id": "1bab2856",
   "metadata": {},
   "outputs": [
    {
     "data": {
      "image/png": "[encoded data removed]",
      "text/plain": [
       "<Figure size 1100x1000 with 1 Axes>"
      ]
     },
     "metadata": {},
     "output_type": "display_data"
    }
   ],
   "source": [
    "fig = plt.figure(figsize=(11,10),dpi=100)\n",
    "fig.suptitle(\"SHAP for Predicting Surface Temperature Extreme over Europe 14-days Leadtime\",\n",
    "             fontsize = 19,x=.53) \n",
    " \n",
    "ax1 = fig.add_subplot(1,1,1)\n",
    "featcat_df.loc[featcat_df.sum(1).sort_values(ascending=True).index[:]].plot(\n",
    "    kind=\"barh\", stacked=True, ax = ax1, colormap = 'Paired')\n",
    "ax1.tick_params(axis='both', which='major', labelsize= 16)\n",
    "#ax1.set_yticks([0,1,2,3,4,5,6,7,8],feature_name_bh)\n",
    "ax1.set_xlabel('Mean SHAP value', fontsize =18 )\n",
    "ax1.set_ylabel('Feature', fontsize =18 )\n",
    "ax1.legend(loc = 'lower right', fontsize =18)\n",
    "#ax1.set_xlim(0,0.25)\n",
    "\n",
    "plt.tight_layout()\n",
    "plt.savefig('practice_SHAP.png')"
   ]
  },
  {
   "cell_type": "code",
   "execution_count": null,
   "id": "49e47508",
   "metadata": {},
   "outputs": [],
   "source": []
  }
 ],
 "metadata": {
  "kernelspec": {
   "display_name": "Python 3 (ipykernel)",
   "language": "python",
   "name": "python3"
  },
  "language_info": {
   "codemirror_mode": {
    "name": "ipython",
    "version": 3
   },
   "file_extension": ".py",
   "mimetype": "text/x-python",
   "name": "python",
   "nbconvert_exporter": "python",
   "pygments_lexer": "ipython3",
   "version": "3.10.12"
  }
 },
 "nbformat": 4,
 "nbformat_minor": 5
}
