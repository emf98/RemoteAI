{
 "cells": [
  {
   "cell_type": "markdown",
   "id": "6b8391e6",
   "metadata": {},
   "source": [
    "### Starting with the LSTM model ... \n",
    "\n",
    "File initially created 5/28/2025. \n",
    "\n",
    "I will start with a 14 day model. "
   ]
  },
  {
   "cell_type": "raw",
   "id": "0f821d30",
   "metadata": {
    "jupyter": {
     "source_hidden": true
    }
   },
   "source": [
    "!pip install netCDF4\n",
    "!pip install matplotlib\n",
    "!pip install cartopy\n",
    "#!pip install investigate"
   ]
  },
  {
   "cell_type": "raw",
   "id": "db33a53f",
   "metadata": {
    "jupyter": {
     "source_hidden": true
    }
   },
   "source": [
    "!pip uninstall -y libtpu libtpu-nightly\n",
    "!pip install -U \"jax[tpu]\" -f https://storage.googleapis.com/jax-releases/libtpu_releases.html"
   ]
  },
  {
   "cell_type": "raw",
   "id": "8d2cc759",
   "metadata": {
    "jupyter": {
     "source_hidden": true
    }
   },
   "source": [
    "import jax\n",
    "\n",
    "from jax.lib import xla_bridge\n",
    "\n",
    "print(xla_bridge.get_backend().platform)"
   ]
  },
  {
   "cell_type": "code",
   "execution_count": 1,
   "id": "3085e825",
   "metadata": {},
   "outputs": [
    {
     "name": "stderr",
     "output_type": "stream",
     "text": [
      "2025-06-04 18:39:49.072414: I tensorflow/core/util/port.cc:113] oneDNN custom operations are on. You may see slightly different numerical results due to floating-point round-off errors from different computation orders. To turn them off, set the environment variable `TF_ENABLE_ONEDNN_OPTS=0`.\n",
      "2025-06-04 18:39:49.103237: E external/local_xla/xla/stream_executor/cuda/cuda_dnn.cc:9373] Unable to register cuDNN factory: Attempting to register factory for plugin cuDNN when one has already been registered\n",
      "2025-06-04 18:39:49.103258: E external/local_xla/xla/stream_executor/cuda/cuda_fft.cc:607] Unable to register cuFFT factory: Attempting to register factory for plugin cuFFT when one has already been registered\n",
      "2025-06-04 18:39:49.104207: E external/local_xla/xla/stream_executor/cuda/cuda_blas.cc:1534] Unable to register cuBLAS factory: Attempting to register factory for plugin cuBLAS when one has already been registered\n",
      "2025-06-04 18:39:49.109222: I tensorflow/core/platform/cpu_feature_guard.cc:183] This TensorFlow binary is optimized to use available CPU instructions in performance-critical operations.\n",
      "To enable the following instructions: SSE3 SSE4.1 SSE4.2 AVX, in other operations, rebuild TensorFlow with the appropriate compiler flags.\n",
      "2025-06-04 18:39:50.487890: I tensorflow/core/common_runtime/gpu/gpu_device.cc:1926] Created device /job:localhost/replica:0/task:0/device:GPU:0 with 978 MB memory:  -> device: 0, name: NVIDIA H100 80GB HBM3, pci bus id: 0000:2d:00.0, compute capability: 9.0\n"
     ]
    }
   ],
   "source": [
    "##import cell makes its appearance once again...\n",
    "%matplotlib inline\n",
    "##so-called \"math\" related imports\n",
    "#from netCDF4 import Dataset as ncread\n",
    "import numpy as np\n",
    "import pandas as pd\n",
    "import math\n",
    "from random import seed\n",
    "from random import randint\n",
    "from random import sample\n",
    "from scipy.ndimage import gaussian_filter\n",
    "from sklearn.metrics import brier_score_loss\n",
    "import xarray as xr\n",
    "\n",
    "import pickle\n",
    "\n",
    "##plotting related imports\n",
    "import matplotlib.pyplot as plt\n",
    "\n",
    "#import tensorflow/keras related files\n",
    "import tensorflow as tf    \n",
    "#tf.compat.v1.disable_v2_behavior() # <-- HERE !\n",
    "\n",
    "tf.device('/physical_device:GPU:0')\n",
    "\n",
    "from tensorflow import keras\n",
    "from tensorflow.keras import layers\n",
    "from tensorflow.keras import Input\n",
    "from tensorflow.keras.models import Model\n",
    "from tensorflow.keras.callbacks import ModelCheckpoint\n",
    "from tensorflow.keras import regularizers\n",
    "import tensorflow.keras.backend as K\n",
    "from tensorflow.keras.utils import to_categorical\n",
    "from tensorflow.keras.layers import Dropout, Activation, Reshape, Flatten, LSTM, Dense, Dropout, Embedding, Bidirectional, GRU\n",
    "from tensorflow.keras import Sequential\n",
    "from tensorflow.keras import initializers, regularizers\n",
    "from tensorflow.keras import optimizers\n",
    "from tensorflow.keras import constraints\n",
    "from tensorflow.keras.layers import Layer, InputSpec\n",
    "\n",
    "#tf.compat.v1.disable_eager_execution()\n",
    "#import investigate"
   ]
  },
  {
   "cell_type": "code",
   "execution_count": 2,
   "id": "ea911f8b",
   "metadata": {},
   "outputs": [
    {
     "name": "stdout",
     "output_type": "stream",
     "text": [
      "2.15.0\n"
     ]
    }
   ],
   "source": [
    "print(tf.__version__)"
   ]
  },
  {
   "cell_type": "code",
   "execution_count": 3,
   "id": "1eb988dc",
   "metadata": {},
   "outputs": [],
   "source": [
    "from EOF_def import EOF_def"
   ]
  },
  {
   "cell_type": "code",
   "execution_count": 4,
   "id": "130a415b",
   "metadata": {},
   "outputs": [],
   "source": [
    "##load in solvers for PC analysis to get the PCs for the model itself. "
   ]
  },
  {
   "cell_type": "code",
   "execution_count": 5,
   "id": "c1aacec2",
   "metadata": {},
   "outputs": [],
   "source": [
    "# load input solvers\n",
    "infile = open(\"../../eof_analysis/solvers/Usolver_14.p\",\"rb\",)\n",
    "Usolver = pickle.load(infile)  ##pv on an isentropic surface, 350\n",
    "infile.close()\n",
    "\n",
    "infile = open(\"../../eof_analysis/solvers/EHFsolver_14.p\",\"rb\",)\n",
    "EHFsolver = pickle.load(infile)  ##ZMehf vertical cross section along longitudes\n",
    "infile.close()\n",
    "\n",
    "infile = open(\"../../eof_analysis/solvers/GPHsolver_14.p\",\"rb\",)\n",
    "GPHsolver = pickle.load(infile)  ##ZMehf vertical cross section along longitudes\n",
    "infile.close()"
   ]
  },
  {
   "cell_type": "code",
   "execution_count": 6,
   "id": "e1aa1633",
   "metadata": {},
   "outputs": [
    {
     "name": "stdout",
     "output_type": "stream",
     "text": [
      "<class 'numpy.ndarray'> (8370, 10)\n"
     ]
    }
   ],
   "source": [
    "## U\n",
    "U_EOF_nw, U_EOF_nw2d, U_eigenv, U_VarEx, U_PC = EOF_def(Usolver, 10)"
   ]
  },
  {
   "cell_type": "code",
   "execution_count": 7,
   "id": "1ade4fef",
   "metadata": {},
   "outputs": [
    {
     "name": "stdout",
     "output_type": "stream",
     "text": [
      "<class 'numpy.ndarray'> (8370, 45)\n"
     ]
    }
   ],
   "source": [
    "## EHF\n",
    "EHF_EOF_nw, EHF_EOF_nw2d, EHF_eigenv, EHF_VarEx, EHF_PC = EOF_def(EHFsolver, 45)"
   ]
  },
  {
   "cell_type": "code",
   "execution_count": 8,
   "id": "ae68fde6",
   "metadata": {},
   "outputs": [
    {
     "name": "stdout",
     "output_type": "stream",
     "text": [
      "<class 'numpy.ndarray'> (8370, 10)\n"
     ]
    }
   ],
   "source": [
    "## GPH\n",
    "GPH_EOF_nw, GPH_EOF_nw2d, GPH_eigenv, GPH_VarEx, GPH_PC = EOF_def(GPHsolver, 10)"
   ]
  },
  {
   "cell_type": "code",
   "execution_count": 9,
   "id": "e7ac1003",
   "metadata": {},
   "outputs": [],
   "source": [
    "##remove PC 1\n",
    "U_PC = U_PC[:, 1:]\n",
    "EHF_PC = EHF_PC[:, 1:]\n",
    "GPH_PC = GPH_PC[:, 1:]"
   ]
  },
  {
   "cell_type": "code",
   "execution_count": 15,
   "id": "acc64cca",
   "metadata": {
    "scrolled": true
   },
   "outputs": [],
   "source": [
    "# load output data\n",
    "infile = open(\"../../eof_data/old_temp/eur_anomtemps.p\",\"rb\",)\n",
    "output = pickle.load(infile) \n",
    "infile.close()"
   ]
  },
  {
   "cell_type": "code",
   "execution_count": 16,
   "id": "03fe25f3",
   "metadata": {},
   "outputs": [],
   "source": [
    "##create one array of PCs\n",
    "inputvar = np.concatenate((U_PC,EHF_PC,GPH_PC),axis=1) "
   ]
  },
  {
   "cell_type": "code",
   "execution_count": 17,
   "id": "fa90cf84",
   "metadata": {},
   "outputs": [
    {
     "data": {
      "text/html": [
       "<div>\n",
       "<style scoped>\n",
       "    .dataframe tbody tr th:only-of-type {\n",
       "        vertical-align: middle;\n",
       "    }\n",
       "\n",
       "    .dataframe tbody tr th {\n",
       "        vertical-align: top;\n",
       "    }\n",
       "\n",
       "    .dataframe thead th {\n",
       "        text-align: right;\n",
       "    }\n",
       "</style>\n",
       "<table border=\"1\" class=\"dataframe\">\n",
       "  <thead>\n",
       "    <tr style=\"text-align: right;\">\n",
       "      <th></th>\n",
       "      <th>0</th>\n",
       "      <th>1</th>\n",
       "      <th>2</th>\n",
       "      <th>3</th>\n",
       "      <th>4</th>\n",
       "      <th>5</th>\n",
       "      <th>6</th>\n",
       "      <th>7</th>\n",
       "      <th>8</th>\n",
       "      <th>9</th>\n",
       "      <th>...</th>\n",
       "      <th>52</th>\n",
       "      <th>53</th>\n",
       "      <th>54</th>\n",
       "      <th>55</th>\n",
       "      <th>56</th>\n",
       "      <th>57</th>\n",
       "      <th>58</th>\n",
       "      <th>59</th>\n",
       "      <th>60</th>\n",
       "      <th>61</th>\n",
       "    </tr>\n",
       "  </thead>\n",
       "  <tbody>\n",
       "    <tr>\n",
       "      <th>0</th>\n",
       "      <td>0.771931</td>\n",
       "      <td>-1.799955</td>\n",
       "      <td>1.313722</td>\n",
       "      <td>-1.630033</td>\n",
       "      <td>0.566290</td>\n",
       "      <td>1.589922</td>\n",
       "      <td>-0.172617</td>\n",
       "      <td>1.566368</td>\n",
       "      <td>0.659295</td>\n",
       "      <td>0.199667</td>\n",
       "      <td>...</td>\n",
       "      <td>-0.379306</td>\n",
       "      <td>1.641585</td>\n",
       "      <td>-0.743088</td>\n",
       "      <td>-0.070795</td>\n",
       "      <td>0.742423</td>\n",
       "      <td>0.454864</td>\n",
       "      <td>0.251855</td>\n",
       "      <td>0.795493</td>\n",
       "      <td>-0.417825</td>\n",
       "      <td>-1.029987</td>\n",
       "    </tr>\n",
       "    <tr>\n",
       "      <th>1</th>\n",
       "      <td>0.803999</td>\n",
       "      <td>-1.900528</td>\n",
       "      <td>1.245334</td>\n",
       "      <td>-1.692496</td>\n",
       "      <td>0.101666</td>\n",
       "      <td>2.042962</td>\n",
       "      <td>0.076518</td>\n",
       "      <td>1.506671</td>\n",
       "      <td>0.006843</td>\n",
       "      <td>0.238603</td>\n",
       "      <td>...</td>\n",
       "      <td>0.347120</td>\n",
       "      <td>1.752066</td>\n",
       "      <td>-0.985741</td>\n",
       "      <td>0.049346</td>\n",
       "      <td>0.764168</td>\n",
       "      <td>0.594407</td>\n",
       "      <td>0.432133</td>\n",
       "      <td>1.080915</td>\n",
       "      <td>-0.165571</td>\n",
       "      <td>-1.420320</td>\n",
       "    </tr>\n",
       "    <tr>\n",
       "      <th>2</th>\n",
       "      <td>0.872130</td>\n",
       "      <td>-2.032226</td>\n",
       "      <td>1.424598</td>\n",
       "      <td>-1.343837</td>\n",
       "      <td>0.161601</td>\n",
       "      <td>1.711995</td>\n",
       "      <td>0.503023</td>\n",
       "      <td>0.826614</td>\n",
       "      <td>-1.105172</td>\n",
       "      <td>0.270467</td>\n",
       "      <td>...</td>\n",
       "      <td>-0.585204</td>\n",
       "      <td>1.588777</td>\n",
       "      <td>-1.302961</td>\n",
       "      <td>0.097989</td>\n",
       "      <td>0.733291</td>\n",
       "      <td>0.651646</td>\n",
       "      <td>0.515277</td>\n",
       "      <td>0.912816</td>\n",
       "      <td>0.289325</td>\n",
       "      <td>-1.499576</td>\n",
       "    </tr>\n",
       "    <tr>\n",
       "      <th>3</th>\n",
       "      <td>0.867914</td>\n",
       "      <td>-2.054812</td>\n",
       "      <td>1.657540</td>\n",
       "      <td>-0.838510</td>\n",
       "      <td>0.746273</td>\n",
       "      <td>1.227320</td>\n",
       "      <td>0.679350</td>\n",
       "      <td>1.134812</td>\n",
       "      <td>-0.876215</td>\n",
       "      <td>0.232273</td>\n",
       "      <td>...</td>\n",
       "      <td>0.789144</td>\n",
       "      <td>1.273398</td>\n",
       "      <td>-1.416257</td>\n",
       "      <td>-0.048546</td>\n",
       "      <td>0.671334</td>\n",
       "      <td>0.746395</td>\n",
       "      <td>0.300846</td>\n",
       "      <td>0.709486</td>\n",
       "      <td>0.123002</td>\n",
       "      <td>-0.751547</td>\n",
       "    </tr>\n",
       "    <tr>\n",
       "      <th>4</th>\n",
       "      <td>0.787536</td>\n",
       "      <td>-2.011126</td>\n",
       "      <td>1.559197</td>\n",
       "      <td>-0.409157</td>\n",
       "      <td>1.239623</td>\n",
       "      <td>0.913107</td>\n",
       "      <td>0.641640</td>\n",
       "      <td>1.931937</td>\n",
       "      <td>-0.272880</td>\n",
       "      <td>0.127776</td>\n",
       "      <td>...</td>\n",
       "      <td>0.377190</td>\n",
       "      <td>1.043657</td>\n",
       "      <td>-1.369488</td>\n",
       "      <td>-0.219058</td>\n",
       "      <td>0.751703</td>\n",
       "      <td>1.057360</td>\n",
       "      <td>0.347496</td>\n",
       "      <td>0.404459</td>\n",
       "      <td>0.330464</td>\n",
       "      <td>0.215042</td>\n",
       "    </tr>\n",
       "    <tr>\n",
       "      <th>...</th>\n",
       "      <td>...</td>\n",
       "      <td>...</td>\n",
       "      <td>...</td>\n",
       "      <td>...</td>\n",
       "      <td>...</td>\n",
       "      <td>...</td>\n",
       "      <td>...</td>\n",
       "      <td>...</td>\n",
       "      <td>...</td>\n",
       "      <td>...</td>\n",
       "      <td>...</td>\n",
       "      <td>...</td>\n",
       "      <td>...</td>\n",
       "      <td>...</td>\n",
       "      <td>...</td>\n",
       "      <td>...</td>\n",
       "      <td>...</td>\n",
       "      <td>...</td>\n",
       "      <td>...</td>\n",
       "      <td>...</td>\n",
       "      <td>...</td>\n",
       "    </tr>\n",
       "    <tr>\n",
       "      <th>8365</th>\n",
       "      <td>0.415159</td>\n",
       "      <td>-0.170777</td>\n",
       "      <td>-0.531934</td>\n",
       "      <td>-0.397453</td>\n",
       "      <td>1.102362</td>\n",
       "      <td>-0.267771</td>\n",
       "      <td>0.062068</td>\n",
       "      <td>1.148350</td>\n",
       "      <td>-2.241040</td>\n",
       "      <td>0.180624</td>\n",
       "      <td>...</td>\n",
       "      <td>-0.535923</td>\n",
       "      <td>1.136943</td>\n",
       "      <td>-0.416174</td>\n",
       "      <td>0.562862</td>\n",
       "      <td>-0.354710</td>\n",
       "      <td>-0.763675</td>\n",
       "      <td>-0.224326</td>\n",
       "      <td>0.846225</td>\n",
       "      <td>-1.504478</td>\n",
       "      <td>-0.403197</td>\n",
       "    </tr>\n",
       "    <tr>\n",
       "      <th>8366</th>\n",
       "      <td>0.484640</td>\n",
       "      <td>-0.232514</td>\n",
       "      <td>-0.597377</td>\n",
       "      <td>0.039627</td>\n",
       "      <td>0.837373</td>\n",
       "      <td>-0.276658</td>\n",
       "      <td>0.205001</td>\n",
       "      <td>1.321532</td>\n",
       "      <td>-2.205615</td>\n",
       "      <td>0.232497</td>\n",
       "      <td>...</td>\n",
       "      <td>-0.670336</td>\n",
       "      <td>1.115493</td>\n",
       "      <td>-0.641672</td>\n",
       "      <td>0.649173</td>\n",
       "      <td>-0.423895</td>\n",
       "      <td>-0.589386</td>\n",
       "      <td>-0.034272</td>\n",
       "      <td>0.739777</td>\n",
       "      <td>-1.244535</td>\n",
       "      <td>-0.653119</td>\n",
       "    </tr>\n",
       "    <tr>\n",
       "      <th>8367</th>\n",
       "      <td>0.558206</td>\n",
       "      <td>-0.163820</td>\n",
       "      <td>-0.476075</td>\n",
       "      <td>0.480464</td>\n",
       "      <td>0.879917</td>\n",
       "      <td>-0.589342</td>\n",
       "      <td>-0.360315</td>\n",
       "      <td>1.203000</td>\n",
       "      <td>-2.164044</td>\n",
       "      <td>0.126000</td>\n",
       "      <td>...</td>\n",
       "      <td>-1.172690</td>\n",
       "      <td>0.839839</td>\n",
       "      <td>-1.031493</td>\n",
       "      <td>0.910849</td>\n",
       "      <td>-0.425116</td>\n",
       "      <td>-0.327954</td>\n",
       "      <td>0.842602</td>\n",
       "      <td>1.100344</td>\n",
       "      <td>-0.612106</td>\n",
       "      <td>-0.448852</td>\n",
       "    </tr>\n",
       "    <tr>\n",
       "      <th>8368</th>\n",
       "      <td>0.591930</td>\n",
       "      <td>0.343880</td>\n",
       "      <td>-0.538673</td>\n",
       "      <td>1.014618</td>\n",
       "      <td>0.200438</td>\n",
       "      <td>-0.391132</td>\n",
       "      <td>-0.570871</td>\n",
       "      <td>1.115725</td>\n",
       "      <td>-1.033758</td>\n",
       "      <td>0.161263</td>\n",
       "      <td>...</td>\n",
       "      <td>-0.749049</td>\n",
       "      <td>0.472475</td>\n",
       "      <td>-1.311037</td>\n",
       "      <td>0.590795</td>\n",
       "      <td>-0.424628</td>\n",
       "      <td>-0.503666</td>\n",
       "      <td>0.747163</td>\n",
       "      <td>1.328334</td>\n",
       "      <td>-0.101280</td>\n",
       "      <td>-0.280176</td>\n",
       "    </tr>\n",
       "    <tr>\n",
       "      <th>8369</th>\n",
       "      <td>0.809561</td>\n",
       "      <td>0.772545</td>\n",
       "      <td>-0.603345</td>\n",
       "      <td>1.125781</td>\n",
       "      <td>-0.671348</td>\n",
       "      <td>0.540565</td>\n",
       "      <td>-0.407312</td>\n",
       "      <td>0.528993</td>\n",
       "      <td>-0.335991</td>\n",
       "      <td>0.178140</td>\n",
       "      <td>...</td>\n",
       "      <td>-0.634721</td>\n",
       "      <td>0.056345</td>\n",
       "      <td>-1.487699</td>\n",
       "      <td>0.103556</td>\n",
       "      <td>-0.648218</td>\n",
       "      <td>-0.887477</td>\n",
       "      <td>0.445942</td>\n",
       "      <td>1.081470</td>\n",
       "      <td>0.609084</td>\n",
       "      <td>0.025298</td>\n",
       "    </tr>\n",
       "  </tbody>\n",
       "</table>\n",
       "<p>8370 rows × 62 columns</p>\n",
       "</div>"
      ],
      "text/plain": [
       "            0         1         2         3         4         5         6   \\\n",
       "0     0.771931 -1.799955  1.313722 -1.630033  0.566290  1.589922 -0.172617   \n",
       "1     0.803999 -1.900528  1.245334 -1.692496  0.101666  2.042962  0.076518   \n",
       "2     0.872130 -2.032226  1.424598 -1.343837  0.161601  1.711995  0.503023   \n",
       "3     0.867914 -2.054812  1.657540 -0.838510  0.746273  1.227320  0.679350   \n",
       "4     0.787536 -2.011126  1.559197 -0.409157  1.239623  0.913107  0.641640   \n",
       "...        ...       ...       ...       ...       ...       ...       ...   \n",
       "8365  0.415159 -0.170777 -0.531934 -0.397453  1.102362 -0.267771  0.062068   \n",
       "8366  0.484640 -0.232514 -0.597377  0.039627  0.837373 -0.276658  0.205001   \n",
       "8367  0.558206 -0.163820 -0.476075  0.480464  0.879917 -0.589342 -0.360315   \n",
       "8368  0.591930  0.343880 -0.538673  1.014618  0.200438 -0.391132 -0.570871   \n",
       "8369  0.809561  0.772545 -0.603345  1.125781 -0.671348  0.540565 -0.407312   \n",
       "\n",
       "            7         8         9   ...        52        53        54  \\\n",
       "0     1.566368  0.659295  0.199667  ... -0.379306  1.641585 -0.743088   \n",
       "1     1.506671  0.006843  0.238603  ...  0.347120  1.752066 -0.985741   \n",
       "2     0.826614 -1.105172  0.270467  ... -0.585204  1.588777 -1.302961   \n",
       "3     1.134812 -0.876215  0.232273  ...  0.789144  1.273398 -1.416257   \n",
       "4     1.931937 -0.272880  0.127776  ...  0.377190  1.043657 -1.369488   \n",
       "...        ...       ...       ...  ...       ...       ...       ...   \n",
       "8365  1.148350 -2.241040  0.180624  ... -0.535923  1.136943 -0.416174   \n",
       "8366  1.321532 -2.205615  0.232497  ... -0.670336  1.115493 -0.641672   \n",
       "8367  1.203000 -2.164044  0.126000  ... -1.172690  0.839839 -1.031493   \n",
       "8368  1.115725 -1.033758  0.161263  ... -0.749049  0.472475 -1.311037   \n",
       "8369  0.528993 -0.335991  0.178140  ... -0.634721  0.056345 -1.487699   \n",
       "\n",
       "            55        56        57        58        59        60        61  \n",
       "0    -0.070795  0.742423  0.454864  0.251855  0.795493 -0.417825 -1.029987  \n",
       "1     0.049346  0.764168  0.594407  0.432133  1.080915 -0.165571 -1.420320  \n",
       "2     0.097989  0.733291  0.651646  0.515277  0.912816  0.289325 -1.499576  \n",
       "3    -0.048546  0.671334  0.746395  0.300846  0.709486  0.123002 -0.751547  \n",
       "4    -0.219058  0.751703  1.057360  0.347496  0.404459  0.330464  0.215042  \n",
       "...        ...       ...       ...       ...       ...       ...       ...  \n",
       "8365  0.562862 -0.354710 -0.763675 -0.224326  0.846225 -1.504478 -0.403197  \n",
       "8366  0.649173 -0.423895 -0.589386 -0.034272  0.739777 -1.244535 -0.653119  \n",
       "8367  0.910849 -0.425116 -0.327954  0.842602  1.100344 -0.612106 -0.448852  \n",
       "8368  0.590795 -0.424628 -0.503666  0.747163  1.328334 -0.101280 -0.280176  \n",
       "8369  0.103556 -0.648218 -0.887477  0.445942  1.081470  0.609084  0.025298  \n",
       "\n",
       "[8370 rows x 62 columns]"
      ]
     },
     "execution_count": 17,
     "metadata": {},
     "output_type": "execute_result"
    }
   ],
   "source": [
    "##make pandas dataframe for RF\n",
    "input = pd.DataFrame(inputvar)\n",
    "input"
   ]
  },
  {
   "cell_type": "code",
   "execution_count": 18,
   "id": "6e29f207",
   "metadata": {},
   "outputs": [
    {
     "data": {
      "text/plain": [
       "(62, 139)"
      ]
     },
     "execution_count": 18,
     "metadata": {},
     "output_type": "execute_result"
    }
   ],
   "source": [
    "##need to change this based on lag \n",
    "## 14-days = [:, 47:]\n",
    "## 20-days = [:, 53:]\n",
    "## 30-days = [:, 63:]\n",
    "\n",
    "## 14-days = [:, 43:] 10 day window rather than 14\n",
    "## 20-days = [:, 49:]\n",
    "## 30-days = [:, 59:]\n",
    "\n",
    "temp = output.reshape(62, 182)\n",
    "temp = temp[:, 43:]\n",
    "temp.shape"
   ]
  },
  {
   "cell_type": "code",
   "execution_count": 19,
   "id": "6025af5f",
   "metadata": {},
   "outputs": [],
   "source": [
    "#selected indices\n",
    "##Europe\n",
    "#Index([1, 56, 0, 54, 9, 57, 55, 3, 26, 4], dtype='int64')\n",
    "\n",
    "##Nova\n",
    "#Index([1, 56, 0, 55, 2, 53, 54, 9, 4, 22], dtype='int64')\n",
    "\n",
    "##South\n",
    "#Index([1, 56, 54, 53, 55, 4, 3, 21, 14, 0], dtype='int64')"
   ]
  },
  {
   "cell_type": "code",
   "execution_count": 20,
   "id": "b8435b79",
   "metadata": {},
   "outputs": [],
   "source": [
    "#create pd datafram of selected feature columns.\n",
    "\n",
    "sele_ind_df = input[[1, 56, 0, 54, 9, 57, 55, 3, 26, 4]]"
   ]
  },
  {
   "cell_type": "code",
   "execution_count": 21,
   "id": "82ca9e1a",
   "metadata": {},
   "outputs": [
    {
     "data": {
      "text/html": [
       "<div>\n",
       "<style scoped>\n",
       "    .dataframe tbody tr th:only-of-type {\n",
       "        vertical-align: middle;\n",
       "    }\n",
       "\n",
       "    .dataframe tbody tr th {\n",
       "        vertical-align: top;\n",
       "    }\n",
       "\n",
       "    .dataframe thead th {\n",
       "        text-align: right;\n",
       "    }\n",
       "</style>\n",
       "<table border=\"1\" class=\"dataframe\">\n",
       "  <thead>\n",
       "    <tr style=\"text-align: right;\">\n",
       "      <th></th>\n",
       "      <th>1</th>\n",
       "      <th>56</th>\n",
       "      <th>0</th>\n",
       "      <th>54</th>\n",
       "      <th>9</th>\n",
       "      <th>57</th>\n",
       "      <th>55</th>\n",
       "      <th>3</th>\n",
       "      <th>26</th>\n",
       "      <th>4</th>\n",
       "    </tr>\n",
       "  </thead>\n",
       "  <tbody>\n",
       "    <tr>\n",
       "      <th>0</th>\n",
       "      <td>-1.799955</td>\n",
       "      <td>0.742423</td>\n",
       "      <td>0.771931</td>\n",
       "      <td>-0.743088</td>\n",
       "      <td>0.199667</td>\n",
       "      <td>0.454864</td>\n",
       "      <td>-0.070795</td>\n",
       "      <td>-1.630033</td>\n",
       "      <td>-0.122694</td>\n",
       "      <td>0.566290</td>\n",
       "    </tr>\n",
       "    <tr>\n",
       "      <th>1</th>\n",
       "      <td>-1.900528</td>\n",
       "      <td>0.764168</td>\n",
       "      <td>0.803999</td>\n",
       "      <td>-0.985741</td>\n",
       "      <td>0.238603</td>\n",
       "      <td>0.594407</td>\n",
       "      <td>0.049346</td>\n",
       "      <td>-1.692496</td>\n",
       "      <td>0.082215</td>\n",
       "      <td>0.101666</td>\n",
       "    </tr>\n",
       "    <tr>\n",
       "      <th>2</th>\n",
       "      <td>-2.032226</td>\n",
       "      <td>0.733291</td>\n",
       "      <td>0.872130</td>\n",
       "      <td>-1.302961</td>\n",
       "      <td>0.270467</td>\n",
       "      <td>0.651646</td>\n",
       "      <td>0.097989</td>\n",
       "      <td>-1.343837</td>\n",
       "      <td>-0.386993</td>\n",
       "      <td>0.161601</td>\n",
       "    </tr>\n",
       "    <tr>\n",
       "      <th>3</th>\n",
       "      <td>-2.054812</td>\n",
       "      <td>0.671334</td>\n",
       "      <td>0.867914</td>\n",
       "      <td>-1.416257</td>\n",
       "      <td>0.232273</td>\n",
       "      <td>0.746395</td>\n",
       "      <td>-0.048546</td>\n",
       "      <td>-0.838510</td>\n",
       "      <td>-0.053356</td>\n",
       "      <td>0.746273</td>\n",
       "    </tr>\n",
       "    <tr>\n",
       "      <th>4</th>\n",
       "      <td>-2.011126</td>\n",
       "      <td>0.751703</td>\n",
       "      <td>0.787536</td>\n",
       "      <td>-1.369488</td>\n",
       "      <td>0.127776</td>\n",
       "      <td>1.057360</td>\n",
       "      <td>-0.219058</td>\n",
       "      <td>-0.409157</td>\n",
       "      <td>-0.076462</td>\n",
       "      <td>1.239623</td>\n",
       "    </tr>\n",
       "    <tr>\n",
       "      <th>...</th>\n",
       "      <td>...</td>\n",
       "      <td>...</td>\n",
       "      <td>...</td>\n",
       "      <td>...</td>\n",
       "      <td>...</td>\n",
       "      <td>...</td>\n",
       "      <td>...</td>\n",
       "      <td>...</td>\n",
       "      <td>...</td>\n",
       "      <td>...</td>\n",
       "    </tr>\n",
       "    <tr>\n",
       "      <th>8365</th>\n",
       "      <td>-0.170777</td>\n",
       "      <td>-0.354710</td>\n",
       "      <td>0.415159</td>\n",
       "      <td>-0.416174</td>\n",
       "      <td>0.180624</td>\n",
       "      <td>-0.763675</td>\n",
       "      <td>0.562862</td>\n",
       "      <td>-0.397453</td>\n",
       "      <td>0.743680</td>\n",
       "      <td>1.102362</td>\n",
       "    </tr>\n",
       "    <tr>\n",
       "      <th>8366</th>\n",
       "      <td>-0.232514</td>\n",
       "      <td>-0.423895</td>\n",
       "      <td>0.484640</td>\n",
       "      <td>-0.641672</td>\n",
       "      <td>0.232497</td>\n",
       "      <td>-0.589386</td>\n",
       "      <td>0.649173</td>\n",
       "      <td>0.039627</td>\n",
       "      <td>0.477832</td>\n",
       "      <td>0.837373</td>\n",
       "    </tr>\n",
       "    <tr>\n",
       "      <th>8367</th>\n",
       "      <td>-0.163820</td>\n",
       "      <td>-0.425116</td>\n",
       "      <td>0.558206</td>\n",
       "      <td>-1.031493</td>\n",
       "      <td>0.126000</td>\n",
       "      <td>-0.327954</td>\n",
       "      <td>0.910849</td>\n",
       "      <td>0.480464</td>\n",
       "      <td>0.355288</td>\n",
       "      <td>0.879917</td>\n",
       "    </tr>\n",
       "    <tr>\n",
       "      <th>8368</th>\n",
       "      <td>0.343880</td>\n",
       "      <td>-0.424628</td>\n",
       "      <td>0.591930</td>\n",
       "      <td>-1.311037</td>\n",
       "      <td>0.161263</td>\n",
       "      <td>-0.503666</td>\n",
       "      <td>0.590795</td>\n",
       "      <td>1.014618</td>\n",
       "      <td>-0.274484</td>\n",
       "      <td>0.200438</td>\n",
       "    </tr>\n",
       "    <tr>\n",
       "      <th>8369</th>\n",
       "      <td>0.772545</td>\n",
       "      <td>-0.648218</td>\n",
       "      <td>0.809561</td>\n",
       "      <td>-1.487699</td>\n",
       "      <td>0.178140</td>\n",
       "      <td>-0.887477</td>\n",
       "      <td>0.103556</td>\n",
       "      <td>1.125781</td>\n",
       "      <td>0.113567</td>\n",
       "      <td>-0.671348</td>\n",
       "    </tr>\n",
       "  </tbody>\n",
       "</table>\n",
       "<p>8370 rows × 10 columns</p>\n",
       "</div>"
      ],
      "text/plain": [
       "            1         56        0         54        9         57        55  \\\n",
       "0    -1.799955  0.742423  0.771931 -0.743088  0.199667  0.454864 -0.070795   \n",
       "1    -1.900528  0.764168  0.803999 -0.985741  0.238603  0.594407  0.049346   \n",
       "2    -2.032226  0.733291  0.872130 -1.302961  0.270467  0.651646  0.097989   \n",
       "3    -2.054812  0.671334  0.867914 -1.416257  0.232273  0.746395 -0.048546   \n",
       "4    -2.011126  0.751703  0.787536 -1.369488  0.127776  1.057360 -0.219058   \n",
       "...        ...       ...       ...       ...       ...       ...       ...   \n",
       "8365 -0.170777 -0.354710  0.415159 -0.416174  0.180624 -0.763675  0.562862   \n",
       "8366 -0.232514 -0.423895  0.484640 -0.641672  0.232497 -0.589386  0.649173   \n",
       "8367 -0.163820 -0.425116  0.558206 -1.031493  0.126000 -0.327954  0.910849   \n",
       "8368  0.343880 -0.424628  0.591930 -1.311037  0.161263 -0.503666  0.590795   \n",
       "8369  0.772545 -0.648218  0.809561 -1.487699  0.178140 -0.887477  0.103556   \n",
       "\n",
       "            3         26        4   \n",
       "0    -1.630033 -0.122694  0.566290  \n",
       "1    -1.692496  0.082215  0.101666  \n",
       "2    -1.343837 -0.386993  0.161601  \n",
       "3    -0.838510 -0.053356  0.746273  \n",
       "4    -0.409157 -0.076462  1.239623  \n",
       "...        ...       ...       ...  \n",
       "8365 -0.397453  0.743680  1.102362  \n",
       "8366  0.039627  0.477832  0.837373  \n",
       "8367  0.480464  0.355288  0.879917  \n",
       "8368  1.014618 -0.274484  0.200438  \n",
       "8369  1.125781  0.113567 -0.671348  \n",
       "\n",
       "[8370 rows x 10 columns]"
      ]
     },
     "execution_count": 21,
     "metadata": {},
     "output_type": "execute_result"
    }
   ],
   "source": [
    "#look at new input array\n",
    "sele_ind_df"
   ]
  },
  {
   "cell_type": "code",
   "execution_count": 22,
   "id": "e74340de",
   "metadata": {},
   "outputs": [],
   "source": [
    "#turn input array into (# samples, 14 days, 10 features)\n",
    "sele_ind_data = sele_ind_df.values\n",
    "sele_ind_data1 = sele_ind_data.reshape(62,135,10)\n",
    "\n",
    "temp_flat = temp.flatten()"
   ]
  },
  {
   "cell_type": "code",
   "execution_count": 23,
   "id": "bd0ef105",
   "metadata": {},
   "outputs": [
    {
     "data": {
      "text/plain": [
       "(8370, 10)"
      ]
     },
     "execution_count": 23,
     "metadata": {},
     "output_type": "execute_result"
    }
   ],
   "source": [
    "sele_ind_data.shape"
   ]
  },
  {
   "cell_type": "code",
   "execution_count": 24,
   "id": "972d9585",
   "metadata": {},
   "outputs": [],
   "source": [
    "#create timeseries data arrays for PCs \n",
    "#was 122 and 14 for the 14 day window. \n",
    "\n",
    "new_input =  np.empty((62,126,10,10))\n",
    "new_output = np.empty((62,126))\n",
    "\n",
    "for i in range(0,62):\n",
    "    for j in range(0,126):\n",
    "        new_input[i,j,:,:] = sele_ind_data1[i,j:j+10,:]\n",
    "        new_output[i,j] = temp[i,j]"
   ]
  },
  {
   "cell_type": "raw",
   "id": "94900445",
   "metadata": {
    "jupyter": {
     "source_hidden": true
    }
   },
   "source": [
    "##create timeseries but select from 3 categories ...\n",
    "new_input = []\n",
    "new_output = []\n",
    "\n",
    "for i in range(14,9362):\n",
    "    print(i)\n",
    "    if temp_flat[i] == 0:\n",
    "        new_input.append(sele_ind_data[i-14:i,:])\n",
    "        new_output.append(temp_flat[i])\n",
    "    elif temp_flat[i] == 1:\n",
    "        new_input.append(sele_ind_data[i-14:i,:])\n",
    "        new_output.append(temp_flat[i])\n",
    "    if temp_flat[i] == 2:\n",
    "        continue"
   ]
  },
  {
   "cell_type": "code",
   "execution_count": 25,
   "id": "ddbd2d41",
   "metadata": {},
   "outputs": [
    {
     "name": "stdout",
     "output_type": "stream",
     "text": [
      "(62, 126, 10, 10)\n",
      "(62, 126)\n"
     ]
    }
   ],
   "source": [
    "new_input = np.array(new_input)\n",
    "new_output = np.array(new_output)\n",
    "print(new_input.shape)\n",
    "print(new_output.shape)"
   ]
  },
  {
   "cell_type": "code",
   "execution_count": 26,
   "id": "17f54ca8",
   "metadata": {},
   "outputs": [
    {
     "data": {
      "text/plain": [
       "6445"
      ]
     },
     "execution_count": 26,
     "metadata": {},
     "output_type": "execute_result"
    }
   ],
   "source": [
    "frac_ind = round((62*126)*0.175)\n",
    "frac_end = round((62*126)-frac_ind)\n",
    "frac_end"
   ]
  },
  {
   "cell_type": "code",
   "execution_count": 27,
   "id": "e5c1910a",
   "metadata": {},
   "outputs": [
    {
     "data": {
      "text/plain": [
       "1367"
      ]
     },
     "execution_count": 27,
     "metadata": {},
     "output_type": "execute_result"
    }
   ],
   "source": [
    "frac_ind"
   ]
  },
  {
   "cell_type": "code",
   "execution_count": 28,
   "id": "3e189f4d",
   "metadata": {},
   "outputs": [],
   "source": [
    "##Set X_all and Y_all datasets\n",
    "X_all = np.copy(new_input.reshape((62*126),10,10))\n",
    "Y_all = np.copy(new_output.flatten())\n",
    "\n",
    "##training data partition out\n",
    "X_tri = X_all[:frac_end,:]\n",
    "Y_tri = Y_all[:frac_end]\n",
    "\n",
    "#testing data partition out\n",
    "X_tes = X_all[frac_end:,:]\n",
    "Y_tes = Y_all[frac_end:]\n",
    "\n",
    "#Convert the Y array into a categorical array. This means we will create one-hot vector labels for all of the inputs.\n",
    "# The one-hot vectors have an index for each possible output category (two in our case)\n",
    "# A \"1\" is put in the index corresponding to the category to which the sample belongs\n",
    "Y_all = keras.utils.to_categorical(Y_all)\n",
    "Y_tri = keras.utils.to_categorical(Y_tri)\n",
    "Y_tes= keras.utils.to_categorical(Y_tes)"
   ]
  },
  {
   "cell_type": "code",
   "execution_count": 29,
   "id": "ae40f92a",
   "metadata": {},
   "outputs": [
    {
     "data": {
      "text/plain": [
       "(7812, 2)"
      ]
     },
     "execution_count": 29,
     "metadata": {},
     "output_type": "execute_result"
    }
   ],
   "source": [
    "Y_all.shape"
   ]
  },
  {
   "cell_type": "code",
   "execution_count": 30,
   "id": "f65e34ca",
   "metadata": {},
   "outputs": [],
   "source": [
    "##checking my data for NaN of Infs because I need to make sure this doesn't cause\n",
    "#the model to throw back no loss\n",
    "\n",
    "if np.any(np.isnan(X_all)) or np.any(np.isinf(X_all)):\n",
    "    print(\"NaN or Inf values found in X_all!\")\n",
    "\n",
    "if np.any(np.isnan(Y_all)) or np.any(np.isinf(Y_all)):\n",
    "    print(\"NaN or Inf values found in Y_all!\")"
   ]
  },
  {
   "cell_type": "markdown",
   "id": "9a8ed78f",
   "metadata": {},
   "source": [
    "### Begin establishing specifics of model."
   ]
  },
  {
   "cell_type": "code",
   "execution_count": 31,
   "id": "80f39138",
   "metadata": {},
   "outputs": [],
   "source": [
    "##class weight creator for the instance where now I have a four dimensional output array \n",
    "def class_weight_creator(Y):\n",
    "    class_dict = {}\n",
    "    Y_reshaped = Y.reshape(-1, Y.shape[-1])\n",
    "    weights = np.max(np.sum(Y_reshaped, axis=0)) / np.sum(Y_reshaped, axis=0)\n",
    "    for i in range(Y.shape[-1] ):\n",
    "        class_dict[i] = weights[i]\n",
    "        \n",
    "    return class_dict"
   ]
  },
  {
   "cell_type": "code",
   "execution_count": 32,
   "id": "f9546c7d",
   "metadata": {},
   "outputs": [],
   "source": [
    "##number of input nodes\n",
    "numb_int = X_all.shape[1:]\n",
    "\n",
    "##fraction of training data\n",
    "X_validation = X_tri[0:frac_ind]\n",
    "Y_validation = Y_tri[0:frac_ind]\n",
    "        \n",
    "X_train = X_tri[frac_ind:len(X_tri)]\n",
    "Y_train = Y_tri[frac_ind:len(Y_tri)]\n",
    "\n",
    "X_test = X_tes\n",
    "Y_test = Y_tes"
   ]
  },
  {
   "cell_type": "code",
   "execution_count": 33,
   "id": "1146159f",
   "metadata": {},
   "outputs": [
    {
     "data": {
      "text/plain": [
       "(5078, 2)"
      ]
     },
     "execution_count": 33,
     "metadata": {},
     "output_type": "execute_result"
    }
   ],
   "source": [
    "Y_train.shape"
   ]
  },
  {
   "cell_type": "code",
   "execution_count": 34,
   "id": "f59180ab",
   "metadata": {},
   "outputs": [
    {
     "data": {
      "text/plain": [
       "(10, 10)"
      ]
     },
     "execution_count": 34,
     "metadata": {},
     "output_type": "execute_result"
    }
   ],
   "source": [
    "numb_int"
   ]
  },
  {
   "cell_type": "code",
   "execution_count": 35,
   "id": "e832abf5",
   "metadata": {},
   "outputs": [
    {
     "data": {
      "text/plain": [
       "{0: 1.0, 1: 1.8352876}"
      ]
     },
     "execution_count": 35,
     "metadata": {},
     "output_type": "execute_result"
    }
   ],
   "source": [
    "##do the class_dict weights\n",
    "class_weight = class_weight_creator(Y_train)\n",
    "class_weight"
   ]
  },
  {
   "cell_type": "raw",
   "id": "2c355e7c",
   "metadata": {
    "jupyter": {
     "source_hidden": true
    }
   },
   "source": [
    "from tensorflow.keras.layers import Layer\n",
    "from tensorflow.keras import backend as K\n",
    "\n",
    "class AttentionWithContext(Layer):\n",
    "    def __init__(self, **kwargs):\n",
    "        super(AttentionWithContext, self).__init__(**kwargs)\n",
    "\n",
    "    def build(self, input_shape):\n",
    "        self.W = self.add_weight(shape=(input_shape[-1], input_shape[-1]),\n",
    "                                 initializer='glorot_uniform',\n",
    "                                 trainable=True,\n",
    "                                 name='W')\n",
    "        self.u = self.add_weight(shape=(input_shape[-1],),\n",
    "                                 initializer='glorot_uniform',\n",
    "                                 trainable=True,\n",
    "                                 name='u')\n",
    "        super(AttentionWithContext, self).build(input_shape)\n",
    "\n",
    "    def call(self, x):\n",
    "        # x shape: (batch_size, timesteps, features)\n",
    "        uit = K.tanh(K.dot(x, self.W))  # (batch_size, timesteps, features)\n",
    "        # use tf.tensordot to do dot product along features dimension:\n",
    "        ait = tf.tensordot(uit, self.u, axes=[[2], [0]])  # (batch_size, timesteps)\n",
    "        a = K.softmax(ait)  # attention weights (batch_size, timesteps)\n",
    "        a = K.expand_dims(a)  # (batch_size, timesteps, 1)\n",
    "        weighted_input = x * a  # (batch_size, timesteps, features)\n",
    "        output = K.sum(weighted_input, axis=1)  # (batch_size, features)\n",
    "        return output\n",
    "\n",
    "    def compute_output_shape(self, input_shape):\n",
    "        return (input_shape[0], input_shape[-1])"
   ]
  },
  {
   "cell_type": "markdown",
   "id": "724ca651",
   "metadata": {},
   "source": [
    "### Model Architecture. "
   ]
  },
  {
   "cell_type": "code",
   "execution_count": 36,
   "id": "11df3108",
   "metadata": {},
   "outputs": [],
   "source": [
    "######\n",
    "batch_size = 64 #The number of samples the network sees before it backpropagates (batch size)\n",
    "epochs = 30 #The number of times the network will loop through the entire dataset (epochs)\n",
    "shuffle = True #Set whether to shuffle the training data so the model doesn't see it sequentially \n",
    "verbose = 2 #Set whether the model will output information when trained (0 = no output; 2 = output accuracy every epoch)"
   ]
  },
  {
   "cell_type": "code",
   "execution_count": 37,
   "id": "dfb44dc5",
   "metadata": {},
   "outputs": [],
   "source": [
    "def categorical_focal_loss(alpha=0.25, gamma=2.0):\n",
    "    def loss(y_true, y_pred):\n",
    "        # Clip predictions to prevent log(0)\n",
    "        epsilon = tf.keras.backend.epsilon()\n",
    "        y_pred = tf.clip_by_value(y_pred, epsilon, 1. - epsilon)\n",
    "\n",
    "        # Cross-entropy loss\n",
    "        cross_entropy = -y_true * tf.math.log(y_pred)\n",
    "\n",
    "        # Compute focal loss scaling factor\n",
    "        focal_factor = tf.pow(1 - y_pred, gamma)\n",
    "        loss = alpha * focal_factor * cross_entropy\n",
    "\n",
    "        return tf.reduce_sum(loss, axis=1)  # sum across classes per sample\n",
    "\n",
    "    return loss"
   ]
  },
  {
   "cell_type": "code",
   "execution_count": 39,
   "id": "3973bfc5",
   "metadata": {},
   "outputs": [],
   "source": [
    "#model\n",
    "def basic_LSTM(ntimestep, nfeature, n1, n2, n3, rl1, rl3, lr):  \n",
    "    input_tensor = Input(shape=(ntimestep, nfeature))\n",
    "    \n",
    "    layer1 = layers.RNN(\n",
    "        layers.LSTMCell(n1, activation='tanh', use_bias=True,\n",
    "                          dropout=0.2, \n",
    "                          kernel_initializer='glorot_uniform',\n",
    "                          kernel_regularizer=keras.regularizers.l2(l2= rl1)),\n",
    "        return_sequences=True)(input_tensor)\n",
    "       \n",
    "    layer2 = layers.RNN(\n",
    "        layers.LSTMCell(n2, activation='tanh', use_bias=True,\n",
    "                          kernel_initializer='glorot_uniform',\n",
    "                          kernel_regularizer=keras.regularizers.l2(l2= rl1)))(layer1)\n",
    "    \n",
    "    layer3 = layers.Dense(n3, activation='relu',use_bias=True,\n",
    "                          kernel_initializer='he_normal',bias_initializer='he_normal',\n",
    "                          kernel_regularizer=keras.regularizers.l2(l2=rl3))(layer2)\n",
    "\n",
    "    output_tensor = layers.Dense(2, activation='softmax',)(layer3)\n",
    "\n",
    "    model = Model(input_tensor, output_tensor)\n",
    "    opt = tf.keras.optimizers.legacy.Adam(learning_rate=lr)\n",
    "    #decay_rate = lr / epochs\n",
    "    #momentum = 0.9\n",
    "\n",
    "    model.compile(optimizer=opt,loss=categorical_focal_loss(alpha=0.9, gamma=0.2),metrics=[keras.metrics.categorical_accuracy],)\n",
    "                            \n",
    "    return model"
   ]
  },
  {
   "cell_type": "raw",
   "id": "fc9f6952",
   "metadata": {
    "jupyter": {
     "source_hidden": true
    }
   },
   "source": [
    "def basic_LSTM(ntimestep, nfeature, n1, n2, n3, rl1, rl3, lr):\n",
    "    input_tensor = Input(shape=(ntimestep, nfeature))\n",
    "\n",
    "    layer1 = layers.Bidirectional(\n",
    "        layers.LSTM(n1, return_sequences=True, dropout=0.2, recurrent_dropout=0.2,\n",
    "                    kernel_regularizer=keras.regularizers.l2(l2=rl1)))(input_tensor)\n",
    "\n",
    "    layer2 = layers.LSTM(n2, return_sequences=False, dropout=0.2, recurrent_dropout=0.2,\n",
    "                         kernel_regularizer=keras.regularizers.l2(l2=rl1))(layer1)\n",
    "\n",
    "    layer3 = layers.Dense(n3, activation='relu',\n",
    "                          kernel_regularizer=keras.regularizers.l2(rl3))(layer2)\n",
    "    output_tensor = layers.Dense(2, activation='softmax')(layer3)\n",
    "\n",
    "    model = Model(input_tensor, output_tensor)\n",
    "    model.compile(optimizer=tf.keras.optimizers.Adam(learning_rate=lr),\n",
    "                  loss=categorical_focal_loss(alpha=0.25, gamma=2.0),\n",
    "                  metrics=[keras.metrics.CategoricalAccuracy()])\n",
    "    return model\n"
   ]
  },
  {
   "cell_type": "code",
   "execution_count": 40,
   "id": "6e9e078f",
   "metadata": {},
   "outputs": [],
   "source": [
    "model = basic_LSTM(numb_int[0],numb_int[1], 64, 16, 16, 0.208, 0.177, 0.0006466)"
   ]
  },
  {
   "cell_type": "code",
   "execution_count": 41,
   "id": "16909c8d",
   "metadata": {
    "jupyter": {
     "source_hidden": true
    }
   },
   "outputs": [],
   "source": [
    "##create model\n",
    "#model = basic_LSTM(numb_int[0],numb_int[1], 32, 8, 32, 0.77, 0.63, 0.00031)\n",
    "#model = basic_LSTM(numb_int[0],numb_int[1], 64,24, 24, 0.88, 0.05, 0.0795)\n",
    "\n",
    "#early_stopping = EarlyStopping(monitor='val_loss',patience=4,restore_best_weights=True,verbose=1)"
   ]
  },
  {
   "cell_type": "code",
   "execution_count": 42,
   "id": "47620d49",
   "metadata": {
    "jupyter": {
     "source_hidden": true
    }
   },
   "outputs": [],
   "source": [
    "##EUROPE models\n",
    "#model = basic_LSTM(numb_int[0],numb_int[1], 64, 8, 16, 0.5, 0.03, 0.5, 0.001)\n",
    "#model = basic_LSTM(numb_int[0],numb_int[1], 64, 20, 32, 0.19, 0.68, 0.11, 0.0014)\n",
    "\n",
    "####model = basic_LSTM(numb_int[0],numb_int[1], 32, 4, 24, 0.53, 0.26, 0.0016)\n",
    "\n",
    "##NOVA models\n",
    "#model = basic_LSTM(numb_int[0],numb_int[1], 48, 8, 16, 0.21, 0.18, 0.0015)\n",
    "#model = basic_LSTM(numb_int[0],numb_int[1], 32, 16, 16, 0.19, 0.26, 0.0011)\n",
    "#model = basic_LSTM(numb_int[0],numb_int[1], 48, 32, 0.56, 0.1, 0.022)\n",
    "\n",
    "####model = basic_LSTM(numb_int[0],numb_int[1], 32, 8, 32, 0.77, 0.63, 0.00031)"
   ]
  },
  {
   "cell_type": "code",
   "execution_count": 43,
   "id": "5cba4c85",
   "metadata": {
    "jupyter": {
     "source_hidden": true
    }
   },
   "outputs": [],
   "source": [
    "##this cell was for troubleshooting CuDNN compatability issues\n",
    "#model.dtype\n",
    "#model.input.shape.is_fully_defined()\n",
    "#print(model.input.shape)                    \n",
    "#print(model.input.shape.is_fully_defined())"
   ]
  },
  {
   "cell_type": "code",
   "execution_count": 44,
   "id": "15998cb2",
   "metadata": {
    "scrolled": true
   },
   "outputs": [
    {
     "name": "stdout",
     "output_type": "stream",
     "text": [
      "Epoch 1/30\n",
      "80/80 [==============================] - 4s 16ms/step - loss: 18.3745 - categorical_accuracy: 0.6473 - val_loss: 13.2096 - val_categorical_accuracy: 0.6913\n",
      "Epoch 2/30\n",
      "80/80 [==============================] - 1s 13ms/step - loss: 10.1657 - categorical_accuracy: 0.6503 - val_loss: 7.6142 - val_categorical_accuracy: 0.7067\n",
      "Epoch 3/30\n",
      "80/80 [==============================] - 1s 13ms/step - loss: 6.1155 - categorical_accuracy: 0.6699 - val_loss: 4.8168 - val_categorical_accuracy: 0.7242\n",
      "Epoch 4/30\n",
      "80/80 [==============================] - 1s 13ms/step - loss: 4.0611 - categorical_accuracy: 0.6753 - val_loss: 3.3591 - val_categorical_accuracy: 0.7235\n",
      "Epoch 5/30\n",
      "80/80 [==============================] - 1s 13ms/step - loss: 2.9511 - categorical_accuracy: 0.6737 - val_loss: 2.5272 - val_categorical_accuracy: 0.7337\n",
      "Epoch 6/30\n",
      "80/80 [==============================] - 1s 13ms/step - loss: 2.2893 - categorical_accuracy: 0.6786 - val_loss: 2.0103 - val_categorical_accuracy: 0.7366\n",
      "Epoch 7/30\n",
      "80/80 [==============================] - 1s 13ms/step - loss: 1.8520 - categorical_accuracy: 0.6733 - val_loss: 1.6435 - val_categorical_accuracy: 0.7286\n",
      "Epoch 8/30\n",
      "80/80 [==============================] - 1s 13ms/step - loss: 1.5359 - categorical_accuracy: 0.6782 - val_loss: 1.3723 - val_categorical_accuracy: 0.7191\n",
      "Epoch 9/30\n",
      "80/80 [==============================] - 1s 13ms/step - loss: 1.2954 - categorical_accuracy: 0.6766 - val_loss: 1.1586 - val_categorical_accuracy: 0.7425\n",
      "Epoch 10/30\n",
      "80/80 [==============================] - 1s 13ms/step - loss: 1.1088 - categorical_accuracy: 0.6774 - val_loss: 0.9900 - val_categorical_accuracy: 0.7308\n",
      "Epoch 11/30\n",
      "80/80 [==============================] - 1s 13ms/step - loss: 0.9621 - categorical_accuracy: 0.6782 - val_loss: 0.8649 - val_categorical_accuracy: 0.7257\n",
      "Epoch 12/30\n",
      "80/80 [==============================] - 1s 13ms/step - loss: 0.8488 - categorical_accuracy: 0.6770 - val_loss: 0.7667 - val_categorical_accuracy: 0.7381\n",
      "Epoch 13/30\n",
      "80/80 [==============================] - 1s 13ms/step - loss: 0.7600 - categorical_accuracy: 0.6753 - val_loss: 0.6954 - val_categorical_accuracy: 0.7125\n",
      "Epoch 14/30\n",
      "80/80 [==============================] - 1s 13ms/step - loss: 0.6908 - categorical_accuracy: 0.6721 - val_loss: 0.6231 - val_categorical_accuracy: 0.7425\n",
      "Epoch 15/30\n",
      "80/80 [==============================] - 1s 13ms/step - loss: 0.6395 - categorical_accuracy: 0.6690 - val_loss: 0.5829 - val_categorical_accuracy: 0.7220\n",
      "Epoch 16/30\n",
      "80/80 [==============================] - 1s 13ms/step - loss: 0.5989 - categorical_accuracy: 0.6757 - val_loss: 0.5552 - val_categorical_accuracy: 0.7323\n",
      "Epoch 17/30\n",
      "80/80 [==============================] - 1s 13ms/step - loss: 0.5688 - categorical_accuracy: 0.6703 - val_loss: 0.5223 - val_categorical_accuracy: 0.7323\n",
      "Epoch 18/30\n",
      "80/80 [==============================] - 1s 13ms/step - loss: 0.5463 - categorical_accuracy: 0.6788 - val_loss: 0.5016 - val_categorical_accuracy: 0.7345\n",
      "Epoch 19/30\n",
      "80/80 [==============================] - 1s 13ms/step - loss: 0.5312 - categorical_accuracy: 0.6680 - val_loss: 0.4875 - val_categorical_accuracy: 0.7228\n",
      "Epoch 20/30\n",
      "80/80 [==============================] - 1s 13ms/step - loss: 0.5185 - categorical_accuracy: 0.6763 - val_loss: 0.4776 - val_categorical_accuracy: 0.7308\n",
      "Epoch 21/30\n",
      "80/80 [==============================] - 1s 13ms/step - loss: 0.5104 - categorical_accuracy: 0.6741 - val_loss: 0.4654 - val_categorical_accuracy: 0.7184\n",
      "Epoch 22/30\n",
      "80/80 [==============================] - 1s 13ms/step - loss: 0.5053 - categorical_accuracy: 0.6701 - val_loss: 0.4678 - val_categorical_accuracy: 0.7271\n",
      "Epoch 23/30\n",
      "80/80 [==============================] - 1s 13ms/step - loss: 0.4998 - categorical_accuracy: 0.6723 - val_loss: 0.4661 - val_categorical_accuracy: 0.7337\n",
      "Epoch 24/30\n",
      "80/80 [==============================] - 1s 13ms/step - loss: 0.4969 - categorical_accuracy: 0.6705 - val_loss: 0.4566 - val_categorical_accuracy: 0.7388\n",
      "Epoch 25/30\n",
      "80/80 [==============================] - 1s 13ms/step - loss: 0.4941 - categorical_accuracy: 0.6806 - val_loss: 0.4578 - val_categorical_accuracy: 0.7388\n",
      "Epoch 26/30\n",
      "80/80 [==============================] - 1s 13ms/step - loss: 0.4921 - categorical_accuracy: 0.6808 - val_loss: 0.4539 - val_categorical_accuracy: 0.7374\n",
      "Epoch 27/30\n",
      "80/80 [==============================] - 1s 13ms/step - loss: 0.4909 - categorical_accuracy: 0.6741 - val_loss: 0.4572 - val_categorical_accuracy: 0.7191\n",
      "Epoch 28/30\n",
      "80/80 [==============================] - 1s 13ms/step - loss: 0.4898 - categorical_accuracy: 0.6778 - val_loss: 0.4588 - val_categorical_accuracy: 0.7132\n",
      "Epoch 29/30\n",
      "80/80 [==============================] - 1s 13ms/step - loss: 0.4904 - categorical_accuracy: 0.6755 - val_loss: 0.4549 - val_categorical_accuracy: 0.7330\n",
      "Epoch 30/30\n",
      "80/80 [==============================] - 1s 14ms/step - loss: 0.4897 - categorical_accuracy: 0.6707 - val_loss: 0.4512 - val_categorical_accuracy: 0.7213\n"
     ]
    },
    {
     "data": {
      "text/plain": [
       "<keras.src.callbacks.History at 0x155205bd37c0>"
      ]
     },
     "execution_count": 44,
     "metadata": {},
     "output_type": "execute_result"
    }
   ],
   "source": [
    "model.fit(X_train, Y_train, validation_data=(X_validation, Y_validation),\n",
    "          batch_size=batch_size, epochs=epochs, shuffle=shuffle) #, callbacks=[early_stopping])"
   ]
  },
  {
   "cell_type": "code",
   "execution_count": 45,
   "id": "ed2a561d",
   "metadata": {},
   "outputs": [
    {
     "name": "stdout",
     "output_type": "stream",
     "text": [
      "245/245 [==============================] - 1s 3ms/step\n",
      "43/43 [==============================] - 0s 3ms/step\n",
      "159/159 [==============================] - 0s 3ms/step\n",
      "43/43 [==============================] - 0s 3ms/step\n"
     ]
    },
    {
     "data": {
      "text/plain": [
       "<bound method Axes.legend of <Axes: title={'center': 'Accuracy'}, xlabel='Epoch', ylabel='Acc'>>"
      ]
     },
     "execution_count": 45,
     "metadata": {},
     "output_type": "execute_result"
    },
    {
     "data": {
      "image/png": "[encoded data removed]",
      "text/plain": [
       "<Figure size 1600x400 with 2 Axes>"
      ]
     },
     "metadata": {},
     "output_type": "display_data"
    }
   ],
   "source": [
    "train_loss=model.history.history['loss']\n",
    "val_loss=model.history.history['val_loss']\n",
    "    \n",
    "cat_acc=model.history.history['categorical_accuracy']\n",
    "val_acc=model.history.history['val_categorical_accuracy']\n",
    "        \n",
    "pred = model.predict(X_all)\n",
    "pred_val = model.predict(X_validation)\n",
    "pred_train = model.predict(X_train)\n",
    "pred_test = model.predict(X_test)\n",
    "\n",
    "# Look at the optimization history\n",
    "fig, (ax1,ax2) = plt.subplots(1,2, figsize=plt.figaspect(0.25))\n",
    "ax1.plot(train_loss, label='Training loss')\n",
    "ax1.plot(val_loss, label='Validation loss')\n",
    "ax1.set_yscale('log')\n",
    "ax1.set_title('loss')\n",
    "ax1.set_xlabel('Epoch')\n",
    "ax1.set_ylabel('loss')\n",
    "ax1.legend()\n",
    "\n",
    "ax2.plot(cat_acc, label='Training ACC')\n",
    "ax2.plot(val_acc, label='Validation ACC')\n",
    "ax2.set_title('Accuracy')\n",
    "ax2.set_xlabel('Epoch')\n",
    "ax2.set_ylabel('Acc')\n",
    "ax2.legend\n",
    "#plt.savefig(\"SEUS_onearch.png\")"
   ]
  },
  {
   "cell_type": "code",
   "execution_count": 46,
   "id": "570697ae",
   "metadata": {},
   "outputs": [
    {
     "name": "stdout",
     "output_type": "stream",
     "text": [
      "43/43 [==============================] - 0s 3ms/step\n",
      "              precision    recall  f1-score   support\n",
      "\n",
      "           0      0.735     0.932     0.822       945\n",
      "           1      0.621     0.249     0.355       422\n",
      "\n",
      "    accuracy                          0.721      1367\n",
      "   macro avg      0.678     0.591     0.589      1367\n",
      "weighted avg      0.700     0.721     0.678      1367\n",
      "\n"
     ]
    }
   ],
   "source": [
    "from sklearn.metrics import classification_report\n",
    "import numpy as np\n",
    "\n",
    "y_val_pred = model.predict(X_validation)\n",
    "y_val_classes = np.argmax(y_val_pred, axis=1)\n",
    "y_val_true = np.argmax(Y_validation, axis=1)\n",
    "\n",
    "print(classification_report(y_val_true, y_val_classes, digits=3))"
   ]
  },
  {
   "cell_type": "code",
   "execution_count": null,
   "id": "e88fc083",
   "metadata": {},
   "outputs": [],
   "source": [
    "# Example variables:\n",
    "# y_all: shape (n_samples, 2) — one-hot encoded true labels\n",
    "# pred_probs: shape (n_samples, 2) — predicted probabilities for each class\n",
    "\n",
    "# Convert one-hot labels to 1D integer labels (0 or 1)\n",
    "y_true = np.argmax(Y_test, axis=1)\n",
    "\n",
    "# Extract predicted probability for the positive class (class 1)\n",
    "y_prob = pred_test[:,1]\n",
    "\n",
    "# Create climatology baseline: constant probability = mean positive class rate\n",
    "p_climatology = np.full_like(y_true, y_true.mean(), dtype=float)\n",
    "\n",
    "# Compute Brier Scores\n",
    "bs_model = brier_score_loss(y_true, y_prob)\n",
    "bs_climo = brier_score_loss(y_true, p_climatology)\n",
    "\n",
    "# Compute Brier Skill Score\n",
    "bss = 1 - (bs_model / bs_climo)\n",
    "\n",
    "print(f\"Brier Score (Model): {bs_model:.4f}\")\n",
    "print(f\"Brier Score (Climatology): {bs_climo:.4f}\")\n",
    "print(f\"Brier Skill Score: {bss:.4f}\")"
   ]
  },
  {
   "cell_type": "code",
   "execution_count": null,
   "id": "ee11616a",
   "metadata": {},
   "outputs": [],
   "source": [
    "## Labels for negative class\n",
    "y_true_neg = 1 - y_true  # flip 0 <-> 1\n",
    "\n",
    "# Predicted probabilities for negative class\n",
    "y_prob_neg = pred_test[:, 0]\n",
    "\n",
    "# Calculate Brier Score and BSS for negative class\n",
    "bs_model_neg = brier_score_loss(y_true_neg, y_prob_neg)\n",
    "bs_climo_neg = brier_score_loss(y_true_neg, np.full_like(y_true_neg, y_true_neg.mean()))\n",
    "bss_neg = 1 - (bs_model_neg / bs_climo_neg)\n",
    "\n",
    "print(f\"Brier Score (Model): {bs_model_neg:.4f}\")\n",
    "print(f\"Brier Score (Climatology): {bs_climo_neg:.4f}\")\n",
    "print(f\"Brier Skill Score: {bss_neg:.4f}\")"
   ]
  },
  {
   "cell_type": "code",
   "execution_count": null,
   "id": "b82a3611",
   "metadata": {},
   "outputs": [],
   "source": [
    "bins = np.linspace(0.2, 0.8, 37)  #10 bins from 0.4 to 1\n",
    "##bin the probabilities\n",
    "counts_neg_test, edges_neg_test = np.histogram(pred_test[:,0], bins=bins)\n",
    "counts_pos_test, edges_pos_test = np.histogram(pred_test[:,1], bins=bins)\n",
    "\n",
    "counts_neg_train, edges_neg_train = np.histogram(pred_train[:,0], bins=bins)\n",
    "counts_pos_train, edges_pos_train = np.histogram(pred_train[:,1], bins=bins)\n",
    "\n",
    "counts_neg_val, edges_neg_val = np.histogram(pred_val[:,0], bins=bins)\n",
    "counts_pos_val, edges_pos_val = np.histogram(pred_val[:,1], bins=bins)\n",
    "\n",
    "fig, axes = plt.subplots(3, 2, figsize=(10,10))\n",
    "ax1, ax2, ax3, ax4, ax5, ax6 = axes.flatten()\n",
    "\n",
    "ax1.bar(edges_neg_train[:-1], counts_neg_train, width=np.diff(edges_neg_train), \n",
    "        edgecolor='black', alpha=0.5, align='edge', color='blue')\n",
    "ax1.set_title('Negative Training Predictions', fontsize=13)\n",
    "ax1.set_xlabel('Probability')\n",
    "ax1.set_ylabel('Count')\n",
    "\n",
    "ax2.bar(edges_pos_train[:-1], counts_pos_train, width=np.diff(edges_pos_train), \n",
    "        edgecolor='black', alpha=0.5, align='edge', color='orange')\n",
    "ax2.set_title('Positive Training Predictions', fontsize=13)\n",
    "ax2.set_xlabel('Probability')\n",
    "ax2.set_ylabel('Count')\n",
    "\n",
    "ax3.bar(edges_neg_val[:-1], counts_neg_val, width=np.diff(edges_neg_val), \n",
    "        edgecolor='black', alpha=0.5, align='edge', color='blue')\n",
    "ax3.set_title('Negative Validation Predictions', fontsize=13)\n",
    "ax3.set_xlabel('Probability')\n",
    "ax3.set_ylabel('Count')\n",
    "\n",
    "ax4.bar(edges_pos_val[:-1], counts_pos_val, width=np.diff(edges_pos_val), \n",
    "        edgecolor='black', alpha=0.5, align='edge', color='orange')\n",
    "ax4.set_title('Positive Validation Predictions', fontsize=13)\n",
    "ax4.set_xlabel('Probability')\n",
    "ax4.set_ylabel('Count')\n",
    "\n",
    "ax5.bar(edges_neg_test[:-1], counts_neg_test, width=np.diff(edges_neg_test), \n",
    "        edgecolor='black', alpha=0.5, align='edge', color='blue')\n",
    "ax5.set_title('Negative Testing Predictions', fontsize=13)\n",
    "ax5.set_xlabel('Probability')\n",
    "ax5.set_ylabel('Count')\n",
    "\n",
    "ax6.bar(edges_pos_test[:-1], counts_pos_test, width=np.diff(edges_pos_test), \n",
    "        edgecolor='black', alpha=0.5, align='edge', color='orange')\n",
    "ax6.set_title('Positive Testing Predictions', fontsize=13)\n",
    "ax6.set_xlabel('Probability')\n",
    "ax6.set_ylabel('Count')\n",
    "\n",
    "plt.tight_layout()"
   ]
  },
  {
   "cell_type": "code",
   "execution_count": null,
   "id": "44ef463e",
   "metadata": {},
   "outputs": [],
   "source": []
  }
 ],
 "metadata": {
  "kernelspec": {
   "display_name": "Python 3 (ipykernel)",
   "language": "python",
   "name": "python3"
  },
  "language_info": {
   "codemirror_mode": {
    "name": "ipython",
    "version": 3
   },
   "file_extension": ".py",
   "mimetype": "text/x-python",
   "name": "python",
   "nbconvert_exporter": "python",
   "pygments_lexer": "ipython3",
   "version": "3.10.12"
  }
 },
 "nbformat": 4,
 "nbformat_minor": 5
}
