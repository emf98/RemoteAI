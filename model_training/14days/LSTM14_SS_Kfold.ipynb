{
 "cells": [
  {
   "cell_type": "markdown",
   "id": "d04d1111",
   "metadata": {},
   "source": [
    "### LSTM Model Loop with Skill Score calculation\n",
    "\n",
    "File initially created 5/30/2025. \n",
    "\n",
    "I will start with a 14 day model. "
   ]
  },
  {
   "cell_type": "raw",
   "id": "c97a9ca8",
   "metadata": {
    "jupyter": {
     "source_hidden": true
    }
   },
   "source": [
    "!pip install shap"
   ]
  },
  {
   "cell_type": "code",
   "execution_count": 1,
   "id": "74793e34",
   "metadata": {
    "jupyter": {
     "source_hidden": true
    }
   },
   "outputs": [
    {
     "name": "stderr",
     "output_type": "stream",
     "text": [
      "2025-06-03 23:31:44.928459: I tensorflow/core/util/port.cc:113] oneDNN custom operations are on. You may see slightly different numerical results due to floating-point round-off errors from different computation orders. To turn them off, set the environment variable `TF_ENABLE_ONEDNN_OPTS=0`.\n",
      "2025-06-03 23:31:44.959565: E external/local_xla/xla/stream_executor/cuda/cuda_dnn.cc:9373] Unable to register cuDNN factory: Attempting to register factory for plugin cuDNN when one has already been registered\n",
      "2025-06-03 23:31:44.959588: E external/local_xla/xla/stream_executor/cuda/cuda_fft.cc:607] Unable to register cuFFT factory: Attempting to register factory for plugin cuFFT when one has already been registered\n",
      "2025-06-03 23:31:44.960531: E external/local_xla/xla/stream_executor/cuda/cuda_blas.cc:1534] Unable to register cuBLAS factory: Attempting to register factory for plugin cuBLAS when one has already been registered\n",
      "2025-06-03 23:31:44.965571: I tensorflow/core/platform/cpu_feature_guard.cc:183] This TensorFlow binary is optimized to use available CPU instructions in performance-critical operations.\n",
      "To enable the following instructions: SSE3 SSE4.1 SSE4.2 AVX, in other operations, rebuild TensorFlow with the appropriate compiler flags.\n",
      "2025-06-03 23:31:46.311884: I tensorflow/core/common_runtime/gpu/gpu_device.cc:1926] Created device /job:localhost/replica:0/task:0/device:GPU:0 with 979 MB memory:  -> device: 0, name: NVIDIA H100 80GB HBM3, pci bus id: 0000:2d:00.0, compute capability: 9.0\n"
     ]
    }
   ],
   "source": [
    "##import cell makes its appearance once again...\n",
    "%matplotlib inline\n",
    "##so-called \"math\" related imports\n",
    "#from netCDF4 import Dataset as ncread\n",
    "import numpy as np\n",
    "import pandas as pd\n",
    "import math\n",
    "import random\n",
    "from random import seed\n",
    "from random import randint\n",
    "from random import sample\n",
    "from scipy.ndimage import gaussian_filter\n",
    "from sklearn.metrics import brier_score_loss\n",
    "from sklearn.model_selection import TimeSeriesSplit\n",
    "import xarray as xr\n",
    "\n",
    "import pickle\n",
    "\n",
    "##plotting related imports\n",
    "import matplotlib.pyplot as plt\n",
    "\n",
    "#import tensorflow/keras related files\n",
    "import tensorflow as tf    \n",
    "#tf.compat.v1.disable_v2_behavior() # <-- HERE !\n",
    "\n",
    "tf.device('/physical_device:GPU:0')\n",
    "\n",
    "from tensorflow import keras\n",
    "from tensorflow.keras import layers\n",
    "from tensorflow.keras import Input\n",
    "from tensorflow.keras.models import Model\n",
    "from tensorflow.keras.callbacks import ModelCheckpoint\n",
    "from tensorflow.keras import regularizers\n",
    "import tensorflow.keras.backend as K\n",
    "from tensorflow.keras.utils import to_categorical\n",
    "from tensorflow.keras.layers import Dropout, Activation, Reshape, Flatten, LSTM, Dense, Dropout, Embedding, Bidirectional, GRU\n",
    "from tensorflow.keras import Sequential\n",
    "from tensorflow.keras import initializers, regularizers\n",
    "from tensorflow.keras import optimizers\n",
    "from tensorflow.keras import constraints\n",
    "from tensorflow.keras.layers import Layer, InputSpec\n",
    "\n",
    "#tf.compat.v1.disable_eager_execution()\n",
    "#import investigate"
   ]
  },
  {
   "cell_type": "code",
   "execution_count": 2,
   "id": "d58d9f7d",
   "metadata": {},
   "outputs": [],
   "source": [
    "from EOF_def import EOF_def\n",
    "\n",
    "from StatScores import BSS\n",
    "from StatScores import RAS_two\n",
    "from StatScores import PAS_two"
   ]
  },
  {
   "cell_type": "code",
   "execution_count": 3,
   "id": "9fcb023c",
   "metadata": {},
   "outputs": [],
   "source": [
    "##load in solvers for PC analysis to get the PCs for the model itself. "
   ]
  },
  {
   "cell_type": "code",
   "execution_count": 4,
   "id": "15ee1401",
   "metadata": {},
   "outputs": [
    {
     "name": "stdout",
     "output_type": "stream",
     "text": [
      "<class 'numpy.ndarray'> (8370, 10)\n",
      "<class 'numpy.ndarray'> (8370, 45)\n",
      "<class 'numpy.ndarray'> (8370, 10)\n"
     ]
    }
   ],
   "source": [
    "# load input solvers\n",
    "infile = open(\"../../eof_analysis/solvers/Usolver_14.p\",\"rb\",)\n",
    "Usolver = pickle.load(infile)  ##pv on an isentropic surface, 350\n",
    "infile.close()\n",
    "\n",
    "infile = open(\"../../eof_analysis/solvers/EHFsolver_14.p\",\"rb\",)\n",
    "EHFsolver = pickle.load(infile)  ##ZMehf vertical cross section along longitudes\n",
    "infile.close()\n",
    "\n",
    "infile = open(\"../../eof_analysis/solvers/GPHsolver_14.p\",\"rb\",)\n",
    "GPHsolver = pickle.load(infile)  ##ZMehf vertical cross section along longitudes\n",
    "infile.close()\n",
    "\n",
    "## U\n",
    "U_EOF_nw, U_EOF_nw2d, U_eigenv, U_VarEx, U_PC = EOF_def(Usolver, 10)\n",
    "## EHF\n",
    "EHF_EOF_nw, EHF_EOF_nw2d, EHF_eigenv, EHF_VarEx, EHF_PC = EOF_def(EHFsolver, 45)\n",
    "## GPH\n",
    "GPH_EOF_nw, GPH_EOF_nw2d, GPH_eigenv, GPH_VarEx, GPH_PC = EOF_def(GPHsolver, 10)\n",
    "\n",
    "##remove PC 1\n",
    "U_PC = U_PC[:, 1:]\n",
    "EHF_PC = EHF_PC[:, 1:]\n",
    "GPH_PC = GPH_PC[:, 1:]"
   ]
  },
  {
   "cell_type": "code",
   "execution_count": 5,
   "id": "e219c5e2",
   "metadata": {},
   "outputs": [],
   "source": [
    "##create one array of PCs\n",
    "inputvar = np.concatenate((U_PC,EHF_PC,GPH_PC),axis=1) \n",
    "\n",
    "##make pandas dataframe for RF\n",
    "input = pd.DataFrame(inputvar)\n",
    "#input"
   ]
  },
  {
   "cell_type": "code",
   "execution_count": 6,
   "id": "842cc2a0",
   "metadata": {},
   "outputs": [],
   "source": [
    "#create pd datafram of selected feature columns\n",
    "#for all temp regions\n",
    "sele_ind_eur = input[[1, 56, 0, 54, 9, 57, 55, 3, 26, 4]]\n",
    "sele_ind_nova = input[[1, 56, 0, 55, 2, 53, 54, 9, 4, 22]]\n",
    "sele_ind_seus = input[[1, 56, 54, 53, 55, 4, 3, 21, 14, 0]]"
   ]
  },
  {
   "cell_type": "code",
   "execution_count": 7,
   "id": "b879dd3a",
   "metadata": {
    "scrolled": true
   },
   "outputs": [],
   "source": [
    "# load output data\n",
    "infile = open(\"../../eof_data/eur_anomtemps.p\",\"rb\",)\n",
    "output_eur = pickle.load(infile) \n",
    "infile.close()\n",
    "\n",
    "infile = open(\"../../eof_data/nova_anomtemps.p\",\"rb\",)\n",
    "output_nova = pickle.load(infile) \n",
    "infile.close()\n",
    "\n",
    "infile = open(\"../../eof_data/seus_anomtemps.p\",\"rb\",)\n",
    "output_seus = pickle.load(infile) \n",
    "infile.close()"
   ]
  },
  {
   "cell_type": "code",
   "execution_count": 8,
   "id": "97cfab91",
   "metadata": {},
   "outputs": [],
   "source": [
    "# load climo data\n",
    "infile = open(\"../../eof_data/eur_climoprob.p\",\"rb\",)\n",
    "climo_eur = pickle.load(infile) \n",
    "infile.close()\n",
    "\n",
    "infile = open(\"../../eof_data/nova_climoprob.p\",\"rb\",)\n",
    "climo_nova = pickle.load(infile) \n",
    "infile.close()\n",
    "\n",
    "infile = open(\"../../eof_data/seus_climoprob.p\",\"rb\",)\n",
    "climo_seus = pickle.load(infile) \n",
    "infile.close()"
   ]
  },
  {
   "cell_type": "markdown",
   "id": "23b4ace8",
   "metadata": {},
   "source": [
    "### This is where you specify the region. "
   ]
  },
  {
   "cell_type": "code",
   "execution_count": 9,
   "id": "ca52e654",
   "metadata": {},
   "outputs": [],
   "source": [
    "##CHANGE THIS\n",
    "sele_ind_df = sele_ind_eur\n",
    "output = output_eur\n",
    "climo = climo_eur"
   ]
  },
  {
   "cell_type": "markdown",
   "id": "c7b42a7c",
   "metadata": {},
   "source": [
    "Now reformat these arrays to match timeseries. "
   ]
  },
  {
   "cell_type": "code",
   "execution_count": 10,
   "id": "b87108c2",
   "metadata": {},
   "outputs": [
    {
     "name": "stdout",
     "output_type": "stream",
     "text": [
      "input:  (62, 135, 10)\n",
      "climo:  (62, 139, 2)\n",
      "output:  (62, 139)\n"
     ]
    }
   ],
   "source": [
    "#turn input array into (# samples, 14 days, 10 features)\n",
    "sele_ind_data = sele_ind_df.values\n",
    "sele_ind_data1 = sele_ind_data.reshape(62,135,10)\n",
    "\n",
    "##need to change this based on lag \n",
    "## 14-days = [:, 47:]\n",
    "## 20-days = [:, 53:]\n",
    "## 30-days = [:, 63:]\n",
    "\n",
    "temp = output.reshape(62, 182)\n",
    "temp = temp[:, 43:]\n",
    "\n",
    "climo = climo.reshape(62, 182,2)\n",
    "climo = climo[:, 43:, :]\n",
    "#climo = climo.reshape(8370,2)\n",
    "\n",
    "print(\"input: \",sele_ind_data1.shape)\n",
    "print(\"climo: \",climo.shape)\n",
    "print(\"output: \",temp.shape)"
   ]
  },
  {
   "cell_type": "code",
   "execution_count": 11,
   "id": "a2d6f89f",
   "metadata": {},
   "outputs": [],
   "source": [
    "#create timeseries data arrays for PCs \n",
    "new_input =  np.empty((62,126,10,10))\n",
    "new_output = np.empty((62,126))\n",
    "new_climo = np.empty((62,126,2))\n",
    "\n",
    "for i in range(0,62):\n",
    "    for j in range(0,126):\n",
    "        #print(j)\n",
    "        new_input[i,j,:,:] = sele_ind_data1[i,j:j+10,:]\n",
    "        new_output[i,j] = temp[i,j]\n",
    "        new_climo[i,j] = climo[i,j,:]"
   ]
  },
  {
   "cell_type": "code",
   "execution_count": 12,
   "id": "575d2499",
   "metadata": {},
   "outputs": [
    {
     "name": "stdout",
     "output_type": "stream",
     "text": [
      "input:  (7812, 10, 10)\n",
      "climo:  (7812, 2)\n",
      "output:  (7812,)\n"
     ]
    }
   ],
   "source": [
    "new_input = np.array(new_input)\n",
    "new_input = new_input.reshape((62*126),10,10)\n",
    "\n",
    "new_climo = np.array(new_climo)\n",
    "new_climo = new_climo.reshape((62*126),2)\n",
    "\n",
    "new_output = np.array(new_output)\n",
    "new_output = new_output.flatten()\n",
    "\n",
    "print(\"input: \",new_input.shape)\n",
    "print(\"climo: \",new_climo.shape)\n",
    "print(\"output: \",new_output.shape)"
   ]
  },
  {
   "cell_type": "code",
   "execution_count": 13,
   "id": "5e9d3b89",
   "metadata": {},
   "outputs": [
    {
     "name": "stdout",
     "output_type": "stream",
     "text": [
      "testing and validation size:  1367\n",
      "training size:  6445\n"
     ]
    }
   ],
   "source": [
    "frac_ind = round(len(new_output)*0.175)\n",
    "frac_end = round(len(new_output)-frac_ind)\n",
    "\n",
    "print(\"testing and validation size: \",frac_ind)\n",
    "print(\"training size: \",frac_end)"
   ]
  },
  {
   "cell_type": "code",
   "execution_count": 14,
   "id": "36753b44",
   "metadata": {},
   "outputs": [
    {
     "name": "stdout",
     "output_type": "stream",
     "text": [
      "(7812, 2)\n"
     ]
    }
   ],
   "source": [
    "##Set X_all and Y_all datasets\n",
    "X_all = np.copy(new_input)\n",
    "Y_all = np.copy(new_output)\n",
    "\n",
    "##training data partition out\n",
    "X_tri = X_all[:frac_end,:]\n",
    "Y_tri = Y_all[:frac_end]\n",
    "\n",
    "#testing data partition out\n",
    "X_tes = X_all[frac_end:,:]\n",
    "Y_tes = Y_all[frac_end:]\n",
    "\n",
    "#Convert the Y array into a categorical array. This means we will create one-hot vector labels for all of the inputs.\n",
    "# The one-hot vectors have an index for each possible output category (two in our case)\n",
    "# A \"1\" is put in the index corresponding to the category to which the sample belongs\n",
    "Y_all = keras.utils.to_categorical(Y_all)\n",
    "Y_tri = keras.utils.to_categorical(Y_tri)\n",
    "Y_tes= keras.utils.to_categorical(Y_tes)\n",
    "\n",
    "print(Y_all.shape)"
   ]
  },
  {
   "cell_type": "code",
   "execution_count": 15,
   "id": "bf762989",
   "metadata": {},
   "outputs": [],
   "source": [
    "##checking my data for NaN of Infs because I need to make sure this doesn't cause\n",
    "#the model to throw back no loss\n",
    "\n",
    "if np.any(np.isnan(X_all)) or np.any(np.isinf(X_all)):\n",
    "    print(\"NaN or Inf values found in X_all!\")\n",
    "\n",
    "if np.any(np.isnan(Y_all)) or np.any(np.isinf(Y_all)):\n",
    "    print(\"NaN or Inf values found in Y_all!\")"
   ]
  },
  {
   "cell_type": "markdown",
   "id": "9c62eac4",
   "metadata": {},
   "source": [
    "### Begin establishing specifics of model."
   ]
  },
  {
   "cell_type": "code",
   "execution_count": 16,
   "id": "f2959876",
   "metadata": {},
   "outputs": [
    {
     "name": "stdout",
     "output_type": "stream",
     "text": [
      "shape of lstm input:  (10, 10)\n"
     ]
    }
   ],
   "source": [
    "##number of input nodes\n",
    "numb_int = X_all.shape[1:]\n",
    "#this defines the 2-d shape used by the lstm model.\n",
    "print(\"shape of lstm input: \",numb_int)"
   ]
  },
  {
   "cell_type": "code",
   "execution_count": 54,
   "id": "17863ee9",
   "metadata": {},
   "outputs": [],
   "source": [
    "########\n",
    "#CHANGE BASED ON NUMBER OF FOLDS FOR TIMESERIES SPLIT\n",
    "\n",
    "repeat = 1\n",
    "split = 5"
   ]
  },
  {
   "cell_type": "code",
   "execution_count": 44,
   "id": "84fb78ff",
   "metadata": {},
   "outputs": [],
   "source": [
    "##class weight creator for the instance where now I have a four dimensional output array \n",
    "def class_weight_creator(Y):\n",
    "    class_dict = {}\n",
    "    Y_reshaped = Y.reshape(-1, Y.shape[-1])\n",
    "    weights = np.max(np.sum(Y_reshaped, axis=0)) / np.sum(Y_reshaped, axis=0)\n",
    "    for i in range(Y.shape[-1] ):\n",
    "        class_dict[i] = weights[i]\n",
    "        \n",
    "    return class_dict"
   ]
  },
  {
   "cell_type": "code",
   "execution_count": 45,
   "id": "158ac3a6",
   "metadata": {},
   "outputs": [],
   "source": [
    "##definition statement for ACC\n",
    "def calculate_accuracy(y_true, y_prob, threshold=0.5):\n",
    "    y_pred = (y_prob >= threshold).astype(int)\n",
    "    return np.mean(y_true == y_pred)"
   ]
  },
  {
   "cell_type": "code",
   "execution_count": 56,
   "id": "506f94f0",
   "metadata": {},
   "outputs": [],
   "source": [
    "##Loss and ACC lists, only relevant w/o early stopping\n",
    "train_loss = []\n",
    "val_loss = []\n",
    "cat_acc = []\n",
    "val_acc = [] \n",
    "\n",
    "##BSS Arrays, all of the skill scores have 200 rows\n",
    "#because that is how many cross-validations I will do for the model\n",
    "BSS_all= np.empty((repeat*split,))\n",
    "BSS_val= np.empty((repeat*split,))\n",
    "BSS_train= np.empty((repeat*split,))\n",
    "BSS_test= np.empty((repeat*split,))\n",
    "BSS_90= np.empty((repeat*split,))\n",
    "\n",
    "##RAS and PAS Arrays\n",
    "Prec_all= np.empty((repeat*split,2))\n",
    "Rec_all= np.empty((repeat*split,2))\n",
    "\n",
    "Prec_val= np.empty((repeat*split,2))\n",
    "Rec_val= np.empty((repeat*split,2))\n",
    "\n",
    "Prec_train= np.empty((repeat*split,2))\n",
    "Rec_train= np.empty((repeat*split,2))\n",
    "\n",
    "Prec_test= np.empty((repeat*split,2))\n",
    "Rec_test= np.empty((repeat*split,2))"
   ]
  },
  {
   "cell_type": "code",
   "execution_count": 57,
   "id": "05d363d0",
   "metadata": {},
   "outputs": [],
   "source": [
    "##empty lists for ACC scores \n",
    "##Testing Accuracy Arrays\n",
    "fulltest_acc = []\n",
    "test90_acc = []\n",
    "\n",
    "##Training Accuracy Arrays\n",
    "fulltrain_acc = []\n",
    "train90_acc = []\n",
    "\n",
    "##Validation Accuracy Arrays\n",
    "fullval_acc = []\n",
    "val90_acc = []"
   ]
  },
  {
   "cell_type": "code",
   "execution_count": 58,
   "id": "f06dc903",
   "metadata": {},
   "outputs": [],
   "source": [
    "p_test = []\n",
    "p_train = []\n",
    "p_val = []"
   ]
  },
  {
   "cell_type": "markdown",
   "id": "d3fe8766",
   "metadata": {},
   "source": [
    "### Model Architecture. "
   ]
  },
  {
   "cell_type": "code",
   "execution_count": 59,
   "id": "1cf9e287",
   "metadata": {},
   "outputs": [],
   "source": [
    "######\n",
    "batch_size = 64\n",
    "epochs = 30\n",
    "shuffle = True\n",
    "verbose = 2"
   ]
  },
  {
   "cell_type": "code",
   "execution_count": 60,
   "id": "4eaa7710",
   "metadata": {},
   "outputs": [],
   "source": [
    "#DEFINITION OF MODEL ITSELF\n",
    "def basic_LSTM(ntimestep, nfeature, n1, n2, n3, rl1, rl3, lr):  \n",
    "    input_tensor = Input(shape=(ntimestep, nfeature))\n",
    "    \n",
    "    layer1 = layers.RNN(\n",
    "        layers.LSTMCell(n1, activation='tanh', use_bias=True,\n",
    "                          kernel_initializer='glorot_uniform',\n",
    "                          kernel_regularizer=keras.regularizers.l2(l2= rl1)),\n",
    "        return_sequences=True)(input_tensor)\n",
    "    #layer1, alfa = AttentionWithContext()(layer1)\n",
    "    #layer1 = Addition()(layer1)\n",
    "    \n",
    "    layer2 = layers.RNN(\n",
    "        layers.LSTMCell(n2, activation='tanh', use_bias=True,\n",
    "                          kernel_initializer='glorot_uniform',\n",
    "                          kernel_regularizer=keras.regularizers.l2(l2= rl1)))(layer1)\n",
    "    \n",
    "    layer3 = layers.Dense(n3, activation='relu',use_bias=True,\n",
    "                          kernel_initializer='he_normal',bias_initializer='he_normal',\n",
    "                          kernel_regularizer=keras.regularizers.l2(l2=rl3))(layer2)\n",
    "\n",
    "    output_tensor = layers.Dense(2, activation='softmax',)(layer3)\n",
    "\n",
    "    model = Model(input_tensor, output_tensor)\n",
    "    opt = tf.keras.optimizers.legacy.Adam(learning_rate=lr)\n",
    "    #decay_rate = lr / epochs\n",
    "    #momentum = 0.9\n",
    "\n",
    "    model.compile(optimizer=opt,loss='categorical_crossentropy',metrics=[keras.metrics.categorical_accuracy],)\n",
    "                            \n",
    "    return model"
   ]
  },
  {
   "cell_type": "code",
   "execution_count": 61,
   "id": "56516d77",
   "metadata": {},
   "outputs": [],
   "source": [
    "##Early Stopping Condition, if desired\n",
    "from tensorflow.keras.callbacks import EarlyStopping\n",
    "\n",
    "early_stopping = EarlyStopping(monitor='val_loss',patience=4,restore_best_weights=True,verbose=1)"
   ]
  },
  {
   "cell_type": "code",
   "execution_count": 62,
   "id": "4876767a",
   "metadata": {
    "scrolled": true
   },
   "outputs": [
    {
     "name": "stdout",
     "output_type": "stream",
     "text": [
      "REPEAT  1\n",
      "Fold  1  in Repeat  1\n",
      "Epoch 1/30\n",
      "17/17 [==============================] - 2s 28ms/step - loss: 22.5365 - categorical_accuracy: 0.3256 - val_loss: 20.7214 - val_categorical_accuracy: 0.3613\n",
      "Epoch 2/30\n",
      "17/17 [==============================] - 0s 17ms/step - loss: 19.6682 - categorical_accuracy: 0.4205 - val_loss: 18.0759 - val_categorical_accuracy: 0.4330\n",
      "Epoch 3/30\n",
      "17/17 [==============================] - 0s 17ms/step - loss: 17.1966 - categorical_accuracy: 0.5423 - val_loss: 15.8097 - val_categorical_accuracy: 0.5605\n",
      "Epoch 4/30\n",
      "17/17 [==============================] - 0s 17ms/step - loss: 15.0781 - categorical_accuracy: 0.6056 - val_loss: 13.8677 - val_categorical_accuracy: 0.6164\n",
      "Epoch 5/30\n",
      "17/17 [==============================] - 0s 17ms/step - loss: 13.2650 - categorical_accuracy: 0.6456 - val_loss: 12.2076 - val_categorical_accuracy: 0.6471\n",
      "Epoch 6/30\n",
      "17/17 [==============================] - 0s 16ms/step - loss: 11.7122 - categorical_accuracy: 0.6837 - val_loss: 10.7801 - val_categorical_accuracy: 0.6648\n",
      "Epoch 7/30\n",
      "17/17 [==============================] - 0s 16ms/step - loss: 10.3803 - categorical_accuracy: 0.6967 - val_loss: 9.5580 - val_categorical_accuracy: 0.6788\n",
      "Epoch 8/30\n",
      "17/17 [==============================] - 0s 21ms/step - loss: 9.2379 - categorical_accuracy: 0.7033 - val_loss: 8.5084 - val_categorical_accuracy: 0.6788\n",
      "Epoch 9/30\n",
      "17/17 [==============================] - 0s 17ms/step - loss: 8.2590 - categorical_accuracy: 0.7107 - val_loss: 7.6144 - val_categorical_accuracy: 0.6713\n",
      "Epoch 10/30\n",
      "17/17 [==============================] - 0s 18ms/step - loss: 7.4171 - categorical_accuracy: 0.7070 - val_loss: 6.8295 - val_categorical_accuracy: 0.6769\n",
      "Epoch 11/30\n",
      "17/17 [==============================] - 0s 17ms/step - loss: 6.6933 - categorical_accuracy: 0.7116 - val_loss: 6.1748 - val_categorical_accuracy: 0.6769\n",
      "Epoch 12/30\n",
      "17/17 [==============================] - 0s 16ms/step - loss: 6.0659 - categorical_accuracy: 0.7274 - val_loss: 5.5978 - val_categorical_accuracy: 0.6769\n",
      "Epoch 13/30\n",
      "17/17 [==============================] - 0s 18ms/step - loss: 5.5273 - categorical_accuracy: 0.7302 - val_loss: 5.1019 - val_categorical_accuracy: 0.6760\n",
      "Epoch 14/30\n",
      "17/17 [==============================] - 0s 17ms/step - loss: 5.0634 - categorical_accuracy: 0.7367 - val_loss: 4.6905 - val_categorical_accuracy: 0.6797\n",
      "Epoch 15/30\n",
      "17/17 [==============================] - 0s 17ms/step - loss: 4.6651 - categorical_accuracy: 0.7423 - val_loss: 4.2984 - val_categorical_accuracy: 0.6881\n",
      "Epoch 16/30\n",
      "17/17 [==============================] - 0s 17ms/step - loss: 4.3027 - categorical_accuracy: 0.7312 - val_loss: 3.9761 - val_categorical_accuracy: 0.6723\n",
      "Epoch 17/30\n",
      "17/17 [==============================] - 0s 16ms/step - loss: 3.9980 - categorical_accuracy: 0.7488 - val_loss: 3.6909 - val_categorical_accuracy: 0.6760\n",
      "Epoch 18/30\n",
      "17/17 [==============================] - 0s 17ms/step - loss: 3.7261 - categorical_accuracy: 0.7600 - val_loss: 3.4584 - val_categorical_accuracy: 0.6769\n",
      "Epoch 19/30\n",
      "17/17 [==============================] - 0s 17ms/step - loss: 3.4917 - categorical_accuracy: 0.7619 - val_loss: 3.2347 - val_categorical_accuracy: 0.6760\n",
      "Epoch 20/30\n",
      "17/17 [==============================] - 0s 17ms/step - loss: 3.2805 - categorical_accuracy: 0.7544 - val_loss: 3.0310 - val_categorical_accuracy: 0.6667\n",
      "Epoch 21/30\n",
      "17/17 [==============================] - 0s 17ms/step - loss: 3.1041 - categorical_accuracy: 0.7516 - val_loss: 2.8440 - val_categorical_accuracy: 0.6648\n",
      "Epoch 22/30\n",
      "17/17 [==============================] - 0s 16ms/step - loss: 2.9289 - categorical_accuracy: 0.7749 - val_loss: 2.7169 - val_categorical_accuracy: 0.6844\n",
      "Epoch 23/30\n",
      "17/17 [==============================] - 0s 16ms/step - loss: 2.7907 - categorical_accuracy: 0.7591 - val_loss: 2.5746 - val_categorical_accuracy: 0.6788\n",
      "Epoch 24/30\n",
      "17/17 [==============================] - 0s 17ms/step - loss: 2.6570 - categorical_accuracy: 0.7553 - val_loss: 2.4684 - val_categorical_accuracy: 0.6769\n",
      "Epoch 25/30\n",
      "17/17 [==============================] - 0s 18ms/step - loss: 2.5445 - categorical_accuracy: 0.7591 - val_loss: 2.3449 - val_categorical_accuracy: 0.6778\n",
      "Epoch 26/30\n",
      "17/17 [==============================] - 0s 17ms/step - loss: 2.4410 - categorical_accuracy: 0.7423 - val_loss: 2.2164 - val_categorical_accuracy: 0.6695\n",
      "Epoch 27/30\n",
      "17/17 [==============================] - 0s 16ms/step - loss: 2.3189 - categorical_accuracy: 0.7702 - val_loss: 2.1484 - val_categorical_accuracy: 0.6778\n",
      "Epoch 28/30\n",
      "17/17 [==============================] - 0s 16ms/step - loss: 2.2204 - categorical_accuracy: 0.7749 - val_loss: 2.0851 - val_categorical_accuracy: 0.6704\n",
      "Epoch 29/30\n",
      "17/17 [==============================] - 0s 17ms/step - loss: 2.1329 - categorical_accuracy: 0.7767 - val_loss: 1.9911 - val_categorical_accuracy: 0.6741\n",
      "Epoch 30/30\n",
      "17/17 [==============================] - 0s 17ms/step - loss: 2.0694 - categorical_accuracy: 0.7674 - val_loss: 1.9001 - val_categorical_accuracy: 0.6778\n",
      "245/245 [==============================] - 1s 3ms/step\n",
      "34/34 [==============================] - 0s 3ms/step\n",
      "34/34 [==============================] - 0s 3ms/step\n",
      "43/43 [==============================] - 0s 3ms/step\n",
      "Fold  2  in Repeat  1\n",
      "Epoch 1/30\n",
      "34/34 [==============================] - 2s 20ms/step - loss: 20.9562 - categorical_accuracy: 0.6780 - val_loss: 17.8634 - val_categorical_accuracy: 0.7235\n",
      "Epoch 2/30\n",
      "34/34 [==============================] - 0s 14ms/step - loss: 16.0128 - categorical_accuracy: 0.6808 - val_loss: 13.7075 - val_categorical_accuracy: 0.7011\n",
      "Epoch 3/30\n",
      "34/34 [==============================] - 0s 14ms/step - loss: 12.3993 - categorical_accuracy: 0.6724 - val_loss: 10.6530 - val_categorical_accuracy: 0.6667\n",
      "Epoch 4/30\n",
      "34/34 [==============================] - 0s 14ms/step - loss: 9.7502 - categorical_accuracy: 0.6664 - val_loss: 8.4097 - val_categorical_accuracy: 0.6629\n",
      "Epoch 5/30\n",
      "34/34 [==============================] - 1s 15ms/step - loss: 7.7985 - categorical_accuracy: 0.6654 - val_loss: 6.7484 - val_categorical_accuracy: 0.6750\n",
      "Epoch 6/30\n",
      "34/34 [==============================] - 0s 14ms/step - loss: 6.3583 - categorical_accuracy: 0.6673 - val_loss: 5.5220 - val_categorical_accuracy: 0.6881\n",
      "Epoch 7/30\n",
      "34/34 [==============================] - 1s 15ms/step - loss: 5.2882 - categorical_accuracy: 0.6733 - val_loss: 4.6232 - val_categorical_accuracy: 0.6732\n",
      "Epoch 8/30\n",
      "34/34 [==============================] - 0s 14ms/step - loss: 4.4893 - categorical_accuracy: 0.6817 - val_loss: 3.9214 - val_categorical_accuracy: 0.6788\n",
      "Epoch 9/30\n",
      "34/34 [==============================] - 1s 15ms/step - loss: 3.8819 - categorical_accuracy: 0.6775 - val_loss: 3.3872 - val_categorical_accuracy: 0.7039\n",
      "Epoch 10/30\n",
      "34/34 [==============================] - 0s 14ms/step - loss: 3.4175 - categorical_accuracy: 0.6901 - val_loss: 2.9940 - val_categorical_accuracy: 0.6713\n",
      "Epoch 11/30\n",
      "34/34 [==============================] - 0s 14ms/step - loss: 3.0532 - categorical_accuracy: 0.6743 - val_loss: 2.6662 - val_categorical_accuracy: 0.6862\n",
      "Epoch 12/30\n",
      "34/34 [==============================] - 0s 14ms/step - loss: 2.7650 - categorical_accuracy: 0.6808 - val_loss: 2.3886 - val_categorical_accuracy: 0.7095\n",
      "Epoch 13/30\n",
      "34/34 [==============================] - 0s 14ms/step - loss: 2.5245 - categorical_accuracy: 0.6901 - val_loss: 2.2116 - val_categorical_accuracy: 0.6676\n",
      "Epoch 14/30\n",
      "34/34 [==============================] - 0s 14ms/step - loss: 2.3300 - categorical_accuracy: 0.6812 - val_loss: 2.0249 - val_categorical_accuracy: 0.6816\n",
      "Epoch 15/30\n",
      "34/34 [==============================] - 0s 14ms/step - loss: 2.1623 - categorical_accuracy: 0.6896 - val_loss: 1.9051 - val_categorical_accuracy: 0.6471\n",
      "Epoch 16/30\n",
      "34/34 [==============================] - 0s 14ms/step - loss: 2.0245 - categorical_accuracy: 0.6864 - val_loss: 1.7239 - val_categorical_accuracy: 0.7002\n",
      "Epoch 17/30\n",
      "34/34 [==============================] - 0s 14ms/step - loss: 1.8992 - categorical_accuracy: 0.6919 - val_loss: 1.6178 - val_categorical_accuracy: 0.6862\n",
      "Epoch 18/30\n",
      "34/34 [==============================] - 0s 14ms/step - loss: 1.7898 - categorical_accuracy: 0.6845 - val_loss: 1.5018 - val_categorical_accuracy: 0.7067\n",
      "Epoch 19/30\n",
      "34/34 [==============================] - 0s 14ms/step - loss: 1.6887 - categorical_accuracy: 0.6924 - val_loss: 1.4109 - val_categorical_accuracy: 0.7067\n",
      "Epoch 20/30\n",
      "34/34 [==============================] - 0s 14ms/step - loss: 1.6015 - categorical_accuracy: 0.6901 - val_loss: 1.3261 - val_categorical_accuracy: 0.7030\n",
      "Epoch 21/30\n",
      "34/34 [==============================] - 0s 14ms/step - loss: 1.5230 - categorical_accuracy: 0.6957 - val_loss: 1.2584 - val_categorical_accuracy: 0.6993\n",
      "Epoch 22/30\n",
      "34/34 [==============================] - 1s 15ms/step - loss: 1.4540 - categorical_accuracy: 0.6896 - val_loss: 1.2030 - val_categorical_accuracy: 0.6937\n",
      "Epoch 23/30\n",
      "34/34 [==============================] - 0s 14ms/step - loss: 1.3989 - categorical_accuracy: 0.6906 - val_loss: 1.1471 - val_categorical_accuracy: 0.6862\n",
      "Epoch 24/30\n",
      "34/34 [==============================] - 1s 15ms/step - loss: 1.3347 - categorical_accuracy: 0.6938 - val_loss: 1.0741 - val_categorical_accuracy: 0.7132\n",
      "Epoch 25/30\n",
      "34/34 [==============================] - 0s 14ms/step - loss: 1.2864 - categorical_accuracy: 0.6929 - val_loss: 1.0550 - val_categorical_accuracy: 0.6806\n",
      "Epoch 26/30\n",
      "34/34 [==============================] - 0s 15ms/step - loss: 1.2409 - categorical_accuracy: 0.6994 - val_loss: 0.9982 - val_categorical_accuracy: 0.6881\n",
      "Epoch 27/30\n",
      "34/34 [==============================] - 0s 15ms/step - loss: 1.2009 - categorical_accuracy: 0.6803 - val_loss: 0.9370 - val_categorical_accuracy: 0.7104\n",
      "Epoch 28/30\n",
      "34/34 [==============================] - 0s 14ms/step - loss: 1.1635 - categorical_accuracy: 0.6980 - val_loss: 0.9147 - val_categorical_accuracy: 0.7067\n",
      "Epoch 29/30\n",
      "34/34 [==============================] - 0s 14ms/step - loss: 1.1265 - categorical_accuracy: 0.6989 - val_loss: 0.9076 - val_categorical_accuracy: 0.6797\n",
      "Epoch 30/30\n",
      "34/34 [==============================] - 0s 15ms/step - loss: 1.0979 - categorical_accuracy: 0.6919 - val_loss: 0.8470 - val_categorical_accuracy: 0.7076\n",
      "245/245 [==============================] - 1s 3ms/step\n",
      "34/34 [==============================] - 0s 3ms/step\n",
      "68/68 [==============================] - 0s 3ms/step\n",
      "43/43 [==============================] - 0s 3ms/step\n",
      "Fold  3  in Repeat  1\n",
      "Epoch 1/30\n",
      "51/51 [==============================] - 2s 17ms/step - loss: 19.4513 - categorical_accuracy: 0.6736 - val_loss: 15.4448 - val_categorical_accuracy: 0.5782\n",
      "Epoch 2/30\n",
      "51/51 [==============================] - 1s 14ms/step - loss: 13.0241 - categorical_accuracy: 0.6835 - val_loss: 10.4560 - val_categorical_accuracy: 0.5642\n",
      "Epoch 3/30\n",
      "51/51 [==============================] - 1s 13ms/step - loss: 8.9773 - categorical_accuracy: 0.6826 - val_loss: 7.3042 - val_categorical_accuracy: 0.5875\n",
      "Epoch 4/30\n",
      "51/51 [==============================] - 1s 14ms/step - loss: 6.4233 - categorical_accuracy: 0.6947 - val_loss: 5.3048 - val_categorical_accuracy: 0.6034\n",
      "Epoch 5/30\n",
      "51/51 [==============================] - 1s 14ms/step - loss: 4.7990 - categorical_accuracy: 0.6928 - val_loss: 4.0395 - val_categorical_accuracy: 0.6006\n",
      "Epoch 6/30\n",
      "51/51 [==============================] - 1s 14ms/step - loss: 3.7518 - categorical_accuracy: 0.6969 - val_loss: 3.1937 - val_categorical_accuracy: 0.6220\n",
      "Epoch 7/30\n",
      "51/51 [==============================] - 1s 14ms/step - loss: 3.0561 - categorical_accuracy: 0.7021 - val_loss: 2.6591 - val_categorical_accuracy: 0.5996\n",
      "Epoch 8/30\n",
      "51/51 [==============================] - 1s 14ms/step - loss: 2.5787 - categorical_accuracy: 0.7034 - val_loss: 2.2523 - val_categorical_accuracy: 0.6006\n",
      "Epoch 9/30\n",
      "51/51 [==============================] - 1s 14ms/step - loss: 2.2378 - categorical_accuracy: 0.7003 - val_loss: 1.9733 - val_categorical_accuracy: 0.6089\n",
      "Epoch 10/30\n",
      "51/51 [==============================] - 1s 14ms/step - loss: 1.9877 - categorical_accuracy: 0.6969 - val_loss: 1.7291 - val_categorical_accuracy: 0.6052\n",
      "Epoch 11/30\n",
      "51/51 [==============================] - 1s 14ms/step - loss: 1.7909 - categorical_accuracy: 0.7018 - val_loss: 1.5952 - val_categorical_accuracy: 0.6006\n",
      "Epoch 12/30\n",
      "51/51 [==============================] - 1s 14ms/step - loss: 1.6415 - categorical_accuracy: 0.6935 - val_loss: 1.4101 - val_categorical_accuracy: 0.6136\n",
      "Epoch 13/30\n",
      "51/51 [==============================] - 1s 14ms/step - loss: 1.5030 - categorical_accuracy: 0.7012 - val_loss: 1.3080 - val_categorical_accuracy: 0.6155\n",
      "Epoch 14/30\n",
      "51/51 [==============================] - 1s 14ms/step - loss: 1.3962 - categorical_accuracy: 0.7074 - val_loss: 1.2319 - val_categorical_accuracy: 0.6043\n",
      "Epoch 15/30\n",
      "51/51 [==============================] - 1s 14ms/step - loss: 1.3070 - categorical_accuracy: 0.7009 - val_loss: 1.1153 - val_categorical_accuracy: 0.6220\n",
      "Epoch 16/30\n",
      "51/51 [==============================] - 1s 14ms/step - loss: 1.2314 - categorical_accuracy: 0.7087 - val_loss: 1.0887 - val_categorical_accuracy: 0.6015\n",
      "Epoch 17/30\n",
      "51/51 [==============================] - 1s 14ms/step - loss: 1.1678 - categorical_accuracy: 0.7031 - val_loss: 1.0427 - val_categorical_accuracy: 0.5968\n",
      "Epoch 18/30\n",
      "51/51 [==============================] - 1s 14ms/step - loss: 1.1137 - categorical_accuracy: 0.6981 - val_loss: 0.9329 - val_categorical_accuracy: 0.6201\n",
      "Epoch 19/30\n",
      "51/51 [==============================] - 1s 14ms/step - loss: 1.0702 - categorical_accuracy: 0.7096 - val_loss: 0.9107 - val_categorical_accuracy: 0.6192\n",
      "Epoch 20/30\n",
      "51/51 [==============================] - 1s 14ms/step - loss: 1.0327 - categorical_accuracy: 0.7028 - val_loss: 0.8751 - val_categorical_accuracy: 0.6201\n",
      "Epoch 21/30\n",
      "51/51 [==============================] - 1s 13ms/step - loss: 0.9994 - categorical_accuracy: 0.7025 - val_loss: 0.8525 - val_categorical_accuracy: 0.6015\n",
      "Epoch 22/30\n",
      "51/51 [==============================] - 1s 13ms/step - loss: 0.9687 - categorical_accuracy: 0.7025 - val_loss: 0.8305 - val_categorical_accuracy: 0.6052\n",
      "Epoch 23/30\n",
      "51/51 [==============================] - 1s 14ms/step - loss: 0.9490 - categorical_accuracy: 0.6990 - val_loss: 0.7860 - val_categorical_accuracy: 0.6015\n",
      "Epoch 24/30\n",
      "51/51 [==============================] - 1s 14ms/step - loss: 0.9344 - categorical_accuracy: 0.6947 - val_loss: 0.7456 - val_categorical_accuracy: 0.6341\n",
      "Epoch 25/30\n",
      "51/51 [==============================] - 1s 14ms/step - loss: 0.9158 - categorical_accuracy: 0.7028 - val_loss: 0.7849 - val_categorical_accuracy: 0.6089\n",
      "Epoch 26/30\n",
      "51/51 [==============================] - 1s 14ms/step - loss: 0.9086 - categorical_accuracy: 0.6956 - val_loss: 0.7750 - val_categorical_accuracy: 0.5801\n",
      "Epoch 27/30\n",
      "51/51 [==============================] - 1s 13ms/step - loss: 0.8943 - categorical_accuracy: 0.6789 - val_loss: 0.7482 - val_categorical_accuracy: 0.6192\n",
      "Epoch 28/30\n",
      "48/51 [===========================>..] - ETA: 0s - loss: 0.8811 - categorical_accuracy: 0.6973Restoring model weights from the end of the best epoch: 24.\n",
      "51/51 [==============================] - 1s 14ms/step - loss: 0.8832 - categorical_accuracy: 0.6966 - val_loss: 0.7566 - val_categorical_accuracy: 0.6043\n",
      "Epoch 28: early stopping\n",
      "245/245 [==============================] - 1s 3ms/step\n",
      "34/34 [==============================] - 0s 3ms/step\n",
      "101/101 [==============================] - 0s 3ms/step\n",
      "43/43 [==============================] - 0s 3ms/step\n",
      "Fold  4  in Repeat  1\n",
      "Epoch 1/30\n",
      "68/68 [==============================] - 2s 16ms/step - loss: 18.5731 - categorical_accuracy: 0.5602 - val_loss: 13.7849 - val_categorical_accuracy: 0.6136\n",
      "Epoch 2/30\n",
      "68/68 [==============================] - 1s 13ms/step - loss: 11.1244 - categorical_accuracy: 0.6335 - val_loss: 8.4553 - val_categorical_accuracy: 0.6397\n",
      "Epoch 3/30\n",
      "68/68 [==============================] - 1s 13ms/step - loss: 7.1093 - categorical_accuracy: 0.6665 - val_loss: 5.5720 - val_categorical_accuracy: 0.6453\n",
      "Epoch 4/30\n",
      "68/68 [==============================] - 1s 13ms/step - loss: 4.9107 - categorical_accuracy: 0.6558 - val_loss: 3.9459 - val_categorical_accuracy: 0.6732\n",
      "Epoch 5/30\n",
      "68/68 [==============================] - 1s 13ms/step - loss: 3.6608 - categorical_accuracy: 0.6802 - val_loss: 3.0077 - val_categorical_accuracy: 0.6946\n",
      "Epoch 6/30\n",
      "68/68 [==============================] - 1s 13ms/step - loss: 2.9107 - categorical_accuracy: 0.6784 - val_loss: 2.4280 - val_categorical_accuracy: 0.6657\n",
      "Epoch 7/30\n",
      "68/68 [==============================] - 1s 13ms/step - loss: 2.4226 - categorical_accuracy: 0.6800 - val_loss: 2.0215 - val_categorical_accuracy: 0.6601\n",
      "Epoch 8/30\n",
      "68/68 [==============================] - 1s 13ms/step - loss: 2.0795 - categorical_accuracy: 0.6816 - val_loss: 1.7445 - val_categorical_accuracy: 0.6508\n",
      "Epoch 9/30\n",
      "68/68 [==============================] - 1s 13ms/step - loss: 1.8257 - categorical_accuracy: 0.6800 - val_loss: 1.5243 - val_categorical_accuracy: 0.6471\n",
      "Epoch 10/30\n",
      "68/68 [==============================] - 1s 14ms/step - loss: 1.6274 - categorical_accuracy: 0.6833 - val_loss: 1.3422 - val_categorical_accuracy: 0.6508\n",
      "Epoch 11/30\n",
      "68/68 [==============================] - 1s 13ms/step - loss: 1.4677 - categorical_accuracy: 0.6847 - val_loss: 1.1882 - val_categorical_accuracy: 0.6890\n",
      "Epoch 12/30\n",
      "68/68 [==============================] - 1s 13ms/step - loss: 1.3431 - categorical_accuracy: 0.6819 - val_loss: 1.0775 - val_categorical_accuracy: 0.6704\n",
      "Epoch 13/30\n",
      "68/68 [==============================] - 1s 14ms/step - loss: 1.2383 - categorical_accuracy: 0.6851 - val_loss: 0.9818 - val_categorical_accuracy: 0.6741\n",
      "Epoch 14/30\n",
      "68/68 [==============================] - 1s 14ms/step - loss: 1.1576 - categorical_accuracy: 0.6821 - val_loss: 0.8980 - val_categorical_accuracy: 0.6853\n",
      "Epoch 15/30\n",
      "68/68 [==============================] - 1s 14ms/step - loss: 1.0950 - categorical_accuracy: 0.6830 - val_loss: 0.8541 - val_categorical_accuracy: 0.6853\n",
      "Epoch 16/30\n",
      "68/68 [==============================] - 1s 14ms/step - loss: 1.0446 - categorical_accuracy: 0.6896 - val_loss: 0.8035 - val_categorical_accuracy: 0.6797\n",
      "Epoch 17/30\n",
      "68/68 [==============================] - 1s 13ms/step - loss: 1.0008 - categorical_accuracy: 0.6879 - val_loss: 0.7807 - val_categorical_accuracy: 0.6620\n",
      "Epoch 18/30\n",
      "68/68 [==============================] - 1s 13ms/step - loss: 0.9754 - categorical_accuracy: 0.6833 - val_loss: 0.7466 - val_categorical_accuracy: 0.6750\n",
      "Epoch 19/30\n",
      "68/68 [==============================] - 1s 13ms/step - loss: 0.9460 - categorical_accuracy: 0.6919 - val_loss: 0.7360 - val_categorical_accuracy: 0.6676\n",
      "Epoch 20/30\n",
      "68/68 [==============================] - 1s 13ms/step - loss: 0.9286 - categorical_accuracy: 0.6882 - val_loss: 0.7070 - val_categorical_accuracy: 0.6797\n",
      "Epoch 21/30\n",
      "68/68 [==============================] - 1s 13ms/step - loss: 0.9117 - categorical_accuracy: 0.6905 - val_loss: 0.7173 - val_categorical_accuracy: 0.6564\n",
      "Epoch 22/30\n",
      "68/68 [==============================] - 1s 13ms/step - loss: 0.9052 - categorical_accuracy: 0.6847 - val_loss: 0.7021 - val_categorical_accuracy: 0.6639\n",
      "Epoch 23/30\n",
      "68/68 [==============================] - 1s 13ms/step - loss: 0.8918 - categorical_accuracy: 0.6930 - val_loss: 0.6999 - val_categorical_accuracy: 0.6490\n",
      "Epoch 24/30\n",
      "68/68 [==============================] - 1s 13ms/step - loss: 0.8877 - categorical_accuracy: 0.6788 - val_loss: 0.6980 - val_categorical_accuracy: 0.6611\n",
      "Epoch 25/30\n",
      "68/68 [==============================] - 1s 13ms/step - loss: 0.8805 - categorical_accuracy: 0.6921 - val_loss: 0.6882 - val_categorical_accuracy: 0.6639\n",
      "Epoch 26/30\n",
      "68/68 [==============================] - 1s 14ms/step - loss: 0.8828 - categorical_accuracy: 0.6814 - val_loss: 0.6677 - val_categorical_accuracy: 0.6806\n",
      "Epoch 27/30\n",
      "68/68 [==============================] - 1s 13ms/step - loss: 0.8838 - categorical_accuracy: 0.6812 - val_loss: 0.6628 - val_categorical_accuracy: 0.6750\n",
      "Epoch 28/30\n",
      "68/68 [==============================] - 1s 13ms/step - loss: 0.8741 - categorical_accuracy: 0.6856 - val_loss: 0.6727 - val_categorical_accuracy: 0.6778\n",
      "Epoch 29/30\n",
      "68/68 [==============================] - 1s 13ms/step - loss: 0.8718 - categorical_accuracy: 0.6896 - val_loss: 0.6591 - val_categorical_accuracy: 0.6778\n",
      "Epoch 30/30\n",
      "68/68 [==============================] - 1s 13ms/step - loss: 0.8711 - categorical_accuracy: 0.6902 - val_loss: 0.6872 - val_categorical_accuracy: 0.6480\n",
      "245/245 [==============================] - 1s 4ms/step\n",
      "34/34 [==============================] - 0s 3ms/step\n",
      "135/135 [==============================] - 0s 3ms/step\n",
      "43/43 [==============================] - 0s 3ms/step\n",
      "Fold  5  in Repeat  1\n",
      "Epoch 1/30\n",
      "84/84 [==============================] - 4s 35ms/step - loss: 17.2095 - categorical_accuracy: 0.3951 - val_loss: 11.9557 - val_categorical_accuracy: 0.5922\n",
      "Epoch 2/30\n",
      "84/84 [==============================] - 3s 31ms/step - loss: 9.1733 - categorical_accuracy: 0.6520 - val_loss: 6.6268 - val_categorical_accuracy: 0.6695\n",
      "Epoch 3/30\n",
      "84/84 [==============================] - 3s 30ms/step - loss: 5.4259 - categorical_accuracy: 0.6803 - val_loss: 4.1458 - val_categorical_accuracy: 0.6490\n",
      "Epoch 4/30\n",
      "84/84 [==============================] - 1s 13ms/step - loss: 3.6254 - categorical_accuracy: 0.6775 - val_loss: 2.8726 - val_categorical_accuracy: 0.6639\n",
      "Epoch 5/30\n",
      "84/84 [==============================] - 1s 13ms/step - loss: 2.6888 - categorical_accuracy: 0.6788 - val_loss: 2.1710 - val_categorical_accuracy: 0.6797\n",
      "Epoch 6/30\n",
      "84/84 [==============================] - 1s 13ms/step - loss: 2.1503 - categorical_accuracy: 0.6772 - val_loss: 1.7796 - val_categorical_accuracy: 0.6350\n",
      "Epoch 7/30\n",
      "84/84 [==============================] - 1s 13ms/step - loss: 1.7955 - categorical_accuracy: 0.6809 - val_loss: 1.4776 - val_categorical_accuracy: 0.6601\n",
      "Epoch 8/30\n",
      "84/84 [==============================] - 1s 13ms/step - loss: 1.5486 - categorical_accuracy: 0.6805 - val_loss: 1.2538 - val_categorical_accuracy: 0.6704\n",
      "Epoch 9/30\n",
      "84/84 [==============================] - 1s 13ms/step - loss: 1.3689 - categorical_accuracy: 0.6792 - val_loss: 1.0904 - val_categorical_accuracy: 0.6639\n",
      "Epoch 10/30\n",
      "84/84 [==============================] - 1s 13ms/step - loss: 1.2340 - categorical_accuracy: 0.6801 - val_loss: 0.9862 - val_categorical_accuracy: 0.6695\n",
      "Epoch 11/30\n",
      "84/84 [==============================] - 1s 13ms/step - loss: 1.1339 - categorical_accuracy: 0.6792 - val_loss: 0.9034 - val_categorical_accuracy: 0.6378\n",
      "Epoch 12/30\n",
      "84/84 [==============================] - 1s 13ms/step - loss: 1.0586 - categorical_accuracy: 0.6798 - val_loss: 0.8311 - val_categorical_accuracy: 0.6741\n",
      "Epoch 13/30\n",
      "84/84 [==============================] - 1s 13ms/step - loss: 1.0053 - categorical_accuracy: 0.6788 - val_loss: 0.7981 - val_categorical_accuracy: 0.6648\n",
      "Epoch 14/30\n",
      "84/84 [==============================] - 1s 13ms/step - loss: 0.9650 - categorical_accuracy: 0.6788 - val_loss: 0.7443 - val_categorical_accuracy: 0.6899\n",
      "Epoch 15/30\n",
      "84/84 [==============================] - 1s 13ms/step - loss: 0.9330 - categorical_accuracy: 0.6827 - val_loss: 0.7398 - val_categorical_accuracy: 0.6574\n",
      "Epoch 16/30\n",
      "84/84 [==============================] - 1s 13ms/step - loss: 0.9142 - categorical_accuracy: 0.6816 - val_loss: 0.7132 - val_categorical_accuracy: 0.6546\n",
      "Epoch 17/30\n",
      "84/84 [==============================] - 1s 13ms/step - loss: 0.9049 - categorical_accuracy: 0.6686 - val_loss: 0.6733 - val_categorical_accuracy: 0.6890\n",
      "Epoch 18/30\n",
      "84/84 [==============================] - 1s 13ms/step - loss: 0.8864 - categorical_accuracy: 0.6846 - val_loss: 0.6939 - val_categorical_accuracy: 0.6769\n",
      "Epoch 19/30\n",
      "84/84 [==============================] - 1s 13ms/step - loss: 0.8803 - categorical_accuracy: 0.6790 - val_loss: 0.7023 - val_categorical_accuracy: 0.6471\n",
      "Epoch 20/30\n",
      "84/84 [==============================] - 1s 13ms/step - loss: 0.8760 - categorical_accuracy: 0.6777 - val_loss: 0.6646 - val_categorical_accuracy: 0.6788\n",
      "Epoch 21/30\n",
      "84/84 [==============================] - 1s 13ms/step - loss: 0.8744 - categorical_accuracy: 0.6818 - val_loss: 0.6671 - val_categorical_accuracy: 0.6778\n",
      "Epoch 22/30\n",
      "84/84 [==============================] - 1s 13ms/step - loss: 0.8688 - categorical_accuracy: 0.6833 - val_loss: 0.6603 - val_categorical_accuracy: 0.6806\n",
      "Epoch 23/30\n",
      "84/84 [==============================] - 1s 13ms/step - loss: 0.8655 - categorical_accuracy: 0.6891 - val_loss: 0.6687 - val_categorical_accuracy: 0.6732\n",
      "Epoch 24/30\n",
      "84/84 [==============================] - 1s 13ms/step - loss: 0.8633 - categorical_accuracy: 0.6878 - val_loss: 0.6772 - val_categorical_accuracy: 0.6657\n",
      "Epoch 25/30\n",
      "84/84 [==============================] - 1s 13ms/step - loss: 0.8667 - categorical_accuracy: 0.6824 - val_loss: 0.6756 - val_categorical_accuracy: 0.6471\n",
      "Epoch 26/30\n",
      "84/84 [==============================] - ETA: 0s - loss: 0.8638 - categorical_accuracy: 0.6842Restoring model weights from the end of the best epoch: 22.\n",
      "84/84 [==============================] - 1s 13ms/step - loss: 0.8638 - categorical_accuracy: 0.6842 - val_loss: 0.6916 - val_categorical_accuracy: 0.6201\n",
      "Epoch 26: early stopping\n",
      "245/245 [==============================] - 1s 3ms/step\n",
      "34/34 [==============================] - 0s 3ms/step\n",
      "168/168 [==============================] - 0s 3ms/step\n",
      "43/43 [==============================] - 0s 3ms/step\n"
     ]
    }
   ],
   "source": [
    "fold = 0\n",
    "for r in range(repeat):\n",
    "    print(\"REPEAT \",str(r+1))\n",
    "    tscv = TimeSeriesSplit(n_splits=split)\n",
    "    \n",
    "    for l, (train_index, val_index) in enumerate(tscv.split(X_tri)):\n",
    "        print(\"Fold \",str(l+1),\" in Repeat \",str(r+1))\n",
    "        \n",
    "        X_tr = X_tri[train_index]\n",
    "        Y_tr = Y_tri[train_index]\n",
    "        \n",
    "        X_val = X_tri[val_index]\n",
    "        Y_val = Y_tri[val_index]\n",
    "        \n",
    "        climo_train = new_climo[train_index]\n",
    "        climo_val = new_climo[val_index]\n",
    "        climo_test = new_climo[frac_end:]\n",
    "\n",
    "        # Get class weights\n",
    "        class_weight = class_weight_creator(Y_tr)\n",
    "        #initalize model\n",
    "        model = basic_LSTM(numb_int[0],numb_int[1], 64, 16, 16, 0.208, 0.177, 0.0006466)\n",
    "        model.fit(X_tr, Y_tr, validation_data=(X_val, Y_val),\n",
    "                  batch_size=batch_size, epochs=epochs, shuffle=shuffle,\n",
    "                  class_weight = class_weight, callbacks=[early_stopping])\n",
    "        \n",
    "        train_loss.append(model.history.history['loss'])\n",
    "        val_loss.append(model.history.history['val_loss'])\n",
    "        cat_acc.append(model.history.history['categorical_accuracy'])\n",
    "        val_acc.append(model.history.history['val_categorical_accuracy'])\n",
    "    \n",
    "        pred = model.predict(X_all)\n",
    "        pred_val = model.predict(X_val)\n",
    "        pred_train = model.predict(X_tr)\n",
    "        pred_test = model.predict(X_tes)\n",
    "\n",
    "        p_train.extend(pred_train)\n",
    "        p_val.extend(pred_val)\n",
    "        p_test.extend(pred_test)\n",
    "        ########################################################################################################\n",
    "        ##STATISTICS CALCULATINNG\n",
    "        pred_class = []\n",
    "        predval_class = []\n",
    "        predtr_class = []\n",
    "        predtest_class = []\n",
    "\n",
    "        ##BRIER SKILL SCORE\n",
    "        BSS_all[fold] = BSS(Y_all,pred)\n",
    "        BSS_val[fold] = BSS(Y_val,pred_val)\n",
    "        BSS_train[fold] = BSS(Y_tr,pred_train)\n",
    "        BSS_test[fold] = BSS(Y_tes,pred_test) \n",
    "    \n",
    "        ##RECALL ACCURACY SCORE    \n",
    "        RAS_two(fold, Rec_all, new_climo, Y_all, pred, pred_class,\n",
    "                climo_val, Rec_val, Y_val, pred_val, predval_class,\n",
    "                climo_train, Rec_train, Y_tr, pred_train, predtr_class,\n",
    "                climo_test, Rec_test, Y_tes, pred_test, predtest_class)\n",
    "        ##PRECISION ACCURACY SCORE     \n",
    "        PAS_two(fold, Prec_all, new_climo, Y_all, pred, pred_class,\n",
    "                climo_val, Prec_val, Y_val, pred_val, predval_class,\n",
    "                climo_train, Prec_train, Y_tr, pred_train, predtr_class,\n",
    "                climo_test, Prec_test, Y_tes, pred_test, predtest_class)\n",
    "        ########################################################################################################\n",
    "        def evaluate_90th(preds, labels, climo, acc_list, bss_arr):\n",
    "            q90 = np.percentile(preds, 90, axis=0)\n",
    "            high_conf_idx = [i for i, row in enumerate(preds) if (row[0] > q90[0]) or (row[1] > q90[1])]\n",
    "            preds_90 = preds[high_conf_idx]\n",
    "            labels_90 = labels[high_conf_idx]\n",
    "            climo_90 = climo[high_conf_idx]\n",
    "\n",
    "            acc_list.append(calculate_accuracy(labels_90, preds_90, threshold=0.5))\n",
    "            bss_arr[fold] = BSS(labels_90, preds_90)\n",
    "                \n",
    "        evaluate_90th(pred_train, Y_tr, climo_train, train90_acc, BSS_90)\n",
    "        fulltrain_acc.append(calculate_accuracy(Y_tr, pred_train, threshold=0.5))\n",
    "\n",
    "        evaluate_90th(pred_val, Y_val, climo_val, val90_acc, BSS_90)\n",
    "        fullval_acc.append(calculate_accuracy(Y_val, pred_val, threshold=0.5))\n",
    "\n",
    "        evaluate_90th(pred_test, Y_tes, climo_test, test90_acc, BSS_90)\n",
    "        fulltest_acc.append(calculate_accuracy(Y_tes, pred_test, threshold=0.5))\n",
    "\n",
    "        fold += 1"
   ]
  },
  {
   "cell_type": "code",
   "execution_count": 71,
   "id": "829ff057",
   "metadata": {},
   "outputs": [
    {
     "data": {
      "text/plain": [
       "{0: 1.0, 1: 1.9158523}"
      ]
     },
     "execution_count": 71,
     "metadata": {},
     "output_type": "execute_result"
    }
   ],
   "source": [
    "class_weight"
   ]
  },
  {
   "cell_type": "code",
   "execution_count": 63,
   "id": "eb8669f0",
   "metadata": {},
   "outputs": [
    {
     "name": "stdout",
     "output_type": "stream",
     "text": [
      "168/168 [==============================] - 0s 3ms/step\n",
      "Train BSS: 0.0049 | Should be > 0 if model learns anything\n"
     ]
    }
   ],
   "source": [
    "# Climatology predictions: use class frequencies\n",
    "climo_probs = np.mean(Y_tr, axis=0)  # e.g., [0.85, 0.15] for binary\n",
    "climo_pred = np.tile(climo_probs, (Y_tr.shape[0], 1))\n",
    "\n",
    "bss = BSS(Y_tr, model.predict(X_tr))  # Your model\n",
    "bss_climo = BSS(Y_tr, climo_pred)     # Should be 0 by definition\n",
    "\n",
    "print(f\"Train BSS: {bss:.4f} | Should be > 0 if model learns anything\")"
   ]
  },
  {
   "cell_type": "code",
   "execution_count": 64,
   "id": "7969792f",
   "metadata": {},
   "outputs": [
    {
     "data": {
      "text/plain": [
       "Text(0.5, 1.0, 'BSS for 90th Percentile Predictions')"
      ]
     },
     "execution_count": 64,
     "metadata": {},
     "output_type": "execute_result"
    },
    {
     "data": {
      "image/png": "[encoded data removed]",
      "text/plain": [
       "<Figure size 700x700 with 1 Axes>"
      ]
     },
     "metadata": {},
     "output_type": "display_data"
    }
   ],
   "source": [
    "bins = np.linspace(-0.3, 0.3,13)\n",
    "counts, edges, = np.histogram(BSS_90[:], bins=bins)\n",
    "\n",
    "fig, (ax1) = plt.subplots(1,1, figsize=(7,7))\n",
    "\n",
    "ax1.bar(edges[:-1], counts, width=np.diff(edges), \n",
    "        edgecolor='black', alpha=0.5, align='edge', color='blue')\n",
    "ax1.set_xlabel('BSS')\n",
    "ax1.set_ylabel('Number of Models')\n",
    "ax1.set_title('BSS for 90th Percentile Predictions')\n",
    "#plt.savefig(\"BSS90.png\")"
   ]
  },
  {
   "cell_type": "code",
   "execution_count": 65,
   "id": "6edd5e40",
   "metadata": {},
   "outputs": [
    {
     "data": {
      "text/plain": [
       "Text(0.5, 0.98, 'BSS for Predictions Across Datasets')"
      ]
     },
     "execution_count": 65,
     "metadata": {},
     "output_type": "execute_result"
    },
    {
     "data": {
      "image/png": "[encoded data removed]",
      "text/plain": [
       "<Figure size 1400x400 with 3 Axes>"
      ]
     },
     "metadata": {},
     "output_type": "display_data"
    }
   ],
   "source": [
    "bins = np.linspace(-0.3, 0.3,13)\n",
    "counts1, edges1, = np.histogram(BSS_train[:], bins=bins)\n",
    "counts2, edges2, = np.histogram(BSS_val[:], bins=bins)\n",
    "counts3, edges3, = np.histogram(BSS_test[:], bins=bins)\n",
    "\n",
    "fig, (ax1,ax2,ax3) = plt.subplots(1,3, figsize=(14,4))\n",
    "\n",
    "ax1.bar(edges1[:-1], counts1, width=np.diff(edges1), \n",
    "        edgecolor='black', alpha=0.5, align='edge', color='blue')\n",
    "ax1.set_xlabel('BSS Train')\n",
    "ax1.set_ylabel('Number of Models')\n",
    "\n",
    "ax2.bar(edges2[:-1], counts2, width=np.diff(edges2), \n",
    "        edgecolor='black', alpha=0.5, align='edge', color='blue')\n",
    "ax2.set_xlabel('BSS Val')\n",
    "ax2.set_ylabel('Number of Models')\n",
    "\n",
    "ax3.bar(edges3[:-1], counts3, width=np.diff(edges3), \n",
    "        edgecolor='black', alpha=0.5, align='edge', color='blue')\n",
    "ax3.set_xlabel('BSS Test')\n",
    "ax3.set_ylabel('Number of Models')\n",
    "\n",
    "plt.suptitle('BSS for Predictions Across Datasets')\n",
    "#plt.savefig(\"BSS90.png\")"
   ]
  },
  {
   "cell_type": "code",
   "execution_count": 66,
   "id": "e78e546e",
   "metadata": {},
   "outputs": [
    {
     "data": {
      "text/plain": [
       "16115"
      ]
     },
     "execution_count": 66,
     "metadata": {},
     "output_type": "execute_result"
    }
   ],
   "source": [
    "len(p_train)"
   ]
  },
  {
   "cell_type": "code",
   "execution_count": 67,
   "id": "a4154807",
   "metadata": {},
   "outputs": [],
   "source": [
    "p_test = np.array(p_test)\n",
    "p_test = p_test.reshape(((len(p_test),2)))\n",
    "\n",
    "p_train = np.array(p_train)\n",
    "p_train = p_train.reshape(((len(p_train),2)))\n",
    "\n",
    "p_val= np.array(p_val)\n",
    "p_val = p_val.reshape(((len(p_val),2)))"
   ]
  },
  {
   "cell_type": "code",
   "execution_count": 68,
   "id": "abdcea22",
   "metadata": {},
   "outputs": [
    {
     "data": {
      "image/png": "[encoded data removed]",
      "text/plain": [
       "<Figure size 1000x1000 with 6 Axes>"
      ]
     },
     "metadata": {},
     "output_type": "display_data"
    }
   ],
   "source": [
    "bins = np.linspace(0.2, 0.8, 37)  #10 bins from 0.4 to 1\n",
    "##bin the probabilities\n",
    "counts_neg_test, edges_neg_test = np.histogram(p_test[:,0], bins=bins)\n",
    "counts_pos_test, edges_pos_test = np.histogram(p_test[:,1], bins=bins)\n",
    "\n",
    "counts_neg_train, edges_neg_train = np.histogram(p_train[:,0], bins=bins)\n",
    "counts_pos_train, edges_pos_train = np.histogram(p_train[:,1], bins=bins)\n",
    "\n",
    "counts_neg_val, edges_neg_val = np.histogram(p_val[:,0], bins=bins)\n",
    "counts_pos_val, edges_pos_val = np.histogram(p_val[:,1], bins=bins)\n",
    "\n",
    "fig, axes = plt.subplots(3, 2, figsize=(10,10))\n",
    "ax1, ax2, ax3, ax4, ax5, ax6 = axes.flatten()\n",
    "\n",
    "ax1.bar(edges_neg_train[:-1], counts_neg_train, width=np.diff(edges_neg_train), \n",
    "        edgecolor='black', alpha=0.5, align='edge', color='blue')\n",
    "ax1.set_title('Negative Training Predictions', fontsize=13)\n",
    "ax1.set_xlabel('Probability')\n",
    "ax1.set_ylabel('Count')\n",
    "\n",
    "ax2.bar(edges_pos_train[:-1], counts_pos_train, width=np.diff(edges_pos_train), \n",
    "        edgecolor='black', alpha=0.5, align='edge', color='orange')\n",
    "ax2.set_title('Positive Training Predictions', fontsize=13)\n",
    "ax2.set_xlabel('Probability')\n",
    "ax2.set_ylabel('Count')\n",
    "\n",
    "ax3.bar(edges_neg_val[:-1], counts_neg_val, width=np.diff(edges_neg_val), \n",
    "        edgecolor='black', alpha=0.5, align='edge', color='blue')\n",
    "ax3.set_title('Negative Validation Predictions', fontsize=13)\n",
    "ax3.set_xlabel('Probability')\n",
    "ax3.set_ylabel('Count')\n",
    "\n",
    "ax4.bar(edges_pos_val[:-1], counts_pos_val, width=np.diff(edges_pos_val), \n",
    "        edgecolor='black', alpha=0.5, align='edge', color='orange')\n",
    "ax4.set_title('Positive Validation Predictions', fontsize=13)\n",
    "ax4.set_xlabel('Probability')\n",
    "ax4.set_ylabel('Count')\n",
    "\n",
    "ax5.bar(edges_neg_test[:-1], counts_neg_test, width=np.diff(edges_neg_test), \n",
    "        edgecolor='black', alpha=0.5, align='edge', color='blue')\n",
    "ax5.set_title('Negative Testing Predictions', fontsize=13)\n",
    "ax5.set_xlabel('Probability')\n",
    "ax5.set_ylabel('Count')\n",
    "\n",
    "ax6.bar(edges_pos_test[:-1], counts_pos_test, width=np.diff(edges_pos_test), \n",
    "        edgecolor='black', alpha=0.5, align='edge', color='orange')\n",
    "ax6.set_title('Positive Testing Predictions', fontsize=13)\n",
    "ax6.set_xlabel('Probability')\n",
    "ax6.set_ylabel('Count')\n",
    "\n",
    "plt.tight_layout()\n",
    "#plt.savefig(\"probability_distrib.png\")"
   ]
  },
  {
   "cell_type": "markdown",
   "id": "e06e6524",
   "metadata": {},
   "source": [
    "### Model Curves. "
   ]
  },
  {
   "cell_type": "raw",
   "id": "e88585d0",
   "metadata": {
    "jupyter": {
     "source_hidden": true
    }
   },
   "source": [
    "tloss = np.mean(train_loss, axis=0)\n",
    "vloss = np.mean(val_loss, axis=0)\n",
    "    \n",
    "cacc= np.mean(cat_acc, axis=0)\n",
    "vacc= np.mean(val_acc, axis=0)"
   ]
  },
  {
   "cell_type": "raw",
   "id": "592b2e5d",
   "metadata": {
    "jupyter": {
     "source_hidden": true
    }
   },
   "source": [
    "fig, (ax1,ax2) = plt.subplots(1,2, figsize=plt.figaspect(0.25))\n",
    "ax1.plot(tloss, label='Training loss')\n",
    "ax1.plot(vloss, label='Validation loss')\n",
    "ax1.set_yscale('log')\n",
    "ax1.set_title('loss')\n",
    "ax1.set_xlabel('Epoch')\n",
    "ax1.set_ylabel('loss')\n",
    "ax1.legend()\n",
    "\n",
    "ax2.plot(cacc, label='Training ACC')\n",
    "ax2.plot(vacc, label='Validation ACC')\n",
    "ax2.set_title('Accuracy')\n",
    "ax2.set_xlabel('Epoch')\n",
    "ax2.set_ylabel('Acc')\n",
    "ax2.legend\n",
    "\n",
    "#plt.savefig(\"EUR_ACC_14.png\")"
   ]
  },
  {
   "cell_type": "markdown",
   "id": "46721a6e",
   "metadata": {},
   "source": [
    "### Skill Score Distributions. "
   ]
  },
  {
   "cell_type": "code",
   "execution_count": 69,
   "id": "3671c97d",
   "metadata": {},
   "outputs": [
    {
     "data": {
      "image/png": "[encoded data removed]",
      "text/plain": [
       "<Figure size 750x750 with 2 Axes>"
      ]
     },
     "metadata": {},
     "output_type": "display_data"
    }
   ],
   "source": [
    "#plot\n",
    "fig = plt.figure(figsize=(7.5,7.5))\n",
    "font = 10\n",
    "#loop through each member\n",
    "ax2 = plt.subplot(2,1,1)\n",
    "ax3 = plt.subplot(2,1,2)\n",
    "\n",
    "ticks = ['Full', 'Train', 'Val', 'Test'] #set tick numbers for dataset\n",
    "colors = ['lightcyan','peachpuff']\n",
    "ind = [2, 4, 6, 8]  # the x locations for the groups\n",
    "w = 0.25 #box-plot width\n",
    "labels = ['- Anom', '+ Anom '] #labels of quantiles\n",
    "\n",
    "\n",
    "##begin to go plot by plot ...\n",
    "#each plot has a separate plot function for each lead time. In these, the plots get each quantile plotted. \n",
    "ax2.set_title(\"Stat Scores for Predicting Europe Temp Anoms at 14-days Lead with Top 10 PCs\",fontsize = 11) \n",
    "\n",
    "##repeat the process\n",
    "a2_0 = ax2.boxplot([Rec_all[:,0],Rec_all[:,1]], positions= [1.8,2.2], widths=w, patch_artist=True)\n",
    "a2_5 = ax2.boxplot([Rec_train[:,0],Rec_train[:,1]], positions=[3.8,4.2], widths=w, patch_artist=True)\n",
    "a2_10 = ax2.boxplot([Rec_val[:,0],Rec_val[:,1]], positions=[5.8,6.2], widths=w, patch_artist=True)\n",
    "a2_14 = ax2.boxplot([Rec_test[:,0],Rec_test[:,1]], positions=[7.8,8.2], widths=w, patch_artist=True)\n",
    "ax2.axhline(0.5, c='k', ls ='-.')\n",
    "ax2.set_xticks(ind, ticks)\n",
    "for bplot in (a2_0, a2_5, a2_10, a2_14):\n",
    "    for patch, color in zip(bplot['boxes'], colors):\n",
    "        patch.set_facecolor(color)\n",
    "for patch, label in zip(a2_0['boxes'], labels):\n",
    "    patch.set_label(label)\n",
    "#ax2.set_title('RAS for Temperature Region',fontsize = 14)\n",
    "ax2.set_ylim(-0.1,1.1)\n",
    "ax2.tick_params(axis='both', which='major', labelsize= font)\n",
    "ax2.set_ylabel('RAS',fontsize = font)\n",
    "#ax2.set_xlabel('Data Set',fontsize = 14)\n",
    "#ax2.set_ylabel('Brier Skill Score')\n",
    "ax2.legend(loc = 'lower right', fontsize = 8)\n",
    "ax2.set_aspect('auto') ;\n",
    "\n",
    "a3_0 = ax3.boxplot([Prec_all[:,0],Prec_all[:,1]], positions= [1.8,2.2], widths=w, patch_artist=True)\n",
    "a3_5 = ax3.boxplot([Prec_train[:,0],Prec_train[:,1]], positions=[3.8,4.2], widths=w, patch_artist=True)\n",
    "a3_10 = ax3.boxplot([Prec_val[:,0],Prec_val[:,1]], positions=[5.8,6.2], widths=w, patch_artist=True)\n",
    "a3_14 = ax3.boxplot([Prec_test[:,0],Prec_test[:,1]], positions=[7.8,8.2], widths=w, patch_artist=True)\n",
    "ax3.axhline(0.5, c='k', ls ='-.')\n",
    "ax3.set_xticks(ind, ticks)\n",
    "for bplot in (a3_0, a3_5, a3_10, a3_14):\n",
    "    for patch, color in zip(bplot['boxes'], colors):\n",
    "        patch.set_facecolor(color)\n",
    "for patch, label in zip(a3_0['boxes'], labels):\n",
    "    patch.set_label(label)\n",
    "#ax3.set_title('RAS Well')\n",
    "#ax3.set_title('PAS for Temperature Region',fontsize = 14)\n",
    "ax3.set_ylim(-0.1,1.1)\n",
    "ax3.set_ylabel('PAS',fontsize = font)\n",
    "ax3.set_xlabel('Data Set',fontsize = font)\n",
    "#ax3.set_ylabel('Recall Accuracy Score',fontsize = 14)\n",
    "ax3.tick_params(axis='both', which='major', labelsize= font)\n",
    "ax3.legend(loc = 'lower right', fontsize = 8)\n",
    "ax3.set_aspect('auto') ;\n",
    "\n",
    "plt.tight_layout()\n",
    "#plt.show()\n",
    "#plt.savefig(\"EUR_StatScore_14.png\", bbox_inches='tight',dpi =150)\n"
   ]
  },
  {
   "cell_type": "markdown",
   "id": "0546ee6f",
   "metadata": {},
   "source": [
    "### Percentile ACC Plots."
   ]
  },
  {
   "cell_type": "code",
   "execution_count": 70,
   "id": "edec2fb3",
   "metadata": {},
   "outputs": [
    {
     "data": {
      "text/plain": [
       "Text(0.5, 1.0, 'Testing Prediction Accuracy Across 20 Models for Europe Temps')"
      ]
     },
     "execution_count": 70,
     "metadata": {},
     "output_type": "execute_result"
    },
    {
     "data": {
      "image/png": "[encoded data removed]",
      "text/plain": [
       "<Figure size 640x480 with 1 Axes>"
      ]
     },
     "metadata": {},
     "output_type": "display_data"
    }
   ],
   "source": [
    "bins = np.linspace(0.4, 1,13)  # 10 bins from 0.4 to 1\n",
    "##bin the testing 90th percentile accuracy data\n",
    "counts90, edges90 = np.histogram(test90_acc, bins=bins)\n",
    "countsfull, edgesfull = np.histogram(fulltest_acc, bins=bins)\n",
    "# Plot the full dataset\n",
    "#offset = 0.02  # Adjust this value if needed for better visibility\n",
    "plt.bar(edgesfull[:-1], countsfull, width=np.diff(edgesfull), \n",
    "        edgecolor='black', alpha=0.5, label='All Predictions', align='edge', color='blue')\n",
    "# Plot the 90th percentile\n",
    "plt.bar(edges90[:-1], counts90, width=np.diff(edges90), \n",
    "        edgecolor='black', alpha=0.5, label='>90th Percentile Predictions', align='edge', color = 'lightblue')\n",
    "plt.xlabel('Accuracy')\n",
    "plt.ylabel('Number of Models')\n",
    "plt.legend()\n",
    "plt.title('Testing Prediction Accuracy Across 20 Models for Europe Temps')\n",
    "#plt.savefig(\"EUR14_ACCtesting.png\")"
   ]
  },
  {
   "cell_type": "code",
   "execution_count": null,
   "id": "602a6c55",
   "metadata": {},
   "outputs": [],
   "source": []
  }
 ],
 "metadata": {
  "kernelspec": {
   "display_name": "Python 3 (ipykernel)",
   "language": "python",
   "name": "python3"
  },
  "language_info": {
   "codemirror_mode": {
    "name": "ipython",
    "version": 3
   },
   "file_extension": ".py",
   "mimetype": "text/x-python",
   "name": "python",
   "nbconvert_exporter": "python",
   "pygments_lexer": "ipython3",
   "version": "3.10.12"
  }
 },
 "nbformat": 4,
 "nbformat_minor": 5
}
