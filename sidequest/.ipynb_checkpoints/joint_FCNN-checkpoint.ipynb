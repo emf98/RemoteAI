{
 "cells": [
  {
   "cell_type": "markdown",
   "id": "ec771fec",
   "metadata": {},
   "source": [
    "### Modified PVU/GPH FCNN model file from November of 2024 to meet the needs of my current work. \n",
    "\n",
    "This will be a three-input merged model of flattened vertical cross sections for Zonal-mean wind, GPH, and Zonal-mean meridional eddy heat flux. \n",
    "\n",
    "File initalized on June 25, 2025. "
   ]
  },
  {
   "cell_type": "raw",
   "id": "107cbfc2",
   "metadata": {
    "jupyter": {
     "outputs_hidden": true
    }
   },
   "source": [
    "!pip install innvestigate\n",
    "!pip install investigate"
   ]
  },
  {
   "cell_type": "markdown",
   "id": "f37ae62d",
   "metadata": {},
   "source": [
    "First two cells are for imports. "
   ]
  },
  {
   "cell_type": "code",
   "execution_count": 1,
   "id": "c8c9ac7c",
   "metadata": {
    "jupyter": {
     "source_hidden": true
    },
    "scrolled": true
   },
   "outputs": [],
   "source": [
    "%matplotlib inline\n",
    "##so-called \"math\" related imports\n",
    "from netCDF4 import Dataset as ncread\n",
    "import numpy as np\n",
    "from scipy.io import loadmat\n",
    "import pandas as pd\n",
    "import math\n",
    "from random import seed\n",
    "from random import randint\n",
    "from random import sample\n",
    "from scipy.ndimage import gaussian_filter\n",
    "from sklearn.metrics import brier_score_loss\n",
    "import xarray as xr\n",
    "\n",
    "import pickle\n",
    "\n",
    "##plotting related imports\n",
    "import matplotlib.pyplot as plt\n",
    "from matplotlib import rcParams #For changing text properties\n",
    "from cartopy import crs as ccrs #Useful for plotting maps\n",
    "import cartopy.util #Requires separate import\n",
    "from cartopy.util import add_cyclic_point\n",
    "import cartopy.feature as cf\n",
    "from cartopy.mpl.ticker import LongitudeFormatter, LatitudeFormatter\n",
    "import matplotlib.path as mpath\n",
    "import matplotlib.colors as mcolors"
   ]
  },
  {
   "cell_type": "code",
   "execution_count": 5,
   "id": "911dd32e",
   "metadata": {
    "jupyter": {
     "source_hidden": true
    }
   },
   "outputs": [],
   "source": [
    "##import tensorflow/keras related files\n",
    "import tensorflow as tf    \n",
    "#tf.compat.v1.disable_v2_behavior() # <-- HERE !\n",
    "\n",
    "from tensorflow import keras\n",
    "from tensorflow.keras import layers, models\n",
    "from tensorflow.keras import Input\n",
    "from tensorflow.keras.models import Model\n",
    "from tensorflow.keras.callbacks import ModelCheckpoint\n",
    "from tensorflow.keras import regularizers\n",
    "import tensorflow.keras.backend as K\n",
    "from tensorflow.keras.utils import to_categorical\n",
    "from tensorflow.keras.layers import Dropout, Activation, Reshape, Flatten, LSTM, Dense, Dropout, Embedding, Bidirectional, GRU, Concatenate\n",
    "from tensorflow.keras import Sequential\n",
    "from tensorflow.keras import initializers, regularizers\n",
    "from tensorflow.keras import optimizers\n",
    "from tensorflow.keras import constraints\n",
    "from tensorflow.keras.layers import Layer, InputSpec\n",
    "from tensorflow.keras.callbacks import EarlyStopping\n",
    "\n",
    "tf.compat.v1.disable_eager_execution()\n",
    "#necessary for this model because I need to use LRP for XAI. \n",
    "#import innvestigate\n",
    "import investigate"
   ]
  },
  {
   "cell_type": "code",
   "execution_count": 3,
   "id": "7a6cc90d",
   "metadata": {},
   "outputs": [
    {
     "name": "stdout",
     "output_type": "stream",
     "text": [
      "2.14.1\n"
     ]
    }
   ],
   "source": [
    "print(tf.__version__)"
   ]
  },
  {
   "cell_type": "markdown",
   "id": "437d5f39",
   "metadata": {},
   "source": [
    "#### Upload data. "
   ]
  },
  {
   "cell_type": "code",
   "execution_count": 4,
   "id": "99d0f78d",
   "metadata": {},
   "outputs": [],
   "source": [
    "#load input data\n",
    "infile = open(\"../eof_data/vertanom_u.p\",\"rb\",)\n",
    "u_input = pickle.load(infile)  ##vertical U cross section\n",
    "#flat_u_14 = u_input[:62, 19:168, :, :].reshape((62 * 149, 37, 36))\n",
    "infile.close()\n",
    "\n",
    "infile = open(\"../eof_data/vertanom_ehf.p\",\"rb\",)\n",
    "ehf_input = pickle.load(infile)  ##ZMehf vertical cross section along longitudes\n",
    "#flat_EHF_14 = ehf_input[:62, 19:168, :, :].reshape((62 * 149, 37, 180))\n",
    "infile.close()\n",
    "\n",
    "infile = open(\"../eof_data/vertanom_gph.p\",\"rb\",)\n",
    "gph_input = pickle.load(infile)  ##GPH vertical cross section along longitudes\n",
    "#flat_GPH_14= gph_input[:62, 19:168, :, :].reshape((62 * 149, 37, 180))\n",
    "infile.close()"
   ]
  },
  {
   "cell_type": "code",
   "execution_count": 6,
   "id": "68e40612",
   "metadata": {},
   "outputs": [
    {
     "name": "stdout",
     "output_type": "stream",
     "text": [
      "U Wind shape:  (62, 149, 37, 36)\n",
      "EHF shape:  (62, 149, 37, 180)\n",
      "GPH shape:  (62, 149, 37, 180)\n"
     ]
    }
   ],
   "source": [
    "u_14 = u_input[:62, 19:168, :, :]\n",
    "EHF_14 = ehf_input[:62, 19:168, :, :]\n",
    "GPH_14= gph_input[:62, 19:168, :, :]\n",
    "\n",
    "print(\"U Wind shape: \",u_14.shape)\n",
    "print(\"EHF shape: \",EHF_14.shape)\n",
    "print(\"GPH shape: \",GPH_14.shape)"
   ]
  },
  {
   "cell_type": "code",
   "execution_count": 9,
   "id": "7dd46d6e",
   "metadata": {},
   "outputs": [],
   "source": [
    "# load output data\n",
    "infile = open(\"../reduced_data/temps/eur_14.p\",\"rb\",)\n",
    "output = pickle.load(infile) \n",
    "output = output.reshape(62, 149)\n",
    "infile.close()"
   ]
  },
  {
   "cell_type": "code",
   "execution_count": 10,
   "id": "052a4b38",
   "metadata": {},
   "outputs": [
    {
     "name": "stdout",
     "output_type": "stream",
     "text": [
      "(62, 149)\n"
     ]
    }
   ],
   "source": [
    "temp = output[:,:]\n",
    "print(temp.shape)"
   ]
  },
  {
   "cell_type": "markdown",
   "id": "81e5f1e7",
   "metadata": {},
   "source": [
    "The next two cells are only relevant for lead times >14 days. "
   ]
  },
  {
   "cell_type": "code",
   "execution_count": 15,
   "id": "032b82a5",
   "metadata": {},
   "outputs": [],
   "source": [
    "lead = 149"
   ]
  },
  {
   "cell_type": "raw",
   "id": "49fab5ec",
   "metadata": {
    "jupyter": {
     "source_hidden": true
    }
   },
   "source": [
    "input_u =  np.empty((62,lead,37,36))\n",
    "input_ehf =  np.empty((62,lead,37,180))\n",
    "input_gph =  np.empty((62,lead,37,180))\n",
    "\n",
    "temp_n = np.empty((62,lead))\n",
    "\n",
    "for i in range(0,62):\n",
    "    for j in range(0,lead):\n",
    "        input_u[i,j,:,:] = u_14[i,j,:,:]\n",
    "        temp_n[i,j] = temp[i,j]"
   ]
  },
  {
   "cell_type": "code",
   "execution_count": 12,
   "id": "19c2fe97",
   "metadata": {},
   "outputs": [],
   "source": [
    "#this can be commented out if not needed. \n",
    "input_u =  u_14\n",
    "input_ehf =  EHF_14\n",
    "input_gph =  GPH_14\n",
    "temp_n = temp"
   ]
  },
  {
   "cell_type": "code",
   "execution_count": 13,
   "id": "4bed728a",
   "metadata": {},
   "outputs": [
    {
     "name": "stdout",
     "output_type": "stream",
     "text": [
      "(62, 149, 37, 36)\n",
      "(62, 149, 37, 180)\n",
      "(62, 149, 37, 180)\n"
     ]
    }
   ],
   "source": [
    "##input shape (samples, lat, lon) and (#samples, window, features)\n",
    "print(input_u.shape)\n",
    "print(input_ehf.shape)\n",
    "print(input_gph.shape)"
   ]
  },
  {
   "cell_type": "code",
   "execution_count": 14,
   "id": "e2155836",
   "metadata": {},
   "outputs": [
    {
     "data": {
      "text/plain": [
       "(62, 149)"
      ]
     },
     "execution_count": 14,
     "metadata": {},
     "output_type": "execute_result"
    }
   ],
   "source": [
    "##output shape (samples), these will be different from the input\n",
    "temp_n.shape"
   ]
  },
  {
   "cell_type": "code",
   "execution_count": 16,
   "id": "f7e944be",
   "metadata": {},
   "outputs": [
    {
     "data": {
      "text/plain": [
       "7852"
      ]
     },
     "execution_count": 16,
     "metadata": {},
     "output_type": "execute_result"
    }
   ],
   "source": [
    "frac_ind = round((62*lead)*0.15)\n",
    "frac_end = round((62*lead)-frac_ind)\n",
    "frac_end"
   ]
  },
  {
   "cell_type": "code",
   "execution_count": 17,
   "id": "cdbaaddb",
   "metadata": {
    "scrolled": true
   },
   "outputs": [],
   "source": [
    "##Set X_all and Y_all datasets\n",
    "X_all1 = np.copy(input_u.reshape(62*lead,37*36)) ##u\n",
    "X_all2 = np.copy(input_ehf.reshape(62*lead,37*180)) ##ehf\n",
    "X_all3 = np.copy(input_gph.reshape(62*lead,37*180)) ##gph\n",
    "\n",
    "Y_all = np.copy(temp_n.reshape(62*lead))\n",
    "\n",
    "##training data partition out\n",
    "X_tri1 = X_all1[:frac_end,:] ##u\n",
    "X_tri2 = X_all2[:frac_end,:] ##ehf\n",
    "X_tri3 = X_all3[:frac_end,:] ##gph\n",
    "\n",
    "Y_tri = Y_all[:frac_end]\n",
    "\n",
    "#testing data partition out\n",
    "X_tes1 = X_all1[frac_end:,:]\n",
    "X_tes2 = X_all2[frac_end:,:]\n",
    "X_tes3 = X_all3[frac_end:,:]\n",
    "\n",
    "Y_tes = Y_all[frac_end:]\n",
    "\n",
    "#Convert the Y array into a categorical array. This means we will create one-hot vector labels for all of the inputs.\n",
    "# The one-hot vectors have an index for each possible output category (two in our case)\n",
    "# A \"1\" is put in the index corresponding to the category to which the sample belongs\n",
    "Y_all = keras.utils.to_categorical(Y_all)\n",
    "Y_tri = keras.utils.to_categorical(Y_tri)\n",
    "Y_tes= keras.utils.to_categorical(Y_tes)"
   ]
  },
  {
   "cell_type": "code",
   "execution_count": 18,
   "id": "c1769e56",
   "metadata": {},
   "outputs": [],
   "source": [
    "##checking my data for NaN of Infs because I need to make sure this doesn't cause\n",
    "#the model to throw back no loss\n",
    "\n",
    "if np.any(np.isnan(X_all2)) or np.any(np.isinf(X_all2)):\n",
    "    print(\"NaN or Inf values found in X_all!\")\n",
    "\n",
    "if np.any(np.isnan(Y_all)) or np.any(np.isinf(Y_all)):\n",
    "    print(\"NaN or Inf values found in Y_all!\")"
   ]
  },
  {
   "cell_type": "markdown",
   "id": "9e6fa634",
   "metadata": {},
   "source": [
    "### Begin establishing specifics of model."
   ]
  },
  {
   "cell_type": "code",
   "execution_count": 19,
   "id": "22297d61",
   "metadata": {},
   "outputs": [
    {
     "data": {
      "text/plain": [
       "1386"
      ]
     },
     "execution_count": 19,
     "metadata": {},
     "output_type": "execute_result"
    }
   ],
   "source": [
    "##set 15% of data for validation\n",
    "frac_ind"
   ]
  },
  {
   "cell_type": "code",
   "execution_count": 20,
   "id": "320c3e51",
   "metadata": {},
   "outputs": [
    {
     "data": {
      "text/plain": [
       "(9238, 2)"
      ]
     },
     "execution_count": 20,
     "metadata": {},
     "output_type": "execute_result"
    }
   ],
   "source": [
    "##checking to make sure shape was properly one hot encoded\n",
    "Y_all.shape"
   ]
  },
  {
   "cell_type": "code",
   "execution_count": 21,
   "id": "6632761a",
   "metadata": {},
   "outputs": [],
   "source": [
    "##class weight creator for the instance where now I have a four dimensional output array \n",
    "def class_weight_creator(Y):\n",
    "    class_dict = {}\n",
    "    Y_reshaped = Y.reshape(-1, Y.shape[-1])\n",
    "    weights = np.max(np.sum(Y_reshaped, axis=0)) / np.sum(Y_reshaped, axis=0)\n",
    "    for i in range(Y.shape[-1] ):\n",
    "        class_dict[i] = weights[i]\n",
    "        \n",
    "    return class_dict"
   ]
  },
  {
   "cell_type": "code",
   "execution_count": 22,
   "id": "dcd53c11",
   "metadata": {},
   "outputs": [],
   "source": [
    "##number of input nodes\n",
    "input_shape1=  X_all1.shape[-1] # u\n",
    "input_shape2= X_all2.shape[-1] ## ehf\n",
    "input_shape3= X_all3.shape[-1] ## gph\n",
    "\n",
    "\n",
    "##fraction of training data\n",
    "X_validation1 = X_tri1[0:frac_ind]\n",
    "X_validation2 = X_tri2[0:frac_ind]\n",
    "X_validation3 = X_tri3[0:frac_ind]\n",
    "Y_validation = Y_tri[0:frac_ind]\n",
    "        \n",
    "X_train1 = X_tri1[frac_ind:len(X_tri1)]\n",
    "X_train2 = X_tri2[frac_ind:len(X_tri2)]\n",
    "X_train3 = X_tri3[frac_ind:len(X_tri3)]\n",
    "Y_train = Y_tri[frac_ind:len(Y_tri)]\n",
    "\n",
    "X_test1 = X_tes1\n",
    "X_test2 = X_tes2\n",
    "X_test3 = X_tes3\n",
    "Y_test = Y_tes"
   ]
  },
  {
   "cell_type": "code",
   "execution_count": 23,
   "id": "5d724933",
   "metadata": {},
   "outputs": [
    {
     "data": {
      "text/plain": [
       "(6466, 2)"
      ]
     },
     "execution_count": 23,
     "metadata": {},
     "output_type": "execute_result"
    }
   ],
   "source": [
    "Y_train.shape"
   ]
  },
  {
   "cell_type": "code",
   "execution_count": 24,
   "id": "1fa90f3a",
   "metadata": {},
   "outputs": [
    {
     "data": {
      "text/plain": [
       "1332"
      ]
     },
     "execution_count": 24,
     "metadata": {},
     "output_type": "execute_result"
    }
   ],
   "source": [
    "input_shape1"
   ]
  },
  {
   "cell_type": "code",
   "execution_count": 25,
   "id": "2d34172c",
   "metadata": {},
   "outputs": [
    {
     "data": {
      "text/plain": [
       "6660"
      ]
     },
     "execution_count": 25,
     "metadata": {},
     "output_type": "execute_result"
    }
   ],
   "source": [
    "input_shape2"
   ]
  },
  {
   "cell_type": "code",
   "execution_count": 26,
   "id": "02aa7124",
   "metadata": {},
   "outputs": [
    {
     "data": {
      "text/plain": [
       "6660"
      ]
     },
     "execution_count": 26,
     "metadata": {},
     "output_type": "execute_result"
    }
   ],
   "source": [
    "input_shape3"
   ]
  },
  {
   "cell_type": "code",
   "execution_count": 27,
   "id": "24e71b11",
   "metadata": {},
   "outputs": [
    {
     "data": {
      "text/plain": [
       "{0: 1.0, 1: 1.5238096}"
      ]
     },
     "execution_count": 27,
     "metadata": {},
     "output_type": "execute_result"
    }
   ],
   "source": [
    "##do the class_dict weights\n",
    "class_weight = class_weight_creator(Y_train)\n",
    "class_weight"
   ]
  },
  {
   "cell_type": "markdown",
   "id": "35f5f393",
   "metadata": {},
   "source": [
    "### Model Arcitecture."
   ]
  },
  {
   "cell_type": "code",
   "execution_count": 68,
   "id": "e13590c4",
   "metadata": {},
   "outputs": [],
   "source": [
    "def combined(n1, n2, n3, n4, n5, n6, n7, reg1, reg2, reg3, reg4, reg5, reg6, reg7, learn):\n",
    "    ##first layers for U ANN\n",
    "    input_tensor1 = Input(shape=(int(1332),), name='layer1')\n",
    "    layer1 = layers.Dense(n1, activation='leaky_relu', use_bias=True,\n",
    "                          kernel_initializer='he_normal',bias_initializer='he_normal',\n",
    "                          kernel_regularizer=keras.regularizers.l2(l2= reg1))(input_tensor1)\n",
    "   \n",
    "\n",
    "    layer1 = layers.Dense(n2, activation='leaky_relu', use_bias=True,\n",
    "                          kernel_initializer='he_normal',bias_initializer='he_normal',\n",
    "                          kernel_regularizer=keras.regularizers.l2(l2= reg2))(layer1)\n",
    "   \n",
    "    ## second layers for EHF ANN\n",
    "    input_tensor2 = Input(shape=(int(6660),), name='layer2')\n",
    "    layer2 = layers.Dense(n3, activation='leaky_relu', use_bias=True,\n",
    "                          kernel_initializer='he_normal',bias_initializer='he_normal',\n",
    "                          kernel_regularizer=keras.regularizers.l2(l2= reg3))(input_tensor2)\n",
    "    \n",
    "    layer2 = layers.Dense(n4, activation='leaky_relu', use_bias=True,\n",
    "                          kernel_initializer='he_normal',bias_initializer='he_normal',\n",
    "                          kernel_regularizer=keras.regularizers.l2(l2= reg4))(layer2)\n",
    "    \n",
    "    \n",
    "    ## third layers for GPH ANN\n",
    "    input_tensor3 = Input(shape=(int(6660),), name='layer3')\n",
    "    layer3 = layers.Dense(n5, activation='leaky_relu', use_bias=True,\n",
    "                          kernel_initializer='he_normal',bias_initializer='he_normal',\n",
    "                          kernel_regularizer=keras.regularizers.l2(l2= reg5))(input_tensor3)\n",
    "    \n",
    "    layer3 = layers.Dense(n6, activation='leaky_relu', use_bias=True,\n",
    "                          kernel_initializer='he_normal',bias_initializer='he_normal',\n",
    "                          kernel_regularizer=keras.regularizers.l2(l2= reg6))(layer3)\n",
    "    \n",
    "    ##combine two model inputs\n",
    "    merge_layer = Concatenate()([layer1,layer2,layer3])\n",
    "\n",
    "    ##more dense layers\n",
    "    merge = layers.Dense(n7, activation='leaky_relu', use_bias=True,\n",
    "                          kernel_initializer='he_normal',bias_initializer='he_normal',\n",
    "                          kernel_regularizer=keras.regularizers.l2(l2= reg7))(merge_layer)\n",
    "\n",
    "    #decay_rate = learn / epochs\n",
    "    output_tensor = layers.Dense(2,activation='softmax')(merge)\n",
    "    model = Model([input_tensor1, input_tensor2, input_tensor3], output_tensor)\n",
    "    model.compile(optimizer=keras.optimizers.legacy.Adam(learning_rate=learn),\n",
    "              loss = 'categorical_crossentropy', #Our loss function is based on categorical error\n",
    "              metrics=[keras.metrics.categorical_accuracy], #We will print out the categorical accuracy as the network is trained\n",
    "              )\n",
    "    return model"
   ]
  },
  {
   "cell_type": "code",
   "execution_count": 69,
   "id": "c478cb32",
   "metadata": {},
   "outputs": [],
   "source": [
    "##dictionaries for training and validation\n",
    "X_train = {'layer1': X_train1, 'layer2': X_train2, 'layer3': X_train3}\n",
    "X_all = {'layer1': X_all1, 'layer2': X_all2, 'layer3': X_all3}\n",
    "X_test = {'layer1': X_test1, 'layer2': X_test2, 'layer3': X_test3}\n",
    "X_val = {'layer1': X_validation1, 'layer2': X_validation2, 'layer3': X_validation3}"
   ]
  },
  {
   "cell_type": "code",
   "execution_count": 70,
   "id": "7eed9b34",
   "metadata": {},
   "outputs": [],
   "source": [
    "######\n",
    "batch_size = 256 #The number of samples the network sees before it backpropagates (batch size)\n",
    "epochs = 50 #The number of times the network will loop through the entire dataset (epochs)\n",
    "shuffle = True #Set whether to shuffle the training data so the model doesn't see it sequentially \n",
    "verbose = 2 #Set whether the model will output information when trained (0 = no output; 2 = output accuracy every epoch)"
   ]
  },
  {
   "cell_type": "code",
   "execution_count": 71,
   "id": "15f582e5",
   "metadata": {},
   "outputs": [
    {
     "data": {
      "text/plain": [
       "(1386, 2)"
      ]
     },
     "execution_count": 71,
     "metadata": {},
     "output_type": "execute_result"
    }
   ],
   "source": [
    "Y_validation.shape"
   ]
  },
  {
   "cell_type": "code",
   "execution_count": 72,
   "id": "3269fb91",
   "metadata": {},
   "outputs": [],
   "source": [
    "tf.keras.backend.clear_session()"
   ]
  },
  {
   "cell_type": "code",
   "execution_count": 73,
   "id": "6f3fb868",
   "metadata": {},
   "outputs": [],
   "source": [
    "##create model.\n",
    "model = combined(n1 = 128, \n",
    "                 n2 = 16, \n",
    "                 n3 = 128, \n",
    "                 n4 = 16, \n",
    "                 n5 = 128,\n",
    "                 n6 = 16,\n",
    "                 n7 = 24,\n",
    "                 reg1 = 0.05, \n",
    "                 reg2 = 0.005, \n",
    "                 reg3 = 0.05, \n",
    "                 reg4 = 0.005,\n",
    "                 reg5 = 0.05, \n",
    "                 reg6 = 0.005,\n",
    "                 reg7 = 0.05,\n",
    "                 learn =0.11 )\n",
    "\n",
    "\n",
    "early_stopping = EarlyStopping(monitor='val_loss',patience=5,restore_best_weights=True,verbose=1)"
   ]
  },
  {
   "cell_type": "code",
   "execution_count": 74,
   "id": "7a5062ed",
   "metadata": {
    "scrolled": true
   },
   "outputs": [
    {
     "name": "stdout",
     "output_type": "stream",
     "text": [
      "Train on 6466 samples, validate on 1386 samples\n"
     ]
    },
    {
     "name": "stderr",
     "output_type": "stream",
     "text": [
      "2025-06-25 22:48:59.755794: W tensorflow/c/c_api.cc:305] Operation '{name:'training/Adam/dense_6/bias/v/Assign' id:805 op device:{requested: '', assigned: ''} def:{{{node training/Adam/dense_6/bias/v/Assign}} = AssignVariableOp[_has_manual_control_dependencies=true, dtype=DT_FLOAT, validate_shape=false](training/Adam/dense_6/bias/v, training/Adam/dense_6/bias/v/Initializer/zeros)}}' was changed by setting attribute after it was run by a session. This mutation will have no effect, and will trigger an error in the future. Either don't modify nodes after running them or create a new session.\n"
     ]
    },
    {
     "name": "stdout",
     "output_type": "stream",
     "text": [
      "Epoch 1/50\n",
      "6466/6466 [==============================] - 1s 143us/sample - loss: 91510.3863 - categorical_accuracy: 0.5331 - val_loss: 46329.9179 - val_categorical_accuracy: 0.3752\n",
      "Epoch 2/50\n",
      " 256/6466 [>.............................] - ETA: 0s - loss: 44846.6328 - categorical_accuracy: 0.4219"
     ]
    },
    {
     "name": "stderr",
     "output_type": "stream",
     "text": [
      "/usr/local/lib/python3.10/dist-packages/keras/src/engine/training_v1.py:2335: UserWarning: `Model.state_updates` will be removed in a future version. This property should not be used in TensorFlow 2.0, as `updates` are applied automatically.\n",
      "  updates = self.state_updates\n"
     ]
    },
    {
     "name": "stdout",
     "output_type": "stream",
     "text": [
      "6466/6466 [==============================] - 1s 104us/sample - loss: 19853.8634 - categorical_accuracy: 0.5612 - val_loss: 4586.7973 - val_categorical_accuracy: 0.6400\n",
      "Epoch 3/50\n",
      "6466/6466 [==============================] - 1s 104us/sample - loss: 3957.8603 - categorical_accuracy: 0.5820 - val_loss: 2412.7322 - val_categorical_accuracy: 0.4444\n",
      "Epoch 4/50\n",
      "6466/6466 [==============================] - 1s 104us/sample - loss: 1394.9185 - categorical_accuracy: 0.5851 - val_loss: 827.1929 - val_categorical_accuracy: 0.3846\n",
      "Epoch 5/50\n",
      "6466/6466 [==============================] - 1s 104us/sample - loss: 607.9882 - categorical_accuracy: 0.5747 - val_loss: 412.6011 - val_categorical_accuracy: 0.6919\n",
      "Epoch 6/50\n",
      "6466/6466 [==============================] - 1s 104us/sample - loss: 393.7191 - categorical_accuracy: 0.5793 - val_loss: 277.2846 - val_categorical_accuracy: 0.5130\n",
      "Epoch 7/50\n",
      "6466/6466 [==============================] - 1s 104us/sample - loss: 257.0951 - categorical_accuracy: 0.5578 - val_loss: 227.9886 - val_categorical_accuracy: 0.5649\n",
      "Epoch 8/50\n",
      "6466/6466 [==============================] - 1s 105us/sample - loss: 189.7524 - categorical_accuracy: 0.5741 - val_loss: 152.7376 - val_categorical_accuracy: 0.5794\n",
      "Epoch 9/50\n",
      "6466/6466 [==============================] - 1s 103us/sample - loss: 140.8596 - categorical_accuracy: 0.5677 - val_loss: 124.4035 - val_categorical_accuracy: 0.4589\n",
      "Epoch 10/50\n",
      "6466/6466 [==============================] - 1s 105us/sample - loss: 111.3023 - categorical_accuracy: 0.5767 - val_loss: 95.5018 - val_categorical_accuracy: 0.5960\n",
      "Epoch 11/50\n",
      "6466/6466 [==============================] - 1s 104us/sample - loss: 88.2277 - categorical_accuracy: 0.5756 - val_loss: 81.1681 - val_categorical_accuracy: 0.4170\n",
      "Epoch 12/50\n",
      "6466/6466 [==============================] - 1s 105us/sample - loss: 73.1090 - categorical_accuracy: 0.5667 - val_loss: 67.1940 - val_categorical_accuracy: 0.6111\n",
      "Epoch 13/50\n",
      "6466/6466 [==============================] - 1s 103us/sample - loss: 60.4886 - categorical_accuracy: 0.5764 - val_loss: 54.0407 - val_categorical_accuracy: 0.6017\n",
      "Epoch 14/50\n",
      "6466/6466 [==============================] - 1s 105us/sample - loss: 50.2741 - categorical_accuracy: 0.5868 - val_loss: 44.7463 - val_categorical_accuracy: 0.5685\n",
      "Epoch 15/50\n",
      "6466/6466 [==============================] - 1s 103us/sample - loss: 41.5499 - categorical_accuracy: 0.6194 - val_loss: 37.7884 - val_categorical_accuracy: 0.6313\n",
      "Epoch 16/50\n",
      "6466/6466 [==============================] - 1s 104us/sample - loss: 35.3339 - categorical_accuracy: 0.6138 - val_loss: 32.6347 - val_categorical_accuracy: 0.6450\n",
      "Epoch 17/50\n",
      "6466/6466 [==============================] - 1s 104us/sample - loss: 30.6033 - categorical_accuracy: 0.5940 - val_loss: 28.0265 - val_categorical_accuracy: 0.6739\n",
      "Epoch 18/50\n",
      "6466/6466 [==============================] - 1s 105us/sample - loss: 26.4707 - categorical_accuracy: 0.6035 - val_loss: 24.3138 - val_categorical_accuracy: 0.6349\n",
      "Epoch 19/50\n",
      "6466/6466 [==============================] - 1s 103us/sample - loss: 23.0362 - categorical_accuracy: 0.6205 - val_loss: 21.3702 - val_categorical_accuracy: 0.6421\n",
      "Epoch 20/50\n",
      "6466/6466 [==============================] - 1s 105us/sample - loss: 20.3337 - categorical_accuracy: 0.6499 - val_loss: 18.9833 - val_categorical_accuracy: 0.6753\n",
      "Epoch 21/50\n",
      "6466/6466 [==============================] - 1s 103us/sample - loss: 18.1424 - categorical_accuracy: 0.6666 - val_loss: 17.0762 - val_categorical_accuracy: 0.6876\n",
      "Epoch 22/50\n",
      "6466/6466 [==============================] - 1s 105us/sample - loss: 16.4823 - categorical_accuracy: 0.6636 - val_loss: 15.6670 - val_categorical_accuracy: 0.5996\n",
      "Epoch 23/50\n",
      "6466/6466 [==============================] - 1s 104us/sample - loss: 15.0643 - categorical_accuracy: 0.6635 - val_loss: 14.2945 - val_categorical_accuracy: 0.6602\n",
      "Epoch 24/50\n",
      "6466/6466 [==============================] - 1s 104us/sample - loss: 13.9508 - categorical_accuracy: 0.6749 - val_loss: 13.3779 - val_categorical_accuracy: 0.6118\n",
      "Epoch 25/50\n",
      "6466/6466 [==============================] - 1s 104us/sample - loss: 13.0196 - categorical_accuracy: 0.6663 - val_loss: 12.5583 - val_categorical_accuracy: 0.6400\n",
      "Epoch 26/50\n",
      "6466/6466 [==============================] - 1s 105us/sample - loss: 12.3307 - categorical_accuracy: 0.6559 - val_loss: 11.8287 - val_categorical_accuracy: 0.6825\n",
      "Epoch 27/50\n",
      "6466/6466 [==============================] - 1s 104us/sample - loss: 11.6890 - categorical_accuracy: 0.6415 - val_loss: 11.3494 - val_categorical_accuracy: 0.6342\n",
      "Epoch 28/50\n",
      "6466/6466 [==============================] - 1s 104us/sample - loss: 11.2311 - categorical_accuracy: 0.6723 - val_loss: 10.8290 - val_categorical_accuracy: 0.6696\n",
      "Epoch 29/50\n",
      "6466/6466 [==============================] - 1s 104us/sample - loss: 10.7697 - categorical_accuracy: 0.6491 - val_loss: 10.5022 - val_categorical_accuracy: 0.6291\n",
      "Epoch 30/50\n",
      "6466/6466 [==============================] - 1s 105us/sample - loss: 10.4699 - categorical_accuracy: 0.6516 - val_loss: 10.1904 - val_categorical_accuracy: 0.6450\n",
      "Epoch 31/50\n",
      "6466/6466 [==============================] - 1s 103us/sample - loss: 10.1631 - categorical_accuracy: 0.6553 - val_loss: 9.8812 - val_categorical_accuracy: 0.6674\n",
      "Epoch 32/50\n",
      "6466/6466 [==============================] - 1s 104us/sample - loss: 9.9325 - categorical_accuracy: 0.6560 - val_loss: 9.6715 - val_categorical_accuracy: 0.7165\n",
      "Epoch 33/50\n",
      "6466/6466 [==============================] - 1s 103us/sample - loss: 9.7290 - categorical_accuracy: 0.6796 - val_loss: 9.5462 - val_categorical_accuracy: 0.6580\n",
      "Epoch 34/50\n",
      "6466/6466 [==============================] - 1s 104us/sample - loss: 9.5534 - categorical_accuracy: 0.6646 - val_loss: 9.3386 - val_categorical_accuracy: 0.6861\n",
      "Epoch 35/50\n",
      "6466/6466 [==============================] - 1s 103us/sample - loss: 9.4114 - categorical_accuracy: 0.6605 - val_loss: 9.2553 - val_categorical_accuracy: 0.6053\n",
      "Epoch 36/50\n",
      "6466/6466 [==============================] - 1s 104us/sample - loss: 9.3015 - categorical_accuracy: 0.6573 - val_loss: 9.1393 - val_categorical_accuracy: 0.6429\n",
      "Epoch 37/50\n",
      "6466/6466 [==============================] - 1s 105us/sample - loss: 9.1942 - categorical_accuracy: 0.6707 - val_loss: 8.9860 - val_categorical_accuracy: 0.6782\n",
      "Epoch 38/50\n",
      "6466/6466 [==============================] - 1s 106us/sample - loss: 9.1053 - categorical_accuracy: 0.6749 - val_loss: 9.0106 - val_categorical_accuracy: 0.6356\n",
      "Epoch 39/50\n",
      "6466/6466 [==============================] - 1s 103us/sample - loss: 9.0407 - categorical_accuracy: 0.6612 - val_loss: 8.8418 - val_categorical_accuracy: 0.6551\n",
      "Epoch 40/50\n",
      "6466/6466 [==============================] - 1s 103us/sample - loss: 8.9276 - categorical_accuracy: 0.6618 - val_loss: 8.7609 - val_categorical_accuracy: 0.6804\n",
      "Epoch 41/50\n",
      "6466/6466 [==============================] - 1s 105us/sample - loss: 8.8474 - categorical_accuracy: 0.6638 - val_loss: 8.7094 - val_categorical_accuracy: 0.7049\n",
      "Epoch 42/50\n",
      "6466/6466 [==============================] - 1s 103us/sample - loss: 8.7701 - categorical_accuracy: 0.6751 - val_loss: 8.7317 - val_categorical_accuracy: 0.6234\n",
      "Epoch 43/50\n",
      "6466/6466 [==============================] - 1s 103us/sample - loss: 8.8088 - categorical_accuracy: 0.6513 - val_loss: 8.6518 - val_categorical_accuracy: 0.6674\n",
      "Epoch 44/50\n",
      "6466/6466 [==============================] - 1s 104us/sample - loss: 8.7365 - categorical_accuracy: 0.6581 - val_loss: 8.5950 - val_categorical_accuracy: 0.5909\n",
      "Epoch 45/50\n",
      "6466/6466 [==============================] - 1s 104us/sample - loss: 8.6571 - categorical_accuracy: 0.6443 - val_loss: 8.5328 - val_categorical_accuracy: 0.6212\n",
      "Epoch 46/50\n",
      "6466/6466 [==============================] - 1s 104us/sample - loss: 8.5954 - categorical_accuracy: 0.6570 - val_loss: 8.4975 - val_categorical_accuracy: 0.6515\n",
      "Epoch 47/50\n",
      "6466/6466 [==============================] - 1s 103us/sample - loss: 8.6035 - categorical_accuracy: 0.6392 - val_loss: 8.3887 - val_categorical_accuracy: 0.6962\n",
      "Epoch 48/50\n",
      "6466/6466 [==============================] - 1s 105us/sample - loss: 8.5173 - categorical_accuracy: 0.6547 - val_loss: 8.3264 - val_categorical_accuracy: 0.6905\n",
      "Epoch 49/50\n",
      "6466/6466 [==============================] - 1s 103us/sample - loss: 8.4833 - categorical_accuracy: 0.6435 - val_loss: 8.4870 - val_categorical_accuracy: 0.5873\n",
      "Epoch 50/50\n",
      "6466/6466 [==============================] - 1s 103us/sample - loss: 8.5279 - categorical_accuracy: 0.6533 - val_loss: 8.2972 - val_categorical_accuracy: 0.6566\n"
     ]
    },
    {
     "data": {
      "text/plain": [
       "<keras.src.callbacks.History at 0x1551d8a3e620>"
      ]
     },
     "execution_count": 74,
     "metadata": {},
     "output_type": "execute_result"
    }
   ],
   "source": [
    "model.fit(X_train, Y_train, validation_data=(X_val, Y_validation),\n",
    "          batch_size=batch_size, epochs=epochs, shuffle=shuffle,class_weight = class_weight, callbacks=[early_stopping])"
   ]
  },
  {
   "cell_type": "code",
   "execution_count": 75,
   "id": "9991873c",
   "metadata": {},
   "outputs": [
    {
     "name": "stderr",
     "output_type": "stream",
     "text": [
      "/usr/local/lib/python3.10/dist-packages/keras/src/engine/training_v1.py:2359: UserWarning: `Model.state_updates` will be removed in a future version. This property should not be used in TensorFlow 2.0, as `updates` are applied automatically.\n",
      "  updates=self.state_updates,\n",
      "2025-06-25 22:49:33.926696: W tensorflow/c/c_api.cc:305] Operation '{name:'dense_7/Softmax' id:249 op device:{requested: '', assigned: ''} def:{{{node dense_7/Softmax}} = Softmax[T=DT_FLOAT, _has_manual_control_dependencies=true](dense_7/BiasAdd)}}' was changed by setting attribute after it was run by a session. This mutation will have no effect, and will trigger an error in the future. Either don't modify nodes after running them or create a new session.\n"
     ]
    },
    {
     "data": {
      "text/plain": [
       "<bound method Axes.legend of <Axes: title={'center': 'Accuracy'}, xlabel='Epoch', ylabel='Acc'>>"
      ]
     },
     "execution_count": 75,
     "metadata": {},
     "output_type": "execute_result"
    },
    {
     "data": {
      "image/png": "[encoded data removed]",
      "text/plain": [
       "<Figure size 1600x400 with 2 Axes>"
      ]
     },
     "metadata": {},
     "output_type": "display_data"
    }
   ],
   "source": [
    "train_loss=model.history.history['loss']\n",
    "val_loss=model.history.history['val_loss']\n",
    "    \n",
    "cat_acc=model.history.history['categorical_accuracy']\n",
    "val_acc=model.history.history['val_categorical_accuracy']\n",
    "        \n",
    "pred = model.predict(X_all)\n",
    "pred_val = model.predict(X_val)\n",
    "pred_train = model.predict(X_train)\n",
    "pred_test = model.predict(X_test)\n",
    "\n",
    "# Look at the optimization history\n",
    "fig, (ax1,ax2) = plt.subplots(1,2, figsize=plt.figaspect(0.25))\n",
    "ax1.plot(train_loss, label='Training loss')\n",
    "ax1.plot(val_loss, label='Validation loss')\n",
    "ax1.set_yscale('log')\n",
    "ax1.set_title('loss')\n",
    "ax1.set_xlabel('Epoch')\n",
    "ax1.set_ylabel('loss')\n",
    "ax1.legend()\n",
    "\n",
    "ax2.plot(cat_acc, label='Training ACC')\n",
    "ax2.plot(val_acc, label='Validation ACC')\n",
    "ax2.set_title('Accuracy')\n",
    "ax2.set_xlabel('Epoch')\n",
    "ax2.set_ylabel('Acc')\n",
    "ax2.legend"
   ]
  },
  {
   "cell_type": "code",
   "execution_count": 76,
   "id": "0b2ee88f",
   "metadata": {
    "jupyter": {
     "source_hidden": true
    }
   },
   "outputs": [
    {
     "name": "stdout",
     "output_type": "stream",
     "text": [
      "              precision    recall  f1-score   support\n",
      "\n",
      "           0      0.792     0.613     0.691       868\n",
      "           1      0.529     0.730     0.614       518\n",
      "\n",
      "    accuracy                          0.657      1386\n",
      "   macro avg      0.661     0.671     0.652      1386\n",
      "weighted avg      0.694     0.657     0.662      1386\n",
      "\n"
     ]
    }
   ],
   "source": [
    "from sklearn.metrics import classification_report\n",
    "import numpy as np\n",
    "\n",
    "y_val_pred = model.predict(X_val)\n",
    "y_val_classes = np.argmax(y_val_pred, axis=1)\n",
    "y_val_true = np.argmax(Y_validation, axis=1)\n",
    "\n",
    "print(classification_report(y_val_true, y_val_classes, digits=3))"
   ]
  },
  {
   "cell_type": "code",
   "execution_count": 77,
   "id": "62d36448",
   "metadata": {
    "jupyter": {
     "source_hidden": true
    }
   },
   "outputs": [
    {
     "name": "stdout",
     "output_type": "stream",
     "text": [
      "Brier Score (Model): 0.2437\n",
      "Brier Score (Climatology): 0.2413\n",
      "Brier Skill Score: -0.0098\n"
     ]
    }
   ],
   "source": [
    "# Convert one-hot labels to 1D integer labels (0 or 1)\n",
    "y_true = np.argmax(Y_test, axis=1)\n",
    "\n",
    "# Extract predicted probability for the positive class (class 1)\n",
    "y_prob = pred_test[:,1]\n",
    "\n",
    "# Create climatology baseline: constant probability = mean positive class rate\n",
    "p_climatology = np.full_like(y_true, y_true.mean(), dtype=float)\n",
    "\n",
    "# Compute Brier Scores\n",
    "bs_model = brier_score_loss(y_true, y_prob)\n",
    "bs_climo = brier_score_loss(y_true, p_climatology)\n",
    "\n",
    "# Compute Brier Skill Score\n",
    "bss = 1 - (bs_model / bs_climo)\n",
    "\n",
    "print(f\"Brier Score (Model): {bs_model:.4f}\")\n",
    "print(f\"Brier Score (Climatology): {bs_climo:.4f}\")\n",
    "print(f\"Brier Skill Score: {bss:.4f}\")"
   ]
  },
  {
   "cell_type": "code",
   "execution_count": 78,
   "id": "3a6d0e37",
   "metadata": {},
   "outputs": [
    {
     "data": {
      "image/png": "[encoded data removed]",
      "text/plain": [
       "<Figure size 1000x1000 with 6 Axes>"
      ]
     },
     "metadata": {},
     "output_type": "display_data"
    }
   ],
   "source": [
    "bins = np.linspace(0, 1, 37)  #10 bins from 0.4 to 1\n",
    "##bin the probabilities\n",
    "counts_neg_test, edges_neg_test = np.histogram(pred_test[:,0], bins=bins)\n",
    "counts_pos_test, edges_pos_test = np.histogram(pred_test[:,1], bins=bins)\n",
    "\n",
    "counts_neg_train, edges_neg_train = np.histogram(pred_train[:,0], bins=bins)\n",
    "counts_pos_train, edges_pos_train = np.histogram(pred_train[:,1], bins=bins)\n",
    "\n",
    "counts_neg_val, edges_neg_val = np.histogram(pred_val[:,0], bins=bins)\n",
    "counts_pos_val, edges_pos_val = np.histogram(pred_val[:,1], bins=bins)\n",
    "\n",
    "fig, axes = plt.subplots(3, 2, figsize=(10,10))\n",
    "ax1, ax2, ax3, ax4, ax5, ax6 = axes.flatten()\n",
    "\n",
    "ax1.bar(edges_neg_train[:-1], counts_neg_train, width=np.diff(edges_neg_train), \n",
    "        edgecolor='black', alpha=0.5, align='edge', color='blue')\n",
    "ax1.set_title('Negative Training Predictions', fontsize=13)\n",
    "ax1.set_xlabel('Probability')\n",
    "ax1.set_ylabel('Count')\n",
    "\n",
    "ax2.bar(edges_pos_train[:-1], counts_pos_train, width=np.diff(edges_pos_train), \n",
    "        edgecolor='black', alpha=0.5, align='edge', color='orange')\n",
    "ax2.set_title('Positive Training Predictions', fontsize=13)\n",
    "ax2.set_xlabel('Probability')\n",
    "ax2.set_ylabel('Count')\n",
    "\n",
    "ax3.bar(edges_neg_val[:-1], counts_neg_val, width=np.diff(edges_neg_val), \n",
    "        edgecolor='black', alpha=0.5, align='edge', color='blue')\n",
    "ax3.set_title('Negative Validation Predictions', fontsize=13)\n",
    "ax3.set_xlabel('Probability')\n",
    "ax3.set_ylabel('Count')\n",
    "\n",
    "ax4.bar(edges_pos_val[:-1], counts_pos_val, width=np.diff(edges_pos_val), \n",
    "        edgecolor='black', alpha=0.5, align='edge', color='orange')\n",
    "ax4.set_title('Positive Validation Predictions', fontsize=13)\n",
    "ax4.set_xlabel('Probability')\n",
    "ax4.set_ylabel('Count')\n",
    "\n",
    "ax5.bar(edges_neg_test[:-1], counts_neg_test, width=np.diff(edges_neg_test), \n",
    "        edgecolor='black', alpha=0.5, align='edge', color='blue')\n",
    "ax5.set_title('Negative Testing Predictions', fontsize=13)\n",
    "ax5.set_xlabel('Probability')\n",
    "ax5.set_ylabel('Count')\n",
    "\n",
    "ax6.bar(edges_pos_test[:-1], counts_pos_test, width=np.diff(edges_pos_test), \n",
    "        edgecolor='black', alpha=0.5, align='edge', color='orange')\n",
    "ax6.set_title('Positive Testing Predictions', fontsize=13)\n",
    "ax6.set_xlabel('Probability')\n",
    "ax6.set_ylabel('Count')\n",
    "\n",
    "plt.tight_layout()"
   ]
  },
  {
   "cell_type": "code",
   "execution_count": 129,
   "id": "811dd578",
   "metadata": {},
   "outputs": [],
   "source": [
    "#############################tuning#############################"
   ]
  },
  {
   "cell_type": "raw",
   "id": "a380363f",
   "metadata": {
    "jupyter": {
     "source_hidden": true
    }
   },
   "source": [
    "def combined(hp):\n",
    "    ##set ranges for hyperparameters\n",
    "    n1 = hp.Int('n1', min_value=120, max_value=128, step=4)\n",
    "    n2 = hp.Int('n2', min_value=4, max_value=16, step=4)\n",
    "    n3= hp.Int('n3', min_value=120, max_value=128, step=4)\n",
    "    n4 = hp.Int('n4', min_value=4, max_value=16, step=4)\n",
    "    n5 = hp.Int('n5', min_value=4, max_value=32, step=4)\n",
    "   \n",
    "\n",
    "    reg1 = hp.Float('reg1', min_value=0.01, max_value=1, default=0.01)\n",
    "    reg2 = hp.Float('reg2', min_value=0.001, max_value=0.1, default=0.01)\n",
    "    reg3 = hp.Float('reg3', min_value=0.01, max_value=1, default=0.01)\n",
    "    reg4 = hp.Float('reg4', min_value=0.001, max_value=0.1, default=0.01)\n",
    "    reg5 = hp.Float('reg5', min_value=0.001, max_value=0.1, default=0.01)\n",
    "    \n",
    "    ##first layers for ANN\n",
    "    input_tensor1 = Input(shape=(int(1595),), name='layer1')\n",
    "    layer1 = layers.Dense(n1, activation='relu', use_bias=True,\n",
    "                          kernel_initializer='he_normal',bias_initializer='he_normal',\n",
    "                          kernel_regularizer=keras.regularizers.l2(l2= reg1))(input_tensor1)\n",
    "   \n",
    "    layer1 = layers.Dense(n2, activation='relu', use_bias=True,\n",
    "                          kernel_initializer='he_normal',bias_initializer='he_normal',\n",
    "                          kernel_regularizer=keras.regularizers.l2(l2= reg2))(input_tensor1)\n",
    "    \n",
    "\n",
    "    ## second layers for ANN\n",
    "    input_tensor2 = Input(shape=(int(777),), name='layer2')\n",
    "    layer2 = layers.Dense(n3, activation='relu', use_bias=True,\n",
    "                          kernel_initializer='he_normal',bias_initializer='he_normal',\n",
    "                          kernel_regularizer=keras.regularizers.l2(l2= reg3))(input_tensor2)\n",
    "    layer2 = layers.Dense(n4, activation='relu', use_bias=True,\n",
    "                          kernel_initializer='he_normal',bias_initializer='he_normal',\n",
    "                          kernel_regularizer=keras.regularizers.l2(l2= reg4))(input_tensor2)\n",
    "    ##return_sequence = False\n",
    "    \n",
    "    \n",
    "    ##combine two model inputs\n",
    "    merge_layer = Concatenate()([layer1,layer2])\n",
    "\n",
    "    ##more dense layers\n",
    "    merge = layers.Dense(n5, activation='relu', use_bias=True,\n",
    "                          kernel_initializer='he_normal',bias_initializer='he_normal',\n",
    "                          kernel_regularizer=keras.regularizers.l2(l2= reg5))(merge_layer)\n",
    "\n",
    "    #decay_rate = learn / epochs\n",
    "    lr = hp.Float('learning_rate', min_value=1e-3, max_value=1, default=1e-3)\n",
    "    output_tensor = layers.Dense(2,activation='softmax')(merge)\n",
    "    model = Model([input_tensor1, input_tensor2], output_tensor)\n",
    "    model.compile(optimizer=keras.optimizers.legacy.Adam(learning_rate=lr),\n",
    "              loss = 'categorical_crossentropy', #Our loss function is based on categorical error\n",
    "              metrics=[keras.metrics.categorical_accuracy], #We will print out the categorical accuracy as the network is trained\n",
    "              )\n",
    "    return model"
   ]
  },
  {
   "cell_type": "raw",
   "id": "a13a8de9",
   "metadata": {
    "jupyter": {
     "source_hidden": true
    }
   },
   "source": [
    "##intialize/setup the hyperband tuner\n",
    "import keras_tuner as kt\n",
    "\n",
    "tuner = kt.tuners.RandomSearch(\n",
    "    combined, #model\n",
    "    objective = [kt.Objective('val_loss', 'min'), kt.Objective('loss', 'min'),\n",
    "                kt.Objective('val_categorical_accuracy', 'max')], #target\n",
    "    max_trials=1000, #number of iterations of tuning to run\n",
    "    max_consecutive_failed_trials=3, #number of allowed failed trials\n",
    "    directory = 'tuning',\n",
    "    project_name='joint5'\n",
    ")"
   ]
  },
  {
   "cell_type": "raw",
   "id": "ba430b9f",
   "metadata": {
    "jupyter": {
     "source_hidden": true
    }
   },
   "source": [
    "stop_early = tf.keras.callbacks.EarlyStopping(monitor='val_loss', patience=5)"
   ]
  },
  {
   "cell_type": "raw",
   "id": "d589849c",
   "metadata": {
    "jupyter": {
     "source_hidden": true
    }
   },
   "source": [
    "##actual tuning process\n",
    "tuner.search(X_train, Y_train, validation_data=(X_val, Y_validation),\n",
    "             batch_size=batch_size, epochs=epochs, shuffle=shuffle,\n",
    "             class_weight = class_weight, callbacks=[stop_early])"
   ]
  },
  {
   "cell_type": "raw",
   "id": "03eafbf7",
   "metadata": {
    "jupyter": {
     "source_hidden": true
    }
   },
   "source": [
    "# Get the optimal hyperparameters\n",
    "best_hps=tuner.get_best_hyperparameters(num_trials=1)[0]\n",
    "\n",
    "print(f\"\"\"\n",
    "The hyperparameter search is complete. The optimal number of units in the first densely-connected\n",
    "layer is {best_hps.get('n1')}, the second is {best_hps.get('n2')},\n",
    "regularizers are {best_hps.get('reg1')} and {best_hps.get('reg2')},\n",
    "and the optimal learning rate for the optimizer\n",
    "is {best_hps.get('learning_rate')}.\n",
    "\"\"\")"
   ]
  },
  {
   "cell_type": "raw",
   "id": "86bf8e7a",
   "metadata": {
    "jupyter": {
     "source_hidden": true
    }
   },
   "source": [
    "best_hps.values"
   ]
  },
  {
   "cell_type": "raw",
   "id": "687370c9",
   "metadata": {
    "jupyter": {
     "source_hidden": true
    }
   },
   "source": [
    "# Build the model with the optimal hyperparameters and train it on the data for 50 epochs\n",
    "model = tuner.hypermodel.build(best_hps)\n",
    "history = model.fit(X_train,Y_train, validation_data=(X_val, Y_validation),\n",
    "                    batch_size=batch_size, epochs=epochs, shuffle=shuffle,class_weight = class_weight)"
   ]
  },
  {
   "cell_type": "raw",
   "id": "38e86bde",
   "metadata": {
    "jupyter": {
     "source_hidden": true
    }
   },
   "source": [
    "train_loss=model.history.history['loss']\n",
    "val_loss=model.history.history['val_loss']\n",
    "    \n",
    "cat_acc=model.history.history['categorical_accuracy']\n",
    "val_acc=model.history.history['val_categorical_accuracy']\n",
    "        \n",
    "pred = model.predict(X_all)\n",
    "pred_val = model.predict(X_val)\n",
    "pred_train = model.predict(X_train)\n",
    "pred_test = model.predict(X_test)\n",
    "\n",
    "# Look at the optimization history\n",
    "fig, (ax1,ax2) = plt.subplots(1,2, figsize=plt.figaspect(0.25))\n",
    "ax1.plot(train_loss, label='Training loss')\n",
    "ax1.plot(val_loss, label='Validation loss')\n",
    "ax1.set_yscale('log')\n",
    "ax1.set_title('loss')\n",
    "ax1.set_xlabel('Epoch')\n",
    "ax1.set_ylabel('loss')\n",
    "ax1.legend()\n",
    "\n",
    "ax2.plot(cat_acc, label='Training ACC')\n",
    "ax2.plot(val_acc, label='Validation ACC')\n",
    "ax2.set_title('Accuracy')\n",
    "ax2.set_xlabel('Epoch')\n",
    "ax2.set_ylabel('Acc')\n",
    "ax2.legend"
   ]
  },
  {
   "cell_type": "code",
   "execution_count": null,
   "id": "a540fd4b",
   "metadata": {},
   "outputs": [],
   "source": []
  },
  {
   "cell_type": "code",
   "execution_count": null,
   "id": "f8f75398",
   "metadata": {},
   "outputs": [],
   "source": []
  }
 ],
 "metadata": {
  "kernelspec": {
   "display_name": "Python 3 (ipykernel)",
   "language": "python",
   "name": "python3"
  },
  "language_info": {
   "codemirror_mode": {
    "name": "ipython",
    "version": 3
   },
   "file_extension": ".py",
   "mimetype": "text/x-python",
   "name": "python",
   "nbconvert_exporter": "python",
   "pygments_lexer": "ipython3",
   "version": "3.10.12"
  }
 },
 "nbformat": 4,
 "nbformat_minor": 5
}
