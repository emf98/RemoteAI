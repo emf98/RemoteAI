{
 "cells": [
  {
   "cell_type": "markdown",
   "id": "3a9ee705",
   "metadata": {},
   "source": [
    "### Modified PVU/GPH FCNN model file from November of 2024 to meet the needs of my current work. \n",
    "\n",
    "This will be a three-input merged model of flattened vertical cross sections for Zonal-mean wind, GPH, and Zonal-mean meridional eddy heat flux. \n",
    "\n",
    "File initalized on June 25, 2025. "
   ]
  },
  {
   "cell_type": "raw",
   "id": "3095aebb",
   "metadata": {
    "jupyter": {
     "outputs_hidden": true
    }
   },
   "source": [
    "!pip install innvestigate\n",
    "!pip install investigate"
   ]
  },
  {
   "cell_type": "markdown",
   "id": "ef875136",
   "metadata": {},
   "source": [
    "First two cells are for imports. "
   ]
  },
  {
   "cell_type": "code",
   "execution_count": 1,
   "id": "7ca1af6b",
   "metadata": {
    "jupyter": {
     "source_hidden": true
    },
    "scrolled": true
   },
   "outputs": [],
   "source": [
    "%matplotlib inline\n",
    "##so-called \"math\" related imports\n",
    "from netCDF4 import Dataset as ncread\n",
    "import numpy as np\n",
    "from scipy.io import loadmat\n",
    "import pandas as pd\n",
    "import math\n",
    "from random import seed\n",
    "from random import randint\n",
    "from random import sample\n",
    "from scipy.ndimage import gaussian_filter\n",
    "from sklearn.metrics import brier_score_loss\n",
    "import xarray as xr\n",
    "\n",
    "import pickle\n",
    "\n",
    "##plotting related imports\n",
    "import matplotlib.pyplot as plt\n",
    "from matplotlib import rcParams #For changing text properties\n",
    "from cartopy import crs as ccrs #Useful for plotting maps\n",
    "import cartopy.util #Requires separate import\n",
    "from cartopy.util import add_cyclic_point\n",
    "import cartopy.feature as cf\n",
    "from cartopy.mpl.ticker import LongitudeFormatter, LatitudeFormatter\n",
    "import matplotlib.path as mpath\n",
    "import matplotlib.colors as mcolors"
   ]
  },
  {
   "cell_type": "code",
   "execution_count": 2,
   "id": "9b392ea4",
   "metadata": {
    "jupyter": {
     "source_hidden": true
    }
   },
   "outputs": [
    {
     "name": "stderr",
     "output_type": "stream",
     "text": [
      "2025-06-26 16:05:27.238801: I tensorflow/core/util/port.cc:111] oneDNN custom operations are on. You may see slightly different numerical results due to floating-point round-off errors from different computation orders. To turn them off, set the environment variable `TF_ENABLE_ONEDNN_OPTS=0`.\n",
      "2025-06-26 16:05:27.240837: I tensorflow/tsl/cuda/cudart_stub.cc:28] Could not find cuda drivers on your machine, GPU will not be used.\n",
      "2025-06-26 16:05:27.268089: E tensorflow/compiler/xla/stream_executor/cuda/cuda_dnn.cc:9342] Unable to register cuDNN factory: Attempting to register factory for plugin cuDNN when one has already been registered\n",
      "2025-06-26 16:05:27.268109: E tensorflow/compiler/xla/stream_executor/cuda/cuda_fft.cc:609] Unable to register cuFFT factory: Attempting to register factory for plugin cuFFT when one has already been registered\n",
      "2025-06-26 16:05:27.268130: E tensorflow/compiler/xla/stream_executor/cuda/cuda_blas.cc:1518] Unable to register cuBLAS factory: Attempting to register factory for plugin cuBLAS when one has already been registered\n",
      "2025-06-26 16:05:27.273555: I tensorflow/tsl/cuda/cudart_stub.cc:28] Could not find cuda drivers on your machine, GPU will not be used.\n",
      "2025-06-26 16:05:27.273931: I tensorflow/core/platform/cpu_feature_guard.cc:182] This TensorFlow binary is optimized to use available CPU instructions in performance-critical operations.\n",
      "To enable the following instructions: AVX2 AVX512F AVX512_VNNI AVX512_BF16 AVX_VNNI AMX_TILE AMX_INT8 AMX_BF16 FMA, in other operations, rebuild TensorFlow with the appropriate compiler flags.\n"
     ]
    }
   ],
   "source": [
    "##import tensorflow/keras related files\n",
    "import tensorflow as tf    \n",
    "#tf.compat.v1.disable_v2_behavior() # <-- HERE !\n",
    "\n",
    "from tensorflow import keras\n",
    "from tensorflow.keras import layers, models\n",
    "from tensorflow.keras import Input\n",
    "from tensorflow.keras.models import Model\n",
    "from tensorflow.keras.callbacks import ModelCheckpoint\n",
    "from tensorflow.keras import regularizers\n",
    "import tensorflow.keras.backend as K\n",
    "from tensorflow.keras.utils import to_categorical\n",
    "from tensorflow.keras.layers import Dropout, Activation, Reshape, Flatten, LSTM, Dense, Dropout, Embedding, Bidirectional, GRU, Concatenate\n",
    "from tensorflow.keras import Sequential\n",
    "from tensorflow.keras import initializers, regularizers\n",
    "from tensorflow.keras import optimizers\n",
    "from tensorflow.keras import constraints\n",
    "from tensorflow.keras.layers import Layer, InputSpec\n",
    "from tensorflow.keras.callbacks import EarlyStopping\n",
    "\n",
    "tf.compat.v1.disable_eager_execution()\n",
    "#necessary for this model because I need to use LRP for XAI. \n",
    "#import innvestigate\n",
    "import investigate"
   ]
  },
  {
   "cell_type": "code",
   "execution_count": 3,
   "id": "843c2ec1",
   "metadata": {},
   "outputs": [
    {
     "name": "stdout",
     "output_type": "stream",
     "text": [
      "2.14.1\n"
     ]
    }
   ],
   "source": [
    "print(tf.__version__)"
   ]
  },
  {
   "cell_type": "markdown",
   "id": "96022cae",
   "metadata": {},
   "source": [
    "#### Upload data. "
   ]
  },
  {
   "cell_type": "code",
   "execution_count": 4,
   "id": "16aed3f6",
   "metadata": {},
   "outputs": [],
   "source": [
    "#load input data\n",
    "infile = open(\"../eof_data/vertanom_u.p\",\"rb\",)\n",
    "u_input = pickle.load(infile)  ##vertical U cross section\n",
    "#flat_u_14 = u_input[:62, 19:168, :, :].reshape((62 * 149, 37, 36))\n",
    "infile.close()\n",
    "\n",
    "infile = open(\"../eof_data/vertanom_ehf.p\",\"rb\",)\n",
    "ehf_input = pickle.load(infile)  ##ZMehf vertical cross section along longitudes\n",
    "#flat_EHF_14 = ehf_input[:62, 19:168, :, :].reshape((62 * 149, 37, 180))\n",
    "infile.close()\n",
    "\n",
    "infile = open(\"../eof_data/vertanom_gph.p\",\"rb\",)\n",
    "gph_input = pickle.load(infile)  ##GPH vertical cross section along longitudes\n",
    "#flat_GPH_14= gph_input[:62, 19:168, :, :].reshape((62 * 149, 37, 180))\n",
    "infile.close()"
   ]
  },
  {
   "cell_type": "code",
   "execution_count": 5,
   "id": "194009dd",
   "metadata": {},
   "outputs": [
    {
     "name": "stdout",
     "output_type": "stream",
     "text": [
      "U Wind shape:  (62, 149, 37, 36)\n",
      "EHF shape:  (62, 149, 37, 180)\n",
      "GPH shape:  (62, 149, 37, 180)\n"
     ]
    }
   ],
   "source": [
    "u_14 = u_input[:62, 19:168, :, :]\n",
    "EHF_14 = ehf_input[:62, 19:168, :, :]\n",
    "GPH_14= gph_input[:62, 19:168, :, :]\n",
    "\n",
    "print(\"U Wind shape: \",u_14.shape)\n",
    "print(\"EHF shape: \",EHF_14.shape)\n",
    "print(\"GPH shape: \",GPH_14.shape)"
   ]
  },
  {
   "cell_type": "code",
   "execution_count": 51,
   "id": "7968de6c",
   "metadata": {},
   "outputs": [],
   "source": [
    "# load output data\n",
    "infile = open(\"../reduced_data/temps/seus_14.p\",\"rb\",)\n",
    "output = pickle.load(infile) \n",
    "output = output.reshape(62, 149)\n",
    "infile.close()"
   ]
  },
  {
   "cell_type": "code",
   "execution_count": 52,
   "id": "1a44afe4",
   "metadata": {},
   "outputs": [
    {
     "name": "stdout",
     "output_type": "stream",
     "text": [
      "(62, 149)\n"
     ]
    }
   ],
   "source": [
    "temp = output[:,:]\n",
    "print(temp.shape)"
   ]
  },
  {
   "cell_type": "markdown",
   "id": "0ad03986",
   "metadata": {},
   "source": [
    "The next two cells are only relevant for lead times >14 days. "
   ]
  },
  {
   "cell_type": "code",
   "execution_count": 53,
   "id": "09bfa03a",
   "metadata": {},
   "outputs": [],
   "source": [
    "lead = 149"
   ]
  },
  {
   "cell_type": "raw",
   "id": "4664b1c6",
   "metadata": {
    "jupyter": {
     "source_hidden": true
    }
   },
   "source": [
    "input_u =  np.empty((62,lead,37,36))\n",
    "input_ehf =  np.empty((62,lead,37,180))\n",
    "input_gph =  np.empty((62,lead,37,180))\n",
    "\n",
    "temp_n = np.empty((62,lead))\n",
    "\n",
    "for i in range(0,62):\n",
    "    for j in range(0,lead):\n",
    "        input_u[i,j,:,:] = u_14[i,j,:,:]\n",
    "        temp_n[i,j] = temp[i,j]"
   ]
  },
  {
   "cell_type": "code",
   "execution_count": 54,
   "id": "7cf1749d",
   "metadata": {},
   "outputs": [],
   "source": [
    "#this can be commented out if not needed. \n",
    "input_u =  u_14\n",
    "input_ehf =  EHF_14\n",
    "input_gph =  GPH_14\n",
    "temp_n = temp"
   ]
  },
  {
   "cell_type": "code",
   "execution_count": 55,
   "id": "4e9cdd9d",
   "metadata": {},
   "outputs": [
    {
     "name": "stdout",
     "output_type": "stream",
     "text": [
      "(62, 149, 37, 36)\n",
      "(62, 149, 37, 180)\n",
      "(62, 149, 37, 180)\n"
     ]
    }
   ],
   "source": [
    "##input shape (samples, lat, lon) and (#samples, window, features)\n",
    "print(input_u.shape)\n",
    "print(input_ehf.shape)\n",
    "print(input_gph.shape)"
   ]
  },
  {
   "cell_type": "code",
   "execution_count": 56,
   "id": "d2e9fcb5",
   "metadata": {},
   "outputs": [
    {
     "data": {
      "text/plain": [
       "(62, 149)"
      ]
     },
     "execution_count": 56,
     "metadata": {},
     "output_type": "execute_result"
    }
   ],
   "source": [
    "##output shape (samples), these will be different from the input\n",
    "temp_n.shape"
   ]
  },
  {
   "cell_type": "code",
   "execution_count": 57,
   "id": "6538c1a3",
   "metadata": {},
   "outputs": [
    {
     "data": {
      "text/plain": [
       "7852"
      ]
     },
     "execution_count": 57,
     "metadata": {},
     "output_type": "execute_result"
    }
   ],
   "source": [
    "frac_ind = round((62*lead)*0.15)\n",
    "frac_end = round((62*lead)-frac_ind)\n",
    "frac_end"
   ]
  },
  {
   "cell_type": "code",
   "execution_count": 58,
   "id": "f910585a",
   "metadata": {
    "scrolled": true
   },
   "outputs": [],
   "source": [
    "##Set X_all and Y_all datasets\n",
    "X_all1 = np.copy(input_u.reshape(62*lead,37*36)) ##u\n",
    "X_all2 = np.copy(input_ehf.reshape(62*lead,37*180)) ##ehf\n",
    "X_all3 = np.copy(input_gph.reshape(62*lead,37*180)) ##gph\n",
    "\n",
    "Y_all = np.copy(temp_n.reshape(62*lead))\n",
    "\n",
    "##training data partition out\n",
    "X_tri1 = X_all1[:frac_end,:] ##u\n",
    "X_tri2 = X_all2[:frac_end,:] ##ehf\n",
    "X_tri3 = X_all3[:frac_end,:] ##gph\n",
    "\n",
    "Y_tri = Y_all[:frac_end]\n",
    "\n",
    "#testing data partition out\n",
    "X_tes1 = X_all1[frac_end:,:]\n",
    "X_tes2 = X_all2[frac_end:,:]\n",
    "X_tes3 = X_all3[frac_end:,:]\n",
    "\n",
    "Y_tes = Y_all[frac_end:]\n",
    "\n",
    "#Convert the Y array into a categorical array. This means we will create one-hot vector labels for all of the inputs.\n",
    "# The one-hot vectors have an index for each possible output category (two in our case)\n",
    "# A \"1\" is put in the index corresponding to the category to which the sample belongs\n",
    "Y_all = keras.utils.to_categorical(Y_all)\n",
    "Y_tri = keras.utils.to_categorical(Y_tri)\n",
    "Y_tes= keras.utils.to_categorical(Y_tes)"
   ]
  },
  {
   "cell_type": "code",
   "execution_count": 59,
   "id": "bdbbc44b",
   "metadata": {},
   "outputs": [],
   "source": [
    "##checking my data for NaN of Infs because I need to make sure this doesn't cause\n",
    "#the model to throw back no loss\n",
    "\n",
    "if np.any(np.isnan(X_all2)) or np.any(np.isinf(X_all2)):\n",
    "    print(\"NaN or Inf values found in X_all!\")\n",
    "\n",
    "if np.any(np.isnan(Y_all)) or np.any(np.isinf(Y_all)):\n",
    "    print(\"NaN or Inf values found in Y_all!\")"
   ]
  },
  {
   "cell_type": "markdown",
   "id": "2ab80f29",
   "metadata": {},
   "source": [
    "### Begin establishing specifics of model."
   ]
  },
  {
   "cell_type": "code",
   "execution_count": 60,
   "id": "f42d0ea9",
   "metadata": {},
   "outputs": [
    {
     "data": {
      "text/plain": [
       "1386"
      ]
     },
     "execution_count": 60,
     "metadata": {},
     "output_type": "execute_result"
    }
   ],
   "source": [
    "##set 15% of data for validation\n",
    "frac_ind"
   ]
  },
  {
   "cell_type": "code",
   "execution_count": 61,
   "id": "c051e53b",
   "metadata": {},
   "outputs": [
    {
     "data": {
      "text/plain": [
       "(9238, 2)"
      ]
     },
     "execution_count": 61,
     "metadata": {},
     "output_type": "execute_result"
    }
   ],
   "source": [
    "##checking to make sure shape was properly one hot encoded\n",
    "Y_all.shape"
   ]
  },
  {
   "cell_type": "code",
   "execution_count": 62,
   "id": "ab8e28fa",
   "metadata": {},
   "outputs": [],
   "source": [
    "##class weight creator for the instance where now I have a four dimensional output array \n",
    "def class_weight_creator(Y):\n",
    "    class_dict = {}\n",
    "    Y_reshaped = Y.reshape(-1, Y.shape[-1])\n",
    "    weights = np.max(np.sum(Y_reshaped, axis=0)) / np.sum(Y_reshaped, axis=0)\n",
    "    for i in range(Y.shape[-1] ):\n",
    "        class_dict[i] = weights[i]\n",
    "        \n",
    "    return class_dict"
   ]
  },
  {
   "cell_type": "code",
   "execution_count": 63,
   "id": "35a2e941",
   "metadata": {},
   "outputs": [],
   "source": [
    "##number of input nodes\n",
    "input_shape1=  X_all1.shape[-1] # u\n",
    "input_shape2= X_all2.shape[-1] ## ehf\n",
    "input_shape3= X_all3.shape[-1] ## gph\n",
    "\n",
    "\n",
    "##fraction of training data\n",
    "X_validation1 = X_tri1[0:frac_ind]\n",
    "X_validation2 = X_tri2[0:frac_ind]\n",
    "X_validation3 = X_tri3[0:frac_ind]\n",
    "Y_validation = Y_tri[0:frac_ind]\n",
    "        \n",
    "X_train1 = X_tri1[frac_ind:len(X_tri1)]\n",
    "X_train2 = X_tri2[frac_ind:len(X_tri2)]\n",
    "X_train3 = X_tri3[frac_ind:len(X_tri3)]\n",
    "Y_train = Y_tri[frac_ind:len(Y_tri)]\n",
    "\n",
    "X_test1 = X_tes1\n",
    "X_test2 = X_tes2\n",
    "X_test3 = X_tes3\n",
    "Y_test = Y_tes"
   ]
  },
  {
   "cell_type": "code",
   "execution_count": 64,
   "id": "10dea8f7",
   "metadata": {},
   "outputs": [
    {
     "data": {
      "text/plain": [
       "(6466, 2)"
      ]
     },
     "execution_count": 64,
     "metadata": {},
     "output_type": "execute_result"
    }
   ],
   "source": [
    "Y_train.shape"
   ]
  },
  {
   "cell_type": "code",
   "execution_count": 65,
   "id": "4b039eb0",
   "metadata": {},
   "outputs": [
    {
     "data": {
      "text/plain": [
       "1332"
      ]
     },
     "execution_count": 65,
     "metadata": {},
     "output_type": "execute_result"
    }
   ],
   "source": [
    "input_shape1"
   ]
  },
  {
   "cell_type": "code",
   "execution_count": 66,
   "id": "96504a14",
   "metadata": {},
   "outputs": [
    {
     "data": {
      "text/plain": [
       "6660"
      ]
     },
     "execution_count": 66,
     "metadata": {},
     "output_type": "execute_result"
    }
   ],
   "source": [
    "input_shape2"
   ]
  },
  {
   "cell_type": "code",
   "execution_count": 67,
   "id": "7f519d4f",
   "metadata": {},
   "outputs": [
    {
     "data": {
      "text/plain": [
       "6660"
      ]
     },
     "execution_count": 67,
     "metadata": {},
     "output_type": "execute_result"
    }
   ],
   "source": [
    "input_shape3"
   ]
  },
  {
   "cell_type": "code",
   "execution_count": 68,
   "id": "864b1936",
   "metadata": {},
   "outputs": [
    {
     "data": {
      "text/plain": [
       "{0: 1.0, 1: 1.5257813}"
      ]
     },
     "execution_count": 68,
     "metadata": {},
     "output_type": "execute_result"
    }
   ],
   "source": [
    "##do the class_dict weights\n",
    "class_weight = class_weight_creator(Y_train)\n",
    "class_weight"
   ]
  },
  {
   "cell_type": "markdown",
   "id": "30a009c3",
   "metadata": {},
   "source": [
    "### Model Arcitecture."
   ]
  },
  {
   "cell_type": "code",
   "execution_count": 69,
   "id": "5c48187d",
   "metadata": {
    "jupyter": {
     "source_hidden": true
    }
   },
   "outputs": [],
   "source": [
    "def combined(n1, n2, n3, n4, n5, n6, n7, reg1, reg2, reg3, reg4, reg5, reg6, reg7, learn):\n",
    "    ##first layers for U ANN\n",
    "    input_tensor1 = Input(shape=(int(1332),), name='layer1')\n",
    "    layer1 = layers.Dense(n1, activation='leaky_relu', use_bias=True,\n",
    "                          kernel_initializer='he_normal',bias_initializer='he_normal',\n",
    "                          kernel_regularizer=keras.regularizers.l2(l2= reg1))(input_tensor1)\n",
    "   \n",
    "\n",
    "    layer1 = layers.Dense(n2, activation='leaky_relu', use_bias=True,\n",
    "                          kernel_initializer='he_normal',bias_initializer='he_normal',\n",
    "                          kernel_regularizer=keras.regularizers.l2(l2= reg2))(layer1)\n",
    "   \n",
    "    ## second layers for EHF ANN\n",
    "    input_tensor2 = Input(shape=(int(6660),), name='layer2')\n",
    "    layer2 = layers.Dense(n3, activation='leaky_relu', use_bias=True,\n",
    "                          kernel_initializer='he_normal',bias_initializer='he_normal',\n",
    "                          kernel_regularizer=keras.regularizers.l2(l2= reg3))(input_tensor2)\n",
    "    \n",
    "    layer2 = layers.Dense(n4, activation='leaky_relu', use_bias=True,\n",
    "                          kernel_initializer='he_normal',bias_initializer='he_normal',\n",
    "                          kernel_regularizer=keras.regularizers.l2(l2= reg4))(layer2)\n",
    "    \n",
    "    \n",
    "    ## third layers for GPH ANN\n",
    "    input_tensor3 = Input(shape=(int(6660),), name='layer3')\n",
    "    layer3 = layers.Dense(n5, activation='leaky_relu', use_bias=True,\n",
    "                          kernel_initializer='he_normal',bias_initializer='he_normal',\n",
    "                          kernel_regularizer=keras.regularizers.l2(l2= reg5))(input_tensor3)\n",
    "    \n",
    "    layer3 = layers.Dense(n6, activation='leaky_relu', use_bias=True,\n",
    "                          kernel_initializer='he_normal',bias_initializer='he_normal',\n",
    "                          kernel_regularizer=keras.regularizers.l2(l2= reg6))(layer3)\n",
    "    \n",
    "    ##combine two model inputs\n",
    "    merge_layer = Concatenate()([layer1,layer2,layer3])\n",
    "\n",
    "    ##more dense layers\n",
    "    merge = layers.Dense(n7, activation='leaky_relu', use_bias=True,\n",
    "                          kernel_initializer='he_normal',bias_initializer='he_normal',\n",
    "                          kernel_regularizer=keras.regularizers.l2(l2= reg7))(merge_layer)\n",
    "\n",
    "    #decay_rate = learn / epochs\n",
    "    output_tensor = layers.Dense(2,activation='softmax')(merge)\n",
    "    model = Model([input_tensor1, input_tensor2, input_tensor3], output_tensor)\n",
    "    model.compile(optimizer=keras.optimizers.legacy.Adam(learning_rate=learn),\n",
    "              loss = 'categorical_crossentropy', #Our loss function is based on categorical error\n",
    "              metrics=[keras.metrics.categorical_accuracy], #We will print out the categorical accuracy as the network is trained\n",
    "              )\n",
    "    return model"
   ]
  },
  {
   "cell_type": "code",
   "execution_count": 70,
   "id": "2761edfc",
   "metadata": {},
   "outputs": [],
   "source": [
    "##dictionaries for training and validation\n",
    "X_train = {'layer1': X_train1, 'layer2': X_train2, 'layer3': X_train3}\n",
    "X_all = {'layer1': X_all1, 'layer2': X_all2, 'layer3': X_all3}\n",
    "X_test = {'layer1': X_test1, 'layer2': X_test2, 'layer3': X_test3}\n",
    "X_val = {'layer1': X_validation1, 'layer2': X_validation2, 'layer3': X_validation3}"
   ]
  },
  {
   "cell_type": "code",
   "execution_count": 71,
   "id": "f8883c28",
   "metadata": {},
   "outputs": [],
   "source": [
    "######\n",
    "batch_size = 256 #The number of samples the network sees before it backpropagates (batch size)\n",
    "epochs = 50 #The number of times the network will loop through the entire dataset (epochs)\n",
    "shuffle = True #Set whether to shuffle the training data so the model doesn't see it sequentially \n",
    "verbose = 2 #Set whether the model will output information when trained (0 = no output; 2 = output accuracy every epoch)"
   ]
  },
  {
   "cell_type": "code",
   "execution_count": 72,
   "id": "8f68c50a",
   "metadata": {},
   "outputs": [
    {
     "data": {
      "text/plain": [
       "(1386, 2)"
      ]
     },
     "execution_count": 72,
     "metadata": {},
     "output_type": "execute_result"
    }
   ],
   "source": [
    "Y_validation.shape"
   ]
  },
  {
   "cell_type": "code",
   "execution_count": 73,
   "id": "13b6000b",
   "metadata": {},
   "outputs": [],
   "source": [
    "tf.keras.backend.clear_session()"
   ]
  },
  {
   "cell_type": "code",
   "execution_count": 74,
   "id": "3ed67fe1",
   "metadata": {},
   "outputs": [],
   "source": [
    "##create model.\n",
    "model = combined(n1 = 128, \n",
    "                 n2 = 16, \n",
    "                 n3 = 128, \n",
    "                 n4 = 16, \n",
    "                 n5 = 128,\n",
    "                 n6 = 16,\n",
    "                 n7 = 24,\n",
    "                 reg1 = 0.05, \n",
    "                 reg2 = 0.015, \n",
    "                 reg3 = 0.05, \n",
    "                 reg4 = 0.015,\n",
    "                 reg5 = 0.05, \n",
    "                 reg6 = 0.015,\n",
    "                 reg7 = 0.0525,\n",
    "                 learn =0.1735 )\n",
    "#tuned model.                 \n",
    "#model = combined(n1 = 124,\n",
    "                 #n2 = 24,\n",
    "                 #n3 = 128,\n",
    "                 #n4 = 8,\n",
    "                 #n5 = 128, \n",
    "                 #n6 = 8,\n",
    "                 #n7 = 20,\n",
    "                 #reg1 = 0.0896,\n",
    "                 #reg2 = 0.0083, \n",
    "                 #reg3 = 0.0342,\n",
    "                 #reg4 = 0.0655,\n",
    "                 #reg5 = 0.0344,\n",
    "                 #reg6 = 0.0145,\n",
    "                 #reg7 = 0.04,\n",
    "                 #learn = 0.0175)\n",
    "\n",
    "\n",
    "early_stopping = EarlyStopping(monitor='val_loss',patience=5,restore_best_weights=True,verbose=1)"
   ]
  },
  {
   "cell_type": "raw",
   "id": "a78c3aed",
   "metadata": {
    "jupyter": {
     "source_hidden": true
    }
   },
   "source": [
    "{'n1': 124,\n",
    " 'n2': 24,\n",
    " 'n3': 124,\n",
    " 'n4': 8,\n",
    " 'n5': 128,\n",
    " 'n6': 8,\n",
    " 'n7': 20,\n",
    " 'reg1': 0.08957688853054273,\n",
    " 'reg2': 0.008292898671884832,\n",
    " 'reg3': 0.034231026818758246,\n",
    " 'reg4': 0.06552603111309059,\n",
    " 'reg5': 0.03444014943053758,\n",
    " 'reg6': 0.014480572993928593,\n",
    " 'reg7': 0.016922833071544838,\n",
    " 'learnin': 0.024379756579258168}"
   ]
  },
  {
   "cell_type": "code",
   "execution_count": 75,
   "id": "c5db77fb",
   "metadata": {
    "scrolled": true
   },
   "outputs": [
    {
     "name": "stdout",
     "output_type": "stream",
     "text": [
      "Train on 6466 samples, validate on 1386 samples\n",
      "Epoch 1/50\n",
      " 256/6466 [>.............................] - ETA: 2s - loss: 178.9418 - categorical_accuracy: 0.5703"
     ]
    },
    {
     "name": "stderr",
     "output_type": "stream",
     "text": [
      "2025-06-26 16:13:18.771479: W tensorflow/c/c_api.cc:305] Operation '{name:'training/Adam/dense_5/kernel/v/Assign' id:788 op device:{requested: '', assigned: ''} def:{{{node training/Adam/dense_5/kernel/v/Assign}} = AssignVariableOp[_has_manual_control_dependencies=true, dtype=DT_FLOAT, validate_shape=false](training/Adam/dense_5/kernel/v, training/Adam/dense_5/kernel/v/Initializer/zeros)}}' was changed by setting attribute after it was run by a session. This mutation will have no effect, and will trigger an error in the future. Either don't modify nodes after running them or create a new session.\n"
     ]
    },
    {
     "name": "stdout",
     "output_type": "stream",
     "text": [
      "6466/6466 [==============================] - 1s 123us/sample - loss: 501553.1678 - categorical_accuracy: 0.5438 - val_loss: 178158.2286 - val_categorical_accuracy: 0.4048\n",
      "Epoch 2/50\n",
      " 256/6466 [>.............................] - ETA: 0s - loss: 168652.0312 - categorical_accuracy: 0.4023"
     ]
    },
    {
     "name": "stderr",
     "output_type": "stream",
     "text": [
      "/usr/local/lib/python3.10/dist-packages/keras/src/engine/training_v1.py:2335: UserWarning: `Model.state_updates` will be removed in a future version. This property should not be used in TensorFlow 2.0, as `updates` are applied automatically.\n",
      "  updates = self.state_updates\n"
     ]
    },
    {
     "name": "stdout",
     "output_type": "stream",
     "text": [
      "6466/6466 [==============================] - 1s 99us/sample - loss: 87177.3257 - categorical_accuracy: 0.5639 - val_loss: 38867.3565 - val_categorical_accuracy: 0.5260\n",
      "Epoch 3/50\n",
      "6466/6466 [==============================] - 1s 98us/sample - loss: 27020.7241 - categorical_accuracy: 0.5761 - val_loss: 10712.4633 - val_categorical_accuracy: 0.6443\n",
      "Epoch 4/50\n",
      "6466/6466 [==============================] - 1s 105us/sample - loss: 6165.0542 - categorical_accuracy: 0.5970 - val_loss: 5649.0343 - val_categorical_accuracy: 0.3968\n",
      "Epoch 5/50\n",
      "6466/6466 [==============================] - 1s 106us/sample - loss: 3129.5546 - categorical_accuracy: 0.5968 - val_loss: 3143.7852 - val_categorical_accuracy: 0.4278\n",
      "Epoch 6/50\n",
      "6466/6466 [==============================] - 1s 105us/sample - loss: 1859.7567 - categorical_accuracy: 0.6231 - val_loss: 1217.5441 - val_categorical_accuracy: 0.5144\n",
      "Epoch 7/50\n",
      "6466/6466 [==============================] - 1s 105us/sample - loss: 1257.6871 - categorical_accuracy: 0.6021 - val_loss: 874.4195 - val_categorical_accuracy: 0.6277\n",
      "Epoch 8/50\n",
      "6466/6466 [==============================] - 1s 105us/sample - loss: 818.9791 - categorical_accuracy: 0.6144 - val_loss: 825.3649 - val_categorical_accuracy: 0.5960\n",
      "Epoch 9/50\n",
      "6466/6466 [==============================] - 1s 106us/sample - loss: 691.4946 - categorical_accuracy: 0.6183 - val_loss: 557.1172 - val_categorical_accuracy: 0.6710\n",
      "Epoch 10/50\n",
      "6466/6466 [==============================] - 1s 108us/sample - loss: 504.6192 - categorical_accuracy: 0.6344 - val_loss: 437.9969 - val_categorical_accuracy: 0.5613\n",
      "Epoch 11/50\n",
      "6466/6466 [==============================] - 1s 105us/sample - loss: 476.7819 - categorical_accuracy: 0.6097 - val_loss: 405.1605 - val_categorical_accuracy: 0.5924\n",
      "Epoch 12/50\n",
      "6466/6466 [==============================] - 1s 104us/sample - loss: 357.3234 - categorical_accuracy: 0.6095 - val_loss: 423.6250 - val_categorical_accuracy: 0.4719\n",
      "Epoch 13/50\n",
      "6466/6466 [==============================] - 1s 104us/sample - loss: 304.3000 - categorical_accuracy: 0.6195 - val_loss: 228.4339 - val_categorical_accuracy: 0.5750\n",
      "Epoch 14/50\n",
      "6466/6466 [==============================] - 1s 105us/sample - loss: 237.7410 - categorical_accuracy: 0.6098 - val_loss: 211.7706 - val_categorical_accuracy: 0.6118\n",
      "Epoch 15/50\n",
      "6466/6466 [==============================] - 1s 105us/sample - loss: 207.7548 - categorical_accuracy: 0.6112 - val_loss: 164.6829 - val_categorical_accuracy: 0.6804\n",
      "Epoch 16/50\n",
      "6466/6466 [==============================] - 1s 106us/sample - loss: 169.5345 - categorical_accuracy: 0.6281 - val_loss: 149.9966 - val_categorical_accuracy: 0.5938\n",
      "Epoch 17/50\n",
      "6466/6466 [==============================] - 1s 105us/sample - loss: 145.9960 - categorical_accuracy: 0.6216 - val_loss: 139.2944 - val_categorical_accuracy: 0.4675\n",
      "Epoch 18/50\n",
      "6466/6466 [==============================] - 1s 105us/sample - loss: 122.3274 - categorical_accuracy: 0.6236 - val_loss: 110.7918 - val_categorical_accuracy: 0.5887\n",
      "Epoch 19/50\n",
      "6466/6466 [==============================] - 1s 104us/sample - loss: 102.7082 - categorical_accuracy: 0.6390 - val_loss: 91.2868 - val_categorical_accuracy: 0.6010\n",
      "Epoch 20/50\n",
      "6466/6466 [==============================] - 1s 105us/sample - loss: 93.1283 - categorical_accuracy: 0.6195 - val_loss: 110.2120 - val_categorical_accuracy: 0.4661\n",
      "Epoch 21/50\n",
      "6466/6466 [==============================] - 1s 105us/sample - loss: 110.2275 - categorical_accuracy: 0.6002 - val_loss: 99.3717 - val_categorical_accuracy: 0.4401\n",
      "Epoch 22/50\n",
      "6466/6466 [==============================] - 1s 105us/sample - loss: 83.4251 - categorical_accuracy: 0.6214 - val_loss: 72.4021 - val_categorical_accuracy: 0.5895\n",
      "Epoch 23/50\n",
      "6466/6466 [==============================] - 1s 104us/sample - loss: 74.2292 - categorical_accuracy: 0.6165 - val_loss: 66.1435 - val_categorical_accuracy: 0.5476\n",
      "Epoch 24/50\n",
      "6466/6466 [==============================] - 1s 105us/sample - loss: 66.7186 - categorical_accuracy: 0.6260 - val_loss: 67.3867 - val_categorical_accuracy: 0.5418\n",
      "Epoch 25/50\n",
      "6466/6466 [==============================] - 1s 105us/sample - loss: 63.8589 - categorical_accuracy: 0.6182 - val_loss: 57.3221 - val_categorical_accuracy: 0.6573\n",
      "Epoch 26/50\n",
      "6466/6466 [==============================] - 1s 105us/sample - loss: 55.7359 - categorical_accuracy: 0.6242 - val_loss: 53.6805 - val_categorical_accuracy: 0.4769\n",
      "Epoch 27/50\n",
      "6466/6466 [==============================] - 1s 105us/sample - loss: 58.0681 - categorical_accuracy: 0.5984 - val_loss: 88.4198 - val_categorical_accuracy: 0.3860\n",
      "Epoch 28/50\n",
      "6466/6466 [==============================] - 1s 105us/sample - loss: 72.8410 - categorical_accuracy: 0.5786 - val_loss: 65.4522 - val_categorical_accuracy: 0.4358\n",
      "Epoch 29/50\n",
      "6466/6466 [==============================] - 1s 105us/sample - loss: 72.6939 - categorical_accuracy: 0.5899 - val_loss: 60.8386 - val_categorical_accuracy: 0.4423\n",
      "Epoch 30/50\n",
      "6466/6466 [==============================] - 1s 105us/sample - loss: 63.0827 - categorical_accuracy: 0.5668 - val_loss: 51.7818 - val_categorical_accuracy: 0.6674\n",
      "Epoch 31/50\n",
      "6466/6466 [==============================] - 1s 105us/sample - loss: 49.0451 - categorical_accuracy: 0.5962 - val_loss: 44.7436 - val_categorical_accuracy: 0.5058\n",
      "Epoch 32/50\n",
      "6466/6466 [==============================] - 1s 105us/sample - loss: 43.4844 - categorical_accuracy: 0.6095 - val_loss: 39.5203 - val_categorical_accuracy: 0.6089\n",
      "Epoch 33/50\n",
      "6466/6466 [==============================] - 1s 104us/sample - loss: 40.9229 - categorical_accuracy: 0.6097 - val_loss: 38.8000 - val_categorical_accuracy: 0.4877\n",
      "Epoch 34/50\n",
      "6466/6466 [==============================] - 1s 106us/sample - loss: 39.5418 - categorical_accuracy: 0.5663 - val_loss: 39.4232 - val_categorical_accuracy: 0.5534\n",
      "Epoch 35/50\n",
      "6466/6466 [==============================] - 1s 106us/sample - loss: 38.1302 - categorical_accuracy: 0.5934 - val_loss: 35.1802 - val_categorical_accuracy: 0.6703\n",
      "Epoch 36/50\n",
      "6466/6466 [==============================] - 1s 105us/sample - loss: 34.7650 - categorical_accuracy: 0.6041 - val_loss: 33.1324 - val_categorical_accuracy: 0.6075\n",
      "Epoch 37/50\n",
      "6466/6466 [==============================] - 1s 105us/sample - loss: 32.5096 - categorical_accuracy: 0.6315 - val_loss: 31.8665 - val_categorical_accuracy: 0.5101\n",
      "Epoch 38/50\n",
      "6466/6466 [==============================] - 1s 105us/sample - loss: 31.3508 - categorical_accuracy: 0.6506 - val_loss: 30.8896 - val_categorical_accuracy: 0.5859\n",
      "Epoch 39/50\n",
      "6466/6466 [==============================] - 1s 106us/sample - loss: 30.6171 - categorical_accuracy: 0.6641 - val_loss: 30.1504 - val_categorical_accuracy: 0.6775\n",
      "Epoch 40/50\n",
      "6466/6466 [==============================] - 1s 105us/sample - loss: 30.0899 - categorical_accuracy: 0.6644 - val_loss: 29.7018 - val_categorical_accuracy: 0.6623\n",
      "Epoch 41/50\n",
      "6466/6466 [==============================] - 1s 106us/sample - loss: 29.6397 - categorical_accuracy: 0.6551 - val_loss: 29.2605 - val_categorical_accuracy: 0.6645\n",
      "Epoch 42/50\n",
      "6466/6466 [==============================] - 1s 105us/sample - loss: 29.2350 - categorical_accuracy: 0.6582 - val_loss: 28.8843 - val_categorical_accuracy: 0.6219\n",
      "Epoch 43/50\n",
      "6466/6466 [==============================] - 1s 105us/sample - loss: 28.9091 - categorical_accuracy: 0.6594 - val_loss: 28.7152 - val_categorical_accuracy: 0.5628\n",
      "Epoch 44/50\n",
      "6466/6466 [==============================] - 1s 104us/sample - loss: 28.5131 - categorical_accuracy: 0.6737 - val_loss: 28.2926 - val_categorical_accuracy: 0.6277\n",
      "Epoch 45/50\n",
      "6466/6466 [==============================] - 1s 105us/sample - loss: 28.1374 - categorical_accuracy: 0.6635 - val_loss: 27.9111 - val_categorical_accuracy: 0.6364\n",
      "Epoch 46/50\n",
      "6466/6466 [==============================] - 1s 105us/sample - loss: 27.7811 - categorical_accuracy: 0.6720 - val_loss: 27.6134 - val_categorical_accuracy: 0.6587\n",
      "Epoch 47/50\n",
      "6466/6466 [==============================] - 1s 105us/sample - loss: 27.5642 - categorical_accuracy: 0.6468 - val_loss: 27.4253 - val_categorical_accuracy: 0.6472\n",
      "Epoch 48/50\n",
      "6466/6466 [==============================] - 1s 105us/sample - loss: 27.4983 - categorical_accuracy: 0.6296 - val_loss: 27.3558 - val_categorical_accuracy: 0.5137\n",
      "Epoch 49/50\n",
      "6466/6466 [==============================] - 1s 106us/sample - loss: 26.9995 - categorical_accuracy: 0.6424 - val_loss: 26.6426 - val_categorical_accuracy: 0.6465\n",
      "Epoch 50/50\n",
      "6466/6466 [==============================] - 1s 105us/sample - loss: 26.6032 - categorical_accuracy: 0.6710 - val_loss: 26.2950 - val_categorical_accuracy: 0.6890\n"
     ]
    },
    {
     "data": {
      "text/plain": [
       "<keras.src.callbacks.History at 0x1551d8c23220>"
      ]
     },
     "execution_count": 75,
     "metadata": {},
     "output_type": "execute_result"
    }
   ],
   "source": [
    "model.fit(X_train, Y_train, validation_data=(X_val, Y_validation),\n",
    "          batch_size=batch_size, epochs=epochs, shuffle=shuffle,class_weight = class_weight, callbacks=[early_stopping])"
   ]
  },
  {
   "cell_type": "code",
   "execution_count": 76,
   "id": "e3cad8ae",
   "metadata": {},
   "outputs": [
    {
     "name": "stderr",
     "output_type": "stream",
     "text": [
      "/usr/local/lib/python3.10/dist-packages/keras/src/engine/training_v1.py:2359: UserWarning: `Model.state_updates` will be removed in a future version. This property should not be used in TensorFlow 2.0, as `updates` are applied automatically.\n",
      "  updates=self.state_updates,\n",
      "2025-06-26 16:13:52.978427: W tensorflow/c/c_api.cc:305] Operation '{name:'dense_7/Softmax' id:249 op device:{requested: '', assigned: ''} def:{{{node dense_7/Softmax}} = Softmax[T=DT_FLOAT, _has_manual_control_dependencies=true](dense_7/BiasAdd)}}' was changed by setting attribute after it was run by a session. This mutation will have no effect, and will trigger an error in the future. Either don't modify nodes after running them or create a new session.\n"
     ]
    },
    {
     "data": {
      "text/plain": [
       "<bound method Axes.legend of <Axes: title={'center': 'Accuracy'}, xlabel='Epoch', ylabel='Acc'>>"
      ]
     },
     "execution_count": 76,
     "metadata": {},
     "output_type": "execute_result"
    },
    {
     "data": {
      "image/png": "[encoded data removed]",
      "text/plain": [
       "<Figure size 1600x400 with 2 Axes>"
      ]
     },
     "metadata": {},
     "output_type": "display_data"
    }
   ],
   "source": [
    "train_loss=model.history.history['loss']\n",
    "val_loss=model.history.history['val_loss']\n",
    "    \n",
    "cat_acc=model.history.history['categorical_accuracy']\n",
    "val_acc=model.history.history['val_categorical_accuracy']\n",
    "        \n",
    "pred = model.predict(X_all)\n",
    "pred_val = model.predict(X_val)\n",
    "pred_train = model.predict(X_train)\n",
    "pred_test = model.predict(X_test)\n",
    "\n",
    "# Look at the optimization history\n",
    "fig, (ax1,ax2) = plt.subplots(1,2, figsize=plt.figaspect(0.25))\n",
    "ax1.plot(train_loss, label='Training loss')\n",
    "ax1.plot(val_loss, label='Validation loss')\n",
    "ax1.set_yscale('log')\n",
    "ax1.set_title('loss')\n",
    "ax1.set_xlabel('Epoch')\n",
    "ax1.set_ylabel('loss')\n",
    "ax1.legend()\n",
    "\n",
    "ax2.plot(cat_acc, label='Training ACC')\n",
    "ax2.plot(val_acc, label='Validation ACC')\n",
    "ax2.set_title('Accuracy')\n",
    "ax2.set_xlabel('Epoch')\n",
    "ax2.set_ylabel('Acc')\n",
    "ax2.legend"
   ]
  },
  {
   "cell_type": "code",
   "execution_count": 77,
   "id": "1c37e80c",
   "metadata": {},
   "outputs": [
    {
     "name": "stdout",
     "output_type": "stream",
     "text": [
      "              precision    recall  f1-score   support\n",
      "\n",
      "           0      0.710     0.821     0.762       839\n",
      "           1      0.639     0.486     0.552       547\n",
      "\n",
      "    accuracy                          0.689      1386\n",
      "   macro avg      0.675     0.654     0.657      1386\n",
      "weighted avg      0.682     0.689     0.679      1386\n",
      "\n"
     ]
    }
   ],
   "source": [
    "from sklearn.metrics import classification_report\n",
    "import numpy as np\n",
    "\n",
    "y_val_pred = model.predict(X_val)\n",
    "y_val_classes = np.argmax(y_val_pred, axis=1)\n",
    "y_val_true = np.argmax(Y_validation, axis=1)\n",
    "\n",
    "print(classification_report(y_val_true, y_val_classes, digits=3))"
   ]
  },
  {
   "cell_type": "code",
   "execution_count": 78,
   "id": "45c283ca",
   "metadata": {},
   "outputs": [
    {
     "name": "stdout",
     "output_type": "stream",
     "text": [
      "Brier Score (Model): 0.2193\n",
      "Brier Score (Climatology): 0.2446\n",
      "Brier Skill Score: 0.1034\n"
     ]
    }
   ],
   "source": [
    "# Convert one-hot labels to 1D integer labels (0 or 1)\n",
    "y_true = np.argmax(Y_test, axis=1)\n",
    "\n",
    "# Extract predicted probability for the positive class (class 1)\n",
    "y_prob = pred_test[:,1]\n",
    "\n",
    "# Create climatology baseline: constant probability = mean positive class rate\n",
    "p_climatology = np.full_like(y_true, y_true.mean(), dtype=float)\n",
    "\n",
    "# Compute Brier Scores\n",
    "bs_model = brier_score_loss(y_true, y_prob)\n",
    "bs_climo = brier_score_loss(y_true, p_climatology)\n",
    "\n",
    "# Compute Brier Skill Score\n",
    "bss = 1 - (bs_model / bs_climo)\n",
    "\n",
    "print(f\"Brier Score (Model): {bs_model:.4f}\")\n",
    "print(f\"Brier Score (Climatology): {bs_climo:.4f}\")\n",
    "print(f\"Brier Skill Score: {bss:.4f}\")"
   ]
  },
  {
   "cell_type": "code",
   "execution_count": 79,
   "id": "5348a7e7",
   "metadata": {},
   "outputs": [
    {
     "data": {
      "image/png": "[encoded data removed]",
      "text/plain": [
       "<Figure size 1000x1000 with 6 Axes>"
      ]
     },
     "metadata": {},
     "output_type": "display_data"
    }
   ],
   "source": [
    "bins = np.linspace(0, 1, 37)  #10 bins from 0.4 to 1\n",
    "##bin the probabilities\n",
    "counts_neg_test, edges_neg_test = np.histogram(pred_test[:,0], bins=bins)\n",
    "counts_pos_test, edges_pos_test = np.histogram(pred_test[:,1], bins=bins)\n",
    "\n",
    "counts_neg_train, edges_neg_train = np.histogram(pred_train[:,0], bins=bins)\n",
    "counts_pos_train, edges_pos_train = np.histogram(pred_train[:,1], bins=bins)\n",
    "\n",
    "counts_neg_val, edges_neg_val = np.histogram(pred_val[:,0], bins=bins)\n",
    "counts_pos_val, edges_pos_val = np.histogram(pred_val[:,1], bins=bins)\n",
    "\n",
    "fig, axes = plt.subplots(3, 2, figsize=(10,10))\n",
    "ax1, ax2, ax3, ax4, ax5, ax6 = axes.flatten()\n",
    "\n",
    "ax1.bar(edges_neg_train[:-1], counts_neg_train, width=np.diff(edges_neg_train), \n",
    "        edgecolor='black', alpha=0.5, align='edge', color='blue')\n",
    "ax1.set_title('Negative Training Predictions', fontsize=13)\n",
    "ax1.set_xlabel('Probability')\n",
    "ax1.set_ylabel('Count')\n",
    "\n",
    "ax2.bar(edges_pos_train[:-1], counts_pos_train, width=np.diff(edges_pos_train), \n",
    "        edgecolor='black', alpha=0.5, align='edge', color='orange')\n",
    "ax2.set_title('Positive Training Predictions', fontsize=13)\n",
    "ax2.set_xlabel('Probability')\n",
    "ax2.set_ylabel('Count')\n",
    "\n",
    "ax3.bar(edges_neg_val[:-1], counts_neg_val, width=np.diff(edges_neg_val), \n",
    "        edgecolor='black', alpha=0.5, align='edge', color='blue')\n",
    "ax3.set_title('Negative Validation Predictions', fontsize=13)\n",
    "ax3.set_xlabel('Probability')\n",
    "ax3.set_ylabel('Count')\n",
    "\n",
    "ax4.bar(edges_pos_val[:-1], counts_pos_val, width=np.diff(edges_pos_val), \n",
    "        edgecolor='black', alpha=0.5, align='edge', color='orange')\n",
    "ax4.set_title('Positive Validation Predictions', fontsize=13)\n",
    "ax4.set_xlabel('Probability')\n",
    "ax4.set_ylabel('Count')\n",
    "\n",
    "ax5.bar(edges_neg_test[:-1], counts_neg_test, width=np.diff(edges_neg_test), \n",
    "        edgecolor='black', alpha=0.5, align='edge', color='blue')\n",
    "ax5.set_title('Negative Testing Predictions', fontsize=13)\n",
    "ax5.set_xlabel('Probability')\n",
    "ax5.set_ylabel('Count')\n",
    "\n",
    "ax6.bar(edges_pos_test[:-1], counts_pos_test, width=np.diff(edges_pos_test), \n",
    "        edgecolor='black', alpha=0.5, align='edge', color='orange')\n",
    "ax6.set_title('Positive Testing Predictions', fontsize=13)\n",
    "ax6.set_xlabel('Probability')\n",
    "ax6.set_ylabel('Count')\n",
    "\n",
    "plt.tight_layout()"
   ]
  },
  {
   "cell_type": "code",
   "execution_count": 35,
   "id": "8aed6f70",
   "metadata": {},
   "outputs": [],
   "source": [
    "#############################tuning#############################"
   ]
  },
  {
   "cell_type": "code",
   "execution_count": 36,
   "id": "fe21f009",
   "metadata": {
    "jupyter": {
     "source_hidden": true
    }
   },
   "outputs": [],
   "source": [
    "def combined(hp):\n",
    "    ##set ranges for hyperparameters\n",
    "    n1 = hp.Int('n1', min_value=120, max_value=128, step=4)\n",
    "    n2 = hp.Int('n2', min_value=8, max_value=24, step=8)\n",
    "    n3= hp.Int('n3', min_value=120, max_value=128, step=4)\n",
    "    n4 = hp.Int('n4', min_value=8, max_value=24, step=8)\n",
    "    n5= hp.Int('n5', min_value=120, max_value=128, step=4)\n",
    "    n6 = hp.Int('n6', min_value=8, max_value=24, step=8)\n",
    "    n7 = hp.Int('n7', min_value=4, max_value=40, step=4)\n",
    "   \n",
    "\n",
    "    reg1 = hp.Float('reg1', min_value=0.01, max_value=0.09)\n",
    "    reg2 = hp.Float('reg2', min_value=0.001, max_value=0.1, default=0.01)\n",
    "    reg3 = hp.Float('reg3', min_value=0.01, max_value=0.09)\n",
    "    reg4 = hp.Float('reg4', min_value=0.001, max_value=0.1, default=0.01)\n",
    "    reg5 = hp.Float('reg5', min_value=0.01, max_value=0.09)\n",
    "    reg6 = hp.Float('reg6', min_value=0.001, max_value=0.1, default=0.01)\n",
    "    reg7 = hp.Float('reg7', min_value=0.01, max_value=0.09)\n",
    "    \n",
    "    lr = hp.Float('learning_rate', min_value=1e-2, max_value=1)\n",
    "    ##first layers for U ANN\n",
    "    input_tensor1 = Input(shape=(int(1332),), name='layer1')\n",
    "    layer1 = layers.Dense(n1, activation='leaky_relu', use_bias=True,\n",
    "                          kernel_initializer='he_normal',bias_initializer='he_normal',\n",
    "                          kernel_regularizer=keras.regularizers.l2(l2= reg1))(input_tensor1)\n",
    "   \n",
    "\n",
    "    layer1 = layers.Dense(n2, activation='leaky_relu', use_bias=True,\n",
    "                          kernel_initializer='he_normal',bias_initializer='he_normal',\n",
    "                          kernel_regularizer=keras.regularizers.l2(l2= reg2))(layer1)\n",
    "   \n",
    "    ## second layers for EHF ANN\n",
    "    input_tensor2 = Input(shape=(int(6660),), name='layer2')\n",
    "    layer2 = layers.Dense(n3, activation='leaky_relu', use_bias=True,\n",
    "                          kernel_initializer='he_normal',bias_initializer='he_normal',\n",
    "                          kernel_regularizer=keras.regularizers.l2(l2= reg3))(input_tensor2)\n",
    "    \n",
    "    layer2 = layers.Dense(n4, activation='leaky_relu', use_bias=True,\n",
    "                          kernel_initializer='he_normal',bias_initializer='he_normal',\n",
    "                          kernel_regularizer=keras.regularizers.l2(l2= reg4))(layer2)\n",
    "    \n",
    "    \n",
    "    ## third layers for GPH ANN\n",
    "    input_tensor3 = Input(shape=(int(6660),), name='layer3')\n",
    "    layer3 = layers.Dense(n5, activation='leaky_relu', use_bias=True,\n",
    "                          kernel_initializer='he_normal',bias_initializer='he_normal',\n",
    "                          kernel_regularizer=keras.regularizers.l2(l2= reg5))(input_tensor3)\n",
    "    \n",
    "    layer3 = layers.Dense(n6, activation='leaky_relu', use_bias=True,\n",
    "                          kernel_initializer='he_normal',bias_initializer='he_normal',\n",
    "                          kernel_regularizer=keras.regularizers.l2(l2= reg6))(layer3)\n",
    "    \n",
    "    ##combine two model inputs\n",
    "    merge_layer = Concatenate()([layer1,layer2,layer3])\n",
    "\n",
    "    ##more dense layers\n",
    "    merge = layers.Dense(n7, activation='leaky_relu', use_bias=True,\n",
    "                          kernel_initializer='he_normal',bias_initializer='he_normal',\n",
    "                          kernel_regularizer=keras.regularizers.l2(l2= reg7))(merge_layer)\n",
    "\n",
    "    #decay_rate = learn / epochs\n",
    "    output_tensor = layers.Dense(2,activation='softmax')(merge)\n",
    "    model = Model([input_tensor1, input_tensor2, input_tensor3], output_tensor)\n",
    "    model.compile(optimizer=keras.optimizers.legacy.Adam(learning_rate=lr),\n",
    "              loss = 'categorical_crossentropy', #Our loss function is based on categorical error\n",
    "              metrics=[keras.metrics.categorical_accuracy], #We will print out the categorical accuracy as the network is trained\n",
    "              )\n",
    "    return model"
   ]
  },
  {
   "cell_type": "raw",
   "id": "0dc5d7bf",
   "metadata": {
    "jupyter": {
     "source_hidden": true
    }
   },
   "source": [
    "##intialize/setup the hyperband tuner\n",
    "import keras_tuner as kt\n",
    "\n",
    "tuner = kt.tuners.RandomSearch(\n",
    "    combined, #model\n",
    "    objective = kt.Objective('val_loss', 'min'),\n",
    "                #kt.Objective('val_categorical_accuracy', 'max')], #target\n",
    "    max_trials=1000, #number of iterations of tuning to run\n",
    "    max_consecutive_failed_trials=3, #number of allowed failed trials\n",
    "    directory = 'tuning',\n",
    "    project_name='joint'\n",
    ")"
   ]
  },
  {
   "cell_type": "raw",
   "id": "23ddb051",
   "metadata": {
    "jupyter": {
     "source_hidden": true
    }
   },
   "source": [
    "stop_early = tf.keras.callbacks.EarlyStopping(monitor='val_loss', patience=5)"
   ]
  },
  {
   "cell_type": "raw",
   "id": "9b91109d",
   "metadata": {
    "jupyter": {
     "source_hidden": true
    }
   },
   "source": [
    "##actual tuning process\n",
    "tuner.search(X_train, Y_train, validation_data=(X_val, Y_validation),\n",
    "             batch_size=batch_size, epochs=epochs, shuffle=shuffle,\n",
    "             class_weight = class_weight, callbacks=[stop_early])"
   ]
  },
  {
   "cell_type": "raw",
   "id": "251e7aaa",
   "metadata": {
    "jupyter": {
     "source_hidden": true
    }
   },
   "source": [
    "# Get the optimal hyperparameters\n",
    "best_hps=tuner.get_best_hyperparameters(num_trials=1)[0]\n",
    "best_hps.values"
   ]
  },
  {
   "cell_type": "raw",
   "id": "a037c050",
   "metadata": {
    "jupyter": {
     "source_hidden": true
    }
   },
   "source": [
    "# Build the model with the optimal hyperparameters and train it on the data for 50 epochs\n",
    "model = tuner.hypermodel.build(best_hps)\n",
    "history = model.fit(X_train,Y_train, validation_data=(X_val, Y_validation),\n",
    "                    batch_size=batch_size, epochs=epochs, shuffle=shuffle,class_weight = class_weight)"
   ]
  },
  {
   "cell_type": "raw",
   "id": "5f32890b",
   "metadata": {
    "jupyter": {
     "source_hidden": true
    }
   },
   "source": [
    "train_loss=model.history.history['loss']\n",
    "val_loss=model.history.history['val_loss']\n",
    "    \n",
    "cat_acc=model.history.history['categorical_accuracy']\n",
    "val_acc=model.history.history['val_categorical_accuracy']\n",
    "        \n",
    "pred = model.predict(X_all)\n",
    "pred_val = model.predict(X_val)\n",
    "pred_train = model.predict(X_train)\n",
    "pred_test = model.predict(X_test)\n",
    "\n",
    "# Look at the optimization history\n",
    "fig, (ax1,ax2) = plt.subplots(1,2, figsize=plt.figaspect(0.25))\n",
    "ax1.plot(train_loss, label='Training loss')\n",
    "ax1.plot(val_loss, label='Validation loss')\n",
    "ax1.set_yscale('log')\n",
    "ax1.set_title('loss')\n",
    "ax1.set_xlabel('Epoch')\n",
    "ax1.set_ylabel('loss')\n",
    "ax1.legend()\n",
    "\n",
    "ax2.plot(cat_acc, label='Training ACC')\n",
    "ax2.plot(val_acc, label='Validation ACC')\n",
    "ax2.set_title('Accuracy')\n",
    "ax2.set_xlabel('Epoch')\n",
    "ax2.set_ylabel('Acc')\n",
    "ax2.legend"
   ]
  },
  {
   "cell_type": "code",
   "execution_count": null,
   "id": "4dd15b2a",
   "metadata": {},
   "outputs": [],
   "source": []
  }
 ],
 "metadata": {
  "kernelspec": {
   "display_name": "Python 3 (ipykernel)",
   "language": "python",
   "name": "python3"
  },
  "language_info": {
   "codemirror_mode": {
    "name": "ipython",
    "version": 3
   },
   "file_extension": ".py",
   "mimetype": "text/x-python",
   "name": "python",
   "nbconvert_exporter": "python",
   "pygments_lexer": "ipython3",
   "version": "3.10.12"
  }
 },
 "nbformat": 4,
 "nbformat_minor": 5
}
