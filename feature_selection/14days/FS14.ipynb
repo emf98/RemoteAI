{
 "cells": [
  {
   "cell_type": "markdown",
   "id": "64f4278d",
   "metadata": {},
   "source": [
    "### This file will be duplicated many instances, but consider this the first iteration. \n",
    "\n",
    "I do not plan to conduct SFS, just regular FS using a RF model. \n",
    "File created May 9, 2025.\n",
    "\n",
    "I can just change the temperature region to check if there are any changes. \n",
    "\n",
    "UPDATE: June 4th. Changing this to the single solvers and updated temps from my reduction code. "
   ]
  },
  {
   "cell_type": "code",
   "execution_count": 1,
   "id": "ea3bf7d2",
   "metadata": {},
   "outputs": [],
   "source": [
    "# relevant import statements\n",
    "import math\n",
    "import pickle\n",
    "import random\n",
    "import numpy as np\n",
    "import pandas as pd\n",
    "import seaborn as sns  # statistical data visualization\n",
    "import xarray as xr\n",
    "##just to stop the excess number of warnings\n",
    "import warnings\n",
    "# plotting related imports\n",
    "import matplotlib.pyplot as plt\n",
    "\n",
    "from sklearn.feature_selection import SelectFromModel\n",
    "from sklearn.metrics import (\n",
    "    accuracy_score,\n",
    "    brier_score_loss,\n",
    "    mean_squared_error,\n",
    "    r2_score,\n",
    ")\n",
    "from sklearn.model_selection import train_test_split\n",
    "\n",
    "warnings.filterwarnings(\"ignore\")"
   ]
  },
  {
   "cell_type": "code",
   "execution_count": 2,
   "id": "3591b481",
   "metadata": {},
   "outputs": [
    {
     "name": "stdout",
     "output_type": "stream",
     "text": [
      "PCs loaded ...\n"
     ]
    }
   ],
   "source": [
    "# load input solvers\n",
    "infile = open(\"../../reduced_data/PCs/U_14.p\",\"rb\",)\n",
    "U_PC = pickle.load(infile)  \n",
    "infile.close()\n",
    "\n",
    "infile = open(\"../../reduced_data/PCs/EHF_14.p\",\"rb\",)\n",
    "EHF_PC = pickle.load(infile)  ##ZMehf vertical cross section along longitudes\n",
    "infile.close()\n",
    "\n",
    "infile = open(\"../../reduced_data/PCs/GPH_14.p\",\"rb\",)\n",
    "GPH_PC = pickle.load(infile)  ##ZMehf vertical cross section along longitudes\n",
    "infile.close()\n",
    "\n",
    "print(\"PCs loaded ...\")"
   ]
  },
  {
   "cell_type": "code",
   "execution_count": 3,
   "id": "11f47b8f",
   "metadata": {},
   "outputs": [
    {
     "name": "stdout",
     "output_type": "stream",
     "text": [
      "###############################\n",
      "Begin FS Model ...\n"
     ]
    }
   ],
   "source": [
    "##############################################################\n",
    "#Below is PCs combined for U GPH, and EHF with 14-day lagged temperatures. 1959/1960 to 2020/2021. \n",
    "print(\"###############################\")\n",
    "print(\"Begin FS Model ...\")"
   ]
  },
  {
   "cell_type": "markdown",
   "id": "bb8fa98b",
   "metadata": {},
   "source": [
    "## CHANGE OUTPUT IN THE CELL BELOW. "
   ]
  },
  {
   "cell_type": "code",
   "execution_count": 4,
   "id": "7bd47a8f",
   "metadata": {},
   "outputs": [],
   "source": [
    "# load output data\n",
    "infile = open(\"../../reduced_data/temps/seus_14.p\",\"rb\",)\n",
    "temp = pickle.load(infile) \n",
    "infile.close()"
   ]
  },
  {
   "cell_type": "code",
   "execution_count": 5,
   "id": "96499a17",
   "metadata": {},
   "outputs": [
    {
     "name": "stdout",
     "output_type": "stream",
     "text": [
      "Output shape:  (9238,)\n"
     ]
    }
   ],
   "source": [
    "##for 14 days leadtime, the temp starts at day 33, which is different from how it will be represented\n",
    "#in the actual LSTM model\n",
    "print(\"Output shape: \",temp.shape)"
   ]
  },
  {
   "cell_type": "code",
   "execution_count": 6,
   "id": "8acfeb11",
   "metadata": {},
   "outputs": [],
   "source": [
    "##specify lag based on the leadtime\n",
    "#149 for 14\n",
    "#143 for 20\n",
    "#133 for 30\n",
    "\n",
    "lag = 149\n",
    "region = \"SE US\"\n",
    "reg = \"seus\""
   ]
  },
  {
   "cell_type": "code",
   "execution_count": 7,
   "id": "765b4d8b",
   "metadata": {},
   "outputs": [
    {
     "name": "stdout",
     "output_type": "stream",
     "text": [
      "Input Dataframe\n",
      "            0         1         2         3         4         5         6   \\\n",
      "0     0.791039 -1.727149  1.481165 -1.684007  0.329935  1.656387 -0.211460   \n",
      "1     0.821552 -1.842438  1.416795 -1.725300 -0.155038  2.059544  0.081825   \n",
      "2     0.888491 -1.958864  1.626327 -1.405833 -0.030527  1.728328  0.536282   \n",
      "3     0.883083 -1.953125  1.878820 -0.966085  0.620002  1.275088  0.679312   \n",
      "4     0.799762 -1.914598  1.794036 -0.578514  1.147515  0.969589  0.594968   \n",
      "...        ...       ...       ...       ...       ...       ...       ...   \n",
      "9233  0.739117  0.344881 -1.039941  1.907440 -0.463413  1.368651  1.955351   \n",
      "9234  0.708051  0.610486 -0.735913  1.811668  1.011904  0.905560  2.091698   \n",
      "9235  0.612392  0.813433 -0.491388  1.058656  2.158425  0.531745  2.458308   \n",
      "9236  0.179745  0.300776 -0.592462 -0.004740  2.092489 -0.249596  1.450899   \n",
      "9237 -0.171662 -0.141076 -0.920245 -0.283947  0.960485 -0.176553  0.644020   \n",
      "\n",
      "            7         8         9   ...        52        53        54  \\\n",
      "0     1.453994  0.837609  0.195595  ...  0.172799  1.564267  0.584225   \n",
      "1     1.419269  0.147530  0.234372  ... -0.436175  1.686121  0.834128   \n",
      "2     0.792897 -1.002197  0.268253  ...  0.480251  1.535731  1.169094   \n",
      "3     1.133707 -0.758163  0.231512  ... -0.880181  1.224010  1.292322   \n",
      "4     1.942123 -0.141386  0.126057  ... -0.636755  0.993273  1.244127   \n",
      "...        ...       ...       ...  ...       ...       ...       ...   \n",
      "9233 -1.003432 -1.171885 -0.032577  ...  0.667313  0.159405  1.871430   \n",
      "9234 -0.923073 -0.182186  0.100459  ...  0.677382  0.532989  1.945315   \n",
      "9235 -0.798223  1.449475  0.138989  ...  0.355340  1.044255  1.904598   \n",
      "9236 -0.071044  2.113109  0.101430  ... -0.112332  1.295592  1.709359   \n",
      "9237  0.822152  2.009169  0.178951  ...  0.076846  1.124540  1.518323   \n",
      "\n",
      "            55        56        57        58        59        60        61  \n",
      "0    -0.036226  0.870949  0.482494  0.197297  0.694999 -0.395420 -1.128227  \n",
      "1     0.081523  0.887701  0.621646  0.388313  0.968120 -0.156091 -1.539525  \n",
      "2     0.118023  0.852785  0.684715  0.481477  0.804988  0.313862 -1.607084  \n",
      "3    -0.031788  0.794642  0.805009  0.279682  0.627936  0.181622 -0.832041  \n",
      "4    -0.186460  0.879478  1.131472  0.345422  0.342985  0.390064  0.147311  \n",
      "...        ...       ...       ...       ...       ...       ...       ...  \n",
      "9233  1.036272 -0.931433 -0.594206  1.060108  0.489458  0.632401  1.478229  \n",
      "9234  1.078350 -0.883960 -0.255287  1.054779  0.616516  0.933306  0.541883  \n",
      "9235  0.936523 -1.013030 -0.031661  1.253826  0.375767  0.830058 -0.412274  \n",
      "9236  0.596902 -1.099654 -0.021087  1.714048  0.279814  0.649183 -0.773683  \n",
      "9237  0.307120 -0.841747 -0.354376  1.852638  0.494849  0.489356 -0.597684  \n",
      "\n",
      "[9238 rows x 62 columns]\n"
     ]
    }
   ],
   "source": [
    "###############################################################\n",
    "inputvar = np.concatenate((U_PC[:,1:],EHF_PC[:,1:],GPH_PC[:,1:]),axis=1) #first 10 is U, second 45 is EHF, last 10 is GPH\n",
    "##should be 62 columns. \n",
    "##make pandas dataframe for RF\n",
    "input = pd.DataFrame(inputvar)\n",
    "print(\"Input Dataframe\")\n",
    "print(input)"
   ]
  },
  {
   "cell_type": "code",
   "execution_count": 8,
   "id": "485704e4",
   "metadata": {},
   "outputs": [],
   "source": [
    "##Set X_all and Y_all datasets\n",
    "X_all = np.copy(input)\n",
    "Y_all = np.copy(temp)\n",
    "\n",
    "##training data partition out\n",
    "X_train = X_all[: 57 * lag, :]\n",
    "Y_train = Y_all[: 57 * lag]\n",
    "\n",
    "# testing data partition out\n",
    "X_test = X_all[57 * lag :, :]\n",
    "Y_test = Y_all[57 * lag :]\n",
    "\n",
    "##set fraction of data as 5 years\n",
    "frac_ind = lag * 5"
   ]
  },
  {
   "cell_type": "code",
   "execution_count": 9,
   "id": "79b5244e",
   "metadata": {},
   "outputs": [],
   "source": [
    "##checking my data for NaN of Infs because I need to make sure this doesn't cause\n",
    "# the model to throw back no loss\n",
    "if np.any(np.isnan(X_all)) or np.any(np.isinf(X_all)):\n",
    "    print(\"NaN or Inf values found in X_all!\")\n",
    "\n",
    "if np.any(np.isnan(Y_all)) or np.any(np.isinf(Y_all)):\n",
    "    print(\"NaN or Inf values found in Y_all!\")"
   ]
  },
  {
   "cell_type": "code",
   "execution_count": 10,
   "id": "dfa41b24",
   "metadata": {
    "scrolled": true
   },
   "outputs": [],
   "source": [
    "##############################################################\n",
    "# ## Begin setting up parts of my model architecture.\n",
    "# This will be the random forest intermission.\n",
    "from sklearn.ensemble import RandomForestRegressor, RandomForestClassifier\n",
    "from sklearn.metrics import accuracy_score\n",
    "from sklearn.model_selection import train_test_split\n",
    "from sklearn.metrics import mean_squared_error, r2_score\n",
    "\n",
    "from sklearn.feature_selection import SelectFromModel\n",
    "from sklearn.feature_selection import SequentialFeatureSelector as SFS\n",
    "from sklearn.model_selection import cross_val_score"
   ]
  },
  {
   "cell_type": "code",
   "execution_count": 11,
   "id": "e42e72e8",
   "metadata": {},
   "outputs": [],
   "source": [
    "#save PREDICTIONS\n",
    "##accuracy scores, just cause. No use otherwise beyond checking for overfit. \n",
    "acc_reg1_val = []\n",
    "acc_reg1_train = []\n",
    "acc_reg1_test = []\n",
    "\n",
    "pred_val1 = []\n",
    "pred_train1 = []\n",
    "pred_test1 = []\n",
    "\n",
    "important = np.empty((100,62)) #cross validation # and # of PCs"
   ]
  },
  {
   "cell_type": "raw",
   "id": "0f0993fb",
   "metadata": {
    "jupyter": {
     "source_hidden": true
    }
   },
   "source": [
    "from sklearn.model_selection import GridSearchCV\n",
    "\n",
    "#hyper parameter grid for testing\n",
    "params = {\n",
    "    'n_estimators': np.arange(100,500,100).tolist(), ##number of hidden decision trees\n",
    "    'max_depth':np.arange(1,20,1).tolist(), #number of branches down allowed. \n",
    "}\n",
    "#GridSearchCV for tuning\n",
    "tuning = GridSearchCV(RandomForestClassifier(random_state=42), params, cv=3)\n",
    "\n",
    "#fit to training data\n",
    "tuning.fit(X_train[frac_ind:,:], Y_train[frac_ind:]) ##subset validation so the first five years are used for validation here \n",
    "\n",
    "#show best params\n",
    "best_rf = tuning.best_estimator_\n",
    "print(best_rf)\n",
    "\n",
    "##try on validation data\n",
    "val_pred_test = best_rf.predict(X_train[:frac_ind,:])\n",
    "val_accuracy = accuracy_score(Y_train[:frac_ind], val_pred_test)\n",
    "                             \n",
    "print(f\"Tuned Params Validation Accuracy: {val_accuracy}\")"
   ]
  },
  {
   "cell_type": "code",
   "execution_count": 12,
   "id": "b1c817df",
   "metadata": {},
   "outputs": [
    {
     "name": "stdout",
     "output_type": "stream",
     "text": [
      "Initalizing RF Model\n"
     ]
    }
   ],
   "source": [
    "#create initial regressor for rf to do feature selection \n",
    "print(\"Initalizing RF Model\")\n",
    "rf_reg1 = RandomForestClassifier(max_depth=3, n_estimators=750, random_state=42)"
   ]
  },
  {
   "cell_type": "code",
   "execution_count": 13,
   "id": "1a1b8d7f",
   "metadata": {
    "scrolled": true
   },
   "outputs": [
    {
     "name": "stdout",
     "output_type": "stream",
     "text": [
      "Starting Cross Validation ...\n",
      "Cross Val #:0\n",
      "Selected Features: Int64Index([0, 1, 3, 5, 10, 14, 18, 19, 21, 26, 28, 53, 54, 56, 57], dtype='int64')\n",
      "Cross Val #:1\n",
      "Selected Features: Int64Index([0, 1, 2, 3, 5, 10, 14, 18, 19, 21, 53, 54, 56, 60], dtype='int64')\n",
      "Cross Val #:2\n",
      "Selected Features: Int64Index([0, 1, 2, 3, 5, 10, 14, 18, 19, 20, 21, 25, 53, 54, 56, 60], dtype='int64')\n",
      "Cross Val #:3\n",
      "Selected Features: Int64Index([0, 1, 2, 3, 5, 10, 14, 18, 19, 21, 53, 54, 56, 60], dtype='int64')\n",
      "Cross Val #:4\n",
      "Selected Features: Int64Index([0, 1, 2, 3, 5, 10, 13, 14, 18, 19, 21, 26, 28, 53, 54, 56, 57], dtype='int64')\n",
      "Cross Val #:5\n",
      "Selected Features: Int64Index([0, 1, 2, 3, 5, 10, 13, 18, 19, 21, 53, 54, 56, 60], dtype='int64')\n",
      "Cross Val #:6\n",
      "Selected Features: Int64Index([0, 1, 2, 3, 5, 10, 13, 14, 18, 19, 21, 22, 53, 54, 56, 57], dtype='int64')\n",
      "Cross Val #:7\n",
      "Selected Features: Int64Index([0, 1, 3, 5, 10, 11, 14, 18, 19, 21, 53, 54, 56, 57], dtype='int64')\n",
      "Cross Val #:8\n",
      "Selected Features: Int64Index([0, 1, 2, 3, 5, 10, 14, 18, 19, 26, 53, 54, 56, 57], dtype='int64')\n",
      "Cross Val #:9\n",
      "Selected Features: Int64Index([0, 1, 2, 3, 5, 10, 11, 13, 14, 18, 21, 53, 54, 56, 57], dtype='int64')\n",
      "Cross Val #:10\n",
      "Selected Features: Int64Index([0, 1, 2, 3, 5, 10, 11, 13, 14, 18, 21, 53, 54, 56], dtype='int64')\n",
      "Cross Val #:11\n",
      "Selected Features: Int64Index([0, 1, 2, 3, 5, 10, 13, 14, 18, 19, 21, 53, 54, 56], dtype='int64')\n",
      "Cross Val #:12\n",
      "Selected Features: Int64Index([0, 1, 2, 3, 5, 10, 13, 14, 18, 19, 21, 22, 53, 54, 56, 57], dtype='int64')\n",
      "Cross Val #:13\n",
      "Selected Features: Int64Index([0, 1, 2, 3, 5, 10, 14, 18, 19, 21, 22, 25, 53, 54, 56, 60], dtype='int64')\n",
      "Cross Val #:14\n",
      "Selected Features: Int64Index([0, 1, 2, 3, 5, 10, 14, 18, 19, 21, 22, 53, 54, 56, 57], dtype='int64')\n",
      "Cross Val #:15\n",
      "Selected Features: Int64Index([0, 1, 2, 3, 5, 10, 18, 19, 21, 24, 53, 54, 56, 57], dtype='int64')\n",
      "Cross Val #:16\n",
      "Selected Features: Int64Index([0, 1, 2, 3, 5, 10, 14, 18, 19, 21, 25, 53, 54, 56, 57], dtype='int64')\n",
      "Cross Val #:17\n",
      "Selected Features: Int64Index([0, 1, 2, 3, 5, 10, 13, 14, 18, 19, 21, 53, 54, 56], dtype='int64')\n",
      "Cross Val #:18\n",
      "Selected Features: Int64Index([0, 1, 3, 5, 10, 13, 14, 18, 21, 26, 53, 54, 56, 57], dtype='int64')\n",
      "Cross Val #:19\n",
      "Selected Features: Int64Index([0, 1, 2, 3, 5, 10, 13, 14, 18, 21, 53, 54, 56], dtype='int64')\n",
      "Cross Val #:20\n",
      "Selected Features: Int64Index([0, 1, 3, 5, 10, 13, 18, 19, 21, 24, 53, 54, 56, 57], dtype='int64')\n",
      "Cross Val #:21\n",
      "Selected Features: Int64Index([0, 1, 3, 5, 10, 13, 14, 18, 19, 20, 21, 26, 53, 54, 56, 57], dtype='int64')\n",
      "Cross Val #:22\n",
      "Selected Features: Int64Index([0, 1, 3, 5, 10, 13, 14, 18, 19, 20, 21, 53, 54, 56, 57], dtype='int64')\n",
      "Cross Val #:23\n",
      "Selected Features: Int64Index([0, 1, 2, 3, 5, 10, 13, 14, 18, 19, 21, 53, 54, 56, 60], dtype='int64')\n",
      "Cross Val #:24\n",
      "Selected Features: Int64Index([0, 1, 2, 3, 5, 10, 13, 14, 18, 19, 21, 53, 54, 56], dtype='int64')\n",
      "Cross Val #:25\n",
      "Selected Features: Int64Index([0, 1, 2, 3, 5, 10, 14, 18, 19, 21, 53, 54, 56, 57], dtype='int64')\n",
      "Cross Val #:26\n",
      "Selected Features: Int64Index([0, 1, 2, 3, 5, 10, 13, 14, 18, 19, 21, 53, 54, 56], dtype='int64')\n",
      "Cross Val #:27\n",
      "Selected Features: Int64Index([0, 1, 2, 3, 5, 10, 14, 18, 19, 21, 53, 54, 56, 57], dtype='int64')\n",
      "Cross Val #:28\n",
      "Selected Features: Int64Index([0, 1, 2, 3, 5, 10, 13, 14, 18, 19, 21, 53, 54, 56], dtype='int64')\n",
      "Cross Val #:29\n",
      "Selected Features: Int64Index([0, 1, 2, 3, 5, 10, 13, 18, 19, 21, 25, 26, 53, 54, 56, 57], dtype='int64')\n",
      "Cross Val #:30\n",
      "Selected Features: Int64Index([0, 1, 2, 3, 5, 10, 13, 14, 18, 19, 21, 22, 53, 54, 56, 57], dtype='int64')\n",
      "Cross Val #:31\n",
      "Selected Features: Int64Index([0, 1, 3, 5, 10, 13, 18, 19, 21, 24, 26, 28, 53, 54, 56, 57], dtype='int64')\n",
      "Cross Val #:32\n",
      "Selected Features: Int64Index([0, 1, 2, 3, 5, 10, 13, 14, 18, 19, 21, 53, 54, 56, 60], dtype='int64')\n",
      "Cross Val #:33\n",
      "Selected Features: Int64Index([0, 1, 2, 3, 5, 10, 13, 14, 18, 19, 21, 53, 54, 56, 60], dtype='int64')\n",
      "Cross Val #:34\n",
      "Selected Features: Int64Index([0, 1, 2, 3, 5, 10, 11, 14, 18, 19, 20, 21, 53, 54, 56, 57], dtype='int64')\n",
      "Cross Val #:35\n",
      "Selected Features: Int64Index([0, 1, 2, 3, 5, 10, 13, 14, 18, 19, 21, 22, 53, 54, 56, 57], dtype='int64')\n",
      "Cross Val #:36\n",
      "Selected Features: Int64Index([0, 1, 2, 3, 5, 10, 18, 19, 21, 25, 26, 53, 54, 56, 60], dtype='int64')\n",
      "Cross Val #:37\n",
      "Selected Features: Int64Index([0, 1, 2, 3, 5, 10, 14, 18, 19, 21, 22, 25, 53, 54, 56, 60], dtype='int64')\n",
      "Cross Val #:38\n",
      "Selected Features: Int64Index([0, 1, 2, 3, 5, 10, 13, 14, 18, 19, 21, 53, 54, 56, 57], dtype='int64')\n",
      "Cross Val #:39\n",
      "Selected Features: Int64Index([0, 1, 2, 3, 5, 10, 11, 14, 18, 19, 21, 53, 54, 56, 57], dtype='int64')\n",
      "Cross Val #:40\n",
      "Selected Features: Int64Index([0, 1, 2, 3, 5, 10, 13, 14, 18, 19, 21, 53, 54, 56, 57], dtype='int64')\n",
      "Cross Val #:41\n",
      "Selected Features: Int64Index([0, 1, 2, 3, 5, 10, 13, 14, 18, 21, 22, 53, 54, 56, 57], dtype='int64')\n",
      "Cross Val #:42\n",
      "Selected Features: Int64Index([0, 1, 3, 5, 10, 13, 14, 18, 19, 20, 21, 26, 53, 54, 56, 57], dtype='int64')\n",
      "Cross Val #:43\n",
      "Selected Features: Int64Index([0, 1, 3, 5, 10, 13, 14, 18, 19, 21, 26, 28, 53, 54, 56, 57], dtype='int64')\n",
      "Cross Val #:44\n",
      "Selected Features: Int64Index([0, 1, 2, 3, 5, 10, 13, 14, 18, 19, 21, 22, 25, 53, 54, 56, 60], dtype='int64')\n",
      "Cross Val #:45\n",
      "Selected Features: Int64Index([0, 1, 2, 3, 5, 10, 13, 14, 18, 21, 22, 53, 54, 56, 57], dtype='int64')\n",
      "Cross Val #:46\n",
      "Selected Features: Int64Index([0, 1, 3, 5, 10, 13, 14, 18, 19, 20, 21, 53, 54, 56, 57], dtype='int64')\n",
      "Cross Val #:47\n",
      "Selected Features: Int64Index([0, 1, 2, 3, 5, 10, 11, 13, 14, 18, 21, 53, 54, 56], dtype='int64')\n",
      "Cross Val #:48\n",
      "Selected Features: Int64Index([0, 1, 3, 5, 10, 13, 14, 18, 19, 20, 21, 22, 26, 53, 54, 56, 57], dtype='int64')\n",
      "Cross Val #:49\n",
      "Selected Features: Int64Index([0, 1, 2, 3, 5, 10, 14, 18, 19, 21, 53, 54, 56, 57, 60], dtype='int64')\n",
      "Cross Val #:50\n",
      "Selected Features: Int64Index([0, 1, 2, 3, 5, 10, 13, 14, 18, 19, 21, 22, 53, 54, 56, 57], dtype='int64')\n",
      "Cross Val #:51\n",
      "Selected Features: Int64Index([0, 1, 2, 3, 5, 10, 11, 13, 14, 18, 19, 21, 53, 54, 56], dtype='int64')\n",
      "Cross Val #:52\n",
      "Selected Features: Int64Index([0, 1, 2, 3, 5, 10, 13, 14, 18, 19, 21, 22, 53, 54, 56, 57], dtype='int64')\n",
      "Cross Val #:53\n",
      "Selected Features: Int64Index([0, 1, 2, 3, 5, 10, 13, 14, 18, 19, 21, 26, 28, 53, 54, 56, 57], dtype='int64')\n",
      "Cross Val #:54\n",
      "Selected Features: Int64Index([0, 1, 3, 5, 10, 13, 14, 18, 19, 21, 28, 53, 54, 56, 57], dtype='int64')\n",
      "Cross Val #:55\n",
      "Selected Features: Int64Index([0, 1, 3, 5, 10, 14, 18, 19, 21, 22, 25, 53, 54, 56, 57], dtype='int64')\n",
      "Cross Val #:56\n",
      "Selected Features: Int64Index([0, 1, 2, 3, 5, 10, 11, 13, 14, 18, 19, 21, 53, 54, 56], dtype='int64')\n",
      "Cross Val #:57\n",
      "Selected Features: Int64Index([0, 1, 3, 5, 10, 13, 14, 18, 19, 20, 21, 26, 53, 54, 56, 57], dtype='int64')\n",
      "Cross Val #:58\n",
      "Selected Features: Int64Index([0, 1, 2, 3, 5, 10, 14, 18, 19, 21, 53, 54, 56, 57], dtype='int64')\n",
      "Cross Val #:59\n",
      "Selected Features: Int64Index([0, 1, 2, 3, 5, 10, 11, 14, 18, 19, 20, 21, 53, 54, 56, 57], dtype='int64')\n",
      "Cross Val #:60\n",
      "Selected Features: Int64Index([0, 1, 2, 3, 5, 10, 14, 18, 19, 20, 21, 26, 53, 54, 56, 57], dtype='int64')\n",
      "Cross Val #:61\n",
      "Selected Features: Int64Index([0, 1, 3, 5, 10, 13, 14, 18, 19, 20, 21, 22, 26, 53, 54, 56, 57], dtype='int64')\n",
      "Cross Val #:62\n",
      "Selected Features: Int64Index([0, 1, 3, 5, 10, 13, 14, 18, 19, 21, 26, 28, 53, 54, 56, 57], dtype='int64')\n",
      "Cross Val #:63\n",
      "Selected Features: Int64Index([0, 1, 3, 5, 10, 13, 14, 18, 19, 21, 25, 53, 54, 56, 57], dtype='int64')\n",
      "Cross Val #:64\n",
      "Selected Features: Int64Index([0, 1, 2, 3, 5, 10, 11, 14, 18, 19, 20, 21, 53, 54, 56, 57], dtype='int64')\n",
      "Cross Val #:65\n",
      "Selected Features: Int64Index([0, 1, 3, 5, 10, 13, 14, 18, 19, 21, 25, 53, 54, 56, 57], dtype='int64')\n",
      "Cross Val #:66\n",
      "Selected Features: Int64Index([0, 1, 2, 3, 5, 10, 13, 14, 18, 19, 21, 26, 53, 54, 56, 57], dtype='int64')\n",
      "Cross Val #:67\n",
      "Selected Features: Int64Index([0, 1, 2, 3, 5, 10, 14, 18, 19, 21, 53, 54, 56, 57], dtype='int64')\n",
      "Cross Val #:68\n",
      "Selected Features: Int64Index([0, 1, 2, 3, 5, 10, 13, 18, 19, 26, 53, 54, 56, 57], dtype='int64')\n",
      "Cross Val #:69\n",
      "Selected Features: Int64Index([0, 1, 2, 3, 5, 10, 13, 14, 18, 19, 21, 53, 54, 56, 57], dtype='int64')\n",
      "Cross Val #:70\n",
      "Selected Features: Int64Index([0, 1, 2, 3, 5, 10, 14, 18, 19, 26, 32, 53, 54, 56, 57], dtype='int64')\n",
      "Cross Val #:71\n",
      "Selected Features: Int64Index([0, 1, 2, 3, 5, 10, 13, 14, 18, 19, 21, 53, 54, 56, 60], dtype='int64')\n",
      "Cross Val #:72\n",
      "Selected Features: Int64Index([0, 1, 2, 3, 5, 10, 14, 18, 19, 21, 53, 54, 56, 57, 60], dtype='int64')\n",
      "Cross Val #:73\n",
      "Selected Features: Int64Index([0, 1, 2, 3, 5, 10, 13, 14, 18, 19, 20, 21, 22, 26, 53, 54, 56, 57], dtype='int64')\n",
      "Cross Val #:74\n",
      "Selected Features: Int64Index([0, 1, 2, 3, 5, 10, 13, 14, 18, 19, 21, 53, 54, 56], dtype='int64')\n",
      "Cross Val #:75\n",
      "Selected Features: Int64Index([0, 1, 2, 3, 5, 10, 14, 18, 19, 21, 53, 54, 56, 57], dtype='int64')\n",
      "Cross Val #:76\n",
      "Selected Features: Int64Index([0, 1, 2, 3, 5, 10, 13, 14, 18, 19, 21, 22, 53, 54, 56, 57], dtype='int64')\n",
      "Cross Val #:77\n",
      "Selected Features: Int64Index([0, 1, 2, 3, 5, 10, 18, 19, 21, 53, 54, 56, 57, 60], dtype='int64')\n",
      "Cross Val #:78\n",
      "Selected Features: Int64Index([0, 1, 2, 3, 5, 10, 18, 19, 21, 24, 53, 54, 56, 57], dtype='int64')\n",
      "Cross Val #:79\n",
      "Selected Features: Int64Index([0, 1, 2, 3, 5, 10, 14, 18, 19, 21, 53, 54, 56, 60], dtype='int64')\n",
      "Cross Val #:80\n",
      "Selected Features: Int64Index([0, 1, 2, 3, 5, 10, 18, 19, 21, 53, 54, 56, 57], dtype='int64')\n",
      "Cross Val #:81\n",
      "Selected Features: Int64Index([0, 1, 3, 5, 10, 13, 14, 18, 19, 20, 21, 53, 54, 56, 57], dtype='int64')\n",
      "Cross Val #:82\n",
      "Selected Features: Int64Index([0, 1, 2, 3, 5, 10, 11, 13, 14, 18, 19, 21, 53, 54, 56], dtype='int64')\n",
      "Cross Val #:83\n",
      "Selected Features: Int64Index([0, 1, 2, 3, 5, 10, 14, 18, 19, 21, 53, 54, 56, 57, 60], dtype='int64')\n",
      "Cross Val #:84\n",
      "Selected Features: Int64Index([0, 1, 2, 3, 5, 10, 13, 14, 18, 19, 21, 22, 53, 54, 56, 60], dtype='int64')\n",
      "Cross Val #:85\n",
      "Selected Features: Int64Index([0, 1, 2, 3, 5, 10, 11, 13, 14, 18, 19, 21, 53, 54, 56, 60], dtype='int64')\n",
      "Cross Val #:86\n",
      "Selected Features: Int64Index([0, 1, 2, 3, 5, 10, 14, 18, 19, 21, 53, 54, 56, 57, 60], dtype='int64')\n",
      "Cross Val #:87\n",
      "Selected Features: Int64Index([0, 1, 2, 3, 5, 10, 14, 18, 19, 21, 53, 54, 56, 57], dtype='int64')\n",
      "Cross Val #:88\n",
      "Selected Features: Int64Index([0, 1, 2, 3, 5, 10, 11, 13, 14, 18, 19, 21, 53, 54, 56], dtype='int64')\n",
      "Cross Val #:89\n",
      "Selected Features: Int64Index([0, 1, 2, 3, 5, 10, 18, 19, 21, 53, 54, 56, 57, 60], dtype='int64')\n",
      "Cross Val #:90\n",
      "Selected Features: Int64Index([0, 1, 2, 3, 5, 10, 13, 14, 18, 21, 26, 28, 53, 54, 56, 57], dtype='int64')\n",
      "Cross Val #:91\n",
      "Selected Features: Int64Index([0, 1, 2, 3, 5, 10, 13, 14, 18, 19, 21, 53, 54, 56, 57], dtype='int64')\n",
      "Cross Val #:92\n",
      "Selected Features: Int64Index([0, 1, 2, 3, 5, 10, 13, 14, 18, 19, 21, 25, 53, 54, 56, 60], dtype='int64')\n",
      "Cross Val #:93\n",
      "Selected Features: Int64Index([0, 1, 3, 5, 10, 13, 14, 18, 21, 26, 53, 54, 56, 57], dtype='int64')\n",
      "Cross Val #:94\n",
      "Selected Features: Int64Index([0, 1, 3, 5, 10, 14, 18, 19, 20, 21, 53, 54, 56, 57], dtype='int64')\n",
      "Cross Val #:95\n",
      "Selected Features: Int64Index([0, 1, 2, 3, 5, 10, 13, 14, 18, 19, 21, 53, 54, 56], dtype='int64')\n",
      "Cross Val #:96\n",
      "Selected Features: Int64Index([0, 1, 2, 3, 5, 10, 13, 14, 18, 19, 21, 22, 53, 54, 56], dtype='int64')\n",
      "Cross Val #:97\n",
      "Selected Features: Int64Index([0, 1, 2, 3, 5, 10, 13, 14, 18, 19, 26, 53, 54, 56, 57], dtype='int64')\n",
      "Cross Val #:98\n",
      "Selected Features: Int64Index([0, 1, 2, 3, 5, 10, 11, 13, 14, 18, 19, 21, 53, 54, 56, 60], dtype='int64')\n",
      "Cross Val #:99\n",
      "Selected Features: Int64Index([0, 1, 2, 3, 5, 10, 13, 14, 18, 19, 21, 53, 54, 56, 57], dtype='int64')\n"
     ]
    }
   ],
   "source": [
    "print(\"Starting Cross Validation ...\")\n",
    "##make loop for cross validation \n",
    "for l in range(0,100):\n",
    "    print(\"Cross Val #:\"+str(l))\n",
    "    ##randomly choose a fraction of events for validation and training\n",
    "    start = random.randrange(len(X_train[:,0])-frac_ind)\n",
    "    end = start+(frac_ind)\n",
    "\n",
    "    X_val = X_train[start:end,:]\n",
    "    Y_val = Y_train[start:end]\n",
    "    \n",
    "    X_train1 = X_train[0:start]\n",
    "    Y_train1 = Y_train[0:start]\n",
    "    X_train2 = X_train[end:]\n",
    "    Y_train2 = Y_train[end:]\n",
    "\n",
    "    ##concatenate all of these\n",
    "    X_tr = np.concatenate([X_train1,X_train2], axis = 0)\n",
    "    Y_tr = np.concatenate((Y_train1,Y_train2))\n",
    "\n",
    "    #train rf\n",
    "    rf_reg1.fit(X_tr, Y_tr)\n",
    "\n",
    "    #prediction with validation data\n",
    "    pred_val = rf_reg1.predict(X_val)\n",
    "    pred_val1.append(rf_reg1.predict_proba(X_val))\n",
    "    acc_reg1_val.append(accuracy_score(Y_val, pred_val))\n",
    "    \n",
    "    #prediction with training data\n",
    "    pred_train = rf_reg1.predict(X_tr)\n",
    "    pred_train1.append(rf_reg1.predict_proba(X_tr))\n",
    "    acc_reg1_train.append(accuracy_score(Y_tr, pred_train))\n",
    "\n",
    "    #prediction with testing data\n",
    "    pred_test = rf_reg1.predict(X_test)\n",
    "    pred_test1.append(rf_reg1.predict_proba(X_test))\n",
    "    acc_reg1_test.append(accuracy_score(Y_test, pred_test))\n",
    "\n",
    "    #prepare to show relevant features by actually ... choosing them \n",
    "    selector = SelectFromModel(rf_reg1, threshold=\"mean\", max_features=None)\n",
    "    X_train_selected = selector.transform(X_tr)\n",
    "    X_test_selected = selector.transform(X_test)\n",
    "\n",
    "    #print names of selected features\n",
    "    selected_features = input.columns[selector.get_support()]\n",
    "    print(f'Selected Features: {selected_features}')\n",
    "\n",
    "    importances = rf_reg1.feature_importances_\n",
    "    important[l,:] = importances[:]"
   ]
  },
  {
   "cell_type": "code",
   "execution_count": 14,
   "id": "3afa8553",
   "metadata": {},
   "outputs": [
    {
     "name": "stdout",
     "output_type": "stream",
     "text": [
      "###################################################\n",
      "Model CV Completed.\n"
     ]
    }
   ],
   "source": [
    "print('###################################################')\n",
    "print(\"Model CV Completed.\")"
   ]
  },
  {
   "cell_type": "code",
   "execution_count": 15,
   "id": "7325a7f1",
   "metadata": {},
   "outputs": [
    {
     "name": "stdout",
     "output_type": "stream",
     "text": [
      "Accuracy, Validation: 64.35%\n",
      "Accuracy, Training: 64.83%\n",
      "Accuracy, Testing: 62.45%\n"
     ]
    }
   ],
   "source": [
    "print(f'Accuracy, Validation: {np.mean(acc_reg1_val) * 100:.2f}%')\n",
    "print(f'Accuracy, Training: {np.mean(acc_reg1_train) * 100:.2f}%')\n",
    "print(f'Accuracy, Testing: {np.mean(acc_reg1_test) * 100:.2f}%')"
   ]
  },
  {
   "cell_type": "code",
   "execution_count": 16,
   "id": "cc96a467",
   "metadata": {
    "jupyter": {
     "source_hidden": true
    }
   },
   "outputs": [],
   "source": [
    "pred_train1 = np.array(pred_train1)\n",
    "pred_test1 = np.array(pred_test1)\n",
    "pred_val1 = np.array(pred_val1)"
   ]
  },
  {
   "cell_type": "code",
   "execution_count": 17,
   "id": "bb891108",
   "metadata": {},
   "outputs": [
    {
     "data": {
      "image/png": "[encoded data removed]",
      "text/plain": [
       "<Figure size 1000x1000 with 6 Axes>"
      ]
     },
     "metadata": {},
     "output_type": "display_data"
    }
   ],
   "source": [
    "bins = np.linspace(0.2, 0.8, 37)  #10 bins from 0.4 to 1\n",
    "##bin the probabilities\n",
    "counts_neg_test, edges_neg_test = np.histogram(pred_test1[:,0], bins=bins)\n",
    "counts_pos_test, edges_pos_test = np.histogram(pred_test1[:,1], bins=bins)\n",
    "\n",
    "counts_neg_train, edges_neg_train = np.histogram(pred_train1[:,0], bins=bins)\n",
    "counts_pos_train, edges_pos_train = np.histogram(pred_train1[:,1], bins=bins)\n",
    "\n",
    "counts_neg_val, edges_neg_val = np.histogram(pred_val1[:,0], bins=bins)\n",
    "counts_pos_val, edges_pos_val = np.histogram(pred_val1[:,1], bins=bins)\n",
    "\n",
    "fig, axes = plt.subplots(3, 2, figsize=(10,10))\n",
    "ax1, ax2, ax3, ax4, ax5, ax6 = axes.flatten()\n",
    "\n",
    "ax1.bar(edges_neg_train[:-1], counts_neg_train, width=np.diff(edges_neg_train), \n",
    "        edgecolor='black', alpha=0.5, align='edge', color='blue')\n",
    "ax1.set_title('Negative Training Predictions', fontsize=13)\n",
    "ax1.set_xlabel('Probability')\n",
    "ax1.set_ylabel('Count')\n",
    "\n",
    "ax2.bar(edges_pos_train[:-1], counts_pos_train, width=np.diff(edges_pos_train), \n",
    "        edgecolor='black', alpha=0.5, align='edge', color='orange')\n",
    "ax2.set_title('Positive Training Predictions', fontsize=13)\n",
    "ax2.set_xlabel('Probability')\n",
    "ax2.set_ylabel('Count')\n",
    "\n",
    "ax3.bar(edges_neg_val[:-1], counts_neg_val, width=np.diff(edges_neg_val), \n",
    "        edgecolor='black', alpha=0.5, align='edge', color='blue')\n",
    "ax3.set_title('Negative Validation Predictions', fontsize=13)\n",
    "ax3.set_xlabel('Probability')\n",
    "ax3.set_ylabel('Count')\n",
    "\n",
    "ax4.bar(edges_pos_val[:-1], counts_pos_val, width=np.diff(edges_pos_val), \n",
    "        edgecolor='black', alpha=0.5, align='edge', color='orange')\n",
    "ax4.set_title('Positive Validation Predictions', fontsize=13)\n",
    "ax4.set_xlabel('Probability')\n",
    "ax4.set_ylabel('Count')\n",
    "\n",
    "ax5.bar(edges_neg_test[:-1], counts_neg_test, width=np.diff(edges_neg_test), \n",
    "        edgecolor='black', alpha=0.5, align='edge', color='blue')\n",
    "ax5.set_title('Negative Testing Predictions', fontsize=13)\n",
    "ax5.set_xlabel('Probability')\n",
    "ax5.set_ylabel('Count')\n",
    "\n",
    "ax6.bar(edges_pos_test[:-1], counts_pos_test, width=np.diff(edges_pos_test), \n",
    "        edgecolor='black', alpha=0.5, align='edge', color='orange')\n",
    "ax6.set_title('Positive Testing Predictions', fontsize=13)\n",
    "ax6.set_xlabel('Probability')\n",
    "ax6.set_ylabel('Count')\n",
    "\n",
    "plt.tight_layout()\n",
    "fig.suptitle(\"Probability Distributions for \"+region+\" at 14-days Lead\",y=1.02,fontsize=16)\n",
    "plt.savefig(\"../images/probability_distrib_\"+reg+\"14.png\")"
   ]
  },
  {
   "cell_type": "code",
   "execution_count": 18,
   "id": "e00037d5",
   "metadata": {},
   "outputs": [
    {
     "data": {
      "text/plain": [
       "(62,)"
      ]
     },
     "execution_count": 18,
     "metadata": {},
     "output_type": "execute_result"
    }
   ],
   "source": [
    "imp = np.nanmean(important, axis = 0)\n",
    "imp.shape"
   ]
  },
  {
   "cell_type": "code",
   "execution_count": 19,
   "id": "ed154683",
   "metadata": {},
   "outputs": [
    {
     "data": {
      "image/png": "[encoded data removed]",
      "text/plain": [
       "<Figure size 900x600 with 1 Axes>"
      ]
     },
     "metadata": {},
     "output_type": "display_data"
    }
   ],
   "source": [
    "#plot features by relative importance\n",
    "indices = np.argsort(imp)[::-1]  #sort by importance\n",
    "c = [\"navy\",\"royalblue\",\"slateblue\",\"blueviolet\",\"darkviolet\",\"purple\",\"mediumvioletred\",\"magenta\"]\n",
    "\n",
    "plt.figure(figsize=(9, 6))\n",
    "plt.title(\"Average Feature Importances Over \"+region+\" for 14-day Lead\",fontsize =18)\n",
    "plt.barh(range(0,20), imp[indices[:20]], align=\"center\", color = c)\n",
    "plt.yticks(range(0,20), input.columns[indices[:20]],fontsize =14)\n",
    "plt.xticks(fontsize =14)\n",
    "plt.xlabel(\"Relative Importance\",fontsize =16)\n",
    "plt.gca().invert_yaxis()\n",
    "plt.savefig(\"../images/14day_\"+reg+\".png\")"
   ]
  },
  {
   "cell_type": "code",
   "execution_count": 20,
   "id": "34efa93e",
   "metadata": {},
   "outputs": [
    {
     "data": {
      "text/plain": [
       "Int64Index([56, 1, 54, 18, 53, 3, 0, 10, 5, 19, 21, 14, 2, 57, 13, 60, 22, 26,\n",
       "            25, 11],\n",
       "           dtype='int64')"
      ]
     },
     "execution_count": 20,
     "metadata": {},
     "output_type": "execute_result"
    }
   ],
   "source": [
    "input.columns[indices[:20]]"
   ]
  },
  {
   "cell_type": "code",
   "execution_count": 21,
   "id": "5a46932f",
   "metadata": {},
   "outputs": [],
   "source": [
    "##for the updated times and 100 CVs\n",
    "\n",
    "#EUROPE\n",
    "#Int64Index([1, 56, 0, 54, 9, 57, 2, 31, 26, 14, 20, 6, 11, 38, 21, 18, 15, 22, 12, 13], dtype='int64')\n",
    "#Accuracy, Validation: 67.84%\n",
    "#Accuracy, Training: 67.95%\n",
    "#Accuracy, Testing: 66.99%\n",
    "\n",
    "##CANADA\n",
    "#Int64Index([56, 1, 0, 55, 2, 53, 22, 57, 9, 25, 11, 4, 54, 38, 17, 30, 36, 3, 14, 26], dtype='int64')\n",
    "#Accuracy, Validation: 78.23%\n",
    "#Accuracy, Training: 79.39%\n",
    "#Accuracy, Testing: 80.41%\n",
    "\n",
    "##SE US\n",
    "#Int64Index([56, 1, 54, 18, 53, 3, 0, 10, 5, 19, 21, 14, 2, 57, 13, 60, 22, 26,25, 11], dtype='int64')\n",
    "#Accuracy, Validation: 64.35%\n",
    "#Accuracy, Training: 64.83%\n",
    "#Accuracy, Testing: 62.45%\n"
   ]
  },
  {
   "cell_type": "code",
   "execution_count": 22,
   "id": "92dbbaec",
   "metadata": {
    "jupyter": {
     "source_hidden": true
    }
   },
   "outputs": [
    {
     "data": {
      "text/plain": [
       "\"\\n##Europe\\nIndex([1, 56, 0, 54, 9, 57, 55, 3, 26, 4], dtype='int64')\\nAccuracy, Validation: 70.32%\\nAccuracy, Training: 71.62%\\nAccuracy, Testing: 70.81%\\n\\n##Nova\\nIndex([1, 56, 0, 55, 2, 53, 54, 9, 4, 22], dtype='int64')\\nAccuracy, Validation: 80.75%\\nAccuracy, Training: 82.18%\\nAccuracy, Testing: 82.67%\\n\\n##South\\nIndex([1, 56, 54, 53, 55, 4, 3, 21, 14, 0], dtype='int64')\\nAccuracy, Validation: 68.74%\\nAccuracy, Training: 70.58%\\nAccuracy, Testing: 67.67%\\n\""
      ]
     },
     "execution_count": 22,
     "metadata": {},
     "output_type": "execute_result"
    }
   ],
   "source": [
    "#on 100 CVs\n",
    "'''\n",
    "##Europe\n",
    "Index([1, 56, 0, 54, 9, 57, 55, 3, 26, 4], dtype='int64')\n",
    "Accuracy, Validation: 70.32%\n",
    "Accuracy, Training: 71.62%\n",
    "Accuracy, Testing: 70.81%\n",
    "\n",
    "##Nova\n",
    "Index([1, 56, 0, 55, 2, 53, 54, 9, 4, 22], dtype='int64')\n",
    "Accuracy, Validation: 80.75%\n",
    "Accuracy, Training: 82.18%\n",
    "Accuracy, Testing: 82.67%\n",
    "\n",
    "##South\n",
    "Index([1, 56, 54, 53, 55, 4, 3, 21, 14, 0], dtype='int64')\n",
    "Accuracy, Validation: 68.74%\n",
    "Accuracy, Training: 70.58%\n",
    "Accuracy, Testing: 67.67%\n",
    "'''"
   ]
  },
  {
   "cell_type": "code",
   "execution_count": 23,
   "id": "d495a974",
   "metadata": {
    "jupyter": {
     "source_hidden": true
    }
   },
   "outputs": [],
   "source": [
    "#Remember that for these ...\n",
    "# [0-8] is U wind\n",
    "# [9-52] is EHF\n",
    "# [53-62] is GPH"
   ]
  }
 ],
 "metadata": {
  "kernelspec": {
   "display_name": "Python 3 (ipykernel)",
   "language": "python",
   "name": "python3"
  },
  "language_info": {
   "codemirror_mode": {
    "name": "ipython",
    "version": 3
   },
   "file_extension": ".py",
   "mimetype": "text/x-python",
   "name": "python",
   "nbconvert_exporter": "python",
   "pygments_lexer": "ipython3",
   "version": "3.10.12"
  }
 },
 "nbformat": 4,
 "nbformat_minor": 5
}
