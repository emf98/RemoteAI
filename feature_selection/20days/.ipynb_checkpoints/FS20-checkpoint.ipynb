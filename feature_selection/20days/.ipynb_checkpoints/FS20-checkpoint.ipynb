{
 "cells": [
  {
   "cell_type": "markdown",
   "id": "68579e50",
   "metadata": {},
   "source": [
    "### 20 day Feature Selection. \n",
    "UPDATE: June 4th. Changing this to the single solvers and updated temps from my reduction code. "
   ]
  },
  {
   "cell_type": "code",
   "execution_count": 1,
   "id": "0aa5515a",
   "metadata": {},
   "outputs": [],
   "source": [
    "# relevant import statements\n",
    "import math\n",
    "import pickle\n",
    "import random\n",
    "import numpy as np\n",
    "import pandas as pd\n",
    "import seaborn as sns  # statistical data visualization\n",
    "import xarray as xr\n",
    "##just to stop the excess number of warnings\n",
    "import warnings\n",
    "# plotting related imports\n",
    "import matplotlib.pyplot as plt\n",
    "\n",
    "from sklearn.feature_selection import SelectFromModel\n",
    "from sklearn.metrics import (\n",
    "    accuracy_score,\n",
    "    brier_score_loss,\n",
    "    mean_squared_error,\n",
    "    r2_score,\n",
    ")\n",
    "from sklearn.model_selection import train_test_split\n",
    "\n",
    "warnings.filterwarnings(\"ignore\")"
   ]
  },
  {
   "cell_type": "code",
   "execution_count": 2,
   "id": "91e58500",
   "metadata": {},
   "outputs": [
    {
     "name": "stdout",
     "output_type": "stream",
     "text": [
      "PCs loaded ...\n"
     ]
    }
   ],
   "source": [
    "# load input solvers\n",
    "infile = open(\"../../reduced_data/PCs/U_20.p\",\"rb\",)\n",
    "U_PC = pickle.load(infile)  \n",
    "infile.close()\n",
    "\n",
    "infile = open(\"../../reduced_data/PCs/EHF_20.p\",\"rb\",)\n",
    "EHF_PC = pickle.load(infile)  ##ZMehf vertical cross section along longitudes\n",
    "infile.close()\n",
    "\n",
    "infile = open(\"../../reduced_data/PCs/GPH_20.p\",\"rb\",)\n",
    "GPH_PC = pickle.load(infile)  ##ZMehf vertical cross section along longitudes\n",
    "infile.close()\n",
    "\n",
    "print(\"PCs loaded ...\")"
   ]
  },
  {
   "cell_type": "code",
   "execution_count": 3,
   "id": "6e1ec224",
   "metadata": {},
   "outputs": [
    {
     "name": "stdout",
     "output_type": "stream",
     "text": [
      "###############################\n",
      "Begin FS Model ...\n"
     ]
    }
   ],
   "source": [
    "##############################################################\n",
    "#Below is PCs combined for U GPH, and EHF with 14-day lagged temperatures. 1959/1960 to 2020/2021. \n",
    "print(\"###############################\")\n",
    "print(\"Begin FS Model ...\")"
   ]
  },
  {
   "cell_type": "markdown",
   "id": "854e785d",
   "metadata": {},
   "source": [
    "## CHANGE OUTPUT IN THE CELL BELOW. "
   ]
  },
  {
   "cell_type": "code",
   "execution_count": 4,
   "id": "5d5e63f1",
   "metadata": {},
   "outputs": [],
   "source": [
    "# load output data\n",
    "infile = open(\"../../reduced_data/temps/seus_20.p\",\"rb\",)\n",
    "temp = pickle.load(infile) \n",
    "infile.close()"
   ]
  },
  {
   "cell_type": "code",
   "execution_count": 5,
   "id": "8616e5c3",
   "metadata": {},
   "outputs": [
    {
     "name": "stdout",
     "output_type": "stream",
     "text": [
      "Output shape:  (8866,)\n"
     ]
    }
   ],
   "source": [
    "##for 14 days leadtime, the temp starts at day 33, which is different from how it will be represented\n",
    "#in the actual LSTM model\n",
    "print(\"Output shape: \",temp.shape)"
   ]
  },
  {
   "cell_type": "code",
   "execution_count": 6,
   "id": "cc4fd025",
   "metadata": {},
   "outputs": [],
   "source": [
    "##specify lag based on the leadtime\n",
    "#149 for 14\n",
    "#143 for 20\n",
    "#133 for 30\n",
    "\n",
    "lag = 143\n",
    "region = \"SE US\"\n",
    "reg = \"seus\""
   ]
  },
  {
   "cell_type": "code",
   "execution_count": 7,
   "id": "c1887691",
   "metadata": {},
   "outputs": [
    {
     "name": "stdout",
     "output_type": "stream",
     "text": [
      "Input Dataframe\n",
      "            0         1         2         3         4         5         6   \\\n",
      "0     0.791039 -1.727149  1.481165 -1.684007  0.329935  1.656387 -0.211460   \n",
      "1     0.821552 -1.842438  1.416795 -1.725300 -0.155038  2.059544  0.081825   \n",
      "2     0.888491 -1.958864  1.626327 -1.405833 -0.030527  1.728328  0.536282   \n",
      "3     0.883083 -1.953125  1.878820 -0.966085  0.620002  1.275088  0.679312   \n",
      "4     0.799762 -1.914598  1.794036 -0.578514  1.147515  0.969589  0.594968   \n",
      "...        ...       ...       ...       ...       ...       ...       ...   \n",
      "8861  0.835682  0.932775  0.491656  1.952467  0.775151 -0.664569  0.242031   \n",
      "8862  0.754534  0.898774  0.720348  1.890310  0.130872 -0.785997  0.312608   \n",
      "8863  0.759343  0.688164  0.378655  1.588598 -0.771764  0.108289  0.591962   \n",
      "8864  0.805081  0.427583  0.163213  1.444761 -1.143150  0.704963  1.148309   \n",
      "8865  0.745232  0.123873 -0.256129  1.239845 -1.364488  1.210481  1.275661   \n",
      "\n",
      "            7         8         9   ...        52        53        54  \\\n",
      "0     1.453994  0.837609  0.195595  ...  0.172799  1.564267  0.584225   \n",
      "1     1.419269  0.147530  0.234372  ... -0.436175  1.686121  0.834128   \n",
      "2     0.792897 -1.002197  0.268253  ...  0.480251  1.535731  1.169094   \n",
      "3     1.133707 -0.758163  0.231512  ... -0.880181  1.224010  1.292322   \n",
      "4     1.942123 -0.141386  0.126057  ... -0.636755  0.993273  1.244127   \n",
      "...        ...       ...       ...  ...       ...       ...       ...   \n",
      "8861  0.338064  0.321440  0.280874  ...  2.137340 -0.183028  1.284506   \n",
      "8862 -0.115104  0.717946  0.194060  ... -0.183854 -0.258087  1.006692   \n",
      "8863 -0.306062  0.662144  0.210769  ...  0.356633 -0.276540  0.911892   \n",
      "8864 -0.578979 -0.021054  0.274677  ...  0.751305 -0.244995  1.078239   \n",
      "8865 -0.703796 -0.577776  0.037607  ...  0.283500 -0.196748  1.352969   \n",
      "\n",
      "            55        56        57        58        59        60        61  \n",
      "0    -0.036226  0.870949  0.482494  0.197297  0.694999 -0.395420 -1.128227  \n",
      "1     0.081523  0.887701  0.621646  0.388313  0.968120 -0.156091 -1.539525  \n",
      "2     0.118023  0.852785  0.684715  0.481477  0.804988  0.313862 -1.607084  \n",
      "3    -0.031788  0.794642  0.805009  0.279682  0.627936  0.181622 -0.832041  \n",
      "4    -0.186460  0.879478  1.131472  0.345422  0.342985  0.390064  0.147311  \n",
      "...        ...       ...       ...       ...       ...       ...       ...  \n",
      "8861 -0.000123 -0.970682 -1.983117  0.393498 -0.077080  1.038041 -0.121082  \n",
      "8862  0.282448 -0.945866 -1.639824  0.944020 -0.313210  0.931200 -0.083181  \n",
      "8863  0.223231 -1.075126 -1.194257  1.100756  0.003139  0.287979 -0.072674  \n",
      "8864  0.053587 -1.250295 -1.055599  0.877732  0.536791 -0.068147  0.247109  \n",
      "8865  0.252833 -1.209903 -1.001786  0.724617  0.632078 -0.079246  0.992290  \n",
      "\n",
      "[8866 rows x 62 columns]\n"
     ]
    }
   ],
   "source": [
    "###############################################################\n",
    "inputvar = np.concatenate((U_PC[:,1:],EHF_PC[:,1:],GPH_PC[:,1:]),axis=1) #first 10 is U, second 45 is EHF, last 10 is GPH\n",
    "##should be 62 columns. \n",
    "##make pandas dataframe for RF\n",
    "input = pd.DataFrame(inputvar)\n",
    "print(\"Input Dataframe\")\n",
    "print(input)"
   ]
  },
  {
   "cell_type": "code",
   "execution_count": 8,
   "id": "eeb41b7e",
   "metadata": {},
   "outputs": [],
   "source": [
    "##Set X_all and Y_all datasets\n",
    "X_all = np.copy(input)\n",
    "Y_all = np.copy(temp)\n",
    "\n",
    "##training data partition out\n",
    "X_train = X_all[: 57 * lag, :]\n",
    "Y_train = Y_all[: 57 * lag]\n",
    "\n",
    "# testing data partition out\n",
    "X_test = X_all[57 * lag :, :]\n",
    "Y_test = Y_all[57 * lag :]\n",
    "\n",
    "##set fraction of data as 5 years\n",
    "frac_ind = lag * 5"
   ]
  },
  {
   "cell_type": "code",
   "execution_count": 9,
   "id": "91d220ee",
   "metadata": {},
   "outputs": [],
   "source": [
    "##checking my data for NaN of Infs because I need to make sure this doesn't cause\n",
    "# the model to throw back no loss\n",
    "if np.any(np.isnan(X_all)) or np.any(np.isinf(X_all)):\n",
    "    print(\"NaN or Inf values found in X_all!\")\n",
    "\n",
    "if np.any(np.isnan(Y_all)) or np.any(np.isinf(Y_all)):\n",
    "    print(\"NaN or Inf values found in Y_all!\")"
   ]
  },
  {
   "cell_type": "code",
   "execution_count": 10,
   "id": "596c9158",
   "metadata": {
    "scrolled": true
   },
   "outputs": [],
   "source": [
    "##############################################################\n",
    "# ## Begin setting up parts of my model architecture.\n",
    "# This will be the random forest intermission.\n",
    "from sklearn.ensemble import RandomForestRegressor, RandomForestClassifier\n",
    "from sklearn.metrics import accuracy_score\n",
    "from sklearn.model_selection import train_test_split\n",
    "from sklearn.metrics import mean_squared_error, r2_score\n",
    "\n",
    "from sklearn.feature_selection import SelectFromModel\n",
    "from sklearn.feature_selection import SequentialFeatureSelector as SFS\n",
    "from sklearn.model_selection import cross_val_score"
   ]
  },
  {
   "cell_type": "code",
   "execution_count": 11,
   "id": "6d7450c8",
   "metadata": {},
   "outputs": [],
   "source": [
    "#save PREDICTIONS\n",
    "##accuracy scores, just cause. No use otherwise beyond checking for overfit. \n",
    "acc_reg1_val = []\n",
    "acc_reg1_train = []\n",
    "acc_reg1_test = []\n",
    "\n",
    "pred_val1 = []\n",
    "pred_train1 = []\n",
    "pred_test1 = []\n",
    "\n",
    "important = np.empty((100,62)) #cross validation # and # of PCs"
   ]
  },
  {
   "cell_type": "raw",
   "id": "80350094",
   "metadata": {
    "jupyter": {
     "source_hidden": true
    }
   },
   "source": [
    "from sklearn.model_selection import GridSearchCV\n",
    "\n",
    "#hyper parameter grid for testing\n",
    "params = {\n",
    "    'n_estimators': np.arange(100,500,100).tolist(), ##number of hidden decision trees\n",
    "    'max_depth':np.arange(1,20,1).tolist(), #number of branches down allowed. \n",
    "}\n",
    "#GridSearchCV for tuning\n",
    "tuning = GridSearchCV(RandomForestClassifier(random_state=42), params, cv=3)\n",
    "\n",
    "#fit to training data\n",
    "tuning.fit(X_train[frac_ind:,:], Y_train[frac_ind:]) ##subset validation so the first five years are used for validation here \n",
    "\n",
    "#show best params\n",
    "best_rf = tuning.best_estimator_\n",
    "print(best_rf)\n",
    "\n",
    "##try on validation data\n",
    "val_pred_test = best_rf.predict(X_train[:frac_ind,:])\n",
    "val_accuracy = accuracy_score(Y_train[:frac_ind], val_pred_test)\n",
    "                             \n",
    "print(f\"Tuned Params Validation Accuracy: {val_accuracy}\")"
   ]
  },
  {
   "cell_type": "code",
   "execution_count": 12,
   "id": "a000b5d4",
   "metadata": {},
   "outputs": [
    {
     "name": "stdout",
     "output_type": "stream",
     "text": [
      "Initalizing RF Model\n"
     ]
    }
   ],
   "source": [
    "#create initial regressor for rf to do feature selection \n",
    "print(\"Initalizing RF Model\")\n",
    "rf_reg1 = RandomForestClassifier(max_depth=3, n_estimators=750, random_state=42)"
   ]
  },
  {
   "cell_type": "code",
   "execution_count": 13,
   "id": "5f0a1d48",
   "metadata": {
    "scrolled": true
   },
   "outputs": [
    {
     "name": "stdout",
     "output_type": "stream",
     "text": [
      "Starting Cross Validation ...\n",
      "Cross Val #:0\n",
      "Selected Features: Int64Index([0, 1, 3, 5, 10, 13, 14, 16, 17, 18, 25, 49, 53, 54, 56, 57, 59], dtype='int64')\n",
      "Cross Val #:1\n",
      "Selected Features: Int64Index([0, 1, 5, 10, 11, 13, 14, 16, 18, 37, 47, 53, 54, 56, 57], dtype='int64')\n",
      "Cross Val #:2\n",
      "Selected Features: Int64Index([0, 1, 3, 5, 10, 13, 14, 16, 17, 18, 19, 25, 53, 54, 56, 59], dtype='int64')\n",
      "Cross Val #:3\n",
      "Selected Features: Int64Index([0, 1, 4, 5, 10, 13, 14, 16, 17, 19, 28, 53, 54, 56, 57, 59], dtype='int64')\n",
      "Cross Val #:4\n",
      "Selected Features: Int64Index([0, 1, 3, 4, 5, 10, 13, 14, 16, 17, 19, 25, 28, 53, 54, 56, 57, 59], dtype='int64')\n",
      "Cross Val #:5\n",
      "Selected Features: Int64Index([0, 1, 5, 7, 10, 11, 13, 14, 16, 18, 19, 25, 37, 47, 49, 53, 54, 56,\n",
      "            57, 59],\n",
      "           dtype='int64')\n",
      "Cross Val #:6\n",
      "Selected Features: Int64Index([0, 1, 4, 5, 10, 11, 14, 16, 17, 18, 19, 37, 47, 53, 54, 56, 57,\n",
      "            59],\n",
      "           dtype='int64')\n",
      "Cross Val #:7\n",
      "Selected Features: Int64Index([0, 1, 4, 5, 10, 13, 14, 16, 18, 37, 49, 53, 54, 56, 57, 59, 60], dtype='int64')\n",
      "Cross Val #:8\n",
      "Selected Features: Int64Index([0, 1, 3, 4, 5, 10, 13, 14, 16, 17, 19, 28, 53, 54, 56, 57, 59], dtype='int64')\n",
      "Cross Val #:9\n",
      "Selected Features: Int64Index([0, 1, 4, 5, 10, 13, 14, 16, 17, 18, 19, 28, 53, 54, 56, 57, 59], dtype='int64')\n",
      "Cross Val #:10\n",
      "Selected Features: Int64Index([0, 1, 3, 4, 5, 10, 13, 14, 16, 18, 34, 37, 49, 53, 54, 56, 59], dtype='int64')\n",
      "Cross Val #:11\n",
      "Selected Features: Int64Index([0, 1, 3, 5, 7, 10, 14, 16, 18, 19, 25, 28, 37, 53, 54, 56, 57, 59], dtype='int64')\n",
      "Cross Val #:12\n",
      "Selected Features: Int64Index([0, 1, 4, 5, 10, 13, 14, 16, 18, 25, 34, 37, 49, 53, 54, 56, 59], dtype='int64')\n",
      "Cross Val #:13\n",
      "Selected Features: Int64Index([0, 1, 5, 7, 10, 11, 13, 14, 16, 18, 19, 37, 47, 49, 53, 54, 56, 57,\n",
      "            59],\n",
      "           dtype='int64')\n",
      "Cross Val #:14\n",
      "Selected Features: Int64Index([0, 1, 5, 10, 13, 14, 16, 17, 18, 37, 47, 49, 53, 54, 56, 59], dtype='int64')\n",
      "Cross Val #:15\n",
      "Selected Features: Int64Index([0, 1, 3, 5, 10, 11, 13, 14, 16, 17, 19, 25, 28, 35, 37, 49, 53, 54,\n",
      "            56, 57, 59],\n",
      "           dtype='int64')\n",
      "Cross Val #:16\n",
      "Selected Features: Int64Index([0, 1, 2, 3, 5, 10, 12, 13, 14, 16, 17, 18, 19, 37, 47, 53, 54, 56,\n",
      "            57, 59],\n",
      "           dtype='int64')\n",
      "Cross Val #:17\n",
      "Selected Features: Int64Index([0, 1, 4, 5, 10, 13, 14, 16, 18, 25, 28, 34, 37, 53, 54, 56, 59], dtype='int64')\n",
      "Cross Val #:18\n",
      "Selected Features: Int64Index([0, 1, 3, 5, 7, 10, 13, 14, 16, 18, 19, 25, 28, 37, 53, 54, 56, 59], dtype='int64')\n",
      "Cross Val #:19\n",
      "Selected Features: Int64Index([0, 1, 3, 5, 10, 12, 13, 14, 16, 18, 37, 47, 53, 54, 56, 57], dtype='int64')\n",
      "Cross Val #:20\n",
      "Selected Features: Int64Index([0, 1, 5, 7, 10, 13, 14, 16, 18, 19, 25, 28, 37, 47, 53, 54, 56, 57,\n",
      "            59],\n",
      "           dtype='int64')\n",
      "Cross Val #:21\n",
      "Selected Features: Int64Index([0, 1, 3, 4, 5, 7, 10, 12, 14, 16, 17, 18, 19, 37, 47, 49, 53, 54,\n",
      "            56, 57, 59],\n",
      "           dtype='int64')\n",
      "Cross Val #:22\n",
      "Selected Features: Int64Index([0, 1, 5, 10, 13, 14, 16, 17, 18, 19, 25, 28, 37, 49, 53, 54, 56,\n",
      "            57, 59],\n",
      "           dtype='int64')\n",
      "Cross Val #:23\n",
      "Selected Features: Int64Index([0, 1, 3, 4, 5, 10, 12, 13, 14, 16, 17, 18, 19, 37, 47, 49, 53, 54,\n",
      "            56, 57, 59],\n",
      "           dtype='int64')\n",
      "Cross Val #:24\n",
      "Selected Features: Int64Index([0, 1, 3, 5, 7, 10, 13, 14, 16, 18, 28, 37, 53, 54, 56, 59], dtype='int64')\n",
      "Cross Val #:25\n",
      "Selected Features: Int64Index([0, 1, 2, 5, 10, 12, 13, 14, 16, 17, 18, 19, 35, 37, 47, 49, 53, 54,\n",
      "            56, 57, 59],\n",
      "           dtype='int64')\n",
      "Cross Val #:26\n",
      "Selected Features: Int64Index([0, 1, 3, 5, 10, 13, 14, 16, 17, 19, 35, 37, 47, 49, 53, 54, 56, 57,\n",
      "            59],\n",
      "           dtype='int64')\n",
      "Cross Val #:27\n",
      "Selected Features: Int64Index([0, 1, 4, 5, 10, 13, 14, 16, 18, 25, 34, 37, 49, 53, 54, 56, 59], dtype='int64')\n",
      "Cross Val #:28\n",
      "Selected Features: Int64Index([0, 1, 3, 5, 10, 13, 14, 16, 17, 18, 37, 47, 49, 53, 54, 56, 57,\n",
      "            59],\n",
      "           dtype='int64')\n",
      "Cross Val #:29\n",
      "Selected Features: Int64Index([0, 1, 3, 5, 7, 10, 14, 16, 18, 19, 28, 37, 53, 54, 56, 57, 59], dtype='int64')\n",
      "Cross Val #:30\n",
      "Selected Features: Int64Index([0, 1, 3, 5, 10, 12, 13, 14, 16, 17, 18, 19, 37, 47, 49, 53, 54, 56,\n",
      "            57, 59],\n",
      "           dtype='int64')\n",
      "Cross Val #:31\n",
      "Selected Features: Int64Index([0, 1, 3, 5, 10, 13, 14, 16, 17, 18, 25, 47, 53, 54, 56, 59], dtype='int64')\n",
      "Cross Val #:32\n",
      "Selected Features: Int64Index([0, 1, 4, 5, 10, 13, 14, 16, 18, 25, 34, 37, 49, 53, 54, 56, 59], dtype='int64')\n",
      "Cross Val #:33\n",
      "Selected Features: Int64Index([0, 1, 3, 5, 7, 10, 14, 16, 18, 19, 28, 35, 37, 53, 54, 56, 57, 59], dtype='int64')\n",
      "Cross Val #:34\n",
      "Selected Features: Int64Index([0, 1, 5, 10, 12, 13, 14, 16, 17, 18, 19, 25, 28, 35, 37, 47, 53,\n",
      "            54, 56, 57, 59],\n",
      "           dtype='int64')\n",
      "Cross Val #:35\n",
      "Selected Features: Int64Index([0, 1, 3, 5, 7, 10, 13, 14, 16, 18, 28, 37, 53, 54, 56, 59], dtype='int64')\n",
      "Cross Val #:36\n",
      "Selected Features: Int64Index([0, 1, 3, 5, 10, 11, 13, 14, 16, 17, 19, 25, 28, 35, 37, 49, 53, 54,\n",
      "            56, 57, 59],\n",
      "           dtype='int64')\n",
      "Cross Val #:37\n",
      "Selected Features: Int64Index([0, 1, 5, 10, 13, 14, 16, 17, 18, 37, 47, 49, 53, 54, 56, 59], dtype='int64')\n",
      "Cross Val #:38\n",
      "Selected Features: Int64Index([0, 1, 3, 5, 7, 10, 11, 13, 14, 16, 18, 19, 25, 28, 37, 47, 49, 53,\n",
      "            54, 56, 59],\n",
      "           dtype='int64')\n",
      "Cross Val #:39\n",
      "Selected Features: Int64Index([0, 1, 5, 10, 11, 12, 13, 14, 16, 17, 18, 19, 37, 47, 49, 53, 54,\n",
      "            56, 57],\n",
      "           dtype='int64')\n",
      "Cross Val #:40\n",
      "Selected Features: Int64Index([0, 1, 4, 5, 10, 13, 14, 16, 18, 25, 28, 34, 37, 53, 54, 56, 59], dtype='int64')\n",
      "Cross Val #:41\n",
      "Selected Features: Int64Index([0, 1, 2, 3, 5, 10, 12, 13, 14, 16, 17, 18, 19, 37, 47, 49, 53, 54,\n",
      "            56, 57, 59],\n",
      "           dtype='int64')\n",
      "Cross Val #:42\n",
      "Selected Features: Int64Index([0, 1, 3, 5, 10, 11, 13, 14, 16, 17, 18, 19, 37, 49, 53, 54, 56, 57,\n",
      "            59],\n",
      "           dtype='int64')\n",
      "Cross Val #:43\n",
      "Selected Features: Int64Index([0, 1, 5, 7, 10, 13, 14, 16, 18, 19, 25, 37, 47, 49, 53, 54, 56, 57,\n",
      "            59],\n",
      "           dtype='int64')\n",
      "Cross Val #:44\n",
      "Selected Features: Int64Index([0, 1, 3, 5, 7, 10, 14, 16, 18, 19, 28, 35, 37, 53, 54, 56, 57, 59], dtype='int64')\n",
      "Cross Val #:45\n",
      "Selected Features: Int64Index([0, 1, 5, 10, 11, 13, 14, 16, 17, 18, 19, 28, 37, 49, 53, 54, 56,\n",
      "            57],\n",
      "           dtype='int64')\n",
      "Cross Val #:46\n",
      "Selected Features: Int64Index([0, 1, 3, 5, 10, 13, 14, 16, 17, 18, 37, 47, 49, 53, 54, 56, 57,\n",
      "            59],\n",
      "           dtype='int64')\n",
      "Cross Val #:47\n",
      "Selected Features: Int64Index([0, 1, 3, 5, 10, 11, 13, 14, 16, 17, 18, 19, 28, 37, 49, 53, 54, 56,\n",
      "            57],\n",
      "           dtype='int64')\n",
      "Cross Val #:48\n",
      "Selected Features: Int64Index([0, 1, 5, 7, 10, 11, 13, 14, 16, 18, 19, 25, 37, 47, 49, 53, 54, 56,\n",
      "            59],\n",
      "           dtype='int64')\n",
      "Cross Val #:49\n",
      "Selected Features: Int64Index([0, 1, 4, 5, 7, 10, 13, 14, 16, 18, 25, 28, 37, 49, 53, 54, 56, 59], dtype='int64')\n",
      "Cross Val #:50\n",
      "Selected Features: Int64Index([0, 1, 5, 7, 10, 11, 12, 13, 14, 16, 17, 18, 19, 37, 47, 49, 53, 54,\n",
      "            56, 57],\n",
      "           dtype='int64')\n",
      "Cross Val #:51\n",
      "Selected Features: Int64Index([0, 1, 3, 5, 7, 10, 13, 14, 16, 18, 19, 25, 28, 37, 53, 54, 56, 57,\n",
      "            59],\n",
      "           dtype='int64')\n",
      "Cross Val #:52\n",
      "Selected Features: Int64Index([0, 1, 3, 5, 7, 10, 13, 14, 16, 18, 19, 28, 37, 49, 53, 54, 56, 57,\n",
      "            59],\n",
      "           dtype='int64')\n",
      "Cross Val #:53\n",
      "Selected Features: Int64Index([0, 1, 3, 5, 10, 12, 13, 14, 16, 18, 19, 25, 28, 37, 47, 53, 54, 56,\n",
      "            57],\n",
      "           dtype='int64')\n",
      "Cross Val #:54\n",
      "Selected Features: Int64Index([0, 1, 3, 4, 5, 10, 11, 13, 14, 16, 17, 18, 19, 25, 28, 37, 53, 54,\n",
      "            56],\n",
      "           dtype='int64')\n",
      "Cross Val #:55\n",
      "Selected Features: Int64Index([0, 1, 4, 5, 10, 13, 14, 16, 18, 25, 34, 37, 49, 53, 54, 56, 59], dtype='int64')\n",
      "Cross Val #:56\n",
      "Selected Features: Int64Index([0, 1, 3, 5, 10, 11, 13, 14, 16, 17, 19, 25, 28, 35, 37, 49, 53, 54,\n",
      "            56, 57, 59],\n",
      "           dtype='int64')\n",
      "Cross Val #:57\n",
      "Selected Features: Int64Index([0, 1, 5, 10, 11, 12, 13, 14, 16, 17, 18, 19, 25, 28, 37, 53, 54,\n",
      "            56],\n",
      "           dtype='int64')\n",
      "Cross Val #:58\n",
      "Selected Features: Int64Index([0, 1, 3, 4, 5, 7, 10, 13, 14, 16, 18, 25, 37, 53, 54, 56, 57, 59], dtype='int64')\n",
      "Cross Val #:59\n",
      "Selected Features: Int64Index([0, 1, 5, 10, 13, 14, 16, 18, 25, 28, 35, 37, 53, 54, 56, 57, 59], dtype='int64')\n",
      "Cross Val #:60\n",
      "Selected Features: Int64Index([0, 1, 3, 5, 10, 11, 13, 14, 16, 17, 18, 19, 28, 37, 49, 53, 54, 56,\n",
      "            57, 59],\n",
      "           dtype='int64')\n",
      "Cross Val #:61\n",
      "Selected Features: Int64Index([0, 1, 3, 4, 5, 10, 13, 14, 16, 17, 19, 28, 53, 54, 56, 57, 59], dtype='int64')\n",
      "Cross Val #:62\n",
      "Selected Features: Int64Index([0, 1, 3, 4, 5, 7, 10, 13, 14, 16, 17, 18, 19, 37, 47, 49, 53, 54,\n",
      "            56, 57, 59],\n",
      "           dtype='int64')\n",
      "Cross Val #:63\n",
      "Selected Features: Int64Index([0, 1, 5, 10, 13, 14, 16, 18, 19, 25, 37, 49, 53, 54, 56, 57], dtype='int64')\n",
      "Cross Val #:64\n",
      "Selected Features: Int64Index([0, 1, 3, 5, 7, 10, 13, 14, 16, 18, 19, 25, 28, 37, 47, 53, 54, 56,\n",
      "            59],\n",
      "           dtype='int64')\n",
      "Cross Val #:65\n",
      "Selected Features: Int64Index([0, 1, 3, 5, 10, 11, 13, 14, 16, 17, 18, 19, 28, 37, 49, 53, 54, 56,\n",
      "            57, 59],\n",
      "           dtype='int64')\n",
      "Cross Val #:66\n",
      "Selected Features: Int64Index([0, 1, 3, 4, 5, 10, 12, 14, 16, 17, 18, 19, 37, 47, 49, 53, 54, 56,\n",
      "            57, 59],\n",
      "           dtype='int64')\n",
      "Cross Val #:67\n",
      "Selected Features: Int64Index([ 0,  1,  3,  4,  5,  7, 10, 12, 13, 14, 16, 17, 18, 19, 37, 47, 49,\n",
      "            53, 54, 56, 57, 59],\n",
      "           dtype='int64')\n",
      "Cross Val #:68\n",
      "Selected Features: Int64Index([0, 1, 4, 5, 10, 11, 14, 16, 17, 18, 19, 37, 47, 49, 53, 54, 56, 57,\n",
      "            59],\n",
      "           dtype='int64')\n",
      "Cross Val #:69\n",
      "Selected Features: Int64Index([0, 1, 5, 10, 12, 13, 14, 16, 18, 19, 25, 28, 35, 37, 53, 54, 56,\n",
      "            57, 59],\n",
      "           dtype='int64')\n",
      "Cross Val #:70\n",
      "Selected Features: Int64Index([0, 1, 5, 10, 11, 13, 14, 16, 17, 18, 19, 37, 47, 49, 53, 54, 56,\n",
      "            57],\n",
      "           dtype='int64')\n",
      "Cross Val #:71\n",
      "Selected Features: Int64Index([0, 1, 4, 5, 10, 11, 14, 16, 17, 18, 19, 37, 47, 49, 53, 54, 56, 57,\n",
      "            59],\n",
      "           dtype='int64')\n",
      "Cross Val #:72\n",
      "Selected Features: Int64Index([0, 1, 3, 5, 7, 10, 13, 14, 16, 18, 19, 28, 37, 47, 53, 54, 56, 59], dtype='int64')\n",
      "Cross Val #:73\n",
      "Selected Features: Int64Index([0, 1, 3, 5, 10, 13, 14, 16, 17, 19, 25, 28, 35, 37, 49, 53, 54, 56,\n",
      "            57, 59],\n",
      "           dtype='int64')\n",
      "Cross Val #:74\n",
      "Selected Features: Int64Index([0, 1, 5, 10, 11, 13, 14, 16, 17, 18, 19, 25, 28, 37, 49, 53, 54,\n",
      "            56, 57],\n",
      "           dtype='int64')\n",
      "Cross Val #:75\n",
      "Selected Features: Int64Index([0, 1, 3, 5, 10, 14, 16, 17, 35, 37, 47, 49, 53, 54, 56, 57, 59], dtype='int64')\n",
      "Cross Val #:76\n",
      "Selected Features: Int64Index([0, 1, 3, 5, 7, 10, 13, 14, 16, 18, 19, 25, 28, 37, 47, 53, 54, 56,\n",
      "            59],\n",
      "           dtype='int64')\n",
      "Cross Val #:77\n",
      "Selected Features: Int64Index([0, 1, 3, 4, 5, 10, 13, 14, 16, 18, 19, 37, 49, 53, 54, 56, 57, 59], dtype='int64')\n",
      "Cross Val #:78\n",
      "Selected Features: Int64Index([0, 1, 3, 5, 10, 13, 14, 16, 17, 18, 37, 47, 49, 53, 54, 56, 57,\n",
      "            59],\n",
      "           dtype='int64')\n",
      "Cross Val #:79\n",
      "Selected Features: Int64Index([0, 1, 3, 5, 10, 12, 13, 14, 16, 18, 19, 25, 35, 37, 47, 53, 54, 56,\n",
      "            57],\n",
      "           dtype='int64')\n",
      "Cross Val #:80\n",
      "Selected Features: Int64Index([0, 1, 3, 5, 10, 12, 13, 14, 16, 18, 19, 25, 35, 37, 53, 54, 56,\n",
      "            57],\n",
      "           dtype='int64')\n",
      "Cross Val #:81\n",
      "Selected Features: Int64Index([0, 1, 3, 5, 10, 11, 13, 14, 16, 17, 18, 19, 28, 37, 49, 53, 54, 56,\n",
      "            57, 59],\n",
      "           dtype='int64')\n",
      "Cross Val #:82\n",
      "Selected Features: Int64Index([0, 1, 3, 4, 5, 10, 13, 14, 16, 17, 18, 19, 28, 53, 54, 56, 57, 59], dtype='int64')\n",
      "Cross Val #:83\n",
      "Selected Features: Int64Index([0, 1, 3, 5, 10, 11, 13, 14, 16, 18, 37, 47, 53, 54, 56, 57], dtype='int64')\n",
      "Cross Val #:84\n",
      "Selected Features: Int64Index([0, 1, 3, 5, 7, 10, 11, 13, 14, 16, 18, 19, 25, 37, 47, 49, 53, 54,\n",
      "            56, 57],\n",
      "           dtype='int64')\n",
      "Cross Val #:85\n",
      "Selected Features: Int64Index([0, 1, 4, 5, 10, 13, 14, 16, 18, 34, 37, 53, 54, 56, 59], dtype='int64')\n",
      "Cross Val #:86\n",
      "Selected Features: Int64Index([0, 1, 3, 4, 5, 10, 11, 13, 14, 16, 17, 19, 37, 53, 54, 56, 57, 59], dtype='int64')\n",
      "Cross Val #:87\n",
      "Selected Features: Int64Index([0, 1, 3, 4, 5, 10, 13, 14, 16, 17, 19, 28, 53, 54, 56, 57, 59], dtype='int64')\n",
      "Cross Val #:88\n",
      "Selected Features: Int64Index([0, 1, 3, 5, 10, 13, 14, 16, 17, 18, 25, 37, 47, 49, 53, 54, 56, 57,\n",
      "            59],\n",
      "           dtype='int64')\n",
      "Cross Val #:89\n",
      "Selected Features: Int64Index([0, 1, 5, 7, 10, 13, 14, 16, 18, 25, 28, 37, 47, 53, 54, 56, 57,\n",
      "            59],\n",
      "           dtype='int64')\n",
      "Cross Val #:90\n",
      "Selected Features: Int64Index([0, 1, 4, 5, 10, 13, 14, 16, 18, 37, 49, 53, 54, 56, 59], dtype='int64')\n",
      "Cross Val #:91\n",
      "Selected Features: Int64Index([0, 1, 3, 5, 7, 10, 14, 16, 18, 19, 28, 37, 53, 54, 56, 57, 59], dtype='int64')\n",
      "Cross Val #:92\n",
      "Selected Features: Int64Index([0, 1, 5, 10, 13, 14, 16, 17, 18, 37, 47, 49, 53, 54, 56, 59], dtype='int64')\n",
      "Cross Val #:93\n",
      "Selected Features: Int64Index([0, 1, 5, 10, 12, 13, 14, 16, 17, 18, 19, 25, 28, 35, 37, 47, 53,\n",
      "            54, 56, 57, 59],\n",
      "           dtype='int64')\n",
      "Cross Val #:94\n",
      "Selected Features: Int64Index([0, 1, 3, 4, 5, 10, 13, 14, 16, 17, 18, 37, 47, 49, 53, 54, 56, 57,\n",
      "            59],\n",
      "           dtype='int64')\n",
      "Cross Val #:95\n",
      "Selected Features: Int64Index([0, 1, 3, 5, 7, 10, 13, 14, 16, 18, 19, 25, 28, 37, 53, 54, 56, 59], dtype='int64')\n",
      "Cross Val #:96\n",
      "Selected Features: Int64Index([0, 1, 4, 5, 10, 11, 13, 14, 16, 17, 18, 19, 37, 49, 53, 54, 56, 57,\n",
      "            59],\n",
      "           dtype='int64')\n",
      "Cross Val #:97\n",
      "Selected Features: Int64Index([0, 1, 3, 4, 5, 10, 11, 13, 14, 16, 17, 18, 19, 37, 53, 54, 56, 57,\n",
      "            59],\n",
      "           dtype='int64')\n",
      "Cross Val #:98\n",
      "Selected Features: Int64Index([0, 1, 3, 5, 7, 10, 11, 13, 14, 16, 18, 19, 25, 37, 47, 53, 54, 56,\n",
      "            57, 59],\n",
      "           dtype='int64')\n",
      "Cross Val #:99\n",
      "Selected Features: Int64Index([0, 1, 3, 5, 10, 11, 13, 14, 16, 18, 19, 25, 28, 37, 47, 53, 54, 56,\n",
      "            59],\n",
      "           dtype='int64')\n"
     ]
    }
   ],
   "source": [
    "print(\"Starting Cross Validation ...\")\n",
    "##make loop for cross validation \n",
    "for l in range(0,100):\n",
    "    print(\"Cross Val #:\"+str(l))\n",
    "    ##randomly choose a fraction of events for validation and training\n",
    "    start = random.randrange(len(X_train[:,0])-frac_ind)\n",
    "    end = start+(frac_ind)\n",
    "\n",
    "    X_val = X_train[start:end,:]\n",
    "    Y_val = Y_train[start:end]\n",
    "    \n",
    "    X_train1 = X_train[0:start]\n",
    "    Y_train1 = Y_train[0:start]\n",
    "    X_train2 = X_train[end:]\n",
    "    Y_train2 = Y_train[end:]\n",
    "\n",
    "    ##concatenate all of these\n",
    "    X_tr = np.concatenate([X_train1,X_train2], axis = 0)\n",
    "    Y_tr = np.concatenate((Y_train1,Y_train2))\n",
    "\n",
    "    #train rf\n",
    "    rf_reg1.fit(X_tr, Y_tr)\n",
    "\n",
    "    #prediction with validation data\n",
    "    pred_val = rf_reg1.predict(X_val)\n",
    "    pred_val1.append(rf_reg1.predict_proba(X_val))\n",
    "    acc_reg1_val.append(accuracy_score(Y_val, pred_val))\n",
    "    \n",
    "    #prediction with training data\n",
    "    pred_train = rf_reg1.predict(X_tr)\n",
    "    pred_train1.append(rf_reg1.predict_proba(X_tr))\n",
    "    acc_reg1_train.append(accuracy_score(Y_tr, pred_train))\n",
    "\n",
    "    #prediction with testing data\n",
    "    pred_test = rf_reg1.predict(X_test)\n",
    "    pred_test1.append(rf_reg1.predict_proba(X_test))\n",
    "    acc_reg1_test.append(accuracy_score(Y_test, pred_test))\n",
    "\n",
    "    #prepare to show relevant features by actually ... choosing them \n",
    "    selector = SelectFromModel(rf_reg1, threshold=\"mean\", max_features=None)\n",
    "    X_train_selected = selector.transform(X_tr)\n",
    "    X_test_selected = selector.transform(X_test)\n",
    "\n",
    "    #print names of selected features\n",
    "    selected_features = input.columns[selector.get_support()]\n",
    "    print(f'Selected Features: {selected_features}')\n",
    "\n",
    "    importances = rf_reg1.feature_importances_\n",
    "    important[l,:] = importances[:]"
   ]
  },
  {
   "cell_type": "code",
   "execution_count": 14,
   "id": "2e14d3d3",
   "metadata": {},
   "outputs": [
    {
     "name": "stdout",
     "output_type": "stream",
     "text": [
      "###################################################\n",
      "Model CV Completed.\n"
     ]
    }
   ],
   "source": [
    "print('###################################################')\n",
    "print(\"Model CV Completed.\")"
   ]
  },
  {
   "cell_type": "code",
   "execution_count": 15,
   "id": "79bf4148",
   "metadata": {},
   "outputs": [
    {
     "name": "stdout",
     "output_type": "stream",
     "text": [
      "Accuracy, Validation: 62.96%\n",
      "Accuracy, Training: 63.67%\n",
      "Accuracy, Testing: 60.22%\n"
     ]
    }
   ],
   "source": [
    "print(f'Accuracy, Validation: {np.mean(acc_reg1_val) * 100:.2f}%')\n",
    "print(f'Accuracy, Training: {np.mean(acc_reg1_train) * 100:.2f}%')\n",
    "print(f'Accuracy, Testing: {np.mean(acc_reg1_test) * 100:.2f}%')"
   ]
  },
  {
   "cell_type": "code",
   "execution_count": 16,
   "id": "5c0137ad",
   "metadata": {
    "jupyter": {
     "source_hidden": true
    }
   },
   "outputs": [],
   "source": [
    "pred_train1 = np.array(pred_train1)\n",
    "pred_test1 = np.array(pred_test1)\n",
    "pred_val1 = np.array(pred_val1)"
   ]
  },
  {
   "cell_type": "code",
   "execution_count": 17,
   "id": "a6cddcd7",
   "metadata": {},
   "outputs": [
    {
     "data": {
      "image/png": "[encoded data removed]",
      "text/plain": [
       "<Figure size 1000x1000 with 6 Axes>"
      ]
     },
     "metadata": {},
     "output_type": "display_data"
    }
   ],
   "source": [
    "bins = np.linspace(0.2, 0.8, 37)  #10 bins from 0.4 to 1\n",
    "##bin the probabilities\n",
    "counts_neg_test, edges_neg_test = np.histogram(pred_test1[:,0], bins=bins)\n",
    "counts_pos_test, edges_pos_test = np.histogram(pred_test1[:,1], bins=bins)\n",
    "\n",
    "counts_neg_train, edges_neg_train = np.histogram(pred_train1[:,0], bins=bins)\n",
    "counts_pos_train, edges_pos_train = np.histogram(pred_train1[:,1], bins=bins)\n",
    "\n",
    "counts_neg_val, edges_neg_val = np.histogram(pred_val1[:,0], bins=bins)\n",
    "counts_pos_val, edges_pos_val = np.histogram(pred_val1[:,1], bins=bins)\n",
    "\n",
    "fig, axes = plt.subplots(3, 2, figsize=(10,10))\n",
    "ax1, ax2, ax3, ax4, ax5, ax6 = axes.flatten()\n",
    "\n",
    "ax1.bar(edges_neg_train[:-1], counts_neg_train, width=np.diff(edges_neg_train), \n",
    "        edgecolor='black', alpha=0.5, align='edge', color='blue')\n",
    "ax1.set_title('Negative Training Predictions', fontsize=13)\n",
    "ax1.set_xlabel('Probability')\n",
    "ax1.set_ylabel('Count')\n",
    "\n",
    "ax2.bar(edges_pos_train[:-1], counts_pos_train, width=np.diff(edges_pos_train), \n",
    "        edgecolor='black', alpha=0.5, align='edge', color='orange')\n",
    "ax2.set_title('Positive Training Predictions', fontsize=13)\n",
    "ax2.set_xlabel('Probability')\n",
    "ax2.set_ylabel('Count')\n",
    "\n",
    "ax3.bar(edges_neg_val[:-1], counts_neg_val, width=np.diff(edges_neg_val), \n",
    "        edgecolor='black', alpha=0.5, align='edge', color='blue')\n",
    "ax3.set_title('Negative Validation Predictions', fontsize=13)\n",
    "ax3.set_xlabel('Probability')\n",
    "ax3.set_ylabel('Count')\n",
    "\n",
    "ax4.bar(edges_pos_val[:-1], counts_pos_val, width=np.diff(edges_pos_val), \n",
    "        edgecolor='black', alpha=0.5, align='edge', color='orange')\n",
    "ax4.set_title('Positive Validation Predictions', fontsize=13)\n",
    "ax4.set_xlabel('Probability')\n",
    "ax4.set_ylabel('Count')\n",
    "\n",
    "ax5.bar(edges_neg_test[:-1], counts_neg_test, width=np.diff(edges_neg_test), \n",
    "        edgecolor='black', alpha=0.5, align='edge', color='blue')\n",
    "ax5.set_title('Negative Testing Predictions', fontsize=13)\n",
    "ax5.set_xlabel('Probability')\n",
    "ax5.set_ylabel('Count')\n",
    "\n",
    "ax6.bar(edges_pos_test[:-1], counts_pos_test, width=np.diff(edges_pos_test), \n",
    "        edgecolor='black', alpha=0.5, align='edge', color='orange')\n",
    "ax6.set_title('Positive Testing Predictions', fontsize=13)\n",
    "ax6.set_xlabel('Probability')\n",
    "ax6.set_ylabel('Count')\n",
    "\n",
    "plt.tight_layout()\n",
    "fig.suptitle(\"Probability Distributions for \"+region+\" at 20-days Lead\",y=1.02,fontsize=16)\n",
    "plt.savefig(\"../images/probability_distrib_\"+reg+\"20.png\")"
   ]
  },
  {
   "cell_type": "code",
   "execution_count": 18,
   "id": "32c63695",
   "metadata": {},
   "outputs": [
    {
     "data": {
      "text/plain": [
       "(62,)"
      ]
     },
     "execution_count": 18,
     "metadata": {},
     "output_type": "execute_result"
    }
   ],
   "source": [
    "imp = np.nanmean(important, axis = 0)\n",
    "imp.shape"
   ]
  },
  {
   "cell_type": "code",
   "execution_count": 19,
   "id": "5cbc943d",
   "metadata": {},
   "outputs": [
    {
     "data": {
      "image/png": "[encoded data removed]",
      "text/plain": [
       "<Figure size 900x600 with 1 Axes>"
      ]
     },
     "metadata": {},
     "output_type": "display_data"
    }
   ],
   "source": [
    "#plot features by relative importance\n",
    "indices = np.argsort(imp)[::-1]  #sort by importance\n",
    "c = [\"navy\",\"royalblue\",\"slateblue\",\"blueviolet\",\"darkviolet\",\"purple\",\"mediumvioletred\",\"magenta\"]\n",
    "\n",
    "plt.figure(figsize=(9, 6))\n",
    "plt.title(\"Average Feature Importances Over \"+region+\" for 20-day Lead\",fontsize =18)\n",
    "plt.barh(range(0,20), imp[indices[:20]], align=\"center\", color = c)\n",
    "plt.yticks(range(0,20), input.columns[indices[:20]],fontsize =14)\n",
    "plt.xticks(fontsize =14)\n",
    "plt.xlabel(\"Relative Importance\",fontsize =16)\n",
    "plt.gca().invert_yaxis()\n",
    "plt.savefig(\"../images/20day_\"+reg+\".png\")"
   ]
  },
  {
   "cell_type": "code",
   "execution_count": 20,
   "id": "ccf821b3",
   "metadata": {},
   "outputs": [
    {
     "data": {
      "text/plain": [
       "Int64Index([1, 56, 54, 5, 0, 14, 10, 16, 53, 18, 37, 13, 59, 19, 57, 3, 49, 17,\n",
       "            25, 11],\n",
       "           dtype='int64')"
      ]
     },
     "execution_count": 20,
     "metadata": {},
     "output_type": "execute_result"
    }
   ],
   "source": [
    "input.columns[indices[:20]]"
   ]
  },
  {
   "cell_type": "code",
   "execution_count": 21,
   "id": "bbb2e784",
   "metadata": {},
   "outputs": [],
   "source": [
    "##for the updated times and 100 CVs\n",
    "\n",
    "#EUROPE\n",
    "#Int64Index([1, 56, 54, 33, 17, 2, 9, 57, 0, 31, 20, 16, 53, 19, 26, 36, 18, 21, 22, 5],dtype='int64')\n",
    "#Accuracy, Validation: 65.59%\n",
    "#Accuracy, Training: 67.08%\n",
    "#Accuracy, Testing: 66.75%\n",
    "\n",
    "##CANADA\n",
    "#Int64Index([56, 1, 0, 55, 2, 4, 57, 53, 25, 17, 22, 54, 13, 26, 38, 9, 12, 30, 14, 37],dtype='int64')\n",
    "#Accuracy, Validation: 77.94%\n",
    "#Accuracy, Training: 79.20%\n",
    "#Accuracy, Testing: 80.59%\n",
    "\n",
    "##SE US\n",
    "#Int64Index([1, 56, 54, 5, 0, 14, 10, 16, 53, 18, 37, 13, 59, 19, 57, 3, 49, 17,25, 11],dtype='int64')\n",
    "#Accuracy, Validation: 62.96%\n",
    "#Accuracy, Training: 63.67%\n",
    "#Accuracy, Testing: 60.22%"
   ]
  },
  {
   "cell_type": "code",
   "execution_count": 22,
   "id": "7684d76a",
   "metadata": {
    "jupyter": {
     "source_hidden": true
    }
   },
   "outputs": [
    {
     "data": {
      "text/plain": [
       "\"\\n##Europe\\nIndex([1, 56, 0, 54, 9, 57, 55, 3, 26, 4], dtype='int64')\\nAccuracy, Validation: 70.32%\\nAccuracy, Training: 71.62%\\nAccuracy, Testing: 70.81%\\n\\n##Nova\\nIndex([1, 56, 0, 55, 2, 53, 54, 9, 4, 22], dtype='int64')\\nAccuracy, Validation: 80.75%\\nAccuracy, Training: 82.18%\\nAccuracy, Testing: 82.67%\\n\\n##South\\nIndex([1, 56, 54, 53, 55, 4, 3, 21, 14, 0], dtype='int64')\\nAccuracy, Validation: 68.74%\\nAccuracy, Training: 70.58%\\nAccuracy, Testing: 67.67%\\n\""
      ]
     },
     "execution_count": 22,
     "metadata": {},
     "output_type": "execute_result"
    }
   ],
   "source": [
    "#on 100 CVs\n",
    "'''\n",
    "##Europe\n",
    "Index([1, 56, 0, 54, 9, 57, 55, 3, 26, 4], dtype='int64')\n",
    "Accuracy, Validation: 70.32%\n",
    "Accuracy, Training: 71.62%\n",
    "Accuracy, Testing: 70.81%\n",
    "\n",
    "##Nova\n",
    "Index([1, 56, 0, 55, 2, 53, 54, 9, 4, 22], dtype='int64')\n",
    "Accuracy, Validation: 80.75%\n",
    "Accuracy, Training: 82.18%\n",
    "Accuracy, Testing: 82.67%\n",
    "\n",
    "##South\n",
    "Index([1, 56, 54, 53, 55, 4, 3, 21, 14, 0], dtype='int64')\n",
    "Accuracy, Validation: 68.74%\n",
    "Accuracy, Training: 70.58%\n",
    "Accuracy, Testing: 67.67%\n",
    "'''"
   ]
  },
  {
   "cell_type": "code",
   "execution_count": 23,
   "id": "e5f2a1d0",
   "metadata": {
    "jupyter": {
     "source_hidden": true
    }
   },
   "outputs": [],
   "source": [
    "#Remember that for these ...\n",
    "# [0-8] is U wind\n",
    "# [9-52] is EHF\n",
    "# [53-62] is GPH"
   ]
  }
 ],
 "metadata": {
  "kernelspec": {
   "display_name": "Python 3 (ipykernel)",
   "language": "python",
   "name": "python3"
  },
  "language_info": {
   "codemirror_mode": {
    "name": "ipython",
    "version": 3
   },
   "file_extension": ".py",
   "mimetype": "text/x-python",
   "name": "python",
   "nbconvert_exporter": "python",
   "pygments_lexer": "ipython3",
   "version": "3.10.12"
  }
 },
 "nbformat": 4,
 "nbformat_minor": 5
}
