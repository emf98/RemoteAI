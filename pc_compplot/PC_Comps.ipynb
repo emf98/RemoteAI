{
 "cells": [
  {
   "cell_type": "markdown",
   "id": "b77fb6c9",
   "metadata": {},
   "source": [
    "## PC Composites for \"Greatest Value\" Incidences. \n",
    "\n",
    "In other words, just looking at cross sections of these PCs of EOFs for U/GPH/EHF when they are largest + composites of what is physically occurring those same dates. \n",
    "\n",
    "File created 6/24/2025"
   ]
  },
  {
   "cell_type": "markdown",
   "id": "1e5caf8f",
   "metadata": {},
   "source": [
    "This is gonna be a four panel plot: Strong - PC days and composite first row, Strong + PC days and composite second row ... for different PCs. "
   ]
  },
  {
   "cell_type": "code",
   "execution_count": 3,
   "id": "0157cd8c",
   "metadata": {},
   "outputs": [],
   "source": [
    "#import cell first\n",
    "%matplotlib inline\n",
    "import numpy as np\n",
    "import pandas as pd\n",
    "import math\n",
    "from random import seed\n",
    "from random import randint\n",
    "from random import sample\n",
    "import xarray as xr\n",
    "\n",
    "import pickle\n",
    "\n",
    "##plotting related imports\n",
    "import matplotlib.pyplot as plt\n",
    "\n",
    "from EOF_def import EOF_def"
   ]
  },
  {
   "cell_type": "code",
   "execution_count": 4,
   "id": "fc89090a",
   "metadata": {},
   "outputs": [
    {
     "name": "stdout",
     "output_type": "stream",
     "text": [
      "U Wind shape:  (62, 182, 37, 36)\n",
      "EHF shape:  (62, 182, 37, 180)\n",
      "GPH shape:  (62, 182, 37, 180)\n"
     ]
    }
   ],
   "source": [
    "#load input data\n",
    "infile = open(\"../eof_data/vertanom_u.p\",\"rb\",)\n",
    "u_input = pickle.load(infile)  ##vertical U cross section\n",
    "infile.close()\n",
    "\n",
    "infile = open(\"../eof_data/vertanom_ehf.p\",\"rb\",)\n",
    "ehf_input = pickle.load(infile)  ##ZMehf vertical cross section along longitudes\n",
    "infile.close()\n",
    "\n",
    "infile = open(\"../eof_data/vertanom_gph.p\",\"rb\",)\n",
    "gph_input = pickle.load(infile)  ##ZMehf vertical cross section along longitudes\n",
    "infile.close()\n",
    "\n",
    "print(\"U Wind shape: \",u_input.shape)\n",
    "print(\"EHF shape: \",ehf_input.shape)\n",
    "print(\"GPH shape: \",gph_input.shape)"
   ]
  },
  {
   "cell_type": "code",
   "execution_count": 7,
   "id": "4901b59a",
   "metadata": {},
   "outputs": [
    {
     "name": "stdout",
     "output_type": "stream",
     "text": [
      "<class 'numpy.ndarray'> (8370, 10)\n",
      "<class 'numpy.ndarray'> (8370, 45)\n",
      "<class 'numpy.ndarray'> (8370, 10)\n"
     ]
    }
   ],
   "source": [
    "##conduct EOF analysis/retrieve PC timeseries\n",
    "#load input solvers\n",
    "infile = open(\"../eof_analysis/solvers/Usolver_14.p\",\"rb\",)\n",
    "Usolver = pickle.load(infile)  \n",
    "infile.close()\n",
    "\n",
    "infile = open(\"../eof_analysis/solvers/EHFsolver_14.p\",\"rb\",)\n",
    "EHFsolver = pickle.load(infile)  ##ZMehf vertical cross section along longitudes\n",
    "infile.close()\n",
    "\n",
    "infile = open(\"../eof_analysis/solvers/GPHsolver_14.p\",\"rb\",)\n",
    "GPHsolver = pickle.load(infile)  ##ZMehf vertical cross section along longitudes\n",
    "infile.close()\n",
    "\n",
    "\n",
    "## U\n",
    "U_EOF_nw, U_EOF_nw2d, U_eigenv, U_VarEx, U_PC = EOF_def(Usolver, 10)\n",
    "## EHF\n",
    "EHF_EOF_nw, EHF_EOF_nw2d, EHF_eigenv, EHF_VarEx, EHF_PC = EOF_def(EHFsolver, 45)\n",
    "## GPH\n",
    "GPH_EOF_nw, GPH_EOF_nw2d, GPH_eigenv, GPH_VarEx, GPH_PC = EOF_def(GPHsolver, 10)"
   ]
  },
  {
   "cell_type": "code",
   "execution_count": null,
   "id": "18c991a1",
   "metadata": {},
   "outputs": [],
   "source": []
  }
 ],
 "metadata": {
  "kernelspec": {
   "display_name": "Python 3 (ipykernel)",
   "language": "python",
   "name": "python3"
  },
  "language_info": {
   "codemirror_mode": {
    "name": "ipython",
    "version": 3
   },
   "file_extension": ".py",
   "mimetype": "text/x-python",
   "name": "python",
   "nbconvert_exporter": "python",
   "pygments_lexer": "ipython3",
   "version": "3.10.12"
  }
 },
 "nbformat": 4,
 "nbformat_minor": 5
}
